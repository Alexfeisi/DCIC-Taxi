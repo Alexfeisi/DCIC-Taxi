{
 "cells": [
  {
   "cell_type": "code",
   "execution_count": 7,
   "metadata": {
    "execution": {
     "iopub.execute_input": "2020-09-21T13:47:54.341603Z",
     "iopub.status.busy": "2020-09-21T13:47:54.341603Z",
     "iopub.status.idle": "2020-09-21T13:47:54.346588Z",
     "shell.execute_reply": "2020-09-21T13:47:54.345591Z",
     "shell.execute_reply.started": "2020-09-21T13:47:54.341603Z"
    }
   },
   "outputs": [],
   "source": [
    "\n",
    "import pandas as pd\n",
    "import numpy as np\n",
    "import glob"
   ]
  },
  {
   "cell_type": "code",
   "execution_count": 8,
   "metadata": {
    "execution": {
     "iopub.execute_input": "2020-09-21T13:47:56.549390Z",
     "iopub.status.busy": "2020-09-21T13:47:56.549390Z",
     "iopub.status.idle": "2020-09-21T13:47:56.554375Z",
     "shell.execute_reply": "2020-09-21T13:47:56.553378Z",
     "shell.execute_reply.started": "2020-09-21T13:47:56.549390Z"
    }
   },
   "outputs": [],
   "source": [
    "from IPython.core.interactiveshell import InteractiveShell\n",
    "InteractiveShell.ast_node_interactivity = 'all'"
   ]
  },
  {
   "cell_type": "code",
   "execution_count": 17,
   "metadata": {
    "execution": {
     "iopub.execute_input": "2020-09-21T13:50:28.964117Z",
     "iopub.status.busy": "2020-09-21T13:50:28.964117Z",
     "iopub.status.idle": "2020-09-21T13:50:28.976084Z",
     "shell.execute_reply": "2020-09-21T13:50:28.975090Z",
     "shell.execute_reply.started": "2020-09-21T13:50:28.964117Z"
    }
   },
   "outputs": [],
   "source": [
    "# 网约车计算\n",
    "def cal_wyc(df):\n",
    "    df = df[['DEST_TIME', 'DEP_TIME', 'WAIT_MILE', 'DRIVE_MILE']]\n",
    "    if df['DEST_TIME'].dtype != np.int64: # 清洗数据\n",
    "        df = df[df['DEST_TIME'].apply(len) == 14]\n",
    "        df = df[df['DEST_TIME'].apply(lambda x: x.isdigit())] #isdigit() 方法检测字符串是否只由数字组成\n",
    "\n",
    "    df['DEP_TIME'] = pd.to_datetime(df['DEP_TIME'], format='%Y%m%d%H%M%S')\n",
    "    df['DEST_TIME'] = pd.to_datetime(df['DEST_TIME'], format='%Y%m%d%H%M%S')\n",
    "\n",
    "    df = df[df['DRIVE_MILE'].apply(lambda x: '-' not in str(x) and '|' not in str(x) and \n",
    "                                                                       '路' not in str(x))]\n",
    "    df['DRIVE_MILE'] = df['DRIVE_MILE'].astype(float)\n",
    "    df['WAIT_MILE'] = df['WAIT_MILE'].astype(float)\n",
    "\n",
    "    # return df\n",
    "    print('网约车空驶率：', (df['WAIT_MILE'] / (df['WAIT_MILE'] + df['DRIVE_MILE'] )).mean())\n",
    "    print('订单平均距离：', df['DRIVE_MILE'].mean())\n",
    "    print('订单平均时长：', ((df['DEST_TIME'] - df['DEP_TIME']).dt.seconds / 60.0).mean())"
   ]
  },
  {
   "cell_type": "code",
   "execution_count": 18,
   "metadata": {
    "execution": {
     "iopub.execute_input": "2020-09-21T13:50:48.159297Z",
     "iopub.status.busy": "2020-09-21T13:50:48.159297Z",
     "iopub.status.idle": "2020-09-21T13:50:48.165279Z",
     "shell.execute_reply": "2020-09-21T13:50:48.165279Z",
     "shell.execute_reply.started": "2020-09-21T13:50:48.159297Z"
    }
   },
   "outputs": [],
   "source": [
    "# 巡游车计算\n",
    "def cal_taxi(df):\n",
    "    df = df[['GETON_DATE', 'GETOFF_DATE', 'NOPASS_MILE', 'PASS_MILE']].dropna()\n",
    "    \n",
    "    df['GETON_DATE'] = pd.to_datetime(df['GETON_DATE'])\n",
    "    df['GETOFF_DATE'] = pd.to_datetime(df['GETOFF_DATE'])\n",
    "\n",
    "    print('巡游车空驶率：', (df['NOPASS_MILE'] / (df['NOPASS_MILE'] + df['PASS_MILE'])).mean())\n",
    "    print('订单平均距离：', df['PASS_MILE'].mean())\n",
    "    print('订单平均时长：', ((df['GETOFF_DATE'] - df['GETON_DATE']).dt.seconds / 60.0).mean())"
   ]
  },
  {
   "cell_type": "code",
   "execution_count": 19,
   "metadata": {
    "execution": {
     "iopub.execute_input": "2020-09-21T13:50:50.930092Z",
     "iopub.status.busy": "2020-09-21T13:50:50.930092Z",
     "iopub.status.idle": "2020-09-21T13:51:06.422814Z",
     "shell.execute_reply": "2020-09-21T13:51:06.421816Z",
     "shell.execute_reply.started": "2020-09-21T13:50:50.930092Z"
    }
   },
   "outputs": [
    {
     "name": "stdout",
     "output_type": "stream",
     "text": [
      "巡游车空驶率： 0.285974774086944\n",
      "订单平均距离： 6.46331298875411\n",
      "订单平均时长： 13.897280639095992\n"
     ]
    },
    {
     "name": "stderr",
     "output_type": "stream",
     "text": [
      "E:\\Anaconda3\\lib\\site-packages\\ipykernel_launcher.py:8: SettingWithCopyWarning: \n",
      "A value is trying to be set on a copy of a slice from a DataFrame.\n",
      "Try using .loc[row_indexer,col_indexer] = value instead\n",
      "\n",
      "See the caveats in the documentation: http://pandas.pydata.org/pandas-docs/stable/user_guide/indexing.html#returning-a-view-versus-a-copy\n",
      "  \n",
      "E:\\Anaconda3\\lib\\site-packages\\ipykernel_launcher.py:9: SettingWithCopyWarning: \n",
      "A value is trying to be set on a copy of a slice from a DataFrame.\n",
      "Try using .loc[row_indexer,col_indexer] = value instead\n",
      "\n",
      "See the caveats in the documentation: http://pandas.pydata.org/pandas-docs/stable/user_guide/indexing.html#returning-a-view-versus-a-copy\n",
      "  if __name__ == '__main__':\n"
     ]
    },
    {
     "name": "stdout",
     "output_type": "stream",
     "text": [
      "网约车空驶率： 0.04580784745936054\n",
      "订单平均距离： 7.156032618261324\n",
      "订单平均时长： 19.665598134392148\n"
     ]
    }
   ],
   "source": [
    "#2019正常工作日\n",
    "dft2 = taxiorder2019t2 = pd.concat([\n",
    "    pd.read_csv(x) for x in [\n",
    "        'taxiOrder20190531.csv',\n",
    "        'taxiOrder20190603.csv',\n",
    "        'taxiOrder20190604.csv',\n",
    "        'taxiOrder20190605.csv',\n",
    "        'taxiOrder20190606.csv'\n",
    "    ]\n",
    "])\n",
    "cal_taxi(dft2)\n",
    "\n",
    "dfw2 =wycorder2019w2 = pd.concat([\n",
    "    pd.read_csv(x) for x in [\n",
    "        'wycOrder20190531.csv',\n",
    "        'wycOrder20190603.csv',\n",
    "        'wycOrder20190604.csv',\n",
    "        'wycOrder20190605.csv',\n",
    "        'wycOrder20190606.csv'\n",
    "    ]\n",
    "])\n",
    "cal_wyc(dfw2)\n",
    "\n",
    "\n",
    "\n",
    "\n"
   ]
  },
  {
   "cell_type": "code",
   "execution_count": 20,
   "metadata": {
    "execution": {
     "iopub.execute_input": "2020-09-21T13:51:59.852963Z",
     "iopub.status.busy": "2020-09-21T13:51:59.852963Z",
     "iopub.status.idle": "2020-09-21T13:52:07.322631Z",
     "shell.execute_reply": "2020-09-21T13:52:07.322631Z",
     "shell.execute_reply.started": "2020-09-21T13:51:59.852963Z"
    }
   },
   "outputs": [
    {
     "name": "stdout",
     "output_type": "stream",
     "text": [
      "巡游车空驶率： 0.28713195814018216\n",
      "订单平均距离： 6.289113628824139\n",
      "订单平均时长： 13.1542066691464\n"
     ]
    },
    {
     "name": "stderr",
     "output_type": "stream",
     "text": [
      "E:\\Anaconda3\\lib\\site-packages\\ipykernel_launcher.py:8: SettingWithCopyWarning: \n",
      "A value is trying to be set on a copy of a slice from a DataFrame.\n",
      "Try using .loc[row_indexer,col_indexer] = value instead\n",
      "\n",
      "See the caveats in the documentation: http://pandas.pydata.org/pandas-docs/stable/user_guide/indexing.html#returning-a-view-versus-a-copy\n",
      "  \n",
      "E:\\Anaconda3\\lib\\site-packages\\ipykernel_launcher.py:9: SettingWithCopyWarning: \n",
      "A value is trying to be set on a copy of a slice from a DataFrame.\n",
      "Try using .loc[row_indexer,col_indexer] = value instead\n",
      "\n",
      "See the caveats in the documentation: http://pandas.pydata.org/pandas-docs/stable/user_guide/indexing.html#returning-a-view-versus-a-copy\n",
      "  if __name__ == '__main__':\n"
     ]
    },
    {
     "name": "stdout",
     "output_type": "stream",
     "text": [
      "网约车空驶率： 0.050602411932210996\n",
      "订单平均距离： 7.112336614000624\n",
      "订单平均时长： 18.99833480139911\n"
     ]
    }
   ],
   "source": [
    "#2019双休日\n",
    "dft3 = taxiorder2019t3 = pd.concat([\n",
    "    pd.read_csv(x) for x in [\n",
    "        'taxiOrder20190601.csv',\n",
    "        'taxiOrder20190602.csv',\n",
    "    ]\n",
    "])\n",
    "cal_taxi(dft3)\n",
    "\n",
    "dfw3 = wycorder2019w3 = pd.concat([\n",
    "    pd.read_csv(x) for x in [\n",
    "        'wycOrder20190601.csv',\n",
    "        'wycOrder20190602.csv',\n",
    "    ]\n",
    "])\n",
    "cal_wyc(dfw3)\n",
    "\n",
    "\n"
   ]
  },
  {
   "cell_type": "code",
   "execution_count": 21,
   "metadata": {
    "execution": {
     "iopub.execute_input": "2020-09-21T13:52:34.027881Z",
     "iopub.status.busy": "2020-09-21T13:52:34.027881Z",
     "iopub.status.idle": "2020-09-21T13:52:44.780670Z",
     "shell.execute_reply": "2020-09-21T13:52:44.779673Z",
     "shell.execute_reply.started": "2020-09-21T13:52:34.027881Z"
    }
   },
   "outputs": [
    {
     "name": "stdout",
     "output_type": "stream",
     "text": [
      "巡游车空驶率： 0.2997949500444533\n",
      "订单平均距离： 6.501010225347269\n",
      "订单平均时长： 13.055927380570695\n"
     ]
    },
    {
     "name": "stderr",
     "output_type": "stream",
     "text": [
      "E:\\Anaconda3\\lib\\site-packages\\ipykernel_launcher.py:8: SettingWithCopyWarning: \n",
      "A value is trying to be set on a copy of a slice from a DataFrame.\n",
      "Try using .loc[row_indexer,col_indexer] = value instead\n",
      "\n",
      "See the caveats in the documentation: http://pandas.pydata.org/pandas-docs/stable/user_guide/indexing.html#returning-a-view-versus-a-copy\n",
      "  \n",
      "E:\\Anaconda3\\lib\\site-packages\\ipykernel_launcher.py:9: SettingWithCopyWarning: \n",
      "A value is trying to be set on a copy of a slice from a DataFrame.\n",
      "Try using .loc[row_indexer,col_indexer] = value instead\n",
      "\n",
      "See the caveats in the documentation: http://pandas.pydata.org/pandas-docs/stable/user_guide/indexing.html#returning-a-view-versus-a-copy\n",
      "  if __name__ == '__main__':\n"
     ]
    },
    {
     "name": "stdout",
     "output_type": "stream",
     "text": [
      "网约车空驶率： 0.05693191133928847\n",
      "订单平均距离： 7.540125070828398\n",
      "订单平均时长： 18.617296463854892\n"
     ]
    }
   ],
   "source": [
    "#2019端午节日\n",
    "dft1 = taxiorder2019t1 = pd.concat([\n",
    "    pd.read_csv(x) for x in [\n",
    "        'taxiOrder20190607.csv',\n",
    "        'taxiOrder20190608.csv',\n",
    "        'taxiOrder20190609.csv'\n",
    "    ]\n",
    "])\n",
    "cal_taxi(dft1)\n",
    "\n",
    "dfw1 = wycorder2019w1 = pd.concat([\n",
    "    pd.read_csv(x) for x in [\n",
    "        'wycOrder20190607.csv',\n",
    "        'wycOrder20190608.csv',\n",
    "        'wycOrder20190609.csv'\n",
    "    ]\n",
    "])\n",
    "cal_wyc(dfw1)\n",
    "\n",
    "\n",
    "\n",
    "\n"
   ]
  },
  {
   "cell_type": "code",
   "execution_count": 22,
   "metadata": {
    "execution": {
     "iopub.execute_input": "2020-09-21T13:53:02.064226Z",
     "iopub.status.busy": "2020-09-21T13:53:02.064226Z",
     "iopub.status.idle": "2020-09-21T13:53:30.085499Z",
     "shell.execute_reply": "2020-09-21T13:53:30.085499Z",
     "shell.execute_reply.started": "2020-09-21T13:53:02.064226Z"
    }
   },
   "outputs": [
    {
     "name": "stdout",
     "output_type": "stream",
     "text": [
      "巡游车空驶率： 0.3224405343902356\n",
      "订单平均距离： 5.942909967998593\n",
      "订单平均时长： 13.399423030997756\n",
      "网约车空驶率： 0.021480384509006557\n",
      "订单平均距离： 7.5273475269045225\n",
      "订单平均时长： 16.120267432059894\n"
     ]
    }
   ],
   "source": [
    "#2020正常工作日\n",
    "dft2 = taxiorder2020t2 = pd.concat([\n",
    "    pd.read_csv(x) for x in [\n",
    "        'taxiOrder20200618.csv',\n",
    "        'taxiOrder20200619.csv',\n",
    "        'taxiOrder20200622.csv',\n",
    "        'taxiOrder20200623.csv',\n",
    "        'taxiOrder20200624.csv'\n",
    "    ]\n",
    "])\n",
    "cal_taxi(dft2)\n",
    "\n",
    "dfw2 =wycorder2020w2 = pd.concat([\n",
    "    pd.read_csv(x,sep='\\\\') for x in [\n",
    "        'wycOrder20200618.csv',\n",
    "        'wycOrder20200619.csv',\n",
    "        'wycOrder20200622.csv',\n",
    "        'wycOrder20200623.csv',\n",
    "        'wycOrder20200624.csv'\n",
    "    ]\n",
    "])\n",
    "cal_wyc(dfw2)\n",
    "\n",
    "\n",
    "\n"
   ]
  },
  {
   "cell_type": "code",
   "execution_count": 23,
   "metadata": {
    "execution": {
     "iopub.execute_input": "2020-09-21T13:53:55.561991Z",
     "iopub.status.busy": "2020-09-21T13:53:55.561991Z",
     "iopub.status.idle": "2020-09-21T13:54:03.699415Z",
     "shell.execute_reply": "2020-09-21T13:54:03.699415Z",
     "shell.execute_reply.started": "2020-09-21T13:53:55.561991Z"
    }
   },
   "outputs": [
    {
     "name": "stdout",
     "output_type": "stream",
     "text": [
      "巡游车空驶率： 0.3379927291253269\n",
      "订单平均距离： 5.862830058227782\n",
      "订单平均时长： 12.296765499920044\n",
      "网约车空驶率： 0.027416378279806333\n",
      "订单平均距离： 7.612585455208578\n",
      "订单平均时长： 14.773748231771064\n"
     ]
    }
   ],
   "source": [
    "#2020双休日\n",
    "dft3 = taxiorder2020t3 = pd.concat([\n",
    "    pd.read_csv(x) for x in [\n",
    "        'taxiOrder20200620.csv',\n",
    "        'taxiOrder20200621.csv',\n",
    "    ]\n",
    "])\n",
    "cal_taxi(dft3)\n",
    "\n",
    "dfw3 = wycorder2020w3 = pd.concat([\n",
    "    pd.read_csv(x,sep='\\\\') for x in [\n",
    "        'wycOrder20200620.csv',\n",
    "        'wycOrder20200621.csv',\n",
    "    ]\n",
    "])\n",
    "cal_wyc(dfw3)\n",
    "\n",
    "\n"
   ]
  },
  {
   "cell_type": "code",
   "execution_count": 24,
   "metadata": {
    "execution": {
     "iopub.execute_input": "2020-09-21T13:54:07.966852Z",
     "iopub.status.busy": "2020-09-21T13:54:07.965855Z",
     "iopub.status.idle": "2020-09-21T13:54:20.667628Z",
     "shell.execute_reply": "2020-09-21T13:54:20.667628Z",
     "shell.execute_reply.started": "2020-09-21T13:54:07.965855Z"
    }
   },
   "outputs": [
    {
     "name": "stdout",
     "output_type": "stream",
     "text": [
      "巡游车空驶率： 0.35352961625511525\n",
      "订单平均距离： 6.005414825799642\n",
      "订单平均时长： 12.075725688233906\n",
      "网约车空驶率： 0.029612308915523623\n",
      "订单平均距离： 8.116241309334516\n",
      "订单平均时长： 14.867968363139976\n"
     ]
    }
   ],
   "source": [
    "#2020端午节日\n",
    "dft1 = taxiorder2020t1 = pd.concat([\n",
    "    pd.read_csv(x) for x in [\n",
    "        'taxiOrder20200625.csv',\n",
    "        'taxiOrder20200626.csv',\n",
    "        'taxiOrder20200627.csv'\n",
    "    ]\n",
    "])\n",
    "cal_taxi(dft1)\n",
    "\n",
    "dfw1 = wycorder2020w1 = pd.concat([\n",
    "    pd.read_csv(x,sep='\\\\') for x in [\n",
    "        'wycOrder20200625.csv',\n",
    "        'wycOrder20200626.csv',\n",
    "        'wycOrder20200627.csv'\n",
    "    ]\n",
    "])\n",
    "cal_wyc(dfw1)\n",
    "\n",
    "\n",
    "\n",
    "\n"
   ]
  }
 ],
 "metadata": {
  "kernelspec": {
   "display_name": "Python 3",
   "language": "python",
   "name": "python3"
  },
  "language_info": {
   "codemirror_mode": {
    "name": "ipython",
    "version": 3
   },
   "file_extension": ".py",
   "mimetype": "text/x-python",
   "name": "python",
   "nbconvert_exporter": "python",
   "pygments_lexer": "ipython3",
   "version": "3.7.4"
  }
 },
 "nbformat": 4,
 "nbformat_minor": 4
}
