{
 "cells": [
  {
   "cell_type": "markdown",
   "metadata": {},
   "source": [
    "# 任务5：订单调度分析"
   ]
  },
  {
   "cell_type": "markdown",
   "metadata": {},
   "source": [
    "## 学习目标"
   ]
  },
  {
   "cell_type": "markdown",
   "metadata": {},
   "source": [
    "- 挖掘巡游车空载率与经纬度的关系；  \n",
    "- 挖掘巡游车订单运距与经纬度的关系；  \n",
    "- 挖掘网约车空载率与经纬度的关系；  \n",
    "- 挖掘网约车订单运距与经纬度的关系；"
   ]
  },
  {
   "cell_type": "markdown",
   "metadata": {},
   "source": [
    "## 经纬度编码"
   ]
  },
  {
   "cell_type": "markdown",
   "metadata": {},
   "source": [
    "geohash用一个字符串表示经度和纬度两个坐标。利用geohash，只需在一列上应用索引即可。  \n",
    "其次，geohash表示的并不是一个点，而是一个矩形区域。比如编码wx4g0ec19，它表示的是一个矩形区域。 使用者可以发布地址编码，既能表明自己位于北海公园附近，又不至于暴露自己的精确坐标，有助于隐私保护。    \n",
    "   - 热力图展示中，用于geohash点聚合功能，可以提高大量点前端渲染的性能  \n",
    "   - 地址聚类中，通过geohash计算，进行地址归类  \n",
    "   - 地址信息缓存时，通过geohash为key，来索引缓存信息"
   ]
  },
  {
   "cell_type": "code",
   "execution_count": 5,
   "metadata": {
    "execution": {
     "iopub.execute_input": "2020-09-22T12:08:30.059511Z",
     "iopub.status.busy": "2020-09-22T12:08:30.059511Z",
     "iopub.status.idle": "2020-09-22T12:08:30.063501Z",
     "shell.execute_reply": "2020-09-22T12:08:30.063501Z",
     "shell.execute_reply.started": "2020-09-22T12:08:30.059511Z"
    }
   },
   "outputs": [],
   "source": [
    "from IPython.core.interactiveshell import InteractiveShell\n",
    "InteractiveShell.ast_node_interactivity = 'all'"
   ]
  },
  {
   "cell_type": "code",
   "execution_count": 11,
   "metadata": {
    "execution": {
     "iopub.execute_input": "2020-09-22T12:15:48.464766Z",
     "iopub.status.busy": "2020-09-22T12:15:48.464766Z",
     "iopub.status.idle": "2020-09-22T12:15:48.492694Z",
     "shell.execute_reply": "2020-09-22T12:15:48.491694Z",
     "shell.execute_reply.started": "2020-09-22T12:15:48.464766Z"
    }
   },
   "outputs": [],
   "source": [
    "import geohash"
   ]
  },
  {
   "cell_type": "code",
   "execution_count": 1,
   "metadata": {
    "execution": {
     "iopub.execute_input": "2020-09-22T12:03:48.383318Z",
     "iopub.status.busy": "2020-09-22T12:03:48.382321Z",
     "iopub.status.idle": "2020-09-22T12:03:54.446858Z",
     "shell.execute_reply": "2020-09-22T12:03:54.446858Z",
     "shell.execute_reply.started": "2020-09-22T12:03:48.383318Z"
    }
   },
   "outputs": [],
   "source": [
    "import pandas as pd\n",
    "import numpy as np\n",
    "import glob\n",
    "\n",
    "\n",
    "MAX_ROWS = None # 文件读取行数\n",
    "\n",
    "taxiorder2019 = pd.read_csv('taxiOrder20190531.csv', nrows=None,\n",
    "                           dtype = {\n",
    "                               'GETON_LONGITUDE': np.float32,\n",
    "                               'GETON_LATITUDE': np.float32,\n",
    "                               'GETOFF_LONGITUDE': np.float32,\n",
    "                               'GETOFF_LATITUDE': np.float32,\n",
    "                               'PASS_MILE': np.float16,\n",
    "                               'NOPASS_MILE': np.float16,\n",
    "                               'WAITING_TIME': np.float16\n",
    "                           })\n",
    "\n",
    "\n",
    "taxiorder2019['GETON_DATE'] = pd.to_datetime(taxiorder2019['GETON_DATE']) \n",
    "taxiorder2019['GETOFF_DATE'] = pd.to_datetime(taxiorder2019['GETOFF_DATE'])\n",
    "\n",
    "taxiorder2019 = taxiorder2019.rename(columns={'CAR_NO':'CARNO'})\n",
    "taxiorder2019.sort_values(by=['CARNO','GETON_DATE'], inplace=True)\n",
    "taxiorder2019.reset_index(inplace=True, drop=True)"
   ]
  },
  {
   "cell_type": "code",
   "execution_count": 38,
   "metadata": {
    "execution": {
     "iopub.execute_input": "2020-09-22T12:56:04.686396Z",
     "iopub.status.busy": "2020-09-22T12:56:04.685399Z",
     "iopub.status.idle": "2020-09-22T12:56:13.159621Z",
     "shell.execute_reply": "2020-09-22T12:56:13.158652Z",
     "shell.execute_reply.started": "2020-09-22T12:56:04.686396Z"
    }
   },
   "outputs": [
    {
     "data": {
      "text/plain": [
       "0         wsk52\n",
       "1         wsk52\n",
       "2         wsk52\n",
       "3         ws7gr\n",
       "4         ws7gr\n",
       "          ...  \n",
       "248156    ws7gr\n",
       "248157    ws7gn\n",
       "248158    wsk50\n",
       "248159    ws7gp\n",
       "248160    ws7gp\n",
       "Length: 248161, dtype: object"
      ]
     },
     "execution_count": 38,
     "metadata": {},
     "output_type": "execute_result"
    }
   ],
   "source": [
    "# taxiorder2019.apply(lambda x: geohash.encode(x['GETON_LATITUDE'], x['GETON_LONGITUDE'],  precision=5), axis=1)\n",
    "# 字符串越长，表示的范围越精确"
   ]
  },
  {
   "cell_type": "code",
   "execution_count": 43,
   "metadata": {
    "execution": {
     "iopub.execute_input": "2020-09-22T13:02:35.559347Z",
     "iopub.status.busy": "2020-09-22T13:02:35.559347Z",
     "iopub.status.idle": "2020-09-22T13:02:45.300456Z",
     "shell.execute_reply": "2020-09-22T13:02:45.300456Z",
     "shell.execute_reply.started": "2020-09-22T13:02:35.559347Z"
    }
   },
   "outputs": [
    {
     "data": {
      "text/plain": [
       "7zzzzzzz    6335\n",
       "ws7unv0q     809\n",
       "wsk584c9     727\n",
       "ws7unv0r     598\n",
       "ws7grb9s     590\n",
       "wsk52k80     454\n",
       "wsk584cd     410\n",
       "ws7grbsy     407\n",
       "ws7grb6d     396\n",
       "wsk52dj9     355\n",
       "Name: geohash, dtype: int64"
      ]
     },
     "execution_count": 43,
     "metadata": {},
     "output_type": "execute_result"
    }
   ],
   "source": [
    "taxiorder2019['geohash'] = taxiorder2019.apply(lambda x: geohash.encode(x['GETON_LATITUDE'], x['GETON_LONGITUDE'], precision=8), axis=1)\n",
    "taxiorder2019['geohash'].value_counts().head(10)"
   ]
  },
  {
   "cell_type": "code",
   "execution_count": 23,
   "metadata": {
    "execution": {
     "iopub.execute_input": "2020-09-22T12:38:52.775463Z",
     "iopub.status.busy": "2020-09-22T12:38:52.775463Z",
     "iopub.status.idle": "2020-09-22T12:38:52.834303Z",
     "shell.execute_reply": "2020-09-22T12:38:52.833307Z",
     "shell.execute_reply.started": "2020-09-22T12:38:52.775463Z"
    }
   },
   "outputs": [
    {
     "data": {
      "text/plain": [
       "Index(['ws7unv0q', 'wsk584c9', 'ws7unv0r', 'ws7grb9s', 'wsk52k80', 'wsk584cd',\n",
       "       'ws7grbsy', 'ws7grb6d', 'wsk52dj9', 'wsk584c3'],\n",
       "      dtype='object')"
      ]
     },
     "execution_count": 23,
     "metadata": {},
     "output_type": "execute_result"
    }
   ],
   "source": [
    "taxiorder2019['geohash'].value_counts().iloc[1:11].index"
   ]
  },
  {
   "cell_type": "markdown",
   "metadata": {
    "execution": {
     "iopub.execute_input": "2020-09-22T12:18:42.314991Z",
     "iopub.status.busy": "2020-09-22T12:18:42.314096Z",
     "iopub.status.idle": "2020-09-22T12:18:42.319977Z",
     "shell.execute_reply": "2020-09-22T12:18:42.318979Z",
     "shell.execute_reply.started": "2020-09-22T12:18:42.314991Z"
    }
   },
   "source": [
    "其中`7zzzzzzz`为经纬度异常点，可以剔除掉。接下来我们统计下热门经纬度的中心："
   ]
  },
  {
   "cell_type": "code",
   "execution_count": 16,
   "metadata": {
    "execution": {
     "iopub.execute_input": "2020-09-22T12:30:10.842815Z",
     "iopub.status.busy": "2020-09-22T12:30:10.842815Z",
     "iopub.status.idle": "2020-09-22T12:30:11.101124Z",
     "shell.execute_reply": "2020-09-22T12:30:11.101124Z",
     "shell.execute_reply.started": "2020-09-22T12:30:10.842815Z"
    }
   },
   "outputs": [
    {
     "name": "stdout",
     "output_type": "stream",
     "text": [
      "ws7unv0q 118.07034301757812 24.637990951538086\n",
      "wsk584c9 118.12725830078125 24.536975860595703\n",
      "ws7unv0r 118.07035064697266 24.637996673583984\n",
      "ws7grb9s 118.1165542602539 24.481197357177734\n",
      "wsk52k80 118.13651275634766 24.502304077148438\n",
      "wsk584cd 118.12763214111328 24.537063598632812\n",
      "ws7grbsy 118.12097930908203 24.481435775756836\n",
      "ws7grb6d 118.11732482910156 24.479427337646484\n",
      "wsk52dj9 118.1548080444336 24.488798141479492\n",
      "wsk584c3 118.12710571289062 24.536853790283203\n"
     ]
    }
   ],
   "source": [
    "for idx in taxiorder2019['geohash'].value_counts().iloc[1:11].index: #看别人怎么索引的，不要第一个，异常点，取了10个\n",
    "    df = taxiorder2019[taxiorder2019['geohash'] == idx]\n",
    "    print(idx, df['GETON_LONGITUDE'].mean(), df['GETON_LATITUDE'].mean())"
   ]
  },
  {
   "cell_type": "code",
   "execution_count": 50,
   "metadata": {
    "execution": {
     "iopub.execute_input": "2020-09-22T13:05:36.611336Z",
     "iopub.status.busy": "2020-09-22T13:05:36.611336Z",
     "iopub.status.idle": "2020-09-22T13:05:36.616355Z",
     "shell.execute_reply": "2020-09-22T13:05:36.616355Z",
     "shell.execute_reply.started": "2020-09-22T13:05:36.611336Z"
    }
   },
   "outputs": [
    {
     "data": {
      "text/plain": [
       "array(['wsk52tjv', 'wsk52dj9', 'wsk52tjy', ..., 'wsk502er', 'ws7gp0tu',\n",
       "       'ws7gp436'], dtype=object)"
      ]
     },
     "execution_count": 50,
     "metadata": {},
     "output_type": "execute_result"
    }
   ],
   "source": [
    "taxiorder2019['geohash'].values"
   ]
  },
  {
   "cell_type": "code",
   "execution_count": 57,
   "metadata": {
    "execution": {
     "iopub.execute_input": "2020-09-22T13:09:16.229123Z",
     "iopub.status.busy": "2020-09-22T13:09:16.229123Z",
     "iopub.status.idle": "2020-09-22T13:09:16.235108Z",
     "shell.execute_reply": "2020-09-22T13:09:16.234111Z",
     "shell.execute_reply.started": "2020-09-22T13:09:16.229123Z"
    }
   },
   "outputs": [
    {
     "data": {
      "text/plain": [
       "('24.506', '118.155')"
      ]
     },
     "execution_count": 57,
     "metadata": {},
     "output_type": "execute_result"
    }
   ],
   "source": [
    "geohash.decode('wsk52tjv')"
   ]
  },
  {
   "cell_type": "code",
   "execution_count": 49,
   "metadata": {
    "execution": {
     "iopub.execute_input": "2020-09-22T13:05:13.578337Z",
     "iopub.status.busy": "2020-09-22T13:05:13.577341Z",
     "iopub.status.idle": "2020-09-22T13:05:13.592300Z",
     "shell.execute_reply": "2020-09-22T13:05:13.591302Z",
     "shell.execute_reply.started": "2020-09-22T13:05:13.578337Z"
    }
   },
   "outputs": [
    {
     "ename": "KeyError",
     "evalue": "'wsk52tjv'",
     "output_type": "error",
     "traceback": [
      "\u001b[1;31m---------------------------------------------------------------------------\u001b[0m",
      "\u001b[1;31mKeyError\u001b[0m                                  Traceback (most recent call last)",
      "\u001b[1;32m<ipython-input-49-075925c39930>\u001b[0m in \u001b[0;36m<module>\u001b[1;34m\u001b[0m\n\u001b[1;32m----> 1\u001b[1;33m \u001b[0mgeohash\u001b[0m\u001b[1;33m.\u001b[0m\u001b[0mdecode\u001b[0m\u001b[1;33m(\u001b[0m\u001b[0mtaxiorder2019\u001b[0m\u001b[1;33m[\u001b[0m\u001b[1;34m'geohash'\u001b[0m\u001b[1;33m]\u001b[0m\u001b[1;33m.\u001b[0m\u001b[0mvalues\u001b[0m\u001b[1;33m)\u001b[0m\u001b[1;33m\u001b[0m\u001b[1;33m\u001b[0m\u001b[0m\n\u001b[0m",
      "\u001b[1;32mE:\\Anaconda3\\lib\\site-packages\\geohash\\geohash.py\u001b[0m in \u001b[0;36mdecode\u001b[1;34m(geohash)\u001b[0m\n\u001b[0;32m     66\u001b[0m     \u001b[0mcontaining\u001b[0m \u001b[0monly\u001b[0m \u001b[0mrelevant\u001b[0m \u001b[0mdigits\u001b[0m \u001b[1;32mand\u001b[0m \u001b[1;32mwith\u001b[0m \u001b[0mtrailing\u001b[0m \u001b[0mzeroes\u001b[0m \u001b[0mremoved\u001b[0m\u001b[1;33m.\u001b[0m\u001b[1;33m\u001b[0m\u001b[1;33m\u001b[0m\u001b[0m\n\u001b[0;32m     67\u001b[0m     \"\"\"\n\u001b[1;32m---> 68\u001b[1;33m     \u001b[0mlat\u001b[0m\u001b[1;33m,\u001b[0m \u001b[0mlon\u001b[0m\u001b[1;33m,\u001b[0m \u001b[0mlat_err\u001b[0m\u001b[1;33m,\u001b[0m \u001b[0mlon_err\u001b[0m \u001b[1;33m=\u001b[0m \u001b[0mdecode_exactly\u001b[0m\u001b[1;33m(\u001b[0m\u001b[0mgeohash\u001b[0m\u001b[1;33m)\u001b[0m\u001b[1;33m\u001b[0m\u001b[1;33m\u001b[0m\u001b[0m\n\u001b[0m\u001b[0;32m     69\u001b[0m     \u001b[1;31m# Format to the number of decimals that are known\u001b[0m\u001b[1;33m\u001b[0m\u001b[1;33m\u001b[0m\u001b[1;33m\u001b[0m\u001b[0m\n\u001b[0;32m     70\u001b[0m     \u001b[0mlats\u001b[0m \u001b[1;33m=\u001b[0m \u001b[1;34m\"%.*f\"\u001b[0m \u001b[1;33m%\u001b[0m \u001b[1;33m(\u001b[0m\u001b[0mmax\u001b[0m\u001b[1;33m(\u001b[0m\u001b[1;36m1\u001b[0m\u001b[1;33m,\u001b[0m \u001b[0mint\u001b[0m\u001b[1;33m(\u001b[0m\u001b[0mround\u001b[0m\u001b[1;33m(\u001b[0m\u001b[1;33m-\u001b[0m\u001b[0mlog10\u001b[0m\u001b[1;33m(\u001b[0m\u001b[0mlat_err\u001b[0m\u001b[1;33m)\u001b[0m\u001b[1;33m)\u001b[0m\u001b[1;33m)\u001b[0m\u001b[1;33m)\u001b[0m \u001b[1;33m-\u001b[0m \u001b[1;36m1\u001b[0m\u001b[1;33m,\u001b[0m \u001b[0mlat\u001b[0m\u001b[1;33m)\u001b[0m\u001b[1;33m\u001b[0m\u001b[1;33m\u001b[0m\u001b[0m\n",
      "\u001b[1;32mE:\\Anaconda3\\lib\\site-packages\\geohash\\geohash.py\u001b[0m in \u001b[0;36mdecode_exactly\u001b[1;34m(geohash)\u001b[0m\n\u001b[0;32m     42\u001b[0m     \u001b[0mis_even\u001b[0m \u001b[1;33m=\u001b[0m \u001b[1;32mTrue\u001b[0m\u001b[1;33m\u001b[0m\u001b[1;33m\u001b[0m\u001b[0m\n\u001b[0;32m     43\u001b[0m     \u001b[1;32mfor\u001b[0m \u001b[0mc\u001b[0m \u001b[1;32min\u001b[0m \u001b[0mgeohash\u001b[0m\u001b[1;33m:\u001b[0m\u001b[1;33m\u001b[0m\u001b[1;33m\u001b[0m\u001b[0m\n\u001b[1;32m---> 44\u001b[1;33m         \u001b[0mcd\u001b[0m \u001b[1;33m=\u001b[0m \u001b[0m__decodemap\u001b[0m\u001b[1;33m[\u001b[0m\u001b[0mc\u001b[0m\u001b[1;33m]\u001b[0m\u001b[1;33m\u001b[0m\u001b[1;33m\u001b[0m\u001b[0m\n\u001b[0m\u001b[0;32m     45\u001b[0m         \u001b[1;32mfor\u001b[0m \u001b[0mmask\u001b[0m \u001b[1;32min\u001b[0m \u001b[1;33m[\u001b[0m\u001b[1;36m16\u001b[0m\u001b[1;33m,\u001b[0m \u001b[1;36m8\u001b[0m\u001b[1;33m,\u001b[0m \u001b[1;36m4\u001b[0m\u001b[1;33m,\u001b[0m \u001b[1;36m2\u001b[0m\u001b[1;33m,\u001b[0m \u001b[1;36m1\u001b[0m\u001b[1;33m]\u001b[0m\u001b[1;33m:\u001b[0m\u001b[1;33m\u001b[0m\u001b[1;33m\u001b[0m\u001b[0m\n\u001b[0;32m     46\u001b[0m             \u001b[1;32mif\u001b[0m \u001b[0mis_even\u001b[0m\u001b[1;33m:\u001b[0m \u001b[1;31m# adds longitude info\u001b[0m\u001b[1;33m\u001b[0m\u001b[1;33m\u001b[0m\u001b[0m\n",
      "\u001b[1;31mKeyError\u001b[0m: 'wsk52tjv'"
     ]
    }
   ],
   "source": [
    "geohash.decode(taxiorder2019['geohash'].values)"
   ]
  },
  {
   "cell_type": "markdown",
   "metadata": {},
   "source": [
    "## 订单调度分析"
   ]
  },
  {
   "cell_type": "markdown",
   "metadata": {},
   "source": [
    "巡游车根据等待时间统计具体位置："
   ]
  },
  {
   "cell_type": "code",
   "execution_count": 26,
   "metadata": {
    "execution": {
     "iopub.execute_input": "2020-09-22T12:41:15.976341Z",
     "iopub.status.busy": "2020-09-22T12:41:15.976341Z",
     "iopub.status.idle": "2020-09-22T12:41:15.981295Z",
     "shell.execute_reply": "2020-09-22T12:41:15.981295Z",
     "shell.execute_reply.started": "2020-09-22T12:41:15.976341Z"
    }
   },
   "outputs": [
    {
     "data": {
      "text/plain": [
       "Index(['7zzzzzzz', 'ws7unv0q', 'wsk584c9', 'ws7unv0r', 'ws7grb9s', 'wsk52k80',\n",
       "       'wsk584cd', 'ws7grbsy', 'ws7grb6d', 'wsk52dj9',\n",
       "       ...\n",
       "       'ws7grb93', 'ws7gxspe', 'wsk528bu', 'ws7gpxhj', 'ws7gqc1d', 'ws7gr9zj',\n",
       "       'ws7gph8s', 'ws7gry6b', 'ws7gpmew', 'wsk589md'],\n",
       "      dtype='object', length=5000)"
      ]
     },
     "execution_count": 26,
     "metadata": {},
     "output_type": "execute_result"
    }
   ],
   "source": [
    "legal_hash"
   ]
  },
  {
   "cell_type": "code",
   "execution_count": 25,
   "metadata": {
    "execution": {
     "iopub.execute_input": "2020-09-22T12:39:54.619285Z",
     "iopub.status.busy": "2020-09-22T12:39:54.618287Z",
     "iopub.status.idle": "2020-09-22T12:39:54.740182Z",
     "shell.execute_reply": "2020-09-22T12:39:54.740182Z",
     "shell.execute_reply.started": "2020-09-22T12:39:54.619285Z"
    }
   },
   "outputs": [
    {
     "data": {
      "text/plain": [
       "geohash\n",
       "7zzzzzzz           inf\n",
       "wsk528nu    5388.00000\n",
       "ws7grh36    4568.00000\n",
       "ws7gpxvp    1576.00000\n",
       "ws7gnsy0    1433.00000\n",
       "               ...    \n",
       "wsk52h6y      66.00000\n",
       "ws7gx9q2      65.50000\n",
       "wsk53nj1      63.53125\n",
       "ws7gx9nh      57.62500\n",
       "ws7grb2e      48.50000\n",
       "Name: WAITING_TIME, Length: 5000, dtype: float16"
      ]
     },
     "execution_count": 25,
     "metadata": {},
     "output_type": "execute_result"
    }
   ],
   "source": [
    "legal_hash = taxiorder2019['geohash'].value_counts().iloc[:5000].index\n",
    "taxiorder2019[taxiorder2019['geohash'].isin(legal_hash)].groupby(['geohash'])['WAITING_TIME'].mean().sort_values(ascending=False) #这个isin()就很灵性了"
   ]
  },
  {
   "cell_type": "markdown",
   "metadata": {},
   "source": [
    "网约车根据等待时间统计具体位置："
   ]
  },
  {
   "cell_type": "code",
   "execution_count": 32,
   "metadata": {
    "execution": {
     "iopub.execute_input": "2020-09-22T12:44:45.037793Z",
     "iopub.status.busy": "2020-09-22T12:44:45.037793Z",
     "iopub.status.idle": "2020-09-22T12:44:45.972293Z",
     "shell.execute_reply": "2020-09-22T12:44:45.972293Z",
     "shell.execute_reply.started": "2020-09-22T12:44:45.037793Z"
    }
   },
   "outputs": [],
   "source": [
    "wycorder2019=pd.read_csv('wycOrder20190531.csv')"
   ]
  },
  {
   "cell_type": "code",
   "execution_count": 34,
   "metadata": {
    "execution": {
     "iopub.execute_input": "2020-09-22T12:46:38.999957Z",
     "iopub.status.busy": "2020-09-22T12:46:38.999957Z",
     "iopub.status.idle": "2020-09-22T12:46:39.089716Z",
     "shell.execute_reply": "2020-09-22T12:46:39.089716Z",
     "shell.execute_reply.started": "2020-09-22T12:46:38.999957Z"
    }
   },
   "outputs": [],
   "source": [
    "wycorder2019['DEP_TIME'] = pd.to_datetime(wycorder2019['DEP_TIME'])\n",
    "wycorder2019['BOOK_DEP_TIME'] = pd.to_datetime(wycorder2019['BOOK_DEP_TIME'])"
   ]
  },
  {
   "cell_type": "code",
   "execution_count": 36,
   "metadata": {
    "execution": {
     "iopub.execute_input": "2020-09-22T12:47:28.020335Z",
     "iopub.status.busy": "2020-09-22T12:47:28.019337Z",
     "iopub.status.idle": "2020-09-22T12:47:39.255147Z",
     "shell.execute_reply": "2020-09-22T12:47:39.255147Z",
     "shell.execute_reply.started": "2020-09-22T12:47:28.019337Z"
    }
   },
   "outputs": [
    {
     "data": {
      "text/plain": [
       "geohash\n",
       "wsk533xq    86399.0\n",
       "ws7gpwk6    86399.0\n",
       "ws7grvxz    86399.0\n",
       "ws7gnuhs    86399.0\n",
       "wsk50zqt    86399.0\n",
       "             ...   \n",
       "ws7grgqh        0.0\n",
       "ws7grgq6        0.0\n",
       "ws7grgq5        0.0\n",
       "ws7grgq1        0.0\n",
       "ws7grbke        0.0\n",
       "Name: WAITING_TIME, Length: 872, dtype: float64"
      ]
     },
     "execution_count": 36,
     "metadata": {},
     "output_type": "execute_result"
    }
   ],
   "source": [
    "wycorder2019['WAITING_TIME'] = (wycorder2019['DEP_TIME'] - wycorder2019['BOOK_DEP_TIME']).dt.seconds\n",
    "wycorder2019['geohash'] = wycorder2019.apply(lambda x: geohash.encode(x['DEP_LATITUDE'], x['DEP_LONGITUDE'], precision=8), axis=1)\n",
    "wycorder2019[wycorder2019['geohash'].isin(legal_hash)].groupby(['geohash'])['WAITING_TIME'].mean().sort_values(ascending=False)"
   ]
  },
  {
   "cell_type": "markdown",
   "metadata": {},
   "source": [
    "通过统计发现，网约车与巡游车打不到车的位置区域存在部分重叠，但还是会有交叉的情况\n",
    "\n",
    "- 比如打不到网约车，也打不到出租车；\n",
    "- 比如打不到网约车，但能打到出租车；\n"
   ]
  },
  {
   "cell_type": "markdown",
   "metadata": {},
   "source": [
    "## 课堂任务"
   ]
  },
  {
   "cell_type": "markdown",
   "metadata": {},
   "source": [
    "1. 有没有其他对地理位置做聚合的方法？  \n",
    "2. 如何定量衡量一个区域打不到车的情况？"
   ]
  },
  {
   "cell_type": "markdown",
   "metadata": {},
   "source": [
    "【回答】1. 用经纬度合成一个字符串字段进行聚合  \n",
    "&emsp;&emsp;&emsp;&emsp;2. 等待时间特别长的位置"
   ]
  },
  {
   "cell_type": "markdown",
   "metadata": {},
   "source": [
    "## 打卡任务"
   ]
  },
  {
   "cell_type": "markdown",
   "metadata": {},
   "source": [
    "1. 使用geohash发掘2019年端午假期，网约车热门的下车地点（Top3）；  \n",
    "2. 使用geohash发掘2019年端午假期，网约车热门的打车（上车）地点（Top3）；  \n",
    "3. 使用geohash分别发掘2019和2020年端午假期，网约车打车预计上车时间到上车时间时间最长且地点出现次数大于100的地点（两年的Top1）。"
   ]
  }
 ],
 "metadata": {
  "kernelspec": {
   "display_name": "Python 3",
   "language": "python",
   "name": "python3"
  },
  "language_info": {
   "codemirror_mode": {
    "name": "ipython",
    "version": 3
   },
   "file_extension": ".py",
   "mimetype": "text/x-python",
   "name": "python",
   "nbconvert_exporter": "python",
   "pygments_lexer": "ipython3",
   "version": "3.7.4"
  }
 },
 "nbformat": 4,
 "nbformat_minor": 4
}
