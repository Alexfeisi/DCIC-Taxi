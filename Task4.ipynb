{
 "cells": [
  {
   "cell_type": "markdown",
   "metadata": {
    "execution": {
     "iopub.execute_input": "2020-09-17T13:48:41.340958Z",
     "iopub.status.busy": "2020-09-17T13:48:41.340958Z",
     "iopub.status.idle": "2020-09-17T13:48:41.345910Z",
     "shell.execute_reply": "2020-09-17T13:48:41.344912Z",
     "shell.execute_reply.started": "2020-09-17T13:48:41.340958Z"
    }
   },
   "source": [
    "# 任务4：订单数据统计"
   ]
  },
  {
   "cell_type": "code",
   "execution_count": 2,
   "metadata": {
    "execution": {
     "iopub.execute_input": "2020-09-17T13:49:17.428948Z",
     "iopub.status.busy": "2020-09-17T13:49:17.427952Z",
     "iopub.status.idle": "2020-09-17T13:49:17.432938Z",
     "shell.execute_reply": "2020-09-17T13:49:17.431941Z",
     "shell.execute_reply.started": "2020-09-17T13:49:17.428948Z"
    }
   },
   "outputs": [],
   "source": [
    "from IPython.core.interactiveshell import InteractiveShell\n",
    "InteractiveShell.ast_node_interactivity = 'all'"
   ]
  },
  {
   "cell_type": "markdown",
   "metadata": {},
   "source": [
    "## 订单数据统计"
   ]
  },
  {
   "cell_type": "markdown",
   "metadata": {},
   "source": [
    "在订单数据中，我们希望完成以下统计：\n",
    "\n",
    "- 巡游车订单距离与时间的对比（2019年与2020年）；  \n",
    "- 巡游车空驶率对比（2019年与2020年）；  \n",
    "- 网约车订单距离与时间的对比（2019年与2020年）；  \n",
    "- 网约车空驶率对比（2019年与2020年）；  \n",
    "1. 巡游车订单距离与时间的对比（2019年与2020年）"
   ]
  },
  {
   "cell_type": "code",
   "execution_count": 7,
   "metadata": {
    "execution": {
     "iopub.execute_input": "2020-09-17T13:54:02.045769Z",
     "iopub.status.busy": "2020-09-17T13:54:02.045769Z",
     "iopub.status.idle": "2020-09-17T13:54:02.975343Z",
     "shell.execute_reply": "2020-09-17T13:54:02.975343Z",
     "shell.execute_reply.started": "2020-09-17T13:54:02.045769Z"
    }
   },
   "outputs": [],
   "source": [
    "import numpy as np\n",
    "import pandas as pd\n",
    "import matplotlib.pyplot as plt\n",
    "import matplotlib.animation as animation\n",
    "import glob"
   ]
  },
  {
   "cell_type": "code",
   "execution_count": 21,
   "metadata": {
    "execution": {
     "iopub.execute_input": "2020-09-17T15:15:57.963210Z",
     "iopub.status.busy": "2020-09-17T15:15:57.963210Z",
     "iopub.status.idle": "2020-09-17T15:15:57.969193Z",
     "shell.execute_reply": "2020-09-17T15:15:57.968196Z",
     "shell.execute_reply.started": "2020-09-17T15:15:57.963210Z"
    }
   },
   "outputs": [
    {
     "name": "stdout",
     "output_type": "stream",
     "text": [
      "Using matplotlib backend: Qt5Agg\n"
     ]
    }
   ],
   "source": [
    "%matplotlib"
   ]
  },
  {
   "cell_type": "code",
   "execution_count": 5,
   "metadata": {
    "execution": {
     "iopub.execute_input": "2020-09-17T13:53:40.870851Z",
     "iopub.status.busy": "2020-09-17T13:53:40.870851Z",
     "iopub.status.idle": "2020-09-17T13:53:40.874840Z",
     "shell.execute_reply": "2020-09-17T13:53:40.873843Z",
     "shell.execute_reply.started": "2020-09-17T13:53:40.870851Z"
    }
   },
   "outputs": [],
   "source": [
    "import matplotlib.pyplot as plt\n",
    "from matplotlib import animation"
   ]
  },
  {
   "cell_type": "code",
   "execution_count": null,
   "metadata": {
    "execution": {
     "iopub.execute_input": "2020-09-17T15:17:30.111391Z",
     "iopub.status.busy": "2020-09-17T15:17:30.110394Z",
     "iopub.status.idle": "2020-09-17T15:17:34.949897Z",
     "shell.execute_reply": "2020-09-17T15:17:34.949897Z",
     "shell.execute_reply.started": "2020-09-17T15:17:30.110394Z"
    }
   },
   "outputs": [],
   "source": [
    "def barlist(n): \n",
    "    taxiorder2019 = pd.read_csv(paths[n], nrows=None,\n",
    "                                   dtype = {\n",
    "                                       'GETON_LONGITUDE': np.float32,\n",
    "                                       'GETON_LATITUDE': np.float32,\n",
    "                                       'GETOFF_LONGITUDE': np.float32,\n",
    "                                       'GETOFF_LATITUDE': np.float32,\n",
    "                                       'PASS_MILE': np.float16,\n",
    "                                       'NOPASS_MILE': np.float16,\n",
    "                                       'WAITING_TIME': np.float16\n",
    "                                   })\n",
    "\n",
    "    taxiorder2019['GETON_DATE'] = pd.to_datetime(taxiorder2019['GETON_DATE'])\n",
    "    taxiorder2019['GETON_Hour'] = taxiorder2019['GETON_DATE'].dt.hour\n",
    "\n",
    "    return taxiorder2019.groupby(['GETON_Hour'])['PASS_MILE'].mean().values\n",
    "\n",
    "fig=plt.figure()\n",
    "\n",
    "paths = glob.glob('taxiOrder20190*.csv')\n",
    "paths.sort()\n",
    "n = len(paths) #Number of frames\n",
    "x = range(24)\n",
    "barcollection = plt.bar(x,barlist(0))\n",
    "plt.ylim(0, 8)\n",
    "\n",
    "def animate(i):\n",
    "    print(i)\n",
    "    y=barlist(i+1)\n",
    "    for idx, b in enumerate(barcollection):\n",
    "        b.set_height(y[idx])\n",
    "    plt.ylim(0, 8)\n",
    "\n",
    "    print(i+1)\n",
    "    plt.title(paths[i+1].split('/')[-1])\n",
    "    plt.ylabel('PASS_MILE / KM')\n",
    "    plt.xlabel('Hour')\n",
    "\n",
    "anim=animation.FuncAnimation(fig,animate,repeat=False,blit=False,frames=n-1,\n",
    "                             interval=500)\n",
    "\n",
    "anim.save('order.gif', dpi=150)"
   ]
  },
  {
   "cell_type": "markdown",
   "metadata": {},
   "source": [
    "2. 巡游车空驶率对比（2019年与2020年）；"
   ]
  },
  {
   "cell_type": "code",
   "execution_count": 11,
   "metadata": {
    "execution": {
     "iopub.execute_input": "2020-09-17T14:01:54.777263Z",
     "iopub.status.busy": "2020-09-17T14:01:54.776264Z",
     "iopub.status.idle": "2020-09-17T14:01:57.991746Z",
     "shell.execute_reply": "2020-09-17T14:01:57.991746Z",
     "shell.execute_reply.started": "2020-09-17T14:01:54.777263Z"
    }
   },
   "outputs": [
    {
     "name": "stdout",
     "output_type": "stream",
     "text": [
      "taxiOrder20190531.csv 0.27126261591911316\n",
      "taxiOrder20190601.csv 0.27297645807266235\n",
      "taxiOrder20190602.csv 0.303022563457489\n",
      "taxiOrder20190603.csv 0.31049206852912903\n",
      "taxiOrder20190604.csv 0.3039427697658539\n",
      "taxiOrder20190605.csv 0.293332576751709\n",
      "taxiOrder20190606.csv 0.25473082065582275\n",
      "taxiOrder20190607.csv 0.2845325171947479\n",
      "taxiOrder20190608.csv 0.3049909770488739\n",
      "taxiOrder20190609.csv 0.31149551272392273\n"
     ]
    }
   ],
   "source": [
    "# 2019年数据\n",
    "paths = glob.glob('taxiOrder20190*.csv')\n",
    "paths.sort()\n",
    "for path in paths:\n",
    "    taxiorder2019 = pd.read_csv(path, nrows=None,\n",
    "                               dtype = {\n",
    "                                   'GETON_LONGITUDE': np.float32,\n",
    "                                   'GETON_LATITUDE': np.float32,\n",
    "                                   'GETOFF_LONGITUDE': np.float32,\n",
    "                                   'GETOFF_LATITUDE': np.float32,\n",
    "                                   'PASS_MILE': np.float16,\n",
    "                                   'NOPASS_MILE': np.float16,\n",
    "                                   'WAITING_TIME': np.float16\n",
    "                               })\n",
    "\n",
    "\n",
    "    taxiorder2019 = taxiorder2019[['NOPASS_MILE', 'PASS_MILE']].dropna()\n",
    "    taxiorder2019['NOPASS_Ratio'] = taxiorder2019['NOPASS_MILE'] / (taxiorder2019['NOPASS_MILE'] + taxiorder2019['PASS_MILE'])\n",
    "\n",
    "    print(path, taxiorder2019['NOPASS_Ratio'].astype(np.float32).mean())"
   ]
  },
  {
   "cell_type": "code",
   "execution_count": 13,
   "metadata": {
    "execution": {
     "iopub.execute_input": "2020-09-17T14:05:13.352059Z",
     "iopub.status.busy": "2020-09-17T14:05:13.352059Z",
     "iopub.status.idle": "2020-09-17T14:05:13.361035Z",
     "shell.execute_reply": "2020-09-17T14:05:13.360038Z",
     "shell.execute_reply.started": "2020-09-17T14:05:13.352059Z"
    }
   },
   "outputs": [],
   "source": [
    "# 2020年数据\n",
    "paths = glob.glob('taxiOrder20200*.csv')\n",
    "paths.sort()\n",
    "for path in paths:\n",
    "    taxiorder2019 = pd.read_csv(path, nrows=None,\n",
    "                               dtype = {\n",
    "                                   'GETON_LONGITUDE': np.float32,\n",
    "                                   'GETON_LATITUDE': np.float32,\n",
    "                                   'GETOFF_LONGITUDE': np.float32,\n",
    "                                   'GETOFF_LATITUDE': np.float32,\n",
    "                                   'PASS_MILE': np.float16,\n",
    "                                   'NOPASS_MILE': np.float16,\n",
    "                                   'WAITING_TIME': np.float16\n",
    "                               })\n",
    "\n",
    "\n",
    "    taxiorder2019 = taxiorder2019[['NOPASS_MILE', 'PASS_MILE']].dropna()\n",
    "    taxiorder2019['NOPASS_Ratio'] = taxiorder2019['NOPASS_MILE'] / (taxiorder2019['NOPASS_MILE'] + taxiorder2019['PASS_MILE'])\n",
    "\n",
    "    print(path, taxiorder2019['NOPASS_Ratio'].astype(np.float32).mean())"
   ]
  },
  {
   "cell_type": "markdown",
   "metadata": {},
   "source": [
    "3. 网约车订单距离与时间的对比（2019年与2020年）；\n"
   ]
  },
  {
   "cell_type": "markdown",
   "metadata": {
    "execution": {
     "iopub.execute_input": "2020-09-17T14:11:04.043641Z",
     "iopub.status.busy": "2020-09-17T14:11:04.043641Z",
     "iopub.status.idle": "2020-09-17T14:11:04.049625Z",
     "shell.execute_reply": "2020-09-17T14:11:04.048628Z",
     "shell.execute_reply.started": "2020-09-17T14:11:04.043641Z"
    }
   },
   "source": [
    "4. 网约车空驶率对比（2019年与2020年）；"
   ]
  },
  {
   "cell_type": "code",
   "execution_count": 15,
   "metadata": {
    "execution": {
     "iopub.execute_input": "2020-09-17T14:11:44.924347Z",
     "iopub.status.busy": "2020-09-17T14:11:44.923322Z",
     "iopub.status.idle": "2020-09-17T14:11:51.762242Z",
     "shell.execute_reply": "2020-09-17T14:11:51.762242Z",
     "shell.execute_reply.started": "2020-09-17T14:11:44.924347Z"
    }
   },
   "outputs": [
    {
     "name": "stdout",
     "output_type": "stream",
     "text": [
      "wycOrder20190531.csv 0.043773519023839115\n",
      "wycOrder20190601.csv 0.05089443118832654\n",
      "wycOrder20190602.csv 0.05027405204548952\n",
      "wycOrder20190603.csv 0.04410937618481347\n",
      "wycOrder20190604.csv 0.04556210882875604\n",
      "wycOrder20190605.csv 0.04429180248143744\n",
      "wycOrder20190606.csv 0.050471234377955095\n",
      "wycOrder20190607.csv 0.06292328749500457\n",
      "wycOrder20190608.csv 0.051548027097756174\n",
      "wycOrder20190609.csv 0.05645411864784152\n"
     ]
    }
   ],
   "source": [
    "# 2019年\n",
    "paths = glob.glob('wycOrder2019*.csv')\n",
    "paths.sort()\n",
    "for path in paths:\n",
    "    wycorder2019 = pd.read_csv(path, nrows=None,\n",
    "                            dtype={\n",
    "                                'DEP_LONGITUDE': np.float32,\n",
    "                                'DEP_LATITUDE': np.float32,\n",
    "                                'DEST_LONGITUDE': np.float32,\n",
    "                                'DEST_LATITUDE': np.float32,\n",
    "                            })\n",
    "    wycorder2019 = wycorder2019.rename(columns={'CAR_NO':'CARNO'})\n",
    "    wycorder2019['DEP_TIME'] = pd.to_datetime(wycorder2019['DEP_TIME'])\n",
    "\n",
    "    wycorder2019 = wycorder2019[['WAIT_MILE', 'DRIVE_MILE']]\n",
    "    wycorder2019['NOPASS_Ratio'] = wycorder2019['WAIT_MILE'] / (wycorder2019['DRIVE_MILE'] + wycorder2019['WAIT_MILE'])\n",
    "\n",
    "    print(path, wycorder2019['NOPASS_Ratio'].mean())"
   ]
  },
  {
   "cell_type": "code",
   "execution_count": 16,
   "metadata": {
    "execution": {
     "iopub.execute_input": "2020-09-17T14:12:15.662379Z",
     "iopub.status.busy": "2020-09-17T14:12:15.662379Z",
     "iopub.status.idle": "2020-09-17T14:12:30.022271Z",
     "shell.execute_reply": "2020-09-17T14:12:30.022271Z",
     "shell.execute_reply.started": "2020-09-17T14:12:15.662379Z"
    }
   },
   "outputs": [
    {
     "name": "stderr",
     "output_type": "stream",
     "text": [
      "E:\\Anaconda3\\lib\\site-packages\\IPython\\core\\interactiveshell.py:3058: DtypeWarning: Columns (11,12,13) have mixed types. Specify dtype option on import or set low_memory=False.\n",
      "  interactivity=interactivity, compiler=compiler, result=result)\n"
     ]
    },
    {
     "name": "stdout",
     "output_type": "stream",
     "text": [
      "wycOrder20200618.csv 0.03663759995571136\n",
      "wycOrder20200619.csv 0.03830323701116428\n"
     ]
    },
    {
     "name": "stderr",
     "output_type": "stream",
     "text": [
      "E:\\Anaconda3\\lib\\site-packages\\IPython\\core\\interactiveshell.py:3058: DtypeWarning: Columns (12) have mixed types. Specify dtype option on import or set low_memory=False.\n",
      "  interactivity=interactivity, compiler=compiler, result=result)\n"
     ]
    },
    {
     "name": "stdout",
     "output_type": "stream",
     "text": [
      "wycOrder20200620.csv 0.042812921736015475\n"
     ]
    },
    {
     "name": "stderr",
     "output_type": "stream",
     "text": [
      "E:\\Anaconda3\\lib\\site-packages\\IPython\\core\\interactiveshell.py:3058: DtypeWarning: Columns (11,12) have mixed types. Specify dtype option on import or set low_memory=False.\n",
      "  interactivity=interactivity, compiler=compiler, result=result)\n"
     ]
    },
    {
     "name": "stdout",
     "output_type": "stream",
     "text": [
      "wycOrder20200621.csv 0.049643219579652176\n",
      "wycOrder20200622.csv 0.03599123977888788\n",
      "wycOrder20200623.csv 0.035535909940606264\n",
      "wycOrder20200624.csv 0.0406342118123763\n",
      "wycOrder20200625.csv 0.0517790335437724\n",
      "wycOrder20200626.csv 0.04035187796069984\n",
      "wycOrder20200627.csv 0.0470627857622948\n"
     ]
    }
   ],
   "source": [
    "paths = glob.glob('wycOrder2020*.csv')\n",
    "paths.sort()\n",
    "for path in paths:\n",
    "    wycorder2019 = pd.read_csv(path, nrows=None, sep='\\\\',\n",
    "                            dtype={\n",
    "                                'DEP_LONGITUDE': np.float32,\n",
    "                                'DEP_LATITUDE': np.float32,\n",
    "                                'DEST_LONGITUDE': np.float32,\n",
    "                                'DEST_LATITUDE': np.float32,\n",
    "                            })\n",
    "    wycorder2019 = wycorder2019.rename(columns={'CAR_NO':'CARNO'})\n",
    "    wycorder2019['DEP_TIME'] = pd.to_datetime(wycorder2019['DEP_TIME'])\n",
    "\n",
    "    wycorder2019 = wycorder2019[wycorder2019['DRIVE_MILE'].apply(lambda x: '-' not in str(x) and '|' not in str(x) and \n",
    "                                                                   '路' not in str(x))]\n",
    "    wycorder2019['DRIVE_MILE'] = wycorder2019['DRIVE_MILE'].astype(float)\n",
    "    wycorder2019['WAIT_MILE'] = wycorder2019['WAIT_MILE'].astype(float)\n",
    "\n",
    "    wycorder2019 = wycorder2019[['WAIT_MILE', 'DRIVE_MILE']].dropna()\n",
    "    wycorder2019['NOPASS_Ratio'] = wycorder2019['WAIT_MILE'] / (wycorder2019['DRIVE_MILE'] + wycorder2019['WAIT_MILE'] + 0.1)\n",
    "\n",
    "    print(path, wycorder2019['NOPASS_Ratio'].mean())"
   ]
  },
  {
   "cell_type": "markdown",
   "metadata": {},
   "source": [
    "## 打卡任务"
   ]
  },
  {
   "cell_type": "markdown",
   "metadata": {},
   "source": [
    "1. 对比分析2019与2020年端午假期前一天（🤔分别对应哪一天？），巡游车日平均速度变化，上升还是下降？"
   ]
  },
  {
   "cell_type": "markdown",
   "metadata": {},
   "source": [
    "【分析】2019年端午是0607，2020年端午是0625，前一天就分别是20190606和20200624，分别算出他们的平均速度比较即可"
   ]
  },
  {
   "cell_type": "code",
   "execution_count": 148,
   "metadata": {
    "execution": {
     "iopub.execute_input": "2020-09-20T05:09:49.520691Z",
     "iopub.status.busy": "2020-09-20T05:09:49.519694Z",
     "iopub.status.idle": "2020-09-20T05:10:04.016446Z",
     "shell.execute_reply": "2020-09-20T05:10:04.016446Z",
     "shell.execute_reply.started": "2020-09-20T05:09:49.520691Z"
    }
   },
   "outputs": [],
   "source": [
    "taxigps20190606=pd.read_csv('taxiGps20190606.csv')"
   ]
  },
  {
   "cell_type": "code",
   "execution_count": 155,
   "metadata": {
    "execution": {
     "iopub.execute_input": "2020-09-20T05:18:16.362151Z",
     "iopub.status.busy": "2020-09-20T05:18:16.361153Z",
     "iopub.status.idle": "2020-09-20T05:18:34.782555Z",
     "shell.execute_reply": "2020-09-20T05:18:34.781557Z",
     "shell.execute_reply.started": "2020-09-20T05:18:16.362151Z"
    }
   },
   "outputs": [],
   "source": [
    "taxigps20200624=pd.read_csv('taxiGps20200624.csv')"
   ]
  },
  {
   "cell_type": "code",
   "execution_count": 152,
   "metadata": {
    "execution": {
     "iopub.execute_input": "2020-09-20T05:13:09.994588Z",
     "iopub.status.busy": "2020-09-20T05:13:09.994588Z",
     "iopub.status.idle": "2020-09-20T05:13:10.000572Z",
     "shell.execute_reply": "2020-09-20T05:13:09.999575Z",
     "shell.execute_reply.started": "2020-09-20T05:13:09.994588Z"
    }
   },
   "outputs": [
    {
     "name": "stdout",
     "output_type": "stream",
     "text": [
      "<class 'pandas.core.frame.DataFrame'>\n",
      "RangeIndex: 17090210 entries, 0 to 17090209\n",
      "Data columns (total 7 columns):\n",
      "OPERATING_STATUS     int64\n",
      "GPS_SPEED            float64\n",
      "DRIVING_DIRECTION    int64\n",
      "GPS_TIME             object\n",
      "LONGITUDE            float64\n",
      "LATITUDE             float64\n",
      "CARNO                object\n",
      "dtypes: float64(3), int64(2), object(2)\n",
      "memory usage: 912.7+ MB\n"
     ]
    }
   ],
   "source": [
    "taxigps20190606.info()"
   ]
  },
  {
   "cell_type": "code",
   "execution_count": 154,
   "metadata": {
    "execution": {
     "iopub.execute_input": "2020-09-20T05:16:05.934889Z",
     "iopub.status.busy": "2020-09-20T05:16:05.934889Z",
     "iopub.status.idle": "2020-09-20T05:16:05.967830Z",
     "shell.execute_reply": "2020-09-20T05:16:05.967830Z",
     "shell.execute_reply.started": "2020-09-20T05:16:05.934889Z"
    }
   },
   "outputs": [
    {
     "data": {
      "text/plain": [
       "18.85687002091995"
      ]
     },
     "execution_count": 154,
     "metadata": {},
     "output_type": "execute_result"
    }
   ],
   "source": [
    "taxigps20190606['GPS_SPEED'].mean()"
   ]
  },
  {
   "cell_type": "code",
   "execution_count": 156,
   "metadata": {
    "execution": {
     "iopub.execute_input": "2020-09-20T05:19:46.764622Z",
     "iopub.status.busy": "2020-09-20T05:19:46.764622Z",
     "iopub.status.idle": "2020-09-20T05:19:46.805511Z",
     "shell.execute_reply": "2020-09-20T05:19:46.805511Z",
     "shell.execute_reply.started": "2020-09-20T05:19:46.764622Z"
    }
   },
   "outputs": [
    {
     "data": {
      "text/plain": [
       "16.422890546061467"
      ]
     },
     "execution_count": 156,
     "metadata": {},
     "output_type": "execute_result"
    }
   ],
   "source": [
    "taxigps20200624['GPS_SPEED'].mean()"
   ]
  },
  {
   "cell_type": "code",
   "execution_count": 24,
   "metadata": {
    "execution": {
     "iopub.execute_input": "2020-09-18T02:35:24.840635Z",
     "iopub.status.busy": "2020-09-18T02:35:24.840635Z",
     "iopub.status.idle": "2020-09-18T02:35:25.178730Z",
     "shell.execute_reply": "2020-09-18T02:35:25.178730Z",
     "shell.execute_reply.started": "2020-09-18T02:35:24.840635Z"
    }
   },
   "outputs": [],
   "source": [
    "taxiorder20190606=pd.read_csv('taxiOrder20190606.csv')"
   ]
  },
  {
   "cell_type": "code",
   "execution_count": 123,
   "metadata": {
    "execution": {
     "iopub.execute_input": "2020-09-18T04:24:30.574490Z",
     "iopub.status.busy": "2020-09-18T04:24:30.573494Z",
     "iopub.status.idle": "2020-09-18T04:24:30.896137Z",
     "shell.execute_reply": "2020-09-18T04:24:30.895139Z",
     "shell.execute_reply.started": "2020-09-18T04:24:30.574490Z"
    }
   },
   "outputs": [],
   "source": [
    "taxiorder20200624=pd.read_csv('taxiOrder20200624.csv')"
   ]
  },
  {
   "cell_type": "code",
   "execution_count": 27,
   "metadata": {
    "execution": {
     "iopub.execute_input": "2020-09-18T02:43:43.302548Z",
     "iopub.status.busy": "2020-09-18T02:43:43.302548Z",
     "iopub.status.idle": "2020-09-18T02:43:43.323492Z",
     "shell.execute_reply": "2020-09-18T02:43:43.322495Z",
     "shell.execute_reply.started": "2020-09-18T02:43:43.302548Z"
    }
   },
   "outputs": [
    {
     "data": {
      "text/html": [
       "<div>\n",
       "<style scoped>\n",
       "    .dataframe tbody tr th:only-of-type {\n",
       "        vertical-align: middle;\n",
       "    }\n",
       "\n",
       "    .dataframe tbody tr th {\n",
       "        vertical-align: top;\n",
       "    }\n",
       "\n",
       "    .dataframe thead th {\n",
       "        text-align: right;\n",
       "    }\n",
       "</style>\n",
       "<table border=\"1\" class=\"dataframe\">\n",
       "  <thead>\n",
       "    <tr style=\"text-align: right;\">\n",
       "      <th></th>\n",
       "      <th>CAR_NO</th>\n",
       "      <th>GETON_DATE</th>\n",
       "      <th>GETON_LONGITUDE</th>\n",
       "      <th>GETON_LATITUDE</th>\n",
       "      <th>GETOFF_DATE</th>\n",
       "      <th>GETOFF_LONGITUDE</th>\n",
       "      <th>GETOFF_LATITUDE</th>\n",
       "      <th>PASS_MILE</th>\n",
       "      <th>NOPASS_MILE</th>\n",
       "      <th>WAITING_TIME</th>\n",
       "    </tr>\n",
       "  </thead>\n",
       "  <tbody>\n",
       "    <tr>\n",
       "      <td>87</td>\n",
       "      <td>d11b61814cfa16a633327894276ee5d8</td>\n",
       "      <td>2019-06-06 00:46:00</td>\n",
       "      <td>118.140545</td>\n",
       "      <td>24.492556</td>\n",
       "      <td>2019-06-06 00:48:00</td>\n",
       "      <td>118.141290</td>\n",
       "      <td>24.492388</td>\n",
       "      <td>0.0</td>\n",
       "      <td>5.3</td>\n",
       "      <td>103</td>\n",
       "    </tr>\n",
       "    <tr>\n",
       "      <td>1590</td>\n",
       "      <td>40e261588274bc116ff9b3f59819944f</td>\n",
       "      <td>2019-06-06 00:09:00</td>\n",
       "      <td>118.103648</td>\n",
       "      <td>24.481463</td>\n",
       "      <td>2019-06-06 00:10:00</td>\n",
       "      <td>118.103648</td>\n",
       "      <td>24.481463</td>\n",
       "      <td>0.0</td>\n",
       "      <td>8.2</td>\n",
       "      <td>50</td>\n",
       "    </tr>\n",
       "    <tr>\n",
       "      <td>1753</td>\n",
       "      <td>0e93ff10764dba821c5374c275fa2cc2</td>\n",
       "      <td>2019-06-06 00:34:00</td>\n",
       "      <td>118.169648</td>\n",
       "      <td>24.489933</td>\n",
       "      <td>2019-06-06 00:44:00</td>\n",
       "      <td>118.169628</td>\n",
       "      <td>24.489908</td>\n",
       "      <td>0.0</td>\n",
       "      <td>3.6</td>\n",
       "      <td>600</td>\n",
       "    </tr>\n",
       "    <tr>\n",
       "      <td>2001</td>\n",
       "      <td>e3f4dd3b914aa26fc69bdfd0ee89b84f</td>\n",
       "      <td>2019-06-06 00:30:00</td>\n",
       "      <td>118.136260</td>\n",
       "      <td>24.494233</td>\n",
       "      <td>2019-06-06 00:30:00</td>\n",
       "      <td>118.136260</td>\n",
       "      <td>24.494233</td>\n",
       "      <td>0.0</td>\n",
       "      <td>8.2</td>\n",
       "      <td>30</td>\n",
       "    </tr>\n",
       "    <tr>\n",
       "      <td>2123</td>\n",
       "      <td>8a90a1144f33258d0b6ee533d1072908</td>\n",
       "      <td>2019-06-06 00:29:00</td>\n",
       "      <td>118.074146</td>\n",
       "      <td>24.452293</td>\n",
       "      <td>2019-06-06 00:33:00</td>\n",
       "      <td>118.073798</td>\n",
       "      <td>24.452365</td>\n",
       "      <td>0.0</td>\n",
       "      <td>0.0</td>\n",
       "      <td>212</td>\n",
       "    </tr>\n",
       "    <tr>\n",
       "      <td>...</td>\n",
       "      <td>...</td>\n",
       "      <td>...</td>\n",
       "      <td>...</td>\n",
       "      <td>...</td>\n",
       "      <td>...</td>\n",
       "      <td>...</td>\n",
       "      <td>...</td>\n",
       "      <td>...</td>\n",
       "      <td>...</td>\n",
       "      <td>...</td>\n",
       "    </tr>\n",
       "    <tr>\n",
       "      <td>243753</td>\n",
       "      <td>bf4d8a3096fabddb0636b7838cc1e831</td>\n",
       "      <td>2019-06-06 22:20:00</td>\n",
       "      <td>118.081330</td>\n",
       "      <td>24.464630</td>\n",
       "      <td>2019-06-07 01:15:00</td>\n",
       "      <td>118.081172</td>\n",
       "      <td>24.464323</td>\n",
       "      <td>0.0</td>\n",
       "      <td>13.8</td>\n",
       "      <td>10440</td>\n",
       "    </tr>\n",
       "    <tr>\n",
       "      <td>244792</td>\n",
       "      <td>c4c200bdbf9a0b217e551f8c35dd7da9</td>\n",
       "      <td>2019-06-06 02:29:00</td>\n",
       "      <td>0.000000</td>\n",
       "      <td>0.000000</td>\n",
       "      <td>2019-06-06 02:30:00</td>\n",
       "      <td>0.000000</td>\n",
       "      <td>0.000000</td>\n",
       "      <td>0.0</td>\n",
       "      <td>3.7</td>\n",
       "      <td>43</td>\n",
       "    </tr>\n",
       "    <tr>\n",
       "      <td>245574</td>\n",
       "      <td>59530f01e5bf55949bc980ed8a9f0ccb</td>\n",
       "      <td>2019-06-06 12:40:00</td>\n",
       "      <td>0.000000</td>\n",
       "      <td>0.000000</td>\n",
       "      <td>2019-06-06 13:09:00</td>\n",
       "      <td>118.069845</td>\n",
       "      <td>24.456068</td>\n",
       "      <td>0.0</td>\n",
       "      <td>5.4</td>\n",
       "      <td>1747</td>\n",
       "    </tr>\n",
       "    <tr>\n",
       "      <td>245576</td>\n",
       "      <td>59530f01e5bf55949bc980ed8a9f0ccb</td>\n",
       "      <td>2019-06-06 11:29:00</td>\n",
       "      <td>0.000000</td>\n",
       "      <td>0.000000</td>\n",
       "      <td>2019-06-06 12:05:00</td>\n",
       "      <td>118.070038</td>\n",
       "      <td>24.456271</td>\n",
       "      <td>0.0</td>\n",
       "      <td>7.7</td>\n",
       "      <td>2105</td>\n",
       "    </tr>\n",
       "    <tr>\n",
       "      <td>245584</td>\n",
       "      <td>67c10585dbbd1ffc1f74f91093ff51cf</td>\n",
       "      <td>2019-06-06 05:00:00</td>\n",
       "      <td>118.153280</td>\n",
       "      <td>24.478338</td>\n",
       "      <td>2019-06-06 05:47:00</td>\n",
       "      <td>118.153078</td>\n",
       "      <td>24.477961</td>\n",
       "      <td>0.0</td>\n",
       "      <td>5.7</td>\n",
       "      <td>2760</td>\n",
       "    </tr>\n",
       "  </tbody>\n",
       "</table>\n",
       "<p>602 rows × 10 columns</p>\n",
       "</div>"
      ],
      "text/plain": [
       "                                  CAR_NO           GETON_DATE  \\\n",
       "87      d11b61814cfa16a633327894276ee5d8  2019-06-06 00:46:00   \n",
       "1590    40e261588274bc116ff9b3f59819944f  2019-06-06 00:09:00   \n",
       "1753    0e93ff10764dba821c5374c275fa2cc2  2019-06-06 00:34:00   \n",
       "2001    e3f4dd3b914aa26fc69bdfd0ee89b84f  2019-06-06 00:30:00   \n",
       "2123    8a90a1144f33258d0b6ee533d1072908  2019-06-06 00:29:00   \n",
       "...                                  ...                  ...   \n",
       "243753  bf4d8a3096fabddb0636b7838cc1e831  2019-06-06 22:20:00   \n",
       "244792  c4c200bdbf9a0b217e551f8c35dd7da9  2019-06-06 02:29:00   \n",
       "245574  59530f01e5bf55949bc980ed8a9f0ccb  2019-06-06 12:40:00   \n",
       "245576  59530f01e5bf55949bc980ed8a9f0ccb  2019-06-06 11:29:00   \n",
       "245584  67c10585dbbd1ffc1f74f91093ff51cf  2019-06-06 05:00:00   \n",
       "\n",
       "        GETON_LONGITUDE  GETON_LATITUDE          GETOFF_DATE  \\\n",
       "87           118.140545       24.492556  2019-06-06 00:48:00   \n",
       "1590         118.103648       24.481463  2019-06-06 00:10:00   \n",
       "1753         118.169648       24.489933  2019-06-06 00:44:00   \n",
       "2001         118.136260       24.494233  2019-06-06 00:30:00   \n",
       "2123         118.074146       24.452293  2019-06-06 00:33:00   \n",
       "...                 ...             ...                  ...   \n",
       "243753       118.081330       24.464630  2019-06-07 01:15:00   \n",
       "244792         0.000000        0.000000  2019-06-06 02:30:00   \n",
       "245574         0.000000        0.000000  2019-06-06 13:09:00   \n",
       "245576         0.000000        0.000000  2019-06-06 12:05:00   \n",
       "245584       118.153280       24.478338  2019-06-06 05:47:00   \n",
       "\n",
       "        GETOFF_LONGITUDE  GETOFF_LATITUDE  PASS_MILE  NOPASS_MILE  \\\n",
       "87            118.141290        24.492388        0.0          5.3   \n",
       "1590          118.103648        24.481463        0.0          8.2   \n",
       "1753          118.169628        24.489908        0.0          3.6   \n",
       "2001          118.136260        24.494233        0.0          8.2   \n",
       "2123          118.073798        24.452365        0.0          0.0   \n",
       "...                  ...              ...        ...          ...   \n",
       "243753        118.081172        24.464323        0.0         13.8   \n",
       "244792          0.000000         0.000000        0.0          3.7   \n",
       "245574        118.069845        24.456068        0.0          5.4   \n",
       "245576        118.070038        24.456271        0.0          7.7   \n",
       "245584        118.153078        24.477961        0.0          5.7   \n",
       "\n",
       "        WAITING_TIME  \n",
       "87               103  \n",
       "1590              50  \n",
       "1753             600  \n",
       "2001              30  \n",
       "2123             212  \n",
       "...              ...  \n",
       "243753         10440  \n",
       "244792            43  \n",
       "245574          1747  \n",
       "245576          2105  \n",
       "245584          2760  \n",
       "\n",
       "[602 rows x 10 columns]"
      ]
     },
     "execution_count": 27,
     "metadata": {},
     "output_type": "execute_result"
    }
   ],
   "source": [
    "taxiorder20190606[taxiorder20190606['PASS_MILE']==0]"
   ]
  },
  {
   "cell_type": "code",
   "execution_count": 29,
   "metadata": {
    "execution": {
     "iopub.execute_input": "2020-09-18T02:49:30.295406Z",
     "iopub.status.busy": "2020-09-18T02:49:30.294409Z",
     "iopub.status.idle": "2020-09-18T02:49:30.336296Z",
     "shell.execute_reply": "2020-09-18T02:49:30.335298Z",
     "shell.execute_reply.started": "2020-09-18T02:49:30.295406Z"
    }
   },
   "outputs": [
    {
     "name": "stdout",
     "output_type": "stream",
     "text": [
      "<class 'pandas.core.frame.DataFrame'>\n",
      "RangeIndex: 245630 entries, 0 to 245629\n",
      "Data columns (total 10 columns):\n",
      "CAR_NO              245630 non-null object\n",
      "GETON_DATE          245630 non-null object\n",
      "GETON_LONGITUDE     245630 non-null float64\n",
      "GETON_LATITUDE      245630 non-null float64\n",
      "GETOFF_DATE         245630 non-null object\n",
      "GETOFF_LONGITUDE    245630 non-null float64\n",
      "GETOFF_LATITUDE     245630 non-null float64\n",
      "PASS_MILE           245630 non-null float64\n",
      "NOPASS_MILE         245630 non-null float64\n",
      "WAITING_TIME        245630 non-null int64\n",
      "dtypes: float64(6), int64(1), object(3)\n",
      "memory usage: 18.7+ MB\n"
     ]
    }
   ],
   "source": [
    "taxiorder20190606.info()"
   ]
  },
  {
   "cell_type": "code",
   "execution_count": 30,
   "metadata": {
    "execution": {
     "iopub.execute_input": "2020-09-18T02:51:30.290220Z",
     "iopub.status.busy": "2020-09-18T02:51:30.289256Z",
     "iopub.status.idle": "2020-09-18T02:51:30.380748Z",
     "shell.execute_reply": "2020-09-18T02:51:30.380748Z",
     "shell.execute_reply.started": "2020-09-18T02:51:30.290220Z"
    }
   },
   "outputs": [],
   "source": [
    "taxiorder20190606['GETON_DATE']=pd.to_datetime(taxiorder20190606['GETON_DATE'])\n",
    "taxiorder20190606['GETOFF_DATE']=pd.to_datetime(taxiorder20190606['GETOFF_DATE'])"
   ]
  },
  {
   "cell_type": "code",
   "execution_count": 49,
   "metadata": {
    "execution": {
     "iopub.execute_input": "2020-09-18T03:15:35.857799Z",
     "iopub.status.busy": "2020-09-18T03:15:35.857799Z",
     "iopub.status.idle": "2020-09-18T03:15:35.873763Z",
     "shell.execute_reply": "2020-09-18T03:15:35.873763Z",
     "shell.execute_reply.started": "2020-09-18T03:15:35.857799Z"
    }
   },
   "outputs": [
    {
     "data": {
      "text/html": [
       "<div>\n",
       "<style scoped>\n",
       "    .dataframe tbody tr th:only-of-type {\n",
       "        vertical-align: middle;\n",
       "    }\n",
       "\n",
       "    .dataframe tbody tr th {\n",
       "        vertical-align: top;\n",
       "    }\n",
       "\n",
       "    .dataframe thead th {\n",
       "        text-align: right;\n",
       "    }\n",
       "</style>\n",
       "<table border=\"1\" class=\"dataframe\">\n",
       "  <thead>\n",
       "    <tr style=\"text-align: right;\">\n",
       "      <th></th>\n",
       "      <th>CAR_NO</th>\n",
       "      <th>GETON_DATE</th>\n",
       "      <th>GETON_LONGITUDE</th>\n",
       "      <th>GETON_LATITUDE</th>\n",
       "      <th>GETOFF_DATE</th>\n",
       "      <th>GETOFF_LONGITUDE</th>\n",
       "      <th>GETOFF_LATITUDE</th>\n",
       "      <th>PASS_MILE</th>\n",
       "      <th>NOPASS_MILE</th>\n",
       "      <th>WAITING_TIME</th>\n",
       "    </tr>\n",
       "  </thead>\n",
       "  <tbody>\n",
       "    <tr>\n",
       "      <td>0</td>\n",
       "      <td>91856bf24bf21e5a65fc254ca559ea5d</td>\n",
       "      <td>2019-06-06 01:17:00</td>\n",
       "      <td>0.000000</td>\n",
       "      <td>0.000000</td>\n",
       "      <td>2019-06-06 01:22:00</td>\n",
       "      <td>0.000000</td>\n",
       "      <td>0.000000</td>\n",
       "      <td>1.7</td>\n",
       "      <td>1.4</td>\n",
       "      <td>60</td>\n",
       "    </tr>\n",
       "    <tr>\n",
       "      <td>1</td>\n",
       "      <td>91856bf24bf21e5a65fc254ca559ea5d</td>\n",
       "      <td>2019-06-06 00:55:00</td>\n",
       "      <td>118.154910</td>\n",
       "      <td>24.478845</td>\n",
       "      <td>2019-06-06 01:13:00</td>\n",
       "      <td>0.000000</td>\n",
       "      <td>0.000000</td>\n",
       "      <td>9.4</td>\n",
       "      <td>3.8</td>\n",
       "      <td>240</td>\n",
       "    </tr>\n",
       "    <tr>\n",
       "      <td>2</td>\n",
       "      <td>91856bf24bf21e5a65fc254ca559ea5d</td>\n",
       "      <td>2019-06-06 00:35:00</td>\n",
       "      <td>118.119772</td>\n",
       "      <td>24.481605</td>\n",
       "      <td>2019-06-06 00:47:00</td>\n",
       "      <td>118.176425</td>\n",
       "      <td>24.463628</td>\n",
       "      <td>7.7</td>\n",
       "      <td>2.8</td>\n",
       "      <td>120</td>\n",
       "    </tr>\n",
       "    <tr>\n",
       "      <td>3</td>\n",
       "      <td>91856bf24bf21e5a65fc254ca559ea5d</td>\n",
       "      <td>2019-06-06 03:41:00</td>\n",
       "      <td>0.000000</td>\n",
       "      <td>0.000000</td>\n",
       "      <td>2019-06-06 03:52:00</td>\n",
       "      <td>118.071350</td>\n",
       "      <td>24.455893</td>\n",
       "      <td>8.1</td>\n",
       "      <td>0.0</td>\n",
       "      <td>60</td>\n",
       "    </tr>\n",
       "    <tr>\n",
       "      <td>4</td>\n",
       "      <td>91856bf24bf21e5a65fc254ca559ea5d</td>\n",
       "      <td>2019-06-06 05:28:00</td>\n",
       "      <td>118.183114</td>\n",
       "      <td>24.482270</td>\n",
       "      <td>2019-06-06 05:32:00</td>\n",
       "      <td>118.175863</td>\n",
       "      <td>24.476022</td>\n",
       "      <td>1.2</td>\n",
       "      <td>2.5</td>\n",
       "      <td>60</td>\n",
       "    </tr>\n",
       "    <tr>\n",
       "      <td>...</td>\n",
       "      <td>...</td>\n",
       "      <td>...</td>\n",
       "      <td>...</td>\n",
       "      <td>...</td>\n",
       "      <td>...</td>\n",
       "      <td>...</td>\n",
       "      <td>...</td>\n",
       "      <td>...</td>\n",
       "      <td>...</td>\n",
       "      <td>...</td>\n",
       "    </tr>\n",
       "    <tr>\n",
       "      <td>245625</td>\n",
       "      <td>8f67c648ac2c033647f7bea84f6d1fa6</td>\n",
       "      <td>2019-06-06 22:04:00</td>\n",
       "      <td>118.101962</td>\n",
       "      <td>24.475628</td>\n",
       "      <td>2019-06-06 22:20:00</td>\n",
       "      <td>118.105955</td>\n",
       "      <td>24.496095</td>\n",
       "      <td>3.9</td>\n",
       "      <td>3.3</td>\n",
       "      <td>420</td>\n",
       "    </tr>\n",
       "    <tr>\n",
       "      <td>245626</td>\n",
       "      <td>8f67c648ac2c033647f7bea84f6d1fa6</td>\n",
       "      <td>2019-06-06 22:34:00</td>\n",
       "      <td>118.083137</td>\n",
       "      <td>24.461620</td>\n",
       "      <td>2019-06-06 22:37:00</td>\n",
       "      <td>118.080250</td>\n",
       "      <td>24.454005</td>\n",
       "      <td>1.1</td>\n",
       "      <td>0.4</td>\n",
       "      <td>0</td>\n",
       "    </tr>\n",
       "    <tr>\n",
       "      <td>245627</td>\n",
       "      <td>8f67c648ac2c033647f7bea84f6d1fa6</td>\n",
       "      <td>2019-06-06 11:22:00</td>\n",
       "      <td>118.082398</td>\n",
       "      <td>24.455462</td>\n",
       "      <td>2019-06-06 11:34:00</td>\n",
       "      <td>118.097223</td>\n",
       "      <td>24.487562</td>\n",
       "      <td>4.7</td>\n",
       "      <td>0.0</td>\n",
       "      <td>240</td>\n",
       "    </tr>\n",
       "    <tr>\n",
       "      <td>245628</td>\n",
       "      <td>8f67c648ac2c033647f7bea84f6d1fa6</td>\n",
       "      <td>2019-06-06 14:00:00</td>\n",
       "      <td>118.159608</td>\n",
       "      <td>24.531183</td>\n",
       "      <td>2019-06-06 14:20:00</td>\n",
       "      <td>118.110558</td>\n",
       "      <td>24.492588</td>\n",
       "      <td>8.5</td>\n",
       "      <td>1.0</td>\n",
       "      <td>300</td>\n",
       "    </tr>\n",
       "    <tr>\n",
       "      <td>245629</td>\n",
       "      <td>8f67c648ac2c033647f7bea84f6d1fa6</td>\n",
       "      <td>2019-06-06 14:26:00</td>\n",
       "      <td>118.112437</td>\n",
       "      <td>24.497123</td>\n",
       "      <td>2019-06-06 14:41:00</td>\n",
       "      <td>118.148902</td>\n",
       "      <td>24.521187</td>\n",
       "      <td>6.7</td>\n",
       "      <td>1.1</td>\n",
       "      <td>240</td>\n",
       "    </tr>\n",
       "  </tbody>\n",
       "</table>\n",
       "<p>245630 rows × 10 columns</p>\n",
       "</div>"
      ],
      "text/plain": [
       "                                  CAR_NO          GETON_DATE  GETON_LONGITUDE  \\\n",
       "0       91856bf24bf21e5a65fc254ca559ea5d 2019-06-06 01:17:00         0.000000   \n",
       "1       91856bf24bf21e5a65fc254ca559ea5d 2019-06-06 00:55:00       118.154910   \n",
       "2       91856bf24bf21e5a65fc254ca559ea5d 2019-06-06 00:35:00       118.119772   \n",
       "3       91856bf24bf21e5a65fc254ca559ea5d 2019-06-06 03:41:00         0.000000   \n",
       "4       91856bf24bf21e5a65fc254ca559ea5d 2019-06-06 05:28:00       118.183114   \n",
       "...                                  ...                 ...              ...   \n",
       "245625  8f67c648ac2c033647f7bea84f6d1fa6 2019-06-06 22:04:00       118.101962   \n",
       "245626  8f67c648ac2c033647f7bea84f6d1fa6 2019-06-06 22:34:00       118.083137   \n",
       "245627  8f67c648ac2c033647f7bea84f6d1fa6 2019-06-06 11:22:00       118.082398   \n",
       "245628  8f67c648ac2c033647f7bea84f6d1fa6 2019-06-06 14:00:00       118.159608   \n",
       "245629  8f67c648ac2c033647f7bea84f6d1fa6 2019-06-06 14:26:00       118.112437   \n",
       "\n",
       "        GETON_LATITUDE         GETOFF_DATE  GETOFF_LONGITUDE  GETOFF_LATITUDE  \\\n",
       "0             0.000000 2019-06-06 01:22:00          0.000000         0.000000   \n",
       "1            24.478845 2019-06-06 01:13:00          0.000000         0.000000   \n",
       "2            24.481605 2019-06-06 00:47:00        118.176425        24.463628   \n",
       "3             0.000000 2019-06-06 03:52:00        118.071350        24.455893   \n",
       "4            24.482270 2019-06-06 05:32:00        118.175863        24.476022   \n",
       "...                ...                 ...               ...              ...   \n",
       "245625       24.475628 2019-06-06 22:20:00        118.105955        24.496095   \n",
       "245626       24.461620 2019-06-06 22:37:00        118.080250        24.454005   \n",
       "245627       24.455462 2019-06-06 11:34:00        118.097223        24.487562   \n",
       "245628       24.531183 2019-06-06 14:20:00        118.110558        24.492588   \n",
       "245629       24.497123 2019-06-06 14:41:00        118.148902        24.521187   \n",
       "\n",
       "        PASS_MILE  NOPASS_MILE  WAITING_TIME  \n",
       "0             1.7          1.4            60  \n",
       "1             9.4          3.8           240  \n",
       "2             7.7          2.8           120  \n",
       "3             8.1          0.0            60  \n",
       "4             1.2          2.5            60  \n",
       "...           ...          ...           ...  \n",
       "245625        3.9          3.3           420  \n",
       "245626        1.1          0.4             0  \n",
       "245627        4.7          0.0           240  \n",
       "245628        8.5          1.0           300  \n",
       "245629        6.7          1.1           240  \n",
       "\n",
       "[245630 rows x 10 columns]"
      ]
     },
     "execution_count": 49,
     "metadata": {},
     "output_type": "execute_result"
    }
   ],
   "source": [
    "taxiorder20190606"
   ]
  },
  {
   "cell_type": "code",
   "execution_count": 32,
   "metadata": {
    "execution": {
     "iopub.execute_input": "2020-09-18T03:02:45.544279Z",
     "iopub.status.busy": "2020-09-18T03:02:45.544279Z",
     "iopub.status.idle": "2020-09-18T03:02:45.572206Z",
     "shell.execute_reply": "2020-09-18T03:02:45.571209Z",
     "shell.execute_reply.started": "2020-09-18T03:02:45.544279Z"
    }
   },
   "outputs": [
    {
     "name": "stdout",
     "output_type": "stream",
     "text": [
      "<class 'pandas.core.frame.DataFrame'>\n",
      "RangeIndex: 245630 entries, 0 to 245629\n",
      "Data columns (total 10 columns):\n",
      "CAR_NO              245630 non-null object\n",
      "GETON_DATE          245630 non-null datetime64[ns]\n",
      "GETON_LONGITUDE     245630 non-null float64\n",
      "GETON_LATITUDE      245630 non-null float64\n",
      "GETOFF_DATE         245630 non-null datetime64[ns]\n",
      "GETOFF_LONGITUDE    245630 non-null float64\n",
      "GETOFF_LATITUDE     245630 non-null float64\n",
      "PASS_MILE           245630 non-null float64\n",
      "NOPASS_MILE         245630 non-null float64\n",
      "WAITING_TIME        245630 non-null int64\n",
      "dtypes: datetime64[ns](2), float64(6), int64(1), object(1)\n",
      "memory usage: 18.7+ MB\n"
     ]
    }
   ],
   "source": [
    "taxiorder20190606.info()"
   ]
  },
  {
   "cell_type": "code",
   "execution_count": 41,
   "metadata": {
    "execution": {
     "iopub.execute_input": "2020-09-18T03:10:06.634056Z",
     "iopub.status.busy": "2020-09-18T03:10:06.633060Z",
     "iopub.status.idle": "2020-09-18T03:10:06.645028Z",
     "shell.execute_reply": "2020-09-18T03:10:06.644029Z",
     "shell.execute_reply.started": "2020-09-18T03:10:06.634056Z"
    }
   },
   "outputs": [],
   "source": [
    "Time=taxiorder20190606['GETOFF_DATE']-taxiorder20190606['GETON_DATE']"
   ]
  },
  {
   "cell_type": "code",
   "execution_count": 112,
   "metadata": {
    "execution": {
     "iopub.execute_input": "2020-09-18T04:18:37.719345Z",
     "iopub.status.busy": "2020-09-18T04:18:37.719345Z",
     "iopub.status.idle": "2020-09-18T04:18:37.729319Z",
     "shell.execute_reply": "2020-09-18T04:18:37.728324Z",
     "shell.execute_reply.started": "2020-09-18T04:18:37.719345Z"
    }
   },
   "outputs": [
    {
     "data": {
      "text/plain": [
       "0          300\n",
       "1         1080\n",
       "2          720\n",
       "3          660\n",
       "4          240\n",
       "          ... \n",
       "245625     960\n",
       "245626     180\n",
       "245627     720\n",
       "245628    1200\n",
       "245629     900\n",
       "Length: 245630, dtype: int64"
      ]
     },
     "execution_count": 112,
     "metadata": {},
     "output_type": "execute_result"
    }
   ],
   "source": [
    "Time.dt.seconds"
   ]
  },
  {
   "cell_type": "code",
   "execution_count": 113,
   "metadata": {
    "execution": {
     "iopub.execute_input": "2020-09-18T04:18:54.980936Z",
     "iopub.status.busy": "2020-09-18T04:18:54.980936Z",
     "iopub.status.idle": "2020-09-18T04:18:54.991907Z",
     "shell.execute_reply": "2020-09-18T04:18:54.991907Z",
     "shell.execute_reply.started": "2020-09-18T04:18:54.980936Z"
    }
   },
   "outputs": [
    {
     "data": {
      "text/plain": [
       "0          5.0\n",
       "1         18.0\n",
       "2         12.0\n",
       "3         11.0\n",
       "4          4.0\n",
       "          ... \n",
       "245625    16.0\n",
       "245626     3.0\n",
       "245627    12.0\n",
       "245628    20.0\n",
       "245629    15.0\n",
       "Length: 245630, dtype: float64"
      ]
     },
     "execution_count": 113,
     "metadata": {},
     "output_type": "execute_result"
    }
   ],
   "source": [
    "Time.dt.seconds/60"
   ]
  },
  {
   "cell_type": "code",
   "execution_count": 55,
   "metadata": {
    "execution": {
     "iopub.execute_input": "2020-09-18T03:19:12.304419Z",
     "iopub.status.busy": "2020-09-18T03:19:12.303422Z",
     "iopub.status.idle": "2020-09-18T03:19:12.312398Z",
     "shell.execute_reply": "2020-09-18T03:19:12.311403Z",
     "shell.execute_reply.started": "2020-09-18T03:19:12.304419Z"
    }
   },
   "outputs": [],
   "source": [
    "Time_hours=Time.dt.seconds/3600 "
   ]
  },
  {
   "cell_type": "code",
   "execution_count": 114,
   "metadata": {
    "execution": {
     "iopub.execute_input": "2020-09-18T04:19:52.706439Z",
     "iopub.status.busy": "2020-09-18T04:19:52.705442Z",
     "iopub.status.idle": "2020-09-18T04:19:52.712931Z",
     "shell.execute_reply": "2020-09-18T04:19:52.711950Z",
     "shell.execute_reply.started": "2020-09-18T04:19:52.706439Z"
    }
   },
   "outputs": [
    {
     "data": {
      "text/plain": [
       "0         0.083333\n",
       "1         0.300000\n",
       "2         0.200000\n",
       "3         0.183333\n",
       "4         0.066667\n",
       "            ...   \n",
       "245625    0.266667\n",
       "245626    0.050000\n",
       "245627    0.200000\n",
       "245628    0.333333\n",
       "245629    0.250000\n",
       "Length: 245630, dtype: float64"
      ]
     },
     "execution_count": 114,
     "metadata": {},
     "output_type": "execute_result"
    }
   ],
   "source": [
    "Time_hours"
   ]
  },
  {
   "cell_type": "code",
   "execution_count": 56,
   "metadata": {
    "execution": {
     "iopub.execute_input": "2020-09-18T03:19:23.793186Z",
     "iopub.status.busy": "2020-09-18T03:19:23.792189Z",
     "iopub.status.idle": "2020-09-18T03:19:23.802193Z",
     "shell.execute_reply": "2020-09-18T03:19:23.802193Z",
     "shell.execute_reply.started": "2020-09-18T03:19:23.793186Z"
    }
   },
   "outputs": [],
   "source": [
    "taxiorder20190606['SPEED_MEAN']=(taxiorder20190606['PASS_MILE']+taxiorder20190606['NOPASS_MILE'])/Time_hours"
   ]
  },
  {
   "cell_type": "code",
   "execution_count": 146,
   "metadata": {
    "execution": {
     "iopub.execute_input": "2020-09-18T04:37:39.372918Z",
     "iopub.status.busy": "2020-09-18T04:37:39.371921Z",
     "iopub.status.idle": "2020-09-18T04:37:39.378902Z",
     "shell.execute_reply": "2020-09-18T04:37:39.377907Z",
     "shell.execute_reply.started": "2020-09-18T04:37:39.372918Z"
    }
   },
   "outputs": [],
   "source": [
    "taxiorder20190606['SPEED_MEAN']=round(taxiorder20190606['SPEED_MEAN'],3)"
   ]
  },
  {
   "cell_type": "code",
   "execution_count": 147,
   "metadata": {
    "execution": {
     "iopub.execute_input": "2020-09-18T04:37:41.648351Z",
     "iopub.status.busy": "2020-09-18T04:37:41.647324Z",
     "iopub.status.idle": "2020-09-18T04:37:41.664278Z",
     "shell.execute_reply": "2020-09-18T04:37:41.664278Z",
     "shell.execute_reply.started": "2020-09-18T04:37:41.648351Z"
    }
   },
   "outputs": [
    {
     "data": {
      "text/html": [
       "<div>\n",
       "<style scoped>\n",
       "    .dataframe tbody tr th:only-of-type {\n",
       "        vertical-align: middle;\n",
       "    }\n",
       "\n",
       "    .dataframe tbody tr th {\n",
       "        vertical-align: top;\n",
       "    }\n",
       "\n",
       "    .dataframe thead th {\n",
       "        text-align: right;\n",
       "    }\n",
       "</style>\n",
       "<table border=\"1\" class=\"dataframe\">\n",
       "  <thead>\n",
       "    <tr style=\"text-align: right;\">\n",
       "      <th></th>\n",
       "      <th>CAR_NO</th>\n",
       "      <th>GETON_DATE</th>\n",
       "      <th>GETON_LONGITUDE</th>\n",
       "      <th>GETON_LATITUDE</th>\n",
       "      <th>GETOFF_DATE</th>\n",
       "      <th>GETOFF_LONGITUDE</th>\n",
       "      <th>GETOFF_LATITUDE</th>\n",
       "      <th>PASS_MILE</th>\n",
       "      <th>NOPASS_MILE</th>\n",
       "      <th>WAITING_TIME</th>\n",
       "      <th>SPEED_MEAN</th>\n",
       "    </tr>\n",
       "  </thead>\n",
       "  <tbody>\n",
       "    <tr>\n",
       "      <td>0</td>\n",
       "      <td>91856bf24bf21e5a65fc254ca559ea5d</td>\n",
       "      <td>2019-06-06 01:17:00</td>\n",
       "      <td>0.000000</td>\n",
       "      <td>0.000000</td>\n",
       "      <td>2019-06-06 01:22:00</td>\n",
       "      <td>0.000000</td>\n",
       "      <td>0.000000</td>\n",
       "      <td>1.7</td>\n",
       "      <td>1.4</td>\n",
       "      <td>60</td>\n",
       "      <td>37.200001</td>\n",
       "    </tr>\n",
       "    <tr>\n",
       "      <td>1</td>\n",
       "      <td>91856bf24bf21e5a65fc254ca559ea5d</td>\n",
       "      <td>2019-06-06 00:55:00</td>\n",
       "      <td>118.154910</td>\n",
       "      <td>24.478845</td>\n",
       "      <td>2019-06-06 01:13:00</td>\n",
       "      <td>0.000000</td>\n",
       "      <td>0.000000</td>\n",
       "      <td>9.4</td>\n",
       "      <td>3.8</td>\n",
       "      <td>240</td>\n",
       "      <td>44.000000</td>\n",
       "    </tr>\n",
       "    <tr>\n",
       "      <td>2</td>\n",
       "      <td>91856bf24bf21e5a65fc254ca559ea5d</td>\n",
       "      <td>2019-06-06 00:35:00</td>\n",
       "      <td>118.119772</td>\n",
       "      <td>24.481605</td>\n",
       "      <td>2019-06-06 00:47:00</td>\n",
       "      <td>118.176425</td>\n",
       "      <td>24.463628</td>\n",
       "      <td>7.7</td>\n",
       "      <td>2.8</td>\n",
       "      <td>120</td>\n",
       "      <td>52.500000</td>\n",
       "    </tr>\n",
       "    <tr>\n",
       "      <td>3</td>\n",
       "      <td>91856bf24bf21e5a65fc254ca559ea5d</td>\n",
       "      <td>2019-06-06 03:41:00</td>\n",
       "      <td>0.000000</td>\n",
       "      <td>0.000000</td>\n",
       "      <td>2019-06-06 03:52:00</td>\n",
       "      <td>118.071350</td>\n",
       "      <td>24.455893</td>\n",
       "      <td>8.1</td>\n",
       "      <td>0.0</td>\n",
       "      <td>60</td>\n",
       "      <td>44.181999</td>\n",
       "    </tr>\n",
       "    <tr>\n",
       "      <td>4</td>\n",
       "      <td>91856bf24bf21e5a65fc254ca559ea5d</td>\n",
       "      <td>2019-06-06 05:28:00</td>\n",
       "      <td>118.183114</td>\n",
       "      <td>24.482270</td>\n",
       "      <td>2019-06-06 05:32:00</td>\n",
       "      <td>118.175863</td>\n",
       "      <td>24.476022</td>\n",
       "      <td>1.2</td>\n",
       "      <td>2.5</td>\n",
       "      <td>60</td>\n",
       "      <td>55.500000</td>\n",
       "    </tr>\n",
       "    <tr>\n",
       "      <td>...</td>\n",
       "      <td>...</td>\n",
       "      <td>...</td>\n",
       "      <td>...</td>\n",
       "      <td>...</td>\n",
       "      <td>...</td>\n",
       "      <td>...</td>\n",
       "      <td>...</td>\n",
       "      <td>...</td>\n",
       "      <td>...</td>\n",
       "      <td>...</td>\n",
       "      <td>...</td>\n",
       "    </tr>\n",
       "    <tr>\n",
       "      <td>245625</td>\n",
       "      <td>8f67c648ac2c033647f7bea84f6d1fa6</td>\n",
       "      <td>2019-06-06 22:04:00</td>\n",
       "      <td>118.101962</td>\n",
       "      <td>24.475628</td>\n",
       "      <td>2019-06-06 22:20:00</td>\n",
       "      <td>118.105955</td>\n",
       "      <td>24.496095</td>\n",
       "      <td>3.9</td>\n",
       "      <td>3.3</td>\n",
       "      <td>420</td>\n",
       "      <td>27.000000</td>\n",
       "    </tr>\n",
       "    <tr>\n",
       "      <td>245626</td>\n",
       "      <td>8f67c648ac2c033647f7bea84f6d1fa6</td>\n",
       "      <td>2019-06-06 22:34:00</td>\n",
       "      <td>118.083137</td>\n",
       "      <td>24.461620</td>\n",
       "      <td>2019-06-06 22:37:00</td>\n",
       "      <td>118.080250</td>\n",
       "      <td>24.454005</td>\n",
       "      <td>1.1</td>\n",
       "      <td>0.4</td>\n",
       "      <td>0</td>\n",
       "      <td>30.000000</td>\n",
       "    </tr>\n",
       "    <tr>\n",
       "      <td>245627</td>\n",
       "      <td>8f67c648ac2c033647f7bea84f6d1fa6</td>\n",
       "      <td>2019-06-06 11:22:00</td>\n",
       "      <td>118.082398</td>\n",
       "      <td>24.455462</td>\n",
       "      <td>2019-06-06 11:34:00</td>\n",
       "      <td>118.097223</td>\n",
       "      <td>24.487562</td>\n",
       "      <td>4.7</td>\n",
       "      <td>0.0</td>\n",
       "      <td>240</td>\n",
       "      <td>23.500000</td>\n",
       "    </tr>\n",
       "    <tr>\n",
       "      <td>245628</td>\n",
       "      <td>8f67c648ac2c033647f7bea84f6d1fa6</td>\n",
       "      <td>2019-06-06 14:00:00</td>\n",
       "      <td>118.159608</td>\n",
       "      <td>24.531183</td>\n",
       "      <td>2019-06-06 14:20:00</td>\n",
       "      <td>118.110558</td>\n",
       "      <td>24.492588</td>\n",
       "      <td>8.5</td>\n",
       "      <td>1.0</td>\n",
       "      <td>300</td>\n",
       "      <td>28.500000</td>\n",
       "    </tr>\n",
       "    <tr>\n",
       "      <td>245629</td>\n",
       "      <td>8f67c648ac2c033647f7bea84f6d1fa6</td>\n",
       "      <td>2019-06-06 14:26:00</td>\n",
       "      <td>118.112437</td>\n",
       "      <td>24.497123</td>\n",
       "      <td>2019-06-06 14:41:00</td>\n",
       "      <td>118.148902</td>\n",
       "      <td>24.521187</td>\n",
       "      <td>6.7</td>\n",
       "      <td>1.1</td>\n",
       "      <td>240</td>\n",
       "      <td>31.200001</td>\n",
       "    </tr>\n",
       "  </tbody>\n",
       "</table>\n",
       "<p>245630 rows × 11 columns</p>\n",
       "</div>"
      ],
      "text/plain": [
       "                                  CAR_NO          GETON_DATE  GETON_LONGITUDE  \\\n",
       "0       91856bf24bf21e5a65fc254ca559ea5d 2019-06-06 01:17:00         0.000000   \n",
       "1       91856bf24bf21e5a65fc254ca559ea5d 2019-06-06 00:55:00       118.154910   \n",
       "2       91856bf24bf21e5a65fc254ca559ea5d 2019-06-06 00:35:00       118.119772   \n",
       "3       91856bf24bf21e5a65fc254ca559ea5d 2019-06-06 03:41:00         0.000000   \n",
       "4       91856bf24bf21e5a65fc254ca559ea5d 2019-06-06 05:28:00       118.183114   \n",
       "...                                  ...                 ...              ...   \n",
       "245625  8f67c648ac2c033647f7bea84f6d1fa6 2019-06-06 22:04:00       118.101962   \n",
       "245626  8f67c648ac2c033647f7bea84f6d1fa6 2019-06-06 22:34:00       118.083137   \n",
       "245627  8f67c648ac2c033647f7bea84f6d1fa6 2019-06-06 11:22:00       118.082398   \n",
       "245628  8f67c648ac2c033647f7bea84f6d1fa6 2019-06-06 14:00:00       118.159608   \n",
       "245629  8f67c648ac2c033647f7bea84f6d1fa6 2019-06-06 14:26:00       118.112437   \n",
       "\n",
       "        GETON_LATITUDE         GETOFF_DATE  GETOFF_LONGITUDE  GETOFF_LATITUDE  \\\n",
       "0             0.000000 2019-06-06 01:22:00          0.000000         0.000000   \n",
       "1            24.478845 2019-06-06 01:13:00          0.000000         0.000000   \n",
       "2            24.481605 2019-06-06 00:47:00        118.176425        24.463628   \n",
       "3             0.000000 2019-06-06 03:52:00        118.071350        24.455893   \n",
       "4            24.482270 2019-06-06 05:32:00        118.175863        24.476022   \n",
       "...                ...                 ...               ...              ...   \n",
       "245625       24.475628 2019-06-06 22:20:00        118.105955        24.496095   \n",
       "245626       24.461620 2019-06-06 22:37:00        118.080250        24.454005   \n",
       "245627       24.455462 2019-06-06 11:34:00        118.097223        24.487562   \n",
       "245628       24.531183 2019-06-06 14:20:00        118.110558        24.492588   \n",
       "245629       24.497123 2019-06-06 14:41:00        118.148902        24.521187   \n",
       "\n",
       "        PASS_MILE  NOPASS_MILE  WAITING_TIME  SPEED_MEAN  \n",
       "0             1.7          1.4            60   37.200001  \n",
       "1             9.4          3.8           240   44.000000  \n",
       "2             7.7          2.8           120   52.500000  \n",
       "3             8.1          0.0            60   44.181999  \n",
       "4             1.2          2.5            60   55.500000  \n",
       "...           ...          ...           ...         ...  \n",
       "245625        3.9          3.3           420   27.000000  \n",
       "245626        1.1          0.4             0   30.000000  \n",
       "245627        4.7          0.0           240   23.500000  \n",
       "245628        8.5          1.0           300   28.500000  \n",
       "245629        6.7          1.1           240   31.200001  \n",
       "\n",
       "[245630 rows x 11 columns]"
      ]
     },
     "execution_count": 147,
     "metadata": {},
     "output_type": "execute_result"
    }
   ],
   "source": [
    "taxiorder20190606"
   ]
  },
  {
   "cell_type": "code",
   "execution_count": 88,
   "metadata": {
    "execution": {
     "iopub.execute_input": "2020-09-18T03:57:41.599375Z",
     "iopub.status.busy": "2020-09-18T03:57:41.598377Z",
     "iopub.status.idle": "2020-09-18T03:57:41.623312Z",
     "shell.execute_reply": "2020-09-18T03:57:41.623312Z",
     "shell.execute_reply.started": "2020-09-18T03:57:41.599375Z"
    }
   },
   "outputs": [
    {
     "name": "stdout",
     "output_type": "stream",
     "text": [
      "<class 'pandas.core.frame.DataFrame'>\n",
      "RangeIndex: 245630 entries, 0 to 245629\n",
      "Data columns (total 11 columns):\n",
      "CAR_NO              245630 non-null object\n",
      "GETON_DATE          245630 non-null datetime64[ns]\n",
      "GETON_LONGITUDE     245630 non-null float64\n",
      "GETON_LATITUDE      245630 non-null float64\n",
      "GETOFF_DATE         245630 non-null datetime64[ns]\n",
      "GETOFF_LONGITUDE    245630 non-null float64\n",
      "GETOFF_LATITUDE     245630 non-null float64\n",
      "PASS_MILE           245630 non-null float64\n",
      "NOPASS_MILE         245630 non-null float64\n",
      "WAITING_TIME        245630 non-null int64\n",
      "SPEED_MEAN          245620 non-null float32\n",
      "dtypes: datetime64[ns](2), float32(1), float64(6), int64(1), object(1)\n",
      "memory usage: 19.7+ MB\n"
     ]
    }
   ],
   "source": [
    "taxiorder20190606.info()"
   ]
  },
  {
   "cell_type": "code",
   "execution_count": 92,
   "metadata": {
    "execution": {
     "iopub.execute_input": "2020-09-18T03:59:30.858526Z",
     "iopub.status.busy": "2020-09-18T03:59:30.858526Z",
     "iopub.status.idle": "2020-09-18T03:59:30.864512Z",
     "shell.execute_reply": "2020-09-18T03:59:30.864512Z",
     "shell.execute_reply.started": "2020-09-18T03:59:30.858526Z"
    }
   },
   "outputs": [],
   "source": [
    "taxiorder20190606['SPEED_MEAN']=taxiorder20190606['SPEED_MEAN'].astype('float32')"
   ]
  },
  {
   "cell_type": "code",
   "execution_count": 145,
   "metadata": {
    "execution": {
     "iopub.execute_input": "2020-09-18T04:37:08.591544Z",
     "iopub.status.busy": "2020-09-18T04:37:08.590546Z",
     "iopub.status.idle": "2020-09-18T04:37:08.597529Z",
     "shell.execute_reply": "2020-09-18T04:37:08.596531Z",
     "shell.execute_reply.started": "2020-09-18T04:37:08.591544Z"
    }
   },
   "outputs": [
    {
     "data": {
      "text/plain": [
       "66.08035278320312"
      ]
     },
     "execution_count": 145,
     "metadata": {},
     "output_type": "execute_result"
    }
   ],
   "source": [
    "taxiorder20190606['SPEED_MEAN'].loc[:1000].mean()"
   ]
  },
  {
   "cell_type": "code",
   "execution_count": 97,
   "metadata": {
    "execution": {
     "iopub.execute_input": "2020-09-18T04:05:03.200705Z",
     "iopub.status.busy": "2020-09-18T04:05:03.199708Z",
     "iopub.status.idle": "2020-09-18T04:05:03.205721Z",
     "shell.execute_reply": "2020-09-18T04:05:03.205721Z",
     "shell.execute_reply.started": "2020-09-18T04:05:03.200705Z"
    }
   },
   "outputs": [
    {
     "data": {
      "text/plain": [
       "array([37.2, 44. , 52.5, ..., 23.5, 28.5, 31.2], dtype=float32)"
      ]
     },
     "execution_count": 97,
     "metadata": {},
     "output_type": "execute_result"
    }
   ],
   "source": [
    "taxiorder20190606['SPEED_MEAN'].values"
   ]
  },
  {
   "cell_type": "code",
   "execution_count": 124,
   "metadata": {
    "execution": {
     "iopub.execute_input": "2020-09-18T04:25:01.828548Z",
     "iopub.status.busy": "2020-09-18T04:25:01.827551Z",
     "iopub.status.idle": "2020-09-18T04:25:01.908367Z",
     "shell.execute_reply": "2020-09-18T04:25:01.908367Z",
     "shell.execute_reply.started": "2020-09-18T04:25:01.828548Z"
    }
   },
   "outputs": [],
   "source": [
    "taxiorder20200624['GETON_DATE']=pd.to_datetime(taxiorder20200624['GETON_DATE'])\n",
    "taxiorder20200624['GETOFF_DATE']=pd.to_datetime(taxiorder20200624['GETOFF_DATE'])"
   ]
  },
  {
   "cell_type": "code",
   "execution_count": 125,
   "metadata": {
    "execution": {
     "iopub.execute_input": "2020-09-18T04:25:12.331058Z",
     "iopub.status.busy": "2020-09-18T04:25:12.331058Z",
     "iopub.status.idle": "2020-09-18T04:25:12.349010Z",
     "shell.execute_reply": "2020-09-18T04:25:12.349010Z",
     "shell.execute_reply.started": "2020-09-18T04:25:12.331058Z"
    }
   },
   "outputs": [
    {
     "data": {
      "text/html": [
       "<div>\n",
       "<style scoped>\n",
       "    .dataframe tbody tr th:only-of-type {\n",
       "        vertical-align: middle;\n",
       "    }\n",
       "\n",
       "    .dataframe tbody tr th {\n",
       "        vertical-align: top;\n",
       "    }\n",
       "\n",
       "    .dataframe thead th {\n",
       "        text-align: right;\n",
       "    }\n",
       "</style>\n",
       "<table border=\"1\" class=\"dataframe\">\n",
       "  <thead>\n",
       "    <tr style=\"text-align: right;\">\n",
       "      <th></th>\n",
       "      <th>CAR_NO</th>\n",
       "      <th>GETON_DATE</th>\n",
       "      <th>GETON_LONGITUDE</th>\n",
       "      <th>GETON_LATITUDE</th>\n",
       "      <th>GETOFF_DATE</th>\n",
       "      <th>GETOFF_LONGITUDE</th>\n",
       "      <th>GETOFF_LATITUDE</th>\n",
       "      <th>PASS_MILE</th>\n",
       "      <th>NOPASS_MILE</th>\n",
       "      <th>WAITING_TIME</th>\n",
       "    </tr>\n",
       "  </thead>\n",
       "  <tbody>\n",
       "    <tr>\n",
       "      <td>0</td>\n",
       "      <td>8027f4a721c705d7723bec901dc0962d</td>\n",
       "      <td>2020-06-24 08:34:00</td>\n",
       "      <td>0.000000</td>\n",
       "      <td>0.000000</td>\n",
       "      <td>2020-06-24 08:58:00</td>\n",
       "      <td>0.000000</td>\n",
       "      <td>0.000000</td>\n",
       "      <td>8.6</td>\n",
       "      <td>0.0</td>\n",
       "      <td>528.0</td>\n",
       "    </tr>\n",
       "    <tr>\n",
       "      <td>1</td>\n",
       "      <td>a71c64a5992ce1dbc58d25268c91631d</td>\n",
       "      <td>2020-06-24 09:48:00</td>\n",
       "      <td>0.000000</td>\n",
       "      <td>0.000000</td>\n",
       "      <td>2020-06-24 10:06:00</td>\n",
       "      <td>0.000000</td>\n",
       "      <td>0.000000</td>\n",
       "      <td>12.7</td>\n",
       "      <td>12.0</td>\n",
       "      <td>120.0</td>\n",
       "    </tr>\n",
       "    <tr>\n",
       "      <td>2</td>\n",
       "      <td>aa805c58299897f971c169b5b0513741</td>\n",
       "      <td>2020-06-24 00:57:00</td>\n",
       "      <td>0.000000</td>\n",
       "      <td>0.000000</td>\n",
       "      <td>2020-06-24 01:05:00</td>\n",
       "      <td>0.000000</td>\n",
       "      <td>0.000000</td>\n",
       "      <td>3.7</td>\n",
       "      <td>15.4</td>\n",
       "      <td>120.0</td>\n",
       "    </tr>\n",
       "    <tr>\n",
       "      <td>3</td>\n",
       "      <td>ed953b24a5b80dd72f11e1f1b1a9bed2</td>\n",
       "      <td>2020-06-24 22:11:00</td>\n",
       "      <td>118.157833</td>\n",
       "      <td>24.544792</td>\n",
       "      <td>2020-06-24 22:31:00</td>\n",
       "      <td>118.098937</td>\n",
       "      <td>24.469602</td>\n",
       "      <td>13.7</td>\n",
       "      <td>1.6</td>\n",
       "      <td>180.0</td>\n",
       "    </tr>\n",
       "    <tr>\n",
       "      <td>4</td>\n",
       "      <td>8027f4a721c705d7723bec901dc0962d</td>\n",
       "      <td>2020-06-24 16:48:00</td>\n",
       "      <td>0.000000</td>\n",
       "      <td>0.000000</td>\n",
       "      <td>2020-06-24 16:51:00</td>\n",
       "      <td>0.000000</td>\n",
       "      <td>0.000000</td>\n",
       "      <td>1.5</td>\n",
       "      <td>3.4</td>\n",
       "      <td>85.0</td>\n",
       "    </tr>\n",
       "    <tr>\n",
       "      <td>...</td>\n",
       "      <td>...</td>\n",
       "      <td>...</td>\n",
       "      <td>...</td>\n",
       "      <td>...</td>\n",
       "      <td>...</td>\n",
       "      <td>...</td>\n",
       "      <td>...</td>\n",
       "      <td>...</td>\n",
       "      <td>...</td>\n",
       "      <td>...</td>\n",
       "    </tr>\n",
       "    <tr>\n",
       "      <td>216004</td>\n",
       "      <td>9b4802bcb6344a5772814557428aee85</td>\n",
       "      <td>2020-06-24 14:00:00</td>\n",
       "      <td>118.150975</td>\n",
       "      <td>24.526090</td>\n",
       "      <td>2020-06-24 14:19:00</td>\n",
       "      <td>118.116430</td>\n",
       "      <td>24.483363</td>\n",
       "      <td>9.0</td>\n",
       "      <td>0.5</td>\n",
       "      <td>307.0</td>\n",
       "    </tr>\n",
       "    <tr>\n",
       "      <td>216005</td>\n",
       "      <td>decdf4529456abf76405ce5a4384ada4</td>\n",
       "      <td>2020-06-24 14:07:00</td>\n",
       "      <td>118.080962</td>\n",
       "      <td>24.458462</td>\n",
       "      <td>2020-06-24 14:17:00</td>\n",
       "      <td>118.088042</td>\n",
       "      <td>24.441850</td>\n",
       "      <td>2.8</td>\n",
       "      <td>1.5</td>\n",
       "      <td>240.0</td>\n",
       "    </tr>\n",
       "    <tr>\n",
       "      <td>216006</td>\n",
       "      <td>4ca94ce7f7eb6e7bdd929c70a3cf40a0</td>\n",
       "      <td>2020-06-24 14:03:00</td>\n",
       "      <td>118.170863</td>\n",
       "      <td>24.507551</td>\n",
       "      <td>2020-06-24 14:18:00</td>\n",
       "      <td>118.107251</td>\n",
       "      <td>24.534071</td>\n",
       "      <td>10.5</td>\n",
       "      <td>4.6</td>\n",
       "      <td>91.0</td>\n",
       "    </tr>\n",
       "    <tr>\n",
       "      <td>216007</td>\n",
       "      <td>5b8cc2c932ae5ec06bb3ef88b8c5a68c</td>\n",
       "      <td>2020-06-24 14:02:00</td>\n",
       "      <td>118.141986</td>\n",
       "      <td>24.496403</td>\n",
       "      <td>2020-06-24 14:18:00</td>\n",
       "      <td>118.082091</td>\n",
       "      <td>24.443128</td>\n",
       "      <td>11.3</td>\n",
       "      <td>10.1</td>\n",
       "      <td>103.0</td>\n",
       "    </tr>\n",
       "    <tr>\n",
       "      <td>216008</td>\n",
       "      <td>b29f1bd814c0807020c1800664c99c0e</td>\n",
       "      <td>2020-06-24 14:14:00</td>\n",
       "      <td>118.155020</td>\n",
       "      <td>24.506101</td>\n",
       "      <td>2020-06-24 14:17:00</td>\n",
       "      <td>118.157758</td>\n",
       "      <td>24.517908</td>\n",
       "      <td>1.5</td>\n",
       "      <td>14.9</td>\n",
       "      <td>47.0</td>\n",
       "    </tr>\n",
       "  </tbody>\n",
       "</table>\n",
       "<p>216009 rows × 10 columns</p>\n",
       "</div>"
      ],
      "text/plain": [
       "                                  CAR_NO          GETON_DATE  GETON_LONGITUDE  \\\n",
       "0       8027f4a721c705d7723bec901dc0962d 2020-06-24 08:34:00         0.000000   \n",
       "1       a71c64a5992ce1dbc58d25268c91631d 2020-06-24 09:48:00         0.000000   \n",
       "2       aa805c58299897f971c169b5b0513741 2020-06-24 00:57:00         0.000000   \n",
       "3       ed953b24a5b80dd72f11e1f1b1a9bed2 2020-06-24 22:11:00       118.157833   \n",
       "4       8027f4a721c705d7723bec901dc0962d 2020-06-24 16:48:00         0.000000   \n",
       "...                                  ...                 ...              ...   \n",
       "216004  9b4802bcb6344a5772814557428aee85 2020-06-24 14:00:00       118.150975   \n",
       "216005  decdf4529456abf76405ce5a4384ada4 2020-06-24 14:07:00       118.080962   \n",
       "216006  4ca94ce7f7eb6e7bdd929c70a3cf40a0 2020-06-24 14:03:00       118.170863   \n",
       "216007  5b8cc2c932ae5ec06bb3ef88b8c5a68c 2020-06-24 14:02:00       118.141986   \n",
       "216008  b29f1bd814c0807020c1800664c99c0e 2020-06-24 14:14:00       118.155020   \n",
       "\n",
       "        GETON_LATITUDE         GETOFF_DATE  GETOFF_LONGITUDE  GETOFF_LATITUDE  \\\n",
       "0             0.000000 2020-06-24 08:58:00          0.000000         0.000000   \n",
       "1             0.000000 2020-06-24 10:06:00          0.000000         0.000000   \n",
       "2             0.000000 2020-06-24 01:05:00          0.000000         0.000000   \n",
       "3            24.544792 2020-06-24 22:31:00        118.098937        24.469602   \n",
       "4             0.000000 2020-06-24 16:51:00          0.000000         0.000000   \n",
       "...                ...                 ...               ...              ...   \n",
       "216004       24.526090 2020-06-24 14:19:00        118.116430        24.483363   \n",
       "216005       24.458462 2020-06-24 14:17:00        118.088042        24.441850   \n",
       "216006       24.507551 2020-06-24 14:18:00        118.107251        24.534071   \n",
       "216007       24.496403 2020-06-24 14:18:00        118.082091        24.443128   \n",
       "216008       24.506101 2020-06-24 14:17:00        118.157758        24.517908   \n",
       "\n",
       "        PASS_MILE  NOPASS_MILE  WAITING_TIME  \n",
       "0             8.6          0.0         528.0  \n",
       "1            12.7         12.0         120.0  \n",
       "2             3.7         15.4         120.0  \n",
       "3            13.7          1.6         180.0  \n",
       "4             1.5          3.4          85.0  \n",
       "...           ...          ...           ...  \n",
       "216004        9.0          0.5         307.0  \n",
       "216005        2.8          1.5         240.0  \n",
       "216006       10.5          4.6          91.0  \n",
       "216007       11.3         10.1         103.0  \n",
       "216008        1.5         14.9          47.0  \n",
       "\n",
       "[216009 rows x 10 columns]"
      ]
     },
     "execution_count": 125,
     "metadata": {},
     "output_type": "execute_result"
    }
   ],
   "source": [
    "taxiorder20200624"
   ]
  },
  {
   "cell_type": "code",
   "execution_count": 126,
   "metadata": {
    "execution": {
     "iopub.execute_input": "2020-09-18T04:25:20.221217Z",
     "iopub.status.busy": "2020-09-18T04:25:20.220221Z",
     "iopub.status.idle": "2020-09-18T04:25:20.235179Z",
     "shell.execute_reply": "2020-09-18T04:25:20.235179Z",
     "shell.execute_reply.started": "2020-09-18T04:25:20.221217Z"
    }
   },
   "outputs": [],
   "source": [
    "Time_hours1=(taxiorder20200624['GETOFF_DATE']-taxiorder20200624['GETON_DATE']).dt.seconds/3600 "
   ]
  },
  {
   "cell_type": "code",
   "execution_count": 127,
   "metadata": {
    "execution": {
     "iopub.execute_input": "2020-09-18T04:25:22.836439Z",
     "iopub.status.busy": "2020-09-18T04:25:22.836439Z",
     "iopub.status.idle": "2020-09-18T04:25:22.842424Z",
     "shell.execute_reply": "2020-09-18T04:25:22.842424Z",
     "shell.execute_reply.started": "2020-09-18T04:25:22.836439Z"
    }
   },
   "outputs": [
    {
     "data": {
      "text/plain": [
       "0         0.400000\n",
       "1         0.300000\n",
       "2         0.133333\n",
       "3         0.333333\n",
       "4         0.050000\n",
       "            ...   \n",
       "216004    0.316667\n",
       "216005    0.166667\n",
       "216006    0.250000\n",
       "216007    0.266667\n",
       "216008    0.050000\n",
       "Length: 216009, dtype: float64"
      ]
     },
     "execution_count": 127,
     "metadata": {},
     "output_type": "execute_result"
    }
   ],
   "source": [
    "Time_hours1"
   ]
  },
  {
   "cell_type": "code",
   "execution_count": 128,
   "metadata": {
    "execution": {
     "iopub.execute_input": "2020-09-18T04:25:46.504455Z",
     "iopub.status.busy": "2020-09-18T04:25:46.504455Z",
     "iopub.status.idle": "2020-09-18T04:25:46.525398Z",
     "shell.execute_reply": "2020-09-18T04:25:46.525398Z",
     "shell.execute_reply.started": "2020-09-18T04:25:46.504455Z"
    }
   },
   "outputs": [],
   "source": [
    "taxiorder20200624['SPEED_MEAN']=(taxiorder20200624['PASS_MILE']+taxiorder20200624['NOPASS_MILE'])/Time_hours1"
   ]
  },
  {
   "cell_type": "code",
   "execution_count": 129,
   "metadata": {
    "execution": {
     "iopub.execute_input": "2020-09-18T04:25:48.968194Z",
     "iopub.status.busy": "2020-09-18T04:25:48.968194Z",
     "iopub.status.idle": "2020-09-18T04:25:48.987142Z",
     "shell.execute_reply": "2020-09-18T04:25:48.987142Z",
     "shell.execute_reply.started": "2020-09-18T04:25:48.968194Z"
    }
   },
   "outputs": [
    {
     "data": {
      "text/html": [
       "<div>\n",
       "<style scoped>\n",
       "    .dataframe tbody tr th:only-of-type {\n",
       "        vertical-align: middle;\n",
       "    }\n",
       "\n",
       "    .dataframe tbody tr th {\n",
       "        vertical-align: top;\n",
       "    }\n",
       "\n",
       "    .dataframe thead th {\n",
       "        text-align: right;\n",
       "    }\n",
       "</style>\n",
       "<table border=\"1\" class=\"dataframe\">\n",
       "  <thead>\n",
       "    <tr style=\"text-align: right;\">\n",
       "      <th></th>\n",
       "      <th>CAR_NO</th>\n",
       "      <th>GETON_DATE</th>\n",
       "      <th>GETON_LONGITUDE</th>\n",
       "      <th>GETON_LATITUDE</th>\n",
       "      <th>GETOFF_DATE</th>\n",
       "      <th>GETOFF_LONGITUDE</th>\n",
       "      <th>GETOFF_LATITUDE</th>\n",
       "      <th>PASS_MILE</th>\n",
       "      <th>NOPASS_MILE</th>\n",
       "      <th>WAITING_TIME</th>\n",
       "      <th>SPEED_MEAN</th>\n",
       "    </tr>\n",
       "  </thead>\n",
       "  <tbody>\n",
       "    <tr>\n",
       "      <td>0</td>\n",
       "      <td>8027f4a721c705d7723bec901dc0962d</td>\n",
       "      <td>2020-06-24 08:34:00</td>\n",
       "      <td>0.000000</td>\n",
       "      <td>0.000000</td>\n",
       "      <td>2020-06-24 08:58:00</td>\n",
       "      <td>0.000000</td>\n",
       "      <td>0.000000</td>\n",
       "      <td>8.6</td>\n",
       "      <td>0.0</td>\n",
       "      <td>528.0</td>\n",
       "      <td>21.500000</td>\n",
       "    </tr>\n",
       "    <tr>\n",
       "      <td>1</td>\n",
       "      <td>a71c64a5992ce1dbc58d25268c91631d</td>\n",
       "      <td>2020-06-24 09:48:00</td>\n",
       "      <td>0.000000</td>\n",
       "      <td>0.000000</td>\n",
       "      <td>2020-06-24 10:06:00</td>\n",
       "      <td>0.000000</td>\n",
       "      <td>0.000000</td>\n",
       "      <td>12.7</td>\n",
       "      <td>12.0</td>\n",
       "      <td>120.0</td>\n",
       "      <td>82.333333</td>\n",
       "    </tr>\n",
       "    <tr>\n",
       "      <td>2</td>\n",
       "      <td>aa805c58299897f971c169b5b0513741</td>\n",
       "      <td>2020-06-24 00:57:00</td>\n",
       "      <td>0.000000</td>\n",
       "      <td>0.000000</td>\n",
       "      <td>2020-06-24 01:05:00</td>\n",
       "      <td>0.000000</td>\n",
       "      <td>0.000000</td>\n",
       "      <td>3.7</td>\n",
       "      <td>15.4</td>\n",
       "      <td>120.0</td>\n",
       "      <td>143.250000</td>\n",
       "    </tr>\n",
       "    <tr>\n",
       "      <td>3</td>\n",
       "      <td>ed953b24a5b80dd72f11e1f1b1a9bed2</td>\n",
       "      <td>2020-06-24 22:11:00</td>\n",
       "      <td>118.157833</td>\n",
       "      <td>24.544792</td>\n",
       "      <td>2020-06-24 22:31:00</td>\n",
       "      <td>118.098937</td>\n",
       "      <td>24.469602</td>\n",
       "      <td>13.7</td>\n",
       "      <td>1.6</td>\n",
       "      <td>180.0</td>\n",
       "      <td>45.900000</td>\n",
       "    </tr>\n",
       "    <tr>\n",
       "      <td>4</td>\n",
       "      <td>8027f4a721c705d7723bec901dc0962d</td>\n",
       "      <td>2020-06-24 16:48:00</td>\n",
       "      <td>0.000000</td>\n",
       "      <td>0.000000</td>\n",
       "      <td>2020-06-24 16:51:00</td>\n",
       "      <td>0.000000</td>\n",
       "      <td>0.000000</td>\n",
       "      <td>1.5</td>\n",
       "      <td>3.4</td>\n",
       "      <td>85.0</td>\n",
       "      <td>98.000000</td>\n",
       "    </tr>\n",
       "    <tr>\n",
       "      <td>...</td>\n",
       "      <td>...</td>\n",
       "      <td>...</td>\n",
       "      <td>...</td>\n",
       "      <td>...</td>\n",
       "      <td>...</td>\n",
       "      <td>...</td>\n",
       "      <td>...</td>\n",
       "      <td>...</td>\n",
       "      <td>...</td>\n",
       "      <td>...</td>\n",
       "      <td>...</td>\n",
       "    </tr>\n",
       "    <tr>\n",
       "      <td>216004</td>\n",
       "      <td>9b4802bcb6344a5772814557428aee85</td>\n",
       "      <td>2020-06-24 14:00:00</td>\n",
       "      <td>118.150975</td>\n",
       "      <td>24.526090</td>\n",
       "      <td>2020-06-24 14:19:00</td>\n",
       "      <td>118.116430</td>\n",
       "      <td>24.483363</td>\n",
       "      <td>9.0</td>\n",
       "      <td>0.5</td>\n",
       "      <td>307.0</td>\n",
       "      <td>30.000000</td>\n",
       "    </tr>\n",
       "    <tr>\n",
       "      <td>216005</td>\n",
       "      <td>decdf4529456abf76405ce5a4384ada4</td>\n",
       "      <td>2020-06-24 14:07:00</td>\n",
       "      <td>118.080962</td>\n",
       "      <td>24.458462</td>\n",
       "      <td>2020-06-24 14:17:00</td>\n",
       "      <td>118.088042</td>\n",
       "      <td>24.441850</td>\n",
       "      <td>2.8</td>\n",
       "      <td>1.5</td>\n",
       "      <td>240.0</td>\n",
       "      <td>25.800000</td>\n",
       "    </tr>\n",
       "    <tr>\n",
       "      <td>216006</td>\n",
       "      <td>4ca94ce7f7eb6e7bdd929c70a3cf40a0</td>\n",
       "      <td>2020-06-24 14:03:00</td>\n",
       "      <td>118.170863</td>\n",
       "      <td>24.507551</td>\n",
       "      <td>2020-06-24 14:18:00</td>\n",
       "      <td>118.107251</td>\n",
       "      <td>24.534071</td>\n",
       "      <td>10.5</td>\n",
       "      <td>4.6</td>\n",
       "      <td>91.0</td>\n",
       "      <td>60.400000</td>\n",
       "    </tr>\n",
       "    <tr>\n",
       "      <td>216007</td>\n",
       "      <td>5b8cc2c932ae5ec06bb3ef88b8c5a68c</td>\n",
       "      <td>2020-06-24 14:02:00</td>\n",
       "      <td>118.141986</td>\n",
       "      <td>24.496403</td>\n",
       "      <td>2020-06-24 14:18:00</td>\n",
       "      <td>118.082091</td>\n",
       "      <td>24.443128</td>\n",
       "      <td>11.3</td>\n",
       "      <td>10.1</td>\n",
       "      <td>103.0</td>\n",
       "      <td>80.250000</td>\n",
       "    </tr>\n",
       "    <tr>\n",
       "      <td>216008</td>\n",
       "      <td>b29f1bd814c0807020c1800664c99c0e</td>\n",
       "      <td>2020-06-24 14:14:00</td>\n",
       "      <td>118.155020</td>\n",
       "      <td>24.506101</td>\n",
       "      <td>2020-06-24 14:17:00</td>\n",
       "      <td>118.157758</td>\n",
       "      <td>24.517908</td>\n",
       "      <td>1.5</td>\n",
       "      <td>14.9</td>\n",
       "      <td>47.0</td>\n",
       "      <td>328.000000</td>\n",
       "    </tr>\n",
       "  </tbody>\n",
       "</table>\n",
       "<p>216009 rows × 11 columns</p>\n",
       "</div>"
      ],
      "text/plain": [
       "                                  CAR_NO          GETON_DATE  GETON_LONGITUDE  \\\n",
       "0       8027f4a721c705d7723bec901dc0962d 2020-06-24 08:34:00         0.000000   \n",
       "1       a71c64a5992ce1dbc58d25268c91631d 2020-06-24 09:48:00         0.000000   \n",
       "2       aa805c58299897f971c169b5b0513741 2020-06-24 00:57:00         0.000000   \n",
       "3       ed953b24a5b80dd72f11e1f1b1a9bed2 2020-06-24 22:11:00       118.157833   \n",
       "4       8027f4a721c705d7723bec901dc0962d 2020-06-24 16:48:00         0.000000   \n",
       "...                                  ...                 ...              ...   \n",
       "216004  9b4802bcb6344a5772814557428aee85 2020-06-24 14:00:00       118.150975   \n",
       "216005  decdf4529456abf76405ce5a4384ada4 2020-06-24 14:07:00       118.080962   \n",
       "216006  4ca94ce7f7eb6e7bdd929c70a3cf40a0 2020-06-24 14:03:00       118.170863   \n",
       "216007  5b8cc2c932ae5ec06bb3ef88b8c5a68c 2020-06-24 14:02:00       118.141986   \n",
       "216008  b29f1bd814c0807020c1800664c99c0e 2020-06-24 14:14:00       118.155020   \n",
       "\n",
       "        GETON_LATITUDE         GETOFF_DATE  GETOFF_LONGITUDE  GETOFF_LATITUDE  \\\n",
       "0             0.000000 2020-06-24 08:58:00          0.000000         0.000000   \n",
       "1             0.000000 2020-06-24 10:06:00          0.000000         0.000000   \n",
       "2             0.000000 2020-06-24 01:05:00          0.000000         0.000000   \n",
       "3            24.544792 2020-06-24 22:31:00        118.098937        24.469602   \n",
       "4             0.000000 2020-06-24 16:51:00          0.000000         0.000000   \n",
       "...                ...                 ...               ...              ...   \n",
       "216004       24.526090 2020-06-24 14:19:00        118.116430        24.483363   \n",
       "216005       24.458462 2020-06-24 14:17:00        118.088042        24.441850   \n",
       "216006       24.507551 2020-06-24 14:18:00        118.107251        24.534071   \n",
       "216007       24.496403 2020-06-24 14:18:00        118.082091        24.443128   \n",
       "216008       24.506101 2020-06-24 14:17:00        118.157758        24.517908   \n",
       "\n",
       "        PASS_MILE  NOPASS_MILE  WAITING_TIME  SPEED_MEAN  \n",
       "0             8.6          0.0         528.0   21.500000  \n",
       "1            12.7         12.0         120.0   82.333333  \n",
       "2             3.7         15.4         120.0  143.250000  \n",
       "3            13.7          1.6         180.0   45.900000  \n",
       "4             1.5          3.4          85.0   98.000000  \n",
       "...           ...          ...           ...         ...  \n",
       "216004        9.0          0.5         307.0   30.000000  \n",
       "216005        2.8          1.5         240.0   25.800000  \n",
       "216006       10.5          4.6          91.0   60.400000  \n",
       "216007       11.3         10.1         103.0   80.250000  \n",
       "216008        1.5         14.9          47.0  328.000000  \n",
       "\n",
       "[216009 rows x 11 columns]"
      ]
     },
     "execution_count": 129,
     "metadata": {},
     "output_type": "execute_result"
    }
   ],
   "source": [
    "taxiorder20200624"
   ]
  },
  {
   "cell_type": "code",
   "execution_count": 138,
   "metadata": {
    "execution": {
     "iopub.execute_input": "2020-09-18T04:28:26.855929Z",
     "iopub.status.busy": "2020-09-18T04:28:26.854937Z",
     "iopub.status.idle": "2020-09-18T04:28:26.897793Z",
     "shell.execute_reply": "2020-09-18T04:28:26.897793Z",
     "shell.execute_reply.started": "2020-09-18T04:28:26.855929Z"
    }
   },
   "outputs": [
    {
     "name": "stdout",
     "output_type": "stream",
     "text": [
      "<class 'pandas.core.frame.DataFrame'>\n",
      "RangeIndex: 216009 entries, 0 to 216008\n",
      "Data columns (total 11 columns):\n",
      "CAR_NO              216009 non-null object\n",
      "GETON_DATE          216009 non-null datetime64[ns]\n",
      "GETON_LONGITUDE     216009 non-null float64\n",
      "GETON_LATITUDE      216009 non-null float64\n",
      "GETOFF_DATE         216009 non-null datetime64[ns]\n",
      "GETOFF_LONGITUDE    216009 non-null float64\n",
      "GETOFF_LATITUDE     216009 non-null float64\n",
      "PASS_MILE           216009 non-null float64\n",
      "NOPASS_MILE         216009 non-null float64\n",
      "WAITING_TIME        216009 non-null float64\n",
      "SPEED_MEAN          216004 non-null float64\n",
      "dtypes: datetime64[ns](2), float64(8), object(1)\n",
      "memory usage: 18.1+ MB\n"
     ]
    }
   ],
   "source": [
    "taxiorder20200624.info()"
   ]
  },
  {
   "cell_type": "code",
   "execution_count": 141,
   "metadata": {
    "execution": {
     "iopub.execute_input": "2020-09-18T04:28:46.064064Z",
     "iopub.status.busy": "2020-09-18T04:28:46.064064Z",
     "iopub.status.idle": "2020-09-18T04:28:46.069051Z",
     "shell.execute_reply": "2020-09-18T04:28:46.069051Z",
     "shell.execute_reply.started": "2020-09-18T04:28:46.064064Z"
    }
   },
   "outputs": [
    {
     "data": {
      "text/plain": [
       "42.35151395286307"
      ]
     },
     "execution_count": 141,
     "metadata": {},
     "output_type": "execute_result"
    }
   ],
   "source": [
    "taxiorder20200624['SPEED_MEAN'].loc[:600].mean()"
   ]
  },
  {
   "cell_type": "code",
   "execution_count": 108,
   "metadata": {
    "execution": {
     "iopub.execute_input": "2020-09-18T04:09:13.579271Z",
     "iopub.status.busy": "2020-09-18T04:09:13.578274Z",
     "iopub.status.idle": "2020-09-18T04:09:13.584257Z",
     "shell.execute_reply": "2020-09-18T04:09:13.584257Z",
     "shell.execute_reply.started": "2020-09-18T04:09:13.579271Z"
    }
   },
   "outputs": [
    {
     "data": {
      "text/plain": [
       "dtype('float64')"
      ]
     },
     "execution_count": 108,
     "metadata": {},
     "output_type": "execute_result"
    }
   ],
   "source": [
    "taxiorder20200624['SPEED_MEAN'].dtype"
   ]
  },
  {
   "cell_type": "code",
   "execution_count": null,
   "metadata": {},
   "outputs": [],
   "source": [
    "【回答】下降"
   ]
  },
  {
   "cell_type": "markdown",
   "metadata": {},
   "source": [
    "2. 对比分析2019年端午假期前、端午假期中和假期后，巡游车日平均速度变化，变化趋势是？"
   ]
  },
  {
   "cell_type": "markdown",
   "metadata": {},
   "source": [
    "【分析】数据只有端午假期前和端午假期中的，同样求几天的日平均速度变化比较即可"
   ]
  },
  {
   "cell_type": "code",
   "execution_count": 157,
   "metadata": {
    "execution": {
     "iopub.execute_input": "2020-09-20T05:27:51.592104Z",
     "iopub.status.busy": "2020-09-20T05:27:51.592104Z",
     "iopub.status.idle": "2020-09-20T05:28:58.208502Z",
     "shell.execute_reply": "2020-09-20T05:28:58.206508Z",
     "shell.execute_reply.started": "2020-09-20T05:27:51.592104Z"
    }
   },
   "outputs": [],
   "source": [
    "df2 = taxigps2019_2 = pd.concat([\n",
    "    pd.read_csv(x,dtype = {\n",
    "                             'DRIVING_DIRECTION': np.uint16,\n",
    "                             'OPERATING_STATUS': np.uint8,\n",
    "                             'LONGITUDE': np.float32,\n",
    "                             'LATITUDE': np.float32,\n",
    "                             'GPS_SPEED': np.float32 \n",
    "                         }) for x in [\n",
    "        'taxiGps20190607.csv',\n",
    "        'taxiGps20190608.csv',\n",
    "        'taxiGps20190609.csv'\n",
    "    ]\n",
    "])"
   ]
  },
  {
   "cell_type": "code",
   "execution_count": 159,
   "metadata": {
    "execution": {
     "iopub.execute_input": "2020-09-20T05:29:35.166775Z",
     "iopub.status.busy": "2020-09-20T05:29:35.166775Z",
     "iopub.status.idle": "2020-09-20T05:29:38.128419Z",
     "shell.execute_reply": "2020-09-20T05:29:38.128419Z",
     "shell.execute_reply.started": "2020-09-20T05:29:35.166775Z"
    }
   },
   "outputs": [
    {
     "name": "stdout",
     "output_type": "stream",
     "text": [
      "<class 'pandas.core.frame.DataFrame'>\n",
      "Int64Index: 71083175 entries, 0 to 23586936\n",
      "Data columns (total 7 columns):\n",
      "OPERATING_STATUS     uint8\n",
      "GPS_SPEED            float32\n",
      "DRIVING_DIRECTION    uint16\n",
      "GPS_TIME             object\n",
      "LONGITUDE            float32\n",
      "LATITUDE             float32\n",
      "CARNO                object\n",
      "dtypes: float32(3), object(2), uint16(1), uint8(1)\n",
      "memory usage: 2.6+ GB\n"
     ]
    }
   ],
   "source": [
    "df2.info()"
   ]
  },
  {
   "cell_type": "code",
   "execution_count": 161,
   "metadata": {
    "execution": {
     "iopub.execute_input": "2020-09-20T05:33:43.530673Z",
     "iopub.status.busy": "2020-09-20T05:33:43.530673Z",
     "iopub.status.idle": "2020-09-20T05:33:43.648358Z",
     "shell.execute_reply": "2020-09-20T05:33:43.648358Z",
     "shell.execute_reply.started": "2020-09-20T05:33:43.530673Z"
    }
   },
   "outputs": [
    {
     "data": {
      "text/plain": [
       "15.585306167602539"
      ]
     },
     "execution_count": 161,
     "metadata": {},
     "output_type": "execute_result"
    }
   ],
   "source": [
    "df2['GPS_SPEED'].mean()"
   ]
  },
  {
   "cell_type": "code",
   "execution_count": 160,
   "metadata": {
    "execution": {
     "iopub.execute_input": "2020-09-20T05:31:17.611771Z",
     "iopub.status.busy": "2020-09-20T05:31:17.611771Z",
     "iopub.status.idle": "2020-09-20T05:33:08.989375Z",
     "shell.execute_reply": "2020-09-20T05:33:08.988377Z",
     "shell.execute_reply.started": "2020-09-20T05:31:17.611771Z"
    }
   },
   "outputs": [],
   "source": [
    "df1 = taxigps2019_1 = pd.concat([\n",
    "    pd.read_csv(x,dtype = {\n",
    "                             'DRIVING_DIRECTION': np.uint16,\n",
    "                             'OPERATING_STATUS': np.uint8,\n",
    "                             'LONGITUDE': np.float32,\n",
    "                             'LATITUDE': np.float32,\n",
    "                             'GPS_SPEED': np.float32 \n",
    "                         }) for x in [\n",
    "        'taxiGps20190531.csv',\n",
    "        'taxiGps20190601.csv',\n",
    "        'taxiGps20190602.csv',\n",
    "        'taxiGps20190603.csv',\n",
    "        'taxiGps20190604.csv',\n",
    "        'taxiGps20190605.csv',\n",
    "        'taxiGps20190606.csv'\n",
    "        \n",
    "    ]\n",
    "])"
   ]
  },
  {
   "cell_type": "code",
   "execution_count": 162,
   "metadata": {
    "execution": {
     "iopub.execute_input": "2020-09-20T05:33:46.275884Z",
     "iopub.status.busy": "2020-09-20T05:33:46.274886Z",
     "iopub.status.idle": "2020-09-20T05:33:51.059389Z",
     "shell.execute_reply": "2020-09-20T05:33:51.059389Z",
     "shell.execute_reply.started": "2020-09-20T05:33:46.275884Z"
    }
   },
   "outputs": [
    {
     "name": "stdout",
     "output_type": "stream",
     "text": [
      "<class 'pandas.core.frame.DataFrame'>\n",
      "Int64Index: 113771320 entries, 0 to 17090209\n",
      "Data columns (total 7 columns):\n",
      "OPERATING_STATUS     uint8\n",
      "GPS_SPEED            float32\n",
      "DRIVING_DIRECTION    uint16\n",
      "GPS_TIME             object\n",
      "LONGITUDE            float32\n",
      "LATITUDE             float32\n",
      "CARNO                object\n",
      "dtypes: float32(3), object(2), uint16(1), uint8(1)\n",
      "memory usage: 4.1+ GB\n"
     ]
    }
   ],
   "source": [
    "df1.info()"
   ]
  },
  {
   "cell_type": "code",
   "execution_count": 163,
   "metadata": {
    "execution": {
     "iopub.execute_input": "2020-09-20T05:34:04.212573Z",
     "iopub.status.busy": "2020-09-20T05:34:04.212573Z",
     "iopub.status.idle": "2020-09-20T05:34:04.388104Z",
     "shell.execute_reply": "2020-09-20T05:34:04.387107Z",
     "shell.execute_reply.started": "2020-09-20T05:34:04.212573Z"
    }
   },
   "outputs": [
    {
     "data": {
      "text/plain": [
       "11.446281433105469"
      ]
     },
     "execution_count": 163,
     "metadata": {},
     "output_type": "execute_result"
    }
   ],
   "source": [
    "df1['GPS_SPEED'].mean()"
   ]
  },
  {
   "cell_type": "markdown",
   "metadata": {},
   "source": [
    "【回答】端午假期中和端午假期前相比，巡游车日平均速度上升。"
   ]
  }
 ],
 "metadata": {
  "kernelspec": {
   "display_name": "Python 3",
   "language": "python",
   "name": "python3"
  },
  "language_info": {
   "codemirror_mode": {
    "name": "ipython",
    "version": 3
   },
   "file_extension": ".py",
   "mimetype": "text/x-python",
   "name": "python",
   "nbconvert_exporter": "python",
   "pygments_lexer": "ipython3",
   "version": "3.7.4"
  }
 },
 "nbformat": 4,
 "nbformat_minor": 4
}
