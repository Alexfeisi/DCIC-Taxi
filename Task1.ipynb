{
 "cells": [
  {
   "cell_type": "markdown",
   "metadata": {
    "execution": {
     "iopub.execute_input": "2020-09-09T13:46:23.021848Z",
     "iopub.status.busy": "2020-09-09T13:46:23.021848Z",
     "iopub.status.idle": "2020-09-09T13:46:23.027832Z",
     "shell.execute_reply": "2020-09-09T13:46:23.025838Z",
     "shell.execute_reply.started": "2020-09-09T13:46:23.021848Z"
    }
   },
   "source": [
    "# 任务1：数据读取"
   ]
  },
  {
   "cell_type": "code",
   "execution_count": 2,
   "metadata": {
    "execution": {
     "iopub.execute_input": "2020-09-10T09:19:04.581782Z",
     "iopub.status.busy": "2020-09-10T09:19:04.581782Z",
     "iopub.status.idle": "2020-09-10T09:19:04.584810Z",
     "shell.execute_reply": "2020-09-10T09:19:04.584810Z",
     "shell.execute_reply.started": "2020-09-10T09:19:04.581782Z"
    }
   },
   "outputs": [],
   "source": [
    "from IPython.core.interactiveshell import InteractiveShell\n",
    "InteractiveShell.ast_node_interactivity = 'all'"
   ]
  },
  {
   "cell_type": "markdown",
   "metadata": {},
   "source": [
    "## 1.巡游车GPS数据读取"
   ]
  },
  {
   "cell_type": "code",
   "execution_count": 3,
   "metadata": {
    "execution": {
     "iopub.execute_input": "2020-09-10T09:19:08.310355Z",
     "iopub.status.busy": "2020-09-10T09:19:08.309358Z",
     "iopub.status.idle": "2020-09-10T09:19:11.376966Z",
     "shell.execute_reply": "2020-09-10T09:19:11.376966Z",
     "shell.execute_reply.started": "2020-09-10T09:19:08.310355Z"
    }
   },
   "outputs": [],
   "source": [
    "import pandas as pd\n",
    "import numpy as np"
   ]
  },
  {
   "cell_type": "code",
   "execution_count": 4,
   "metadata": {
    "execution": {
     "iopub.execute_input": "2020-09-10T09:19:11.377963Z",
     "iopub.status.busy": "2020-09-10T09:19:11.377963Z",
     "iopub.status.idle": "2020-09-10T09:19:11.560627Z",
     "shell.execute_reply": "2020-09-10T09:19:11.560627Z",
     "shell.execute_reply.started": "2020-09-10T09:19:11.377963Z"
    }
   },
   "outputs": [
    {
     "data": {
      "text/html": [
       "<div>\n",
       "<style scoped>\n",
       "    .dataframe tbody tr th:only-of-type {\n",
       "        vertical-align: middle;\n",
       "    }\n",
       "\n",
       "    .dataframe tbody tr th {\n",
       "        vertical-align: top;\n",
       "    }\n",
       "\n",
       "    .dataframe thead th {\n",
       "        text-align: right;\n",
       "    }\n",
       "</style>\n",
       "<table border=\"1\" class=\"dataframe\">\n",
       "  <thead>\n",
       "    <tr style=\"text-align: right;\">\n",
       "      <th></th>\n",
       "      <th>OPERATING_STATUS</th>\n",
       "      <th>GPS_SPEED</th>\n",
       "      <th>DRIVING_DIRECTION</th>\n",
       "      <th>LONGITUDE</th>\n",
       "      <th>LATITUDE</th>\n",
       "    </tr>\n",
       "  </thead>\n",
       "  <tbody>\n",
       "    <tr>\n",
       "      <td>count</td>\n",
       "      <td>100000.000000</td>\n",
       "      <td>100000.000000</td>\n",
       "      <td>100000.000000</td>\n",
       "      <td>100000.000000</td>\n",
       "      <td>100000.000000</td>\n",
       "    </tr>\n",
       "    <tr>\n",
       "      <td>mean</td>\n",
       "      <td>2.415830</td>\n",
       "      <td>15.922179</td>\n",
       "      <td>161.451510</td>\n",
       "      <td>117.388134</td>\n",
       "      <td>24.354396</td>\n",
       "    </tr>\n",
       "    <tr>\n",
       "      <td>std</td>\n",
       "      <td>2.320472</td>\n",
       "      <td>22.837529</td>\n",
       "      <td>113.725946</td>\n",
       "      <td>9.273066</td>\n",
       "      <td>1.932351</td>\n",
       "    </tr>\n",
       "    <tr>\n",
       "      <td>min</td>\n",
       "      <td>1.000000</td>\n",
       "      <td>0.000000</td>\n",
       "      <td>0.000000</td>\n",
       "      <td>0.000000</td>\n",
       "      <td>0.000000</td>\n",
       "    </tr>\n",
       "    <tr>\n",
       "      <td>25%</td>\n",
       "      <td>1.000000</td>\n",
       "      <td>0.000000</td>\n",
       "      <td>59.000000</td>\n",
       "      <td>118.100982</td>\n",
       "      <td>24.480172</td>\n",
       "    </tr>\n",
       "    <tr>\n",
       "      <td>50%</td>\n",
       "      <td>1.000000</td>\n",
       "      <td>0.000000</td>\n",
       "      <td>167.000000</td>\n",
       "      <td>118.123175</td>\n",
       "      <td>24.493398</td>\n",
       "    </tr>\n",
       "    <tr>\n",
       "      <td>75%</td>\n",
       "      <td>6.000000</td>\n",
       "      <td>28.900000</td>\n",
       "      <td>261.000000</td>\n",
       "      <td>118.149498</td>\n",
       "      <td>24.516875</td>\n",
       "    </tr>\n",
       "    <tr>\n",
       "      <td>max</td>\n",
       "      <td>8.000000</td>\n",
       "      <td>381.300000</td>\n",
       "      <td>360.000000</td>\n",
       "      <td>129.110960</td>\n",
       "      <td>34.656481</td>\n",
       "    </tr>\n",
       "  </tbody>\n",
       "</table>\n",
       "</div>"
      ],
      "text/plain": [
       "       OPERATING_STATUS      GPS_SPEED  DRIVING_DIRECTION      LONGITUDE  \\\n",
       "count     100000.000000  100000.000000      100000.000000  100000.000000   \n",
       "mean           2.415830      15.922179         161.451510     117.388134   \n",
       "std            2.320472      22.837529         113.725946       9.273066   \n",
       "min            1.000000       0.000000           0.000000       0.000000   \n",
       "25%            1.000000       0.000000          59.000000     118.100982   \n",
       "50%            1.000000       0.000000         167.000000     118.123175   \n",
       "75%            6.000000      28.900000         261.000000     118.149498   \n",
       "max            8.000000     381.300000         360.000000     129.110960   \n",
       "\n",
       "            LATITUDE  \n",
       "count  100000.000000  \n",
       "mean       24.354396  \n",
       "std         1.932351  \n",
       "min         0.000000  \n",
       "25%        24.480172  \n",
       "50%        24.493398  \n",
       "75%        24.516875  \n",
       "max        34.656481  "
      ]
     },
     "execution_count": 4,
     "metadata": {},
     "output_type": "execute_result"
    }
   ],
   "source": [
    "# 文件读取行数\n",
    "MAX_ROWS = 100000 \n",
    "# DDA\n",
    "taxigps2019 = pd.read_csv('taxiGps20190531.csv', nrows=MAX_ROWS) #由于数据很大，可以设置只读最大行数\n",
    "taxigps2019.describe()"
   ]
  },
  {
   "cell_type": "code",
   "execution_count": 5,
   "metadata": {
    "execution": {
     "iopub.execute_input": "2020-09-10T09:19:15.875959Z",
     "iopub.status.busy": "2020-09-10T09:19:15.875959Z",
     "iopub.status.idle": "2020-09-10T09:19:15.887929Z",
     "shell.execute_reply": "2020-09-10T09:19:15.887929Z",
     "shell.execute_reply.started": "2020-09-10T09:19:15.875959Z"
    }
   },
   "outputs": [
    {
     "data": {
      "text/html": [
       "<div>\n",
       "<style scoped>\n",
       "    .dataframe tbody tr th:only-of-type {\n",
       "        vertical-align: middle;\n",
       "    }\n",
       "\n",
       "    .dataframe tbody tr th {\n",
       "        vertical-align: top;\n",
       "    }\n",
       "\n",
       "    .dataframe thead th {\n",
       "        text-align: right;\n",
       "    }\n",
       "</style>\n",
       "<table border=\"1\" class=\"dataframe\">\n",
       "  <thead>\n",
       "    <tr style=\"text-align: right;\">\n",
       "      <th></th>\n",
       "      <th>OPERATING_STATUS</th>\n",
       "      <th>GPS_SPEED</th>\n",
       "      <th>DRIVING_DIRECTION</th>\n",
       "      <th>GPS_TIME</th>\n",
       "      <th>LONGITUDE</th>\n",
       "      <th>LATITUDE</th>\n",
       "      <th>CARNO</th>\n",
       "    </tr>\n",
       "  </thead>\n",
       "  <tbody>\n",
       "    <tr>\n",
       "      <td>0</td>\n",
       "      <td>1</td>\n",
       "      <td>0.0</td>\n",
       "      <td>0</td>\n",
       "      <td>2019/5/31 0:00:05</td>\n",
       "      <td>118.098451</td>\n",
       "      <td>24.493498</td>\n",
       "      <td>c3e622b913ca7085db129fa379121b90</td>\n",
       "    </tr>\n",
       "    <tr>\n",
       "      <td>1</td>\n",
       "      <td>1</td>\n",
       "      <td>0.0</td>\n",
       "      <td>4</td>\n",
       "      <td>2019/5/31 0:00:08</td>\n",
       "      <td>118.055053</td>\n",
       "      <td>24.564395</td>\n",
       "      <td>9b4802bcb6344a5772814557428aee85</td>\n",
       "    </tr>\n",
       "    <tr>\n",
       "      <td>2</td>\n",
       "      <td>1</td>\n",
       "      <td>0.0</td>\n",
       "      <td>0</td>\n",
       "      <td>2019/5/31 0:00:09</td>\n",
       "      <td>0.000000</td>\n",
       "      <td>0.000000</td>\n",
       "      <td>f7e16e0e76abf3460007f65cb1509565</td>\n",
       "    </tr>\n",
       "    <tr>\n",
       "      <td>3</td>\n",
       "      <td>1</td>\n",
       "      <td>0.0</td>\n",
       "      <td>0</td>\n",
       "      <td>2019/5/31 0:00:10</td>\n",
       "      <td>0.000000</td>\n",
       "      <td>0.000000</td>\n",
       "      <td>c607b7a160ab91bf05f8085ed221196f</td>\n",
       "    </tr>\n",
       "    <tr>\n",
       "      <td>4</td>\n",
       "      <td>1</td>\n",
       "      <td>0.8</td>\n",
       "      <td>32</td>\n",
       "      <td>2019/5/31 0:00:12</td>\n",
       "      <td>117.990452</td>\n",
       "      <td>24.569882</td>\n",
       "      <td>7be62de4645772356a3bb7190bc54c6d</td>\n",
       "    </tr>\n",
       "    <tr>\n",
       "      <td>...</td>\n",
       "      <td>...</td>\n",
       "      <td>...</td>\n",
       "      <td>...</td>\n",
       "      <td>...</td>\n",
       "      <td>...</td>\n",
       "      <td>...</td>\n",
       "      <td>...</td>\n",
       "    </tr>\n",
       "    <tr>\n",
       "      <td>99995</td>\n",
       "      <td>1</td>\n",
       "      <td>0.0</td>\n",
       "      <td>186</td>\n",
       "      <td>2019/5/31 1:37:06</td>\n",
       "      <td>118.121760</td>\n",
       "      <td>24.504625</td>\n",
       "      <td>17a4e9599fd2e58f7d037d42336b022e</td>\n",
       "    </tr>\n",
       "    <tr>\n",
       "      <td>99996</td>\n",
       "      <td>1</td>\n",
       "      <td>0.0</td>\n",
       "      <td>174</td>\n",
       "      <td>2019/5/31 1:37:06</td>\n",
       "      <td>118.163555</td>\n",
       "      <td>24.506240</td>\n",
       "      <td>5aba323aa96d7879290dedd1491900ff</td>\n",
       "    </tr>\n",
       "    <tr>\n",
       "      <td>99997</td>\n",
       "      <td>1</td>\n",
       "      <td>0.0</td>\n",
       "      <td>88</td>\n",
       "      <td>2019/5/31 1:37:06</td>\n",
       "      <td>118.158875</td>\n",
       "      <td>24.527685</td>\n",
       "      <td>22e9626122f2861dcf074111e4dcb472</td>\n",
       "    </tr>\n",
       "    <tr>\n",
       "      <td>99998</td>\n",
       "      <td>1</td>\n",
       "      <td>0.0</td>\n",
       "      <td>339</td>\n",
       "      <td>2019/5/31 1:37:06</td>\n",
       "      <td>118.178138</td>\n",
       "      <td>24.473796</td>\n",
       "      <td>54efc9187b2234389797d722d1ec403f</td>\n",
       "    </tr>\n",
       "    <tr>\n",
       "      <td>99999</td>\n",
       "      <td>6</td>\n",
       "      <td>33.3</td>\n",
       "      <td>261</td>\n",
       "      <td>2019/5/31 1:37:06</td>\n",
       "      <td>118.132010</td>\n",
       "      <td>24.520538</td>\n",
       "      <td>65f69da7fd99beba9fd672b3131e4ecf</td>\n",
       "    </tr>\n",
       "  </tbody>\n",
       "</table>\n",
       "<p>100000 rows × 7 columns</p>\n",
       "</div>"
      ],
      "text/plain": [
       "       OPERATING_STATUS  GPS_SPEED  DRIVING_DIRECTION           GPS_TIME  \\\n",
       "0                     1        0.0                  0  2019/5/31 0:00:05   \n",
       "1                     1        0.0                  4  2019/5/31 0:00:08   \n",
       "2                     1        0.0                  0  2019/5/31 0:00:09   \n",
       "3                     1        0.0                  0  2019/5/31 0:00:10   \n",
       "4                     1        0.8                 32  2019/5/31 0:00:12   \n",
       "...                 ...        ...                ...                ...   \n",
       "99995                 1        0.0                186  2019/5/31 1:37:06   \n",
       "99996                 1        0.0                174  2019/5/31 1:37:06   \n",
       "99997                 1        0.0                 88  2019/5/31 1:37:06   \n",
       "99998                 1        0.0                339  2019/5/31 1:37:06   \n",
       "99999                 6       33.3                261  2019/5/31 1:37:06   \n",
       "\n",
       "        LONGITUDE   LATITUDE                             CARNO  \n",
       "0      118.098451  24.493498  c3e622b913ca7085db129fa379121b90  \n",
       "1      118.055053  24.564395  9b4802bcb6344a5772814557428aee85  \n",
       "2        0.000000   0.000000  f7e16e0e76abf3460007f65cb1509565  \n",
       "3        0.000000   0.000000  c607b7a160ab91bf05f8085ed221196f  \n",
       "4      117.990452  24.569882  7be62de4645772356a3bb7190bc54c6d  \n",
       "...           ...        ...                               ...  \n",
       "99995  118.121760  24.504625  17a4e9599fd2e58f7d037d42336b022e  \n",
       "99996  118.163555  24.506240  5aba323aa96d7879290dedd1491900ff  \n",
       "99997  118.158875  24.527685  22e9626122f2861dcf074111e4dcb472  \n",
       "99998  118.178138  24.473796  54efc9187b2234389797d722d1ec403f  \n",
       "99999  118.132010  24.520538  65f69da7fd99beba9fd672b3131e4ecf  \n",
       "\n",
       "[100000 rows x 7 columns]"
      ]
     },
     "execution_count": 5,
     "metadata": {},
     "output_type": "execute_result"
    }
   ],
   "source": [
    "taxigps2019"
   ]
  },
  {
   "cell_type": "code",
   "execution_count": 6,
   "metadata": {
    "execution": {
     "iopub.execute_input": "2020-09-10T09:19:18.335932Z",
     "iopub.status.busy": "2020-09-10T09:19:18.335932Z",
     "iopub.status.idle": "2020-09-10T09:19:18.358894Z",
     "shell.execute_reply": "2020-09-10T09:19:18.358894Z",
     "shell.execute_reply.started": "2020-09-10T09:19:18.335932Z"
    }
   },
   "outputs": [
    {
     "name": "stdout",
     "output_type": "stream",
     "text": [
      "<class 'pandas.core.frame.DataFrame'>\n",
      "RangeIndex: 100000 entries, 0 to 99999\n",
      "Data columns (total 7 columns):\n",
      "OPERATING_STATUS     100000 non-null int64\n",
      "GPS_SPEED            100000 non-null float64\n",
      "DRIVING_DIRECTION    100000 non-null int64\n",
      "GPS_TIME             100000 non-null object\n",
      "LONGITUDE            100000 non-null float64\n",
      "LATITUDE             100000 non-null float64\n",
      "CARNO                100000 non-null object\n",
      "dtypes: float64(3), int64(2), object(2)\n",
      "memory usage: 5.3+ MB\n"
     ]
    }
   ],
   "source": [
    "taxigps2019.info()"
   ]
  },
  {
   "cell_type": "markdown",
   "metadata": {},
   "source": [
    "通过describe()和info()函数，我们可以初步得到现有的字段的取值，10w条数据占用5MB内存。我们也可以完成数据字段压缩的操作，将字段类型根据取值空间进行修改，压缩内存使用需求。"
   ]
  },
  {
   "cell_type": "code",
   "execution_count": 7,
   "metadata": {
    "execution": {
     "iopub.execute_input": "2020-09-10T09:19:21.391510Z",
     "iopub.status.busy": "2020-09-10T09:19:21.391510Z",
     "iopub.status.idle": "2020-09-10T09:19:21.536626Z",
     "shell.execute_reply": "2020-09-10T09:19:21.536626Z",
     "shell.execute_reply.started": "2020-09-10T09:19:21.391510Z"
    }
   },
   "outputs": [
    {
     "name": "stdout",
     "output_type": "stream",
     "text": [
      "<class 'pandas.core.frame.DataFrame'>\n",
      "RangeIndex: 100000 entries, 0 to 99999\n",
      "Data columns (total 7 columns):\n",
      "OPERATING_STATUS     100000 non-null uint8\n",
      "GPS_SPEED            100000 non-null float16\n",
      "DRIVING_DIRECTION    100000 non-null uint16\n",
      "GPS_TIME             100000 non-null object\n",
      "LONGITUDE            100000 non-null float32\n",
      "LATITUDE             100000 non-null float32\n",
      "CARNO                100000 non-null object\n",
      "dtypes: float16(1), float32(2), object(2), uint16(1), uint8(1)\n",
      "memory usage: 2.8+ MB\n"
     ]
    }
   ],
   "source": [
    "import pandas as pd\n",
    "import numpy as np\n",
    "\n",
    "# 压缩内存，适合处理大数据节约内存\n",
    "MAX_ROWS = 100000 # 文件读取行数\n",
    "\n",
    "# dtype的使用\n",
    "taxigps2019 = pd.read_csv('taxiGps20190531.csv', nrows=MAX_ROWS,\n",
    "                         dtype = {\n",
    "                             'DRIVING_DIRECTION': np.uint16,  # 正的值精确度要求无需太高，无符号\n",
    "                             'OPERATING_STATUS': np.uint8,\n",
    "                             'LONGITUDE': np.float32,\n",
    "                             'LATITUDE': np.float32,\n",
    "                             'GPS_SPEED': np.float16 \n",
    "                         })\n",
    "\n",
    "taxigps2019.info()"
   ]
  },
  {
   "cell_type": "markdown",
   "metadata": {
    "execution": {
     "iopub.execute_input": "2020-09-10T02:03:20.064639Z",
     "iopub.status.busy": "2020-09-10T02:03:20.064639Z",
     "iopub.status.idle": "2020-09-10T02:03:20.070624Z",
     "shell.execute_reply": "2020-09-10T02:03:20.069627Z",
     "shell.execute_reply.started": "2020-09-10T02:03:20.064639Z"
    }
   },
   "source": [
    "【思考】还有没有其它压缩内存使用的方法来读取文件？"
   ]
  },
  {
   "cell_type": "code",
   "execution_count": null,
   "metadata": {},
   "outputs": [],
   "source": [
    "【回答】可以分块读取，pd.read_csv(data,chunksize=10000)这样。"
   ]
  },
  {
   "cell_type": "markdown",
   "metadata": {
    "execution": {
     "iopub.execute_input": "2020-09-09T13:58:49.941538Z",
     "iopub.status.busy": "2020-09-09T13:58:49.941538Z",
     "iopub.status.idle": "2020-09-09T13:58:49.947522Z",
     "shell.execute_reply": "2020-09-09T13:58:49.946530Z",
     "shell.execute_reply.started": "2020-09-09T13:58:49.941538Z"
    }
   },
   "source": [
    "为了方便查看数据，我们还可以对GPS数据进行排序，这样就完成了单个文件的读取。"
   ]
  },
  {
   "cell_type": "code",
   "execution_count": 13,
   "metadata": {
    "execution": {
     "iopub.execute_input": "2020-09-10T09:23:45.047535Z",
     "iopub.status.busy": "2020-09-10T09:23:45.046566Z",
     "iopub.status.idle": "2020-09-10T09:23:45.051524Z",
     "shell.execute_reply": "2020-09-10T09:23:45.051524Z",
     "shell.execute_reply.started": "2020-09-10T09:23:45.047535Z"
    }
   },
   "outputs": [
    {
     "data": {
      "text/plain": [
       "Index(['CARNO', 'LATITUDE', 'LONGITUDE', 'GPS_TIME', 'DRIVING_DIRECTION',\n",
       "       'GPS_SPEED', 'OPERATING_STATUS'],\n",
       "      dtype='object')"
      ]
     },
     "execution_count": 13,
     "metadata": {},
     "output_type": "execute_result"
    }
   ],
   "source": [
    "taxigps2019.columns[::-1] #列倒序排列"
   ]
  },
  {
   "cell_type": "code",
   "execution_count": 14,
   "metadata": {
    "execution": {
     "iopub.execute_input": "2020-09-10T09:23:47.156144Z",
     "iopub.status.busy": "2020-09-10T09:23:47.155099Z",
     "iopub.status.idle": "2020-09-10T09:23:47.216933Z",
     "shell.execute_reply": "2020-09-10T09:23:47.216933Z",
     "shell.execute_reply.started": "2020-09-10T09:23:47.156144Z"
    }
   },
   "outputs": [
    {
     "data": {
      "text/html": [
       "<div>\n",
       "<style scoped>\n",
       "    .dataframe tbody tr th:only-of-type {\n",
       "        vertical-align: middle;\n",
       "    }\n",
       "\n",
       "    .dataframe tbody tr th {\n",
       "        vertical-align: top;\n",
       "    }\n",
       "\n",
       "    .dataframe thead th {\n",
       "        text-align: right;\n",
       "    }\n",
       "</style>\n",
       "<table border=\"1\" class=\"dataframe\">\n",
       "  <thead>\n",
       "    <tr style=\"text-align: right;\">\n",
       "      <th></th>\n",
       "      <th>CARNO</th>\n",
       "      <th>LATITUDE</th>\n",
       "      <th>LONGITUDE</th>\n",
       "      <th>GPS_TIME</th>\n",
       "      <th>DRIVING_DIRECTION</th>\n",
       "      <th>GPS_SPEED</th>\n",
       "      <th>OPERATING_STATUS</th>\n",
       "    </tr>\n",
       "  </thead>\n",
       "  <tbody>\n",
       "    <tr>\n",
       "      <td>0</td>\n",
       "      <td>0006d282be70d06881a7513b69fcaa60</td>\n",
       "      <td>24.479755</td>\n",
       "      <td>118.146935</td>\n",
       "      <td>2019/5/31 1:31:20</td>\n",
       "      <td>292</td>\n",
       "      <td>0.0</td>\n",
       "      <td>1</td>\n",
       "    </tr>\n",
       "    <tr>\n",
       "      <td>1</td>\n",
       "      <td>0006d282be70d06881a7513b69fcaa60</td>\n",
       "      <td>24.479755</td>\n",
       "      <td>118.146935</td>\n",
       "      <td>2019/5/31 1:31:35</td>\n",
       "      <td>292</td>\n",
       "      <td>0.0</td>\n",
       "      <td>1</td>\n",
       "    </tr>\n",
       "    <tr>\n",
       "      <td>2</td>\n",
       "      <td>0006d282be70d06881a7513b69fcaa60</td>\n",
       "      <td>24.479755</td>\n",
       "      <td>118.146935</td>\n",
       "      <td>2019/5/31 1:31:50</td>\n",
       "      <td>292</td>\n",
       "      <td>0.0</td>\n",
       "      <td>1</td>\n",
       "    </tr>\n",
       "    <tr>\n",
       "      <td>3</td>\n",
       "      <td>0006d282be70d06881a7513b69fcaa60</td>\n",
       "      <td>24.479755</td>\n",
       "      <td>118.146935</td>\n",
       "      <td>2019/5/31 1:32:05</td>\n",
       "      <td>292</td>\n",
       "      <td>0.0</td>\n",
       "      <td>1</td>\n",
       "    </tr>\n",
       "    <tr>\n",
       "      <td>4</td>\n",
       "      <td>0006d282be70d06881a7513b69fcaa60</td>\n",
       "      <td>24.479755</td>\n",
       "      <td>118.146935</td>\n",
       "      <td>2019/5/31 1:32:20</td>\n",
       "      <td>292</td>\n",
       "      <td>0.0</td>\n",
       "      <td>1</td>\n",
       "    </tr>\n",
       "  </tbody>\n",
       "</table>\n",
       "</div>"
      ],
      "text/plain": [
       "                              CARNO   LATITUDE   LONGITUDE           GPS_TIME  \\\n",
       "0  0006d282be70d06881a7513b69fcaa60  24.479755  118.146935  2019/5/31 1:31:20   \n",
       "1  0006d282be70d06881a7513b69fcaa60  24.479755  118.146935  2019/5/31 1:31:35   \n",
       "2  0006d282be70d06881a7513b69fcaa60  24.479755  118.146935  2019/5/31 1:31:50   \n",
       "3  0006d282be70d06881a7513b69fcaa60  24.479755  118.146935  2019/5/31 1:32:05   \n",
       "4  0006d282be70d06881a7513b69fcaa60  24.479755  118.146935  2019/5/31 1:32:20   \n",
       "\n",
       "   DRIVING_DIRECTION  GPS_SPEED  OPERATING_STATUS  \n",
       "0                292        0.0                 1  \n",
       "1                292        0.0                 1  \n",
       "2                292        0.0                 1  \n",
       "3                292        0.0                 1  \n",
       "4                292        0.0                 1  "
      ]
     },
     "execution_count": 14,
     "metadata": {},
     "output_type": "execute_result"
    }
   ],
   "source": [
    "# df.sort_values()函数使用\n",
    "taxigps2019 = taxigps2019[taxigps2019.columns[::-1]] # 把CARNO放在最前面\n",
    "taxigps2019.sort_values(by=['CARNO','GPS_TIME'], inplace=True) #优先排CARNO,然后GPS_TIME，并置换不生成副本，覆盖原数据\n",
    "taxigps2019.reset_index(inplace=True, drop=True) # 数据清洗可能会使索引顺序混乱，重新设置连续索引，丢弃原有的索引，并覆盖\n",
    "taxigps2019.head()"
   ]
  },
  {
   "cell_type": "markdown",
   "metadata": {},
   "source": [
    "多个文件（多天）可以直接将文件进行拼接即可："
   ]
  },
  {
   "cell_type": "code",
   "execution_count": 15,
   "metadata": {
    "execution": {
     "iopub.execute_input": "2020-09-10T09:23:50.725931Z",
     "iopub.status.busy": "2020-09-10T09:23:50.725931Z",
     "iopub.status.idle": "2020-09-10T09:23:51.092169Z",
     "shell.execute_reply": "2020-09-10T09:23:51.092169Z",
     "shell.execute_reply.started": "2020-09-10T09:23:50.725931Z"
    }
   },
   "outputs": [],
   "source": [
    "# 出租车2019年GPS，pd.concat()函数的使用\n",
    "taxigps2019 = pd.concat([\n",
    "    pd.read_csv('taxiGps20190531.csv', nrows=MAX_ROWS,\n",
    "                         dtype = {\n",
    "                             'DRIVING_DIRECTION': np.uint16,\n",
    "                             'OPERATING_STATUS': np.uint8,\n",
    "                             'LONGITUDE': np.float32,\n",
    "                             'LATITUDE': np.float32,\n",
    "                             'GPS_SPEED': np.float16 \n",
    "                         }),\n",
    "    pd.read_csv('taxiGps20190603.csv', nrows=MAX_ROWS,\n",
    "                         dtype = {\n",
    "                             'DRIVING_DIRECTION': np.uint16,\n",
    "                             'OPERATING_STATUS': np.uint8,\n",
    "                             'LONGITUDE': np.float32,\n",
    "                             'LATITUDE': np.float32,\n",
    "                             'GPS_SPEED': np.float16 \n",
    "                         })\n",
    "])\n",
    "taxigps2019 = taxigps2019[taxigps2019.columns[::-1]]\n",
    "taxigps2019.sort_values(by=['CARNO','GPS_TIME'], inplace=True)\n",
    "taxigps2019.reset_index(inplace=True)"
   ]
  },
  {
   "cell_type": "code",
   "execution_count": 18,
   "metadata": {
    "execution": {
     "iopub.execute_input": "2020-09-09T14:15:14.997985Z",
     "iopub.status.busy": "2020-09-09T14:15:14.996989Z",
     "iopub.status.idle": "2020-09-09T14:15:15.012945Z",
     "shell.execute_reply": "2020-09-09T14:15:15.011947Z",
     "shell.execute_reply.started": "2020-09-09T14:15:14.997985Z"
    }
   },
   "outputs": [
    {
     "data": {
      "text/html": [
       "<div>\n",
       "<style scoped>\n",
       "    .dataframe tbody tr th:only-of-type {\n",
       "        vertical-align: middle;\n",
       "    }\n",
       "\n",
       "    .dataframe tbody tr th {\n",
       "        vertical-align: top;\n",
       "    }\n",
       "\n",
       "    .dataframe thead th {\n",
       "        text-align: right;\n",
       "    }\n",
       "</style>\n",
       "<table border=\"1\" class=\"dataframe\">\n",
       "  <thead>\n",
       "    <tr style=\"text-align: right;\">\n",
       "      <th></th>\n",
       "      <th>index</th>\n",
       "      <th>CARNO</th>\n",
       "      <th>LATITUDE</th>\n",
       "      <th>LONGITUDE</th>\n",
       "      <th>GPS_TIME</th>\n",
       "      <th>DRIVING_DIRECTION</th>\n",
       "      <th>GPS_SPEED</th>\n",
       "      <th>OPERATING_STATUS</th>\n",
       "    </tr>\n",
       "  </thead>\n",
       "  <tbody>\n",
       "    <tr>\n",
       "      <td>0</td>\n",
       "      <td>7622</td>\n",
       "      <td>0006d282be70d06881a7513b69fcaa60</td>\n",
       "      <td>24.479755</td>\n",
       "      <td>118.146935</td>\n",
       "      <td>2019/5/31 1:31:20</td>\n",
       "      <td>292</td>\n",
       "      <td>0.0</td>\n",
       "      <td>1</td>\n",
       "    </tr>\n",
       "    <tr>\n",
       "      <td>1</td>\n",
       "      <td>11509</td>\n",
       "      <td>0006d282be70d06881a7513b69fcaa60</td>\n",
       "      <td>24.479755</td>\n",
       "      <td>118.146935</td>\n",
       "      <td>2019/5/31 1:31:35</td>\n",
       "      <td>292</td>\n",
       "      <td>0.0</td>\n",
       "      <td>1</td>\n",
       "    </tr>\n",
       "    <tr>\n",
       "      <td>2</td>\n",
       "      <td>15763</td>\n",
       "      <td>0006d282be70d06881a7513b69fcaa60</td>\n",
       "      <td>24.479755</td>\n",
       "      <td>118.146935</td>\n",
       "      <td>2019/5/31 1:31:50</td>\n",
       "      <td>292</td>\n",
       "      <td>0.0</td>\n",
       "      <td>1</td>\n",
       "    </tr>\n",
       "    <tr>\n",
       "      <td>3</td>\n",
       "      <td>19754</td>\n",
       "      <td>0006d282be70d06881a7513b69fcaa60</td>\n",
       "      <td>24.479755</td>\n",
       "      <td>118.146935</td>\n",
       "      <td>2019/5/31 1:32:05</td>\n",
       "      <td>292</td>\n",
       "      <td>0.0</td>\n",
       "      <td>1</td>\n",
       "    </tr>\n",
       "    <tr>\n",
       "      <td>4</td>\n",
       "      <td>23693</td>\n",
       "      <td>0006d282be70d06881a7513b69fcaa60</td>\n",
       "      <td>24.479755</td>\n",
       "      <td>118.146935</td>\n",
       "      <td>2019/5/31 1:32:20</td>\n",
       "      <td>292</td>\n",
       "      <td>0.0</td>\n",
       "      <td>1</td>\n",
       "    </tr>\n",
       "    <tr>\n",
       "      <td>...</td>\n",
       "      <td>...</td>\n",
       "      <td>...</td>\n",
       "      <td>...</td>\n",
       "      <td>...</td>\n",
       "      <td>...</td>\n",
       "      <td>...</td>\n",
       "      <td>...</td>\n",
       "      <td>...</td>\n",
       "    </tr>\n",
       "    <tr>\n",
       "      <td>199995</td>\n",
       "      <td>60006</td>\n",
       "      <td>fff20f025f560278d601b2fd47e1f6b7</td>\n",
       "      <td>24.638252</td>\n",
       "      <td>118.070869</td>\n",
       "      <td>2019/6/3 8:44:18</td>\n",
       "      <td>246</td>\n",
       "      <td>0.0</td>\n",
       "      <td>1</td>\n",
       "    </tr>\n",
       "    <tr>\n",
       "      <td>199996</td>\n",
       "      <td>68389</td>\n",
       "      <td>fff20f025f560278d601b2fd47e1f6b7</td>\n",
       "      <td>24.638252</td>\n",
       "      <td>118.070869</td>\n",
       "      <td>2019/6/3 8:44:49</td>\n",
       "      <td>246</td>\n",
       "      <td>0.0</td>\n",
       "      <td>1</td>\n",
       "    </tr>\n",
       "    <tr>\n",
       "      <td>199997</td>\n",
       "      <td>77307</td>\n",
       "      <td>fff20f025f560278d601b2fd47e1f6b7</td>\n",
       "      <td>24.638252</td>\n",
       "      <td>118.070869</td>\n",
       "      <td>2019/6/3 8:45:19</td>\n",
       "      <td>246</td>\n",
       "      <td>0.0</td>\n",
       "      <td>1</td>\n",
       "    </tr>\n",
       "    <tr>\n",
       "      <td>199998</td>\n",
       "      <td>85581</td>\n",
       "      <td>fff20f025f560278d601b2fd47e1f6b7</td>\n",
       "      <td>24.638252</td>\n",
       "      <td>118.070869</td>\n",
       "      <td>2019/6/3 8:45:49</td>\n",
       "      <td>246</td>\n",
       "      <td>0.0</td>\n",
       "      <td>1</td>\n",
       "    </tr>\n",
       "    <tr>\n",
       "      <td>199999</td>\n",
       "      <td>94666</td>\n",
       "      <td>fff20f025f560278d601b2fd47e1f6b7</td>\n",
       "      <td>24.638252</td>\n",
       "      <td>118.070869</td>\n",
       "      <td>2019/6/3 8:46:19</td>\n",
       "      <td>246</td>\n",
       "      <td>0.0</td>\n",
       "      <td>1</td>\n",
       "    </tr>\n",
       "  </tbody>\n",
       "</table>\n",
       "<p>200000 rows × 8 columns</p>\n",
       "</div>"
      ],
      "text/plain": [
       "        index                             CARNO   LATITUDE   LONGITUDE  \\\n",
       "0        7622  0006d282be70d06881a7513b69fcaa60  24.479755  118.146935   \n",
       "1       11509  0006d282be70d06881a7513b69fcaa60  24.479755  118.146935   \n",
       "2       15763  0006d282be70d06881a7513b69fcaa60  24.479755  118.146935   \n",
       "3       19754  0006d282be70d06881a7513b69fcaa60  24.479755  118.146935   \n",
       "4       23693  0006d282be70d06881a7513b69fcaa60  24.479755  118.146935   \n",
       "...       ...                               ...        ...         ...   \n",
       "199995  60006  fff20f025f560278d601b2fd47e1f6b7  24.638252  118.070869   \n",
       "199996  68389  fff20f025f560278d601b2fd47e1f6b7  24.638252  118.070869   \n",
       "199997  77307  fff20f025f560278d601b2fd47e1f6b7  24.638252  118.070869   \n",
       "199998  85581  fff20f025f560278d601b2fd47e1f6b7  24.638252  118.070869   \n",
       "199999  94666  fff20f025f560278d601b2fd47e1f6b7  24.638252  118.070869   \n",
       "\n",
       "                 GPS_TIME  DRIVING_DIRECTION  GPS_SPEED  OPERATING_STATUS  \n",
       "0       2019/5/31 1:31:20                292        0.0                 1  \n",
       "1       2019/5/31 1:31:35                292        0.0                 1  \n",
       "2       2019/5/31 1:31:50                292        0.0                 1  \n",
       "3       2019/5/31 1:32:05                292        0.0                 1  \n",
       "4       2019/5/31 1:32:20                292        0.0                 1  \n",
       "...                   ...                ...        ...               ...  \n",
       "199995   2019/6/3 8:44:18                246        0.0                 1  \n",
       "199996   2019/6/3 8:44:49                246        0.0                 1  \n",
       "199997   2019/6/3 8:45:19                246        0.0                 1  \n",
       "199998   2019/6/3 8:45:49                246        0.0                 1  \n",
       "199999   2019/6/3 8:46:19                246        0.0                 1  \n",
       "\n",
       "[200000 rows x 8 columns]"
      ]
     },
     "execution_count": 18,
     "metadata": {},
     "output_type": "execute_result"
    }
   ],
   "source": [
    "taxigps2019"
   ]
  },
  {
   "cell_type": "code",
   "execution_count": 16,
   "metadata": {
    "execution": {
     "iopub.execute_input": "2020-09-10T09:23:55.416637Z",
     "iopub.status.busy": "2020-09-10T09:23:55.416637Z",
     "iopub.status.idle": "2020-09-10T09:23:55.439607Z",
     "shell.execute_reply": "2020-09-10T09:23:55.439607Z",
     "shell.execute_reply.started": "2020-09-10T09:23:55.416637Z"
    }
   },
   "outputs": [
    {
     "name": "stdout",
     "output_type": "stream",
     "text": [
      "<class 'pandas.core.frame.DataFrame'>\n",
      "RangeIndex: 200000 entries, 0 to 199999\n",
      "Data columns (total 8 columns):\n",
      "index                200000 non-null int64\n",
      "CARNO                200000 non-null object\n",
      "LATITUDE             200000 non-null float32\n",
      "LONGITUDE            200000 non-null float32\n",
      "GPS_TIME             200000 non-null object\n",
      "DRIVING_DIRECTION    200000 non-null uint16\n",
      "GPS_SPEED            200000 non-null float16\n",
      "OPERATING_STATUS     200000 non-null uint8\n",
      "dtypes: float16(1), float32(2), int64(1), object(2), uint16(1), uint8(1)\n",
      "memory usage: 7.1+ MB\n"
     ]
    }
   ],
   "source": [
    "taxigps2019.info()"
   ]
  },
  {
   "cell_type": "markdown",
   "metadata": {
    "execution": {
     "iopub.execute_input": "2020-09-09T14:17:14.764494Z",
     "iopub.status.busy": "2020-09-09T14:17:14.764494Z",
     "iopub.status.idle": "2020-09-09T14:17:14.767485Z",
     "shell.execute_reply": "2020-09-09T14:17:14.767485Z",
     "shell.execute_reply.started": "2020-09-09T14:17:14.764494Z"
    }
   },
   "source": [
    "## 2.巡游车订单读取"
   ]
  },
  {
   "cell_type": "markdown",
   "metadata": {},
   "source": [
    "巡游车订单数据单个文件读取："
   ]
  },
  {
   "cell_type": "code",
   "execution_count": 120,
   "metadata": {
    "execution": {
     "iopub.execute_input": "2020-09-11T08:02:42.678015Z",
     "iopub.status.busy": "2020-09-11T08:02:42.677016Z",
     "iopub.status.idle": "2020-09-11T08:02:42.896444Z",
     "shell.execute_reply": "2020-09-11T08:02:42.896444Z",
     "shell.execute_reply.started": "2020-09-11T08:02:42.678015Z"
    }
   },
   "outputs": [
    {
     "data": {
      "text/plain": [
       "pandas.core.frame.DataFrame"
      ]
     },
     "execution_count": 120,
     "metadata": {},
     "output_type": "execute_result"
    }
   ],
   "source": [
    "taxiorder2019 = pd.read_csv('taxiOrder20190531.csv', nrows=MAX_ROWS,\n",
    "                           dtype = {\n",
    "                               'GETON_LONGITUDE': np.float32,\n",
    "                               'GETON_LATITUDE': np.float32,\n",
    "                               'GETOFF_LONGITUDE': np.float32,\n",
    "                               'GETOFF_LATITUDE': np.float32,\n",
    "                               'PASS_MILE': np.float16,\n",
    "                               'NOPASS_MILE': np.float16,\n",
    "                               'WAITING_TIME': np.float16\n",
    "                           })\n",
    "type(taxiorder2019.head())\n",
    "taxiorder2019 = taxiorder2019.rename(columns={'CAR_NO':'CARNO'}) #columns改名，和GPS数据统一\n",
    "taxiorder2019.sort_values(by=['CARNO','GETON_DATE'], inplace=True) #关注上车时间\n",
    "taxiorder2019.reset_index(inplace=True, drop=True)"
   ]
  },
  {
   "cell_type": "markdown",
   "metadata": {},
   "source": [
    "巡游车订单数据多个文件读取："
   ]
  },
  {
   "cell_type": "code",
   "execution_count": 18,
   "metadata": {
    "execution": {
     "iopub.execute_input": "2020-09-10T09:23:59.676704Z",
     "iopub.status.busy": "2020-09-10T09:23:59.676704Z",
     "iopub.status.idle": "2020-09-10T09:24:00.273948Z",
     "shell.execute_reply": "2020-09-10T09:24:00.273948Z",
     "shell.execute_reply.started": "2020-09-10T09:23:59.676704Z"
    }
   },
   "outputs": [],
   "source": [
    "taxiorder2019 = pd.concat([\n",
    "    pd.read_csv('taxiOrder20190531.csv', nrows=MAX_ROWS,\n",
    "                           dtype = {\n",
    "                               'GETON_LONGITUDE': np.float32,\n",
    "                               'GETON_LATITUDE': np.float32,\n",
    "                               'GETOFF_LONGITUDE': np.float32,\n",
    "                               'GETOFF_LATITUDE': np.float32,\n",
    "                               'PASS_MILE': np.float16,\n",
    "                               'NOPASS_MILE': np.float16,\n",
    "                               'WAITING_TIME': np.float16\n",
    "                           }),\n",
    "    pd.read_csv('taxiOrder20190601.csv', nrows=MAX_ROWS,\n",
    "                           dtype = {\n",
    "                               'GETON_LONGITUDE': np.float32,\n",
    "                               'GETON_LATITUDE': np.float32,\n",
    "                               'GETOFF_LONGITUDE': np.float32,\n",
    "                               'GETOFF_LATITUDE': np.float32,\n",
    "                               'PASS_MILE': np.float16,\n",
    "                               'NOPASS_MILE': np.float16,\n",
    "                               'WAITING_TIME': np.float16\n",
    "                           })\n",
    "])\n",
    "taxiorder2019 = taxiorder2019.rename(columns={'CAR_NO':'CARNO'})\n",
    "taxiorder2019.sort_values(by=['CARNO','GETON_DATE'], inplace=True)\n",
    "taxiorder2019.reset_index(inplace=True, drop=True)"
   ]
  },
  {
   "cell_type": "markdown",
   "metadata": {},
   "source": [
    "## 3.网约车GPS数据读取"
   ]
  },
  {
   "cell_type": "code",
   "execution_count": 19,
   "metadata": {
    "execution": {
     "iopub.execute_input": "2020-09-10T09:24:01.925105Z",
     "iopub.status.busy": "2020-09-10T09:24:01.924108Z",
     "iopub.status.idle": "2020-09-10T09:24:02.148014Z",
     "shell.execute_reply": "2020-09-10T09:24:02.148014Z",
     "shell.execute_reply.started": "2020-09-10T09:24:01.925105Z"
    }
   },
   "outputs": [],
   "source": [
    "wycgps2019 = pd.read_csv('wycGps20190531.csv', nrows=MAX_ROWS,\n",
    "                        dtype={\n",
    "                            'LONGITUDE': np.float32,\n",
    "                            'LATITUDE': np.float32,\n",
    "                            'SPEED': np.float16\n",
    "                        })\n",
    "\n",
    "wycgps2019 = wycgps2019.rename(columns={'CAR_NO':'CARNO'})\n",
    "wycgps2019 = wycgps2019[wycgps2019.columns[::-1]]\n",
    "wycgps2019.sort_values(by=['CARNO','POSITION_TIME'], inplace=True)\n",
    "\n",
    "wycgps2019['BIZ_STATUS'] = wycgps2019['BIZ_STATUS'].fillna(-1).astype(np.int8) #缺失值填充，类型转换\n",
    "wycgps2019['ENCRYPT'] = wycgps2019['ENCRYPT'].fillna(-1).astype(np.int8) "
   ]
  },
  {
   "cell_type": "markdown",
   "metadata": {},
   "source": [
    "## 4.网约车订单数据读取"
   ]
  },
  {
   "cell_type": "code",
   "execution_count": 20,
   "metadata": {
    "execution": {
     "iopub.execute_input": "2020-09-10T09:24:04.371254Z",
     "iopub.status.busy": "2020-09-10T09:24:04.371254Z",
     "iopub.status.idle": "2020-09-10T09:24:04.705005Z",
     "shell.execute_reply": "2020-09-10T09:24:04.705005Z",
     "shell.execute_reply.started": "2020-09-10T09:24:04.371254Z"
    }
   },
   "outputs": [],
   "source": [
    "wycorder2019 = pd.read_csv('wycOrder20190531.csv', nrows=MAX_ROWS,\n",
    "                        dtype={\n",
    "                            'DEP_LONGITUDE': np.float32,\n",
    "                            'DEP_LATITUDE': np.float32,\n",
    "                            'DEST_LONGITUDE': np.float32,\n",
    "                            'DEST_LATITUDE': np.float32,\n",
    "                        })\n",
    "wycorder2019 = wycorder2019.rename(columns={'CAR_NO':'CARNO'})\n",
    "wycorder2019.sort_values(by=['CARNO','DEP_TIME'], inplace=True) "
   ]
  },
  {
   "cell_type": "markdown",
   "metadata": {
    "execution": {
     "iopub.execute_input": "2020-09-09T14:33:09.932922Z",
     "iopub.status.busy": "2020-09-09T14:33:09.932922Z",
     "iopub.status.idle": "2020-09-09T14:33:09.936911Z",
     "shell.execute_reply": "2020-09-09T14:33:09.936911Z",
     "shell.execute_reply.started": "2020-09-09T14:33:09.932922Z"
    }
   },
   "source": [
    "# 数据统计"
   ]
  },
  {
   "cell_type": "code",
   "execution_count": 21,
   "metadata": {
    "execution": {
     "iopub.execute_input": "2020-09-10T09:24:07.249148Z",
     "iopub.status.busy": "2020-09-10T09:24:07.249148Z",
     "iopub.status.idle": "2020-09-10T09:24:07.271120Z",
     "shell.execute_reply": "2020-09-10T09:24:07.271120Z",
     "shell.execute_reply.started": "2020-09-10T09:24:07.249148Z"
    }
   },
   "outputs": [
    {
     "data": {
      "text/plain": [
       "6699"
      ]
     },
     "execution_count": 21,
     "metadata": {},
     "output_type": "execute_result"
    }
   ],
   "source": [
    "#有多少辆出租车\n",
    "taxigps2019['CARNO'].nunique()"
   ]
  },
  {
   "cell_type": "code",
   "execution_count": 22,
   "metadata": {
    "execution": {
     "iopub.execute_input": "2020-09-10T09:24:11.143599Z",
     "iopub.status.busy": "2020-09-10T09:24:11.142601Z",
     "iopub.status.idle": "2020-09-10T09:24:11.148615Z",
     "shell.execute_reply": "2020-09-10T09:24:11.148615Z",
     "shell.execute_reply.started": "2020-09-10T09:24:11.143599Z"
    }
   },
   "outputs": [
    {
     "data": {
      "text/plain": [
       "16.72"
      ]
     },
     "execution_count": 22,
     "metadata": {},
     "output_type": "execute_result"
    }
   ],
   "source": [
    "#出租车平均GPS速度,np.clip()函数的使用\n",
    "np.clip(taxigps2019['GPS_SPEED'].values, 0, 150).mean() #取0-150的速度值，超过这个范围的以离得近的端点取值"
   ]
  },
  {
   "cell_type": "markdown",
   "metadata": {
    "execution": {
     "iopub.execute_input": "2020-09-09T14:46:15.515206Z",
     "iopub.status.busy": "2020-09-09T14:46:15.515206Z",
     "iopub.status.idle": "2020-09-09T14:46:15.521189Z",
     "shell.execute_reply": "2020-09-09T14:46:15.520191Z",
     "shell.execute_reply.started": "2020-09-09T14:46:15.515206Z"
    }
   },
   "source": [
    "【思考】离群点的处理还有什么其它方法吗？"
   ]
  },
  {
   "cell_type": "markdown",
   "metadata": {},
   "source": [
    "【回答】异常值分析 → 3σ原则 / 箱型图分析  \n",
    "&emsp;&emsp;&emsp;&emsp;异常值处理方法 → 删除 / 修正填补"
   ]
  },
  {
   "cell_type": "markdown",
   "metadata": {
    "execution": {
     "iopub.execute_input": "2020-09-09T14:40:08.627005Z",
     "iopub.status.busy": "2020-09-09T14:40:08.627005Z",
     "iopub.status.idle": "2020-09-09T14:40:08.632989Z",
     "shell.execute_reply": "2020-09-09T14:40:08.631992Z",
     "shell.execute_reply.started": "2020-09-09T14:40:08.627005Z"
    }
   },
   "source": [
    "【参考】[Numpy 中clip函数的使用](https://blog.csdn.net/qq1483661204/article/details/78150203)  \n",
    "&emsp;&emsp;&emsp;&emsp;[python —— 异常值处理](https://www.jianshu.com/p/8e6d81c839e8)"
   ]
  },
  {
   "cell_type": "code",
   "execution_count": 23,
   "metadata": {
    "execution": {
     "iopub.execute_input": "2020-09-10T09:24:15.217576Z",
     "iopub.status.busy": "2020-09-10T09:24:15.216578Z",
     "iopub.status.idle": "2020-09-10T09:24:15.225556Z",
     "shell.execute_reply": "2020-09-10T09:24:15.225556Z",
     "shell.execute_reply.started": "2020-09-10T09:24:15.216578Z"
    }
   },
   "outputs": [
    {
     "data": {
      "text/plain": [
       "1    119940\n",
       "6     77465\n",
       "8      2595\n",
       "Name: OPERATING_STATUS, dtype: int64"
      ]
     },
     "execution_count": 23,
     "metadata": {},
     "output_type": "execute_result"
    }
   ],
   "source": [
    "#出租车运营状态统计\n",
    "taxigps2019['OPERATING_STATUS'].value_counts()"
   ]
  },
  {
   "cell_type": "code",
   "execution_count": 24,
   "metadata": {
    "execution": {
     "iopub.execute_input": "2020-09-10T09:24:21.164002Z",
     "iopub.status.busy": "2020-09-10T09:24:21.164002Z",
     "iopub.status.idle": "2020-09-10T09:24:21.192928Z",
     "shell.execute_reply": "2020-09-10T09:24:21.191963Z",
     "shell.execute_reply.started": "2020-09-10T09:24:21.164002Z"
    }
   },
   "outputs": [
    {
     "data": {
      "text/html": [
       "<div>\n",
       "<style scoped>\n",
       "    .dataframe tbody tr th:only-of-type {\n",
       "        vertical-align: middle;\n",
       "    }\n",
       "\n",
       "    .dataframe tbody tr th {\n",
       "        vertical-align: top;\n",
       "    }\n",
       "\n",
       "    .dataframe thead th {\n",
       "        text-align: right;\n",
       "    }\n",
       "</style>\n",
       "<table border=\"1\" class=\"dataframe\">\n",
       "  <thead>\n",
       "    <tr style=\"text-align: right;\">\n",
       "      <th></th>\n",
       "      <th>index</th>\n",
       "      <th>CARNO</th>\n",
       "      <th>LATITUDE</th>\n",
       "      <th>LONGITUDE</th>\n",
       "      <th>GPS_TIME</th>\n",
       "      <th>DRIVING_DIRECTION</th>\n",
       "      <th>GPS_SPEED</th>\n",
       "      <th>OPERATING_STATUS</th>\n",
       "    </tr>\n",
       "  </thead>\n",
       "  <tbody>\n",
       "    <tr>\n",
       "      <td>0</td>\n",
       "      <td>7622</td>\n",
       "      <td>0006d282be70d06881a7513b69fcaa60</td>\n",
       "      <td>24.479755</td>\n",
       "      <td>118.146935</td>\n",
       "      <td>2019/5/31 1:31:20</td>\n",
       "      <td>292</td>\n",
       "      <td>0.000000</td>\n",
       "      <td>1</td>\n",
       "    </tr>\n",
       "    <tr>\n",
       "      <td>1</td>\n",
       "      <td>11509</td>\n",
       "      <td>0006d282be70d06881a7513b69fcaa60</td>\n",
       "      <td>24.479755</td>\n",
       "      <td>118.146935</td>\n",
       "      <td>2019/5/31 1:31:35</td>\n",
       "      <td>292</td>\n",
       "      <td>0.000000</td>\n",
       "      <td>1</td>\n",
       "    </tr>\n",
       "    <tr>\n",
       "      <td>2</td>\n",
       "      <td>15763</td>\n",
       "      <td>0006d282be70d06881a7513b69fcaa60</td>\n",
       "      <td>24.479755</td>\n",
       "      <td>118.146935</td>\n",
       "      <td>2019/5/31 1:31:50</td>\n",
       "      <td>292</td>\n",
       "      <td>0.000000</td>\n",
       "      <td>1</td>\n",
       "    </tr>\n",
       "    <tr>\n",
       "      <td>3</td>\n",
       "      <td>19754</td>\n",
       "      <td>0006d282be70d06881a7513b69fcaa60</td>\n",
       "      <td>24.479755</td>\n",
       "      <td>118.146935</td>\n",
       "      <td>2019/5/31 1:32:05</td>\n",
       "      <td>292</td>\n",
       "      <td>0.000000</td>\n",
       "      <td>1</td>\n",
       "    </tr>\n",
       "    <tr>\n",
       "      <td>4</td>\n",
       "      <td>23693</td>\n",
       "      <td>0006d282be70d06881a7513b69fcaa60</td>\n",
       "      <td>24.479755</td>\n",
       "      <td>118.146935</td>\n",
       "      <td>2019/5/31 1:32:20</td>\n",
       "      <td>292</td>\n",
       "      <td>0.000000</td>\n",
       "      <td>1</td>\n",
       "    </tr>\n",
       "    <tr>\n",
       "      <td>5</td>\n",
       "      <td>27572</td>\n",
       "      <td>0006d282be70d06881a7513b69fcaa60</td>\n",
       "      <td>24.479755</td>\n",
       "      <td>118.146935</td>\n",
       "      <td>2019/5/31 1:32:35</td>\n",
       "      <td>292</td>\n",
       "      <td>0.000000</td>\n",
       "      <td>1</td>\n",
       "    </tr>\n",
       "    <tr>\n",
       "      <td>6</td>\n",
       "      <td>31680</td>\n",
       "      <td>0006d282be70d06881a7513b69fcaa60</td>\n",
       "      <td>24.479755</td>\n",
       "      <td>118.146935</td>\n",
       "      <td>2019/5/31 1:32:50</td>\n",
       "      <td>292</td>\n",
       "      <td>0.000000</td>\n",
       "      <td>1</td>\n",
       "    </tr>\n",
       "    <tr>\n",
       "      <td>7</td>\n",
       "      <td>35934</td>\n",
       "      <td>0006d282be70d06881a7513b69fcaa60</td>\n",
       "      <td>24.479755</td>\n",
       "      <td>118.146935</td>\n",
       "      <td>2019/5/31 1:33:05</td>\n",
       "      <td>292</td>\n",
       "      <td>0.000000</td>\n",
       "      <td>1</td>\n",
       "    </tr>\n",
       "    <tr>\n",
       "      <td>8</td>\n",
       "      <td>39853</td>\n",
       "      <td>0006d282be70d06881a7513b69fcaa60</td>\n",
       "      <td>24.479755</td>\n",
       "      <td>118.146935</td>\n",
       "      <td>2019/5/31 1:33:20</td>\n",
       "      <td>292</td>\n",
       "      <td>0.000000</td>\n",
       "      <td>1</td>\n",
       "    </tr>\n",
       "    <tr>\n",
       "      <td>9</td>\n",
       "      <td>43631</td>\n",
       "      <td>0006d282be70d06881a7513b69fcaa60</td>\n",
       "      <td>24.479755</td>\n",
       "      <td>118.146935</td>\n",
       "      <td>2019/5/31 1:33:35</td>\n",
       "      <td>292</td>\n",
       "      <td>0.000000</td>\n",
       "      <td>1</td>\n",
       "    </tr>\n",
       "    <tr>\n",
       "      <td>10</td>\n",
       "      <td>47770</td>\n",
       "      <td>0006d282be70d06881a7513b69fcaa60</td>\n",
       "      <td>24.479755</td>\n",
       "      <td>118.146935</td>\n",
       "      <td>2019/5/31 1:33:50</td>\n",
       "      <td>292</td>\n",
       "      <td>0.000000</td>\n",
       "      <td>1</td>\n",
       "    </tr>\n",
       "    <tr>\n",
       "      <td>11</td>\n",
       "      <td>51787</td>\n",
       "      <td>0006d282be70d06881a7513b69fcaa60</td>\n",
       "      <td>24.479755</td>\n",
       "      <td>118.146935</td>\n",
       "      <td>2019/5/31 1:34:05</td>\n",
       "      <td>292</td>\n",
       "      <td>0.000000</td>\n",
       "      <td>1</td>\n",
       "    </tr>\n",
       "    <tr>\n",
       "      <td>12</td>\n",
       "      <td>55960</td>\n",
       "      <td>0006d282be70d06881a7513b69fcaa60</td>\n",
       "      <td>24.479755</td>\n",
       "      <td>118.146935</td>\n",
       "      <td>2019/5/31 1:34:20</td>\n",
       "      <td>292</td>\n",
       "      <td>0.000000</td>\n",
       "      <td>1</td>\n",
       "    </tr>\n",
       "    <tr>\n",
       "      <td>13</td>\n",
       "      <td>59796</td>\n",
       "      <td>0006d282be70d06881a7513b69fcaa60</td>\n",
       "      <td>24.479755</td>\n",
       "      <td>118.146935</td>\n",
       "      <td>2019/5/31 1:34:35</td>\n",
       "      <td>292</td>\n",
       "      <td>0.000000</td>\n",
       "      <td>1</td>\n",
       "    </tr>\n",
       "    <tr>\n",
       "      <td>14</td>\n",
       "      <td>63826</td>\n",
       "      <td>0006d282be70d06881a7513b69fcaa60</td>\n",
       "      <td>24.479755</td>\n",
       "      <td>118.146935</td>\n",
       "      <td>2019/5/31 1:34:50</td>\n",
       "      <td>292</td>\n",
       "      <td>0.000000</td>\n",
       "      <td>1</td>\n",
       "    </tr>\n",
       "    <tr>\n",
       "      <td>15</td>\n",
       "      <td>67995</td>\n",
       "      <td>0006d282be70d06881a7513b69fcaa60</td>\n",
       "      <td>24.479755</td>\n",
       "      <td>118.146935</td>\n",
       "      <td>2019/5/31 1:35:05</td>\n",
       "      <td>292</td>\n",
       "      <td>0.000000</td>\n",
       "      <td>1</td>\n",
       "    </tr>\n",
       "    <tr>\n",
       "      <td>16</td>\n",
       "      <td>71959</td>\n",
       "      <td>0006d282be70d06881a7513b69fcaa60</td>\n",
       "      <td>24.479755</td>\n",
       "      <td>118.146935</td>\n",
       "      <td>2019/5/31 1:35:20</td>\n",
       "      <td>292</td>\n",
       "      <td>0.000000</td>\n",
       "      <td>1</td>\n",
       "    </tr>\n",
       "    <tr>\n",
       "      <td>17</td>\n",
       "      <td>75681</td>\n",
       "      <td>0006d282be70d06881a7513b69fcaa60</td>\n",
       "      <td>24.479755</td>\n",
       "      <td>118.146935</td>\n",
       "      <td>2019/5/31 1:35:35</td>\n",
       "      <td>292</td>\n",
       "      <td>0.000000</td>\n",
       "      <td>1</td>\n",
       "    </tr>\n",
       "    <tr>\n",
       "      <td>18</td>\n",
       "      <td>79784</td>\n",
       "      <td>0006d282be70d06881a7513b69fcaa60</td>\n",
       "      <td>24.479755</td>\n",
       "      <td>118.146935</td>\n",
       "      <td>2019/5/31 1:35:50</td>\n",
       "      <td>292</td>\n",
       "      <td>0.000000</td>\n",
       "      <td>1</td>\n",
       "    </tr>\n",
       "    <tr>\n",
       "      <td>19</td>\n",
       "      <td>83850</td>\n",
       "      <td>0006d282be70d06881a7513b69fcaa60</td>\n",
       "      <td>24.479755</td>\n",
       "      <td>118.146935</td>\n",
       "      <td>2019/5/31 1:36:05</td>\n",
       "      <td>292</td>\n",
       "      <td>0.000000</td>\n",
       "      <td>1</td>\n",
       "    </tr>\n",
       "    <tr>\n",
       "      <td>20</td>\n",
       "      <td>88008</td>\n",
       "      <td>0006d282be70d06881a7513b69fcaa60</td>\n",
       "      <td>24.479755</td>\n",
       "      <td>118.146935</td>\n",
       "      <td>2019/5/31 1:36:20</td>\n",
       "      <td>292</td>\n",
       "      <td>0.000000</td>\n",
       "      <td>1</td>\n",
       "    </tr>\n",
       "    <tr>\n",
       "      <td>21</td>\n",
       "      <td>91681</td>\n",
       "      <td>0006d282be70d06881a7513b69fcaa60</td>\n",
       "      <td>24.479755</td>\n",
       "      <td>118.146935</td>\n",
       "      <td>2019/5/31 1:36:35</td>\n",
       "      <td>292</td>\n",
       "      <td>0.000000</td>\n",
       "      <td>1</td>\n",
       "    </tr>\n",
       "    <tr>\n",
       "      <td>22</td>\n",
       "      <td>95820</td>\n",
       "      <td>0006d282be70d06881a7513b69fcaa60</td>\n",
       "      <td>24.479755</td>\n",
       "      <td>118.146935</td>\n",
       "      <td>2019/5/31 1:36:50</td>\n",
       "      <td>292</td>\n",
       "      <td>0.000000</td>\n",
       "      <td>1</td>\n",
       "    </tr>\n",
       "    <tr>\n",
       "      <td>23</td>\n",
       "      <td>99790</td>\n",
       "      <td>0006d282be70d06881a7513b69fcaa60</td>\n",
       "      <td>24.479755</td>\n",
       "      <td>118.146935</td>\n",
       "      <td>2019/5/31 1:37:05</td>\n",
       "      <td>292</td>\n",
       "      <td>0.000000</td>\n",
       "      <td>1</td>\n",
       "    </tr>\n",
       "    <tr>\n",
       "      <td>24</td>\n",
       "      <td>11844</td>\n",
       "      <td>0006d282be70d06881a7513b69fcaa60</td>\n",
       "      <td>24.486677</td>\n",
       "      <td>118.089470</td>\n",
       "      <td>2019/6/3 8:41:33</td>\n",
       "      <td>43</td>\n",
       "      <td>22.203125</td>\n",
       "      <td>1</td>\n",
       "    </tr>\n",
       "    <tr>\n",
       "      <td>25</td>\n",
       "      <td>12792</td>\n",
       "      <td>0006d282be70d06881a7513b69fcaa60</td>\n",
       "      <td>24.486799</td>\n",
       "      <td>118.089668</td>\n",
       "      <td>2019/6/3 8:41:36</td>\n",
       "      <td>59</td>\n",
       "      <td>35.093750</td>\n",
       "      <td>1</td>\n",
       "    </tr>\n",
       "    <tr>\n",
       "      <td>26</td>\n",
       "      <td>17059</td>\n",
       "      <td>0006d282be70d06881a7513b69fcaa60</td>\n",
       "      <td>24.487326</td>\n",
       "      <td>118.091515</td>\n",
       "      <td>2019/6/3 8:41:51</td>\n",
       "      <td>73</td>\n",
       "      <td>27.703125</td>\n",
       "      <td>1</td>\n",
       "    </tr>\n",
       "    <tr>\n",
       "      <td>27</td>\n",
       "      <td>18633</td>\n",
       "      <td>0006d282be70d06881a7513b69fcaa60</td>\n",
       "      <td>24.487551</td>\n",
       "      <td>118.091782</td>\n",
       "      <td>2019/6/3 8:41:57</td>\n",
       "      <td>358</td>\n",
       "      <td>25.906250</td>\n",
       "      <td>1</td>\n",
       "    </tr>\n",
       "    <tr>\n",
       "      <td>28</td>\n",
       "      <td>21806</td>\n",
       "      <td>0006d282be70d06881a7513b69fcaa60</td>\n",
       "      <td>24.488405</td>\n",
       "      <td>118.091621</td>\n",
       "      <td>2019/6/3 8:42:06</td>\n",
       "      <td>346</td>\n",
       "      <td>37.000000</td>\n",
       "      <td>1</td>\n",
       "    </tr>\n",
       "    <tr>\n",
       "      <td>29</td>\n",
       "      <td>26133</td>\n",
       "      <td>0006d282be70d06881a7513b69fcaa60</td>\n",
       "      <td>24.489017</td>\n",
       "      <td>118.091553</td>\n",
       "      <td>2019/6/3 8:42:21</td>\n",
       "      <td>352</td>\n",
       "      <td>0.000000</td>\n",
       "      <td>1</td>\n",
       "    </tr>\n",
       "    <tr>\n",
       "      <td>30</td>\n",
       "      <td>29977</td>\n",
       "      <td>0006d282be70d06881a7513b69fcaa60</td>\n",
       "      <td>24.489201</td>\n",
       "      <td>118.091492</td>\n",
       "      <td>2019/6/3 8:42:36</td>\n",
       "      <td>350</td>\n",
       "      <td>12.898438</td>\n",
       "      <td>1</td>\n",
       "    </tr>\n",
       "    <tr>\n",
       "      <td>31</td>\n",
       "      <td>34074</td>\n",
       "      <td>0006d282be70d06881a7513b69fcaa60</td>\n",
       "      <td>24.489265</td>\n",
       "      <td>118.091476</td>\n",
       "      <td>2019/6/3 8:42:50</td>\n",
       "      <td>339</td>\n",
       "      <td>0.000000</td>\n",
       "      <td>6</td>\n",
       "    </tr>\n",
       "    <tr>\n",
       "      <td>32</td>\n",
       "      <td>34159</td>\n",
       "      <td>0006d282be70d06881a7513b69fcaa60</td>\n",
       "      <td>24.489265</td>\n",
       "      <td>118.091476</td>\n",
       "      <td>2019/6/3 8:42:51</td>\n",
       "      <td>339</td>\n",
       "      <td>0.000000</td>\n",
       "      <td>6</td>\n",
       "    </tr>\n",
       "    <tr>\n",
       "      <td>33</td>\n",
       "      <td>38524</td>\n",
       "      <td>0006d282be70d06881a7513b69fcaa60</td>\n",
       "      <td>24.489265</td>\n",
       "      <td>118.091476</td>\n",
       "      <td>2019/6/3 8:43:06</td>\n",
       "      <td>341</td>\n",
       "      <td>5.500000</td>\n",
       "      <td>6</td>\n",
       "    </tr>\n",
       "    <tr>\n",
       "      <td>34</td>\n",
       "      <td>43267</td>\n",
       "      <td>0006d282be70d06881a7513b69fcaa60</td>\n",
       "      <td>24.490068</td>\n",
       "      <td>118.091255</td>\n",
       "      <td>2019/6/3 8:43:21</td>\n",
       "      <td>349</td>\n",
       "      <td>11.101562</td>\n",
       "      <td>6</td>\n",
       "    </tr>\n",
       "    <tr>\n",
       "      <td>35</td>\n",
       "      <td>47468</td>\n",
       "      <td>0006d282be70d06881a7513b69fcaa60</td>\n",
       "      <td>24.490837</td>\n",
       "      <td>118.091125</td>\n",
       "      <td>2019/6/3 8:43:36</td>\n",
       "      <td>351</td>\n",
       "      <td>31.406250</td>\n",
       "      <td>6</td>\n",
       "    </tr>\n",
       "    <tr>\n",
       "      <td>36</td>\n",
       "      <td>50366</td>\n",
       "      <td>0006d282be70d06881a7513b69fcaa60</td>\n",
       "      <td>24.491488</td>\n",
       "      <td>118.091232</td>\n",
       "      <td>2019/6/3 8:43:47</td>\n",
       "      <td>39</td>\n",
       "      <td>20.296875</td>\n",
       "      <td>6</td>\n",
       "    </tr>\n",
       "    <tr>\n",
       "      <td>37</td>\n",
       "      <td>51545</td>\n",
       "      <td>0006d282be70d06881a7513b69fcaa60</td>\n",
       "      <td>24.491570</td>\n",
       "      <td>118.091347</td>\n",
       "      <td>2019/6/3 8:43:51</td>\n",
       "      <td>75</td>\n",
       "      <td>12.898438</td>\n",
       "      <td>6</td>\n",
       "    </tr>\n",
       "    <tr>\n",
       "      <td>38</td>\n",
       "      <td>56097</td>\n",
       "      <td>0006d282be70d06881a7513b69fcaa60</td>\n",
       "      <td>24.491735</td>\n",
       "      <td>118.093338</td>\n",
       "      <td>2019/6/3 8:44:06</td>\n",
       "      <td>83</td>\n",
       "      <td>64.812500</td>\n",
       "      <td>6</td>\n",
       "    </tr>\n",
       "    <tr>\n",
       "      <td>39</td>\n",
       "      <td>60915</td>\n",
       "      <td>0006d282be70d06881a7513b69fcaa60</td>\n",
       "      <td>24.492233</td>\n",
       "      <td>118.095963</td>\n",
       "      <td>2019/6/3 8:44:21</td>\n",
       "      <td>74</td>\n",
       "      <td>64.812500</td>\n",
       "      <td>6</td>\n",
       "    </tr>\n",
       "    <tr>\n",
       "      <td>40</td>\n",
       "      <td>64769</td>\n",
       "      <td>0006d282be70d06881a7513b69fcaa60</td>\n",
       "      <td>24.492392</td>\n",
       "      <td>118.097336</td>\n",
       "      <td>2019/6/3 8:44:36</td>\n",
       "      <td>59</td>\n",
       "      <td>0.000000</td>\n",
       "      <td>6</td>\n",
       "    </tr>\n",
       "    <tr>\n",
       "      <td>41</td>\n",
       "      <td>68828</td>\n",
       "      <td>0006d282be70d06881a7513b69fcaa60</td>\n",
       "      <td>24.492645</td>\n",
       "      <td>118.097969</td>\n",
       "      <td>2019/6/3 8:44:51</td>\n",
       "      <td>68</td>\n",
       "      <td>29.593750</td>\n",
       "      <td>6</td>\n",
       "    </tr>\n",
       "    <tr>\n",
       "      <td>42</td>\n",
       "      <td>73094</td>\n",
       "      <td>0006d282be70d06881a7513b69fcaa60</td>\n",
       "      <td>24.492941</td>\n",
       "      <td>118.098862</td>\n",
       "      <td>2019/6/3 8:45:06</td>\n",
       "      <td>75</td>\n",
       "      <td>27.703125</td>\n",
       "      <td>6</td>\n",
       "    </tr>\n",
       "    <tr>\n",
       "      <td>43</td>\n",
       "      <td>77977</td>\n",
       "      <td>0006d282be70d06881a7513b69fcaa60</td>\n",
       "      <td>24.493725</td>\n",
       "      <td>118.100685</td>\n",
       "      <td>2019/6/3 8:45:21</td>\n",
       "      <td>64</td>\n",
       "      <td>53.687500</td>\n",
       "      <td>6</td>\n",
       "    </tr>\n",
       "    <tr>\n",
       "      <td>44</td>\n",
       "      <td>81944</td>\n",
       "      <td>0006d282be70d06881a7513b69fcaa60</td>\n",
       "      <td>24.494364</td>\n",
       "      <td>118.103058</td>\n",
       "      <td>2019/6/3 8:45:36</td>\n",
       "      <td>70</td>\n",
       "      <td>61.093750</td>\n",
       "      <td>6</td>\n",
       "    </tr>\n",
       "    <tr>\n",
       "      <td>45</td>\n",
       "      <td>86220</td>\n",
       "      <td>0006d282be70d06881a7513b69fcaa60</td>\n",
       "      <td>24.494911</td>\n",
       "      <td>118.105659</td>\n",
       "      <td>2019/6/3 8:45:51</td>\n",
       "      <td>75</td>\n",
       "      <td>51.812500</td>\n",
       "      <td>6</td>\n",
       "    </tr>\n",
       "    <tr>\n",
       "      <td>46</td>\n",
       "      <td>90300</td>\n",
       "      <td>0006d282be70d06881a7513b69fcaa60</td>\n",
       "      <td>24.495272</td>\n",
       "      <td>118.107162</td>\n",
       "      <td>2019/6/3 8:46:06</td>\n",
       "      <td>78</td>\n",
       "      <td>7.398438</td>\n",
       "      <td>6</td>\n",
       "    </tr>\n",
       "    <tr>\n",
       "      <td>47</td>\n",
       "      <td>95301</td>\n",
       "      <td>0006d282be70d06881a7513b69fcaa60</td>\n",
       "      <td>24.495245</td>\n",
       "      <td>118.107254</td>\n",
       "      <td>2019/6/3 8:46:21</td>\n",
       "      <td>68</td>\n",
       "      <td>7.398438</td>\n",
       "      <td>6</td>\n",
       "    </tr>\n",
       "    <tr>\n",
       "      <td>48</td>\n",
       "      <td>99271</td>\n",
       "      <td>0006d282be70d06881a7513b69fcaa60</td>\n",
       "      <td>24.495277</td>\n",
       "      <td>118.107414</td>\n",
       "      <td>2019/6/3 8:46:36</td>\n",
       "      <td>59</td>\n",
       "      <td>3.699219</td>\n",
       "      <td>6</td>\n",
       "    </tr>\n",
       "  </tbody>\n",
       "</table>\n",
       "</div>"
      ],
      "text/plain": [
       "    index                             CARNO   LATITUDE   LONGITUDE  \\\n",
       "0    7622  0006d282be70d06881a7513b69fcaa60  24.479755  118.146935   \n",
       "1   11509  0006d282be70d06881a7513b69fcaa60  24.479755  118.146935   \n",
       "2   15763  0006d282be70d06881a7513b69fcaa60  24.479755  118.146935   \n",
       "3   19754  0006d282be70d06881a7513b69fcaa60  24.479755  118.146935   \n",
       "4   23693  0006d282be70d06881a7513b69fcaa60  24.479755  118.146935   \n",
       "5   27572  0006d282be70d06881a7513b69fcaa60  24.479755  118.146935   \n",
       "6   31680  0006d282be70d06881a7513b69fcaa60  24.479755  118.146935   \n",
       "7   35934  0006d282be70d06881a7513b69fcaa60  24.479755  118.146935   \n",
       "8   39853  0006d282be70d06881a7513b69fcaa60  24.479755  118.146935   \n",
       "9   43631  0006d282be70d06881a7513b69fcaa60  24.479755  118.146935   \n",
       "10  47770  0006d282be70d06881a7513b69fcaa60  24.479755  118.146935   \n",
       "11  51787  0006d282be70d06881a7513b69fcaa60  24.479755  118.146935   \n",
       "12  55960  0006d282be70d06881a7513b69fcaa60  24.479755  118.146935   \n",
       "13  59796  0006d282be70d06881a7513b69fcaa60  24.479755  118.146935   \n",
       "14  63826  0006d282be70d06881a7513b69fcaa60  24.479755  118.146935   \n",
       "15  67995  0006d282be70d06881a7513b69fcaa60  24.479755  118.146935   \n",
       "16  71959  0006d282be70d06881a7513b69fcaa60  24.479755  118.146935   \n",
       "17  75681  0006d282be70d06881a7513b69fcaa60  24.479755  118.146935   \n",
       "18  79784  0006d282be70d06881a7513b69fcaa60  24.479755  118.146935   \n",
       "19  83850  0006d282be70d06881a7513b69fcaa60  24.479755  118.146935   \n",
       "20  88008  0006d282be70d06881a7513b69fcaa60  24.479755  118.146935   \n",
       "21  91681  0006d282be70d06881a7513b69fcaa60  24.479755  118.146935   \n",
       "22  95820  0006d282be70d06881a7513b69fcaa60  24.479755  118.146935   \n",
       "23  99790  0006d282be70d06881a7513b69fcaa60  24.479755  118.146935   \n",
       "24  11844  0006d282be70d06881a7513b69fcaa60  24.486677  118.089470   \n",
       "25  12792  0006d282be70d06881a7513b69fcaa60  24.486799  118.089668   \n",
       "26  17059  0006d282be70d06881a7513b69fcaa60  24.487326  118.091515   \n",
       "27  18633  0006d282be70d06881a7513b69fcaa60  24.487551  118.091782   \n",
       "28  21806  0006d282be70d06881a7513b69fcaa60  24.488405  118.091621   \n",
       "29  26133  0006d282be70d06881a7513b69fcaa60  24.489017  118.091553   \n",
       "30  29977  0006d282be70d06881a7513b69fcaa60  24.489201  118.091492   \n",
       "31  34074  0006d282be70d06881a7513b69fcaa60  24.489265  118.091476   \n",
       "32  34159  0006d282be70d06881a7513b69fcaa60  24.489265  118.091476   \n",
       "33  38524  0006d282be70d06881a7513b69fcaa60  24.489265  118.091476   \n",
       "34  43267  0006d282be70d06881a7513b69fcaa60  24.490068  118.091255   \n",
       "35  47468  0006d282be70d06881a7513b69fcaa60  24.490837  118.091125   \n",
       "36  50366  0006d282be70d06881a7513b69fcaa60  24.491488  118.091232   \n",
       "37  51545  0006d282be70d06881a7513b69fcaa60  24.491570  118.091347   \n",
       "38  56097  0006d282be70d06881a7513b69fcaa60  24.491735  118.093338   \n",
       "39  60915  0006d282be70d06881a7513b69fcaa60  24.492233  118.095963   \n",
       "40  64769  0006d282be70d06881a7513b69fcaa60  24.492392  118.097336   \n",
       "41  68828  0006d282be70d06881a7513b69fcaa60  24.492645  118.097969   \n",
       "42  73094  0006d282be70d06881a7513b69fcaa60  24.492941  118.098862   \n",
       "43  77977  0006d282be70d06881a7513b69fcaa60  24.493725  118.100685   \n",
       "44  81944  0006d282be70d06881a7513b69fcaa60  24.494364  118.103058   \n",
       "45  86220  0006d282be70d06881a7513b69fcaa60  24.494911  118.105659   \n",
       "46  90300  0006d282be70d06881a7513b69fcaa60  24.495272  118.107162   \n",
       "47  95301  0006d282be70d06881a7513b69fcaa60  24.495245  118.107254   \n",
       "48  99271  0006d282be70d06881a7513b69fcaa60  24.495277  118.107414   \n",
       "\n",
       "             GPS_TIME  DRIVING_DIRECTION  GPS_SPEED  OPERATING_STATUS  \n",
       "0   2019/5/31 1:31:20                292   0.000000                 1  \n",
       "1   2019/5/31 1:31:35                292   0.000000                 1  \n",
       "2   2019/5/31 1:31:50                292   0.000000                 1  \n",
       "3   2019/5/31 1:32:05                292   0.000000                 1  \n",
       "4   2019/5/31 1:32:20                292   0.000000                 1  \n",
       "5   2019/5/31 1:32:35                292   0.000000                 1  \n",
       "6   2019/5/31 1:32:50                292   0.000000                 1  \n",
       "7   2019/5/31 1:33:05                292   0.000000                 1  \n",
       "8   2019/5/31 1:33:20                292   0.000000                 1  \n",
       "9   2019/5/31 1:33:35                292   0.000000                 1  \n",
       "10  2019/5/31 1:33:50                292   0.000000                 1  \n",
       "11  2019/5/31 1:34:05                292   0.000000                 1  \n",
       "12  2019/5/31 1:34:20                292   0.000000                 1  \n",
       "13  2019/5/31 1:34:35                292   0.000000                 1  \n",
       "14  2019/5/31 1:34:50                292   0.000000                 1  \n",
       "15  2019/5/31 1:35:05                292   0.000000                 1  \n",
       "16  2019/5/31 1:35:20                292   0.000000                 1  \n",
       "17  2019/5/31 1:35:35                292   0.000000                 1  \n",
       "18  2019/5/31 1:35:50                292   0.000000                 1  \n",
       "19  2019/5/31 1:36:05                292   0.000000                 1  \n",
       "20  2019/5/31 1:36:20                292   0.000000                 1  \n",
       "21  2019/5/31 1:36:35                292   0.000000                 1  \n",
       "22  2019/5/31 1:36:50                292   0.000000                 1  \n",
       "23  2019/5/31 1:37:05                292   0.000000                 1  \n",
       "24   2019/6/3 8:41:33                 43  22.203125                 1  \n",
       "25   2019/6/3 8:41:36                 59  35.093750                 1  \n",
       "26   2019/6/3 8:41:51                 73  27.703125                 1  \n",
       "27   2019/6/3 8:41:57                358  25.906250                 1  \n",
       "28   2019/6/3 8:42:06                346  37.000000                 1  \n",
       "29   2019/6/3 8:42:21                352   0.000000                 1  \n",
       "30   2019/6/3 8:42:36                350  12.898438                 1  \n",
       "31   2019/6/3 8:42:50                339   0.000000                 6  \n",
       "32   2019/6/3 8:42:51                339   0.000000                 6  \n",
       "33   2019/6/3 8:43:06                341   5.500000                 6  \n",
       "34   2019/6/3 8:43:21                349  11.101562                 6  \n",
       "35   2019/6/3 8:43:36                351  31.406250                 6  \n",
       "36   2019/6/3 8:43:47                 39  20.296875                 6  \n",
       "37   2019/6/3 8:43:51                 75  12.898438                 6  \n",
       "38   2019/6/3 8:44:06                 83  64.812500                 6  \n",
       "39   2019/6/3 8:44:21                 74  64.812500                 6  \n",
       "40   2019/6/3 8:44:36                 59   0.000000                 6  \n",
       "41   2019/6/3 8:44:51                 68  29.593750                 6  \n",
       "42   2019/6/3 8:45:06                 75  27.703125                 6  \n",
       "43   2019/6/3 8:45:21                 64  53.687500                 6  \n",
       "44   2019/6/3 8:45:36                 70  61.093750                 6  \n",
       "45   2019/6/3 8:45:51                 75  51.812500                 6  \n",
       "46   2019/6/3 8:46:06                 78   7.398438                 6  \n",
       "47   2019/6/3 8:46:21                 68   7.398438                 6  \n",
       "48   2019/6/3 8:46:36                 59   3.699219                 6  "
      ]
     },
     "execution_count": 24,
     "metadata": {},
     "output_type": "execute_result"
    }
   ],
   "source": [
    "#某辆巡游车数据\n",
    "taxigps2019[taxigps2019['CARNO'] == '0006d282be70d06881a7513b69fcaa60']"
   ]
  },
  {
   "cell_type": "code",
   "execution_count": 25,
   "metadata": {
    "execution": {
     "iopub.execute_input": "2020-09-10T09:24:40.249043Z",
     "iopub.status.busy": "2020-09-10T09:24:40.249043Z",
     "iopub.status.idle": "2020-09-10T09:24:40.257994Z",
     "shell.execute_reply": "2020-09-10T09:24:40.257994Z",
     "shell.execute_reply.started": "2020-09-10T09:24:40.249043Z"
    }
   },
   "outputs": [
    {
     "data": {
      "text/plain": [
       "array(['01b6345d172155fce5c9422ebf7ecfd7',\n",
       "       '02d0b1ee4ab26e697cd34c599285e502',\n",
       "       '02ef92d251760486d99663319ef0b22f',\n",
       "       '0332ffecc737fb3b14ea6f553727c780',\n",
       "       '049602e84069d4edd23a5f118acf2847',\n",
       "       '04bf7117ad89c16d402046dc110cae0f',\n",
       "       '04f2300ee787e6b9387e056c3bca7c04',\n",
       "       '059843df5f7395d74bea7564464da438',\n",
       "       '05bfd59402cc350ff5526b7868272fb4',\n",
       "       '066342daae6980fc626a7ed44b79bd30',\n",
       "       '06719405f498a2454b1bfd503607c58e',\n",
       "       '076c4fd3d6c504396e72328f24d9644c',\n",
       "       '0781cbd09b4dfdcb24ab6801ca3f7807',\n",
       "       '07f1009106ee195aa6c5b23b8f286bd4',\n",
       "       '082c969ac9f426ef08267b8c895b30be',\n",
       "       '08be345e776bb0d51303e9812dcc8b91',\n",
       "       '08fec53a1a9d5b76f7b4770d088466fa',\n",
       "       '099256853a429e8db47ee3a21b6475a3',\n",
       "       '09a77490a3a232b71ea4a88ccf1a27a7',\n",
       "       '0a43922458d8d103a7e96d36a9bacd7c',\n",
       "       '0b83df2a2691a99490daef10c32868e3',\n",
       "       '0c65746b1fb73b65caaef9f47225b505',\n",
       "       '0d05c9f4efb7eb39d352d46c4c43a1b7',\n",
       "       '0d14e3628e624fac310b0e57281b9091',\n",
       "       '0e080ce6bde4c10a6b7a08629dcecb08',\n",
       "       '0e6390c6842da2f53db0cce82cef7828',\n",
       "       '0e793d6549237fc07a6676c9b67ac2ec',\n",
       "       '0eb02604a65332edbd6209a134991920',\n",
       "       '0eb8a72547243cc7008cd93fc367b3eb',\n",
       "       '0f074bc3c47b56d3942d621bd61eb3e4',\n",
       "       '0fbe75edc9b94b796d660d3f6ab9c367',\n",
       "       '100bb5ad8a8c30b23cc0932c21f9850a',\n",
       "       '11490f514c597080c4919110a8eeadc7',\n",
       "       '11b540b7fec802504799a84fe002aec1',\n",
       "       '11df101b609e29dfd557298909da52ce',\n",
       "       '12ad160efe50c5e932e0d375355f5a12',\n",
       "       '130de2ec96a9b4615a6e5d141f796f9a',\n",
       "       '134814cd54ea1a4207fd3720494aed6a',\n",
       "       '13eb0be485e1d8d4cb7c4bd3812433da',\n",
       "       '141a3975962aa4433cfb8bfff108b498',\n",
       "       '1463e310bfd57dcf6fa32fd2f9f75212',\n",
       "       '146824132c1f9d2e3469e80230a2d245',\n",
       "       '149ab015534aa196aacf745b0ed7936e',\n",
       "       '14d01e4bce14294057323935a07fce0a',\n",
       "       '1521e754d2f84cbbf6402b05ed0c8963',\n",
       "       '15eab9ecb3141396f1233a88a97c9f1c',\n",
       "       '16629e5eb2c8bbfa353342eb6d3c0e93',\n",
       "       '17354328f7f852e1e01f9f25e789640d',\n",
       "       '176a671afd6bd9f21357032f4e4b732b',\n",
       "       '178714a2f274f0f7ad1b724b43ea22dd',\n",
       "       '18ff499d13187aff7426cc94463a5c44',\n",
       "       '195e17a1abe66f8b0151ced5f1f0cc2a',\n",
       "       '1973d077d0bd6e390d8f67c97a6f25b0',\n",
       "       '1a1eefdd1bfc2abf540edf739c216053',\n",
       "       '1aa6f59ad74c0c6ccfd68e9788da0f12',\n",
       "       '1af127df774b589e1e27e5ce75af9aef',\n",
       "       '1bd935f0822733bc08ee49ddc62d0ea4',\n",
       "       '1be80e50a3f3d04884171e2263e35120',\n",
       "       '1c5c83ac79270f1503f3568c9d4ea766',\n",
       "       '1ce8669da327a944abe50873f2a02242',\n",
       "       '1d468fdf04c65d0bb2c64e501f95185f',\n",
       "       '1dc89ee1f160ce5911cf8168eabf48a7',\n",
       "       '1e45e18376d89a3e27344985fc7e19d5',\n",
       "       '1e6f2613898baf311c6defd7a5270183',\n",
       "       '1f517a95fe06c9f3f7c78ab3524cffac',\n",
       "       '1f5384dbe7d06dfe6c72d8af1fd6b917',\n",
       "       '200f8afa3dbf52e16f82b88102b6f946',\n",
       "       '2023dc865c1b1eed5411825f60a54322',\n",
       "       '211f1ec4c587dc3c9df7ccf14b4d46f0',\n",
       "       '211f4c4f761e20ae9698642e435143f8',\n",
       "       '212382126dc079b2c876c1a081688bf3',\n",
       "       '216336efc5b79e62e51ad48bb6ae7846',\n",
       "       '21a1b2eb0c95cd0ac9c81e12016def7e',\n",
       "       '227f5f6d00bbc06f4b967cb30ebacc5d',\n",
       "       '228342f5c9c01f00fdcbe84c0500ec12',\n",
       "       '22d2fb53fef58768861ef22e90322997',\n",
       "       '23abf4b1cf603e697c0734a1774829ac',\n",
       "       '23eccfcd3c6f0360826d7903dd3f54c5',\n",
       "       '2462b7e31708f826fec845c3747164c6',\n",
       "       '24737c17560b4cfeb814b9694b7c4268',\n",
       "       '247d9fcf8769114e38a6d220c9bf345e',\n",
       "       '24c05585a3d491ee6c7de5b2efa48e17',\n",
       "       '25947dfc93a41f4ec463fced32fd331f',\n",
       "       '25fba2cff788393c9b7ee011d7ef35f9',\n",
       "       '26281afd9bc5da86cf0516d4badd655f',\n",
       "       '264f47f899e3c6ca7fe7c7be9fa8286f',\n",
       "       '2686ab98bc9f76ed81e6bf2535175e76',\n",
       "       '26a31ba59b228391f4358ce679ea12d5',\n",
       "       '27a30e4c51979a34dae26faf70b4316f',\n",
       "       '28545248763c9bf16ed376ce85ca3ba4',\n",
       "       '28b3e980fa6b52552fb91df5eee13a2a',\n",
       "       '28e2c3f339b47fb4e2078634041a57c8',\n",
       "       '2a3a73ae3bacf50e22d9eb3bff15387e',\n",
       "       '2ad407835a4347b5a8ce9af9861b60bc',\n",
       "       '2dc4bd726a01200a721f4e7764c1083a',\n",
       "       '2dfd9f54f339e14a04945ad5a1cba481',\n",
       "       '2e1e30ffbf30979add1aff46116af2b2',\n",
       "       '2eaa7d19186e8e74ccda46696e3a880f',\n",
       "       '2ebb887c5ddcff51a837954dec8260e3',\n",
       "       '2f8bfc1515a6e36a1cfd9c6e8124febe',\n",
       "       '2faf2fad9a8f014c47b256c01072d0fe',\n",
       "       '3143803a8ba956dd427594c6583c24f4',\n",
       "       '31c8914d08fec1c97be64847c46315ee',\n",
       "       '3274bea04731f925d1b3eb14948db900',\n",
       "       '3296ce307c44c5af72b74266b1330d0d',\n",
       "       '32ebd63e2d1e3092da460fb26b0940cc',\n",
       "       '346eac42c0f48d45dba047241ce4695b',\n",
       "       '34873d2236b4a75e27b9333a5a31a4e5',\n",
       "       '34d5efff9b58db632aad5d355e2dd320',\n",
       "       '34d85b20f8a66b9b0321e312b8837953',\n",
       "       '352c7d46a919bb84b061170db8514048',\n",
       "       '370ca8c684fde0e149f8b6deeaea13ad',\n",
       "       '37c89a6830c9772957bc1445b98bfe1e',\n",
       "       '37deb0ceb0a201a16864ddfa4d141a78',\n",
       "       '37e67998d356dac5e134e1b4f5a1afe9',\n",
       "       '37eda315a04551e8f4934f651e8cec8a',\n",
       "       '38be6bfd34a2395c28490505be912a55',\n",
       "       '38c428093c9316d5d581cc10ebdbb1f9',\n",
       "       '3989f1dff2fca5a5c79074904bae5abc',\n",
       "       '39bf1ba84f303fb7d966b441346ba47b',\n",
       "       '39cbd63262075c90f1f2170d57cf206c',\n",
       "       '3ab714d7b77b35aa8838cca1924bfce1',\n",
       "       '3af7c973b62d4a055553b0a3705ffe8b',\n",
       "       '3b203752f31e331e9bc4184d46ac54d0',\n",
       "       '3b3e05489b5da6baf9a44c52e0de0f57',\n",
       "       '3b4752a0705abc43b48e15a69726d4e5',\n",
       "       '3e422efee7b2e4997b9d3735bf701739',\n",
       "       '3efba350cbd3295301d42c793aca9d03',\n",
       "       '3fd2ee68304aa260a9e49427972d178e',\n",
       "       '4074bd84e3caa78026d40344b858d079',\n",
       "       '40bf6319aff2335a2bede31056ea65f7',\n",
       "       '4109e2aa49c407aa7baa4f4af1a3e26b',\n",
       "       '4127f002914ac363aa72f54afebf601b',\n",
       "       '414bd5bf6cc5ba5dd99f713539530f2c',\n",
       "       '41a0eec6d855d74afd6d2c2b70f75861',\n",
       "       '41aa837e2d25e788876ef397ceadf996',\n",
       "       '42ac9f40901c31a2cd25e29868a32f91',\n",
       "       '43057d2036888c7d17dc07ba91803701',\n",
       "       '437bc6b356d23b1e3451a55214711804',\n",
       "       '4383b1b60dd22021b2786cc2afd180dc',\n",
       "       '448ac3be372995f58faa49632cc4e5db',\n",
       "       '44c781510b0078290230af27d6e72f6d',\n",
       "       '456053eb433fbdfb3999c13402fb524c',\n",
       "       '458fb8e69a56bcce24e8eceb705961f7',\n",
       "       '462ae83e4b9ab5543a8d3a22adcc90fd',\n",
       "       '463523d6729fe517957ed92a5d1530cd',\n",
       "       '466b3250da2cb5b5b2e1d3ea57824c2b',\n",
       "       '46fa19d5c6799a71c732ea0b9ce5cfc2',\n",
       "       '473cf442c3a2a9ee8995f11f9f2420d1',\n",
       "       '47c2ce1eb8c1eda2983488d8e9570be5',\n",
       "       '48086a7da961972d72ed1c79f2f7cffc',\n",
       "       '48101ed129edecbc8e9c2088c0892511',\n",
       "       '4855f52f5175891f47922a2a8a763201',\n",
       "       '496df4bc6716461cf9f2d85f07bae7e2',\n",
       "       '4978ee6931fc4010425cad7d4b770275',\n",
       "       '49d5f42b1aaf30095f38c597d1c97cbb',\n",
       "       '4adaf7df61d0f4d54a8044ce105f87bb',\n",
       "       '4b375cde2985ce3cb2ef9b6af67a8b7d',\n",
       "       '4c110d5c71b72e031dc92fa4996a67ff',\n",
       "       '4cb4a9e6818b92562914ab1f7bdc5773',\n",
       "       '4d0871f89dcf4197dbb0fa8956a399ba',\n",
       "       '4e1fdafd763025aeef35c5782b205068',\n",
       "       '4e9fcc6ec09d213ab7ac8071099d6a9a',\n",
       "       '4ed71b0dff37b820eb0e3c4ed57ad87f',\n",
       "       '4ef0c85a4bce606cbd21e20fe4bbf05d',\n",
       "       '4f10b52d50bcd8a7221f8732101c5c99',\n",
       "       '4fd3f8683f47dc6f91a6f8b7eed0dc75',\n",
       "       '4ff0f7d0c5fca8a1c6769fe8982f581e',\n",
       "       '5195874b71d2895e5e289263141e7ea2',\n",
       "       '524751e41c404613a7e78428216609d7',\n",
       "       '52b9b57cd981ecaec8387d873903c20d',\n",
       "       '55398d5befa9b4fad941ab135ad672cd',\n",
       "       '553cd9468751825e6ce550b91ea86545',\n",
       "       '567638453fa898869b8c4edc0c3cc914',\n",
       "       '569a9e7a5e1fd7afffe5b5f2f491af99',\n",
       "       '5751948d17d79e3560a0faeef21e9524',\n",
       "       '57fbf9da9096d9f91699facdfdbf0a40',\n",
       "       '5814ba19741f6664a4f6e7d110cdeaa1',\n",
       "       '58a3b289b61b2de70d2a355664359d92',\n",
       "       '58bf6ba61824ed18e5b3bfe1d104e152',\n",
       "       '593d505c4cefb940adb22a0730206b6a',\n",
       "       '594881416ee1ef3afd1e9f4d7f7cf0f2',\n",
       "       '595ea540bd76d76f31a135fdce77252f',\n",
       "       '59a94d731a06e95e724bb793fb509f5c',\n",
       "       '5a5087521b5cb2c6ecce9c51027ce70f',\n",
       "       '5a6d74523ec3888f3f363299628dc681',\n",
       "       '5ab0dc7971e2dfd9b6b12c68b2efde15',\n",
       "       '5f1dbf34a2acc25b09c86fe5eb048b16',\n",
       "       '5f8ffe741334ae932933a9dd10aeb183',\n",
       "       '60e746546eb378348a39ed969f46d249',\n",
       "       '61686644533a441f2e23ef129a710491',\n",
       "       '620eef38dceec48304f91537e8f318c1',\n",
       "       '627e0ada70d22c804a45ad65252974b5',\n",
       "       '62b13c3a28fcee86e4d53e53c8195a40',\n",
       "       '62ef5cd59cf5d91f93a5b4029d283081',\n",
       "       '63cbc44952935145fc086aae4e9858dd',\n",
       "       '641fd2051de2dc763820f4eff558925e',\n",
       "       '65295a62bfe05022195271867996adbd',\n",
       "       '6543d36a5c716eb1827b7abd28fdd8ef',\n",
       "       '65546fb256ee24a1209213f77b162df6',\n",
       "       '659153c92e20a0ed65d9eff5127cb76a',\n",
       "       '65929cf04a3bb3997e0a4408cd82c671',\n",
       "       '65ff0d0781b2602e02f8362ff542bf34',\n",
       "       '663b6d31115ff279fd9432f36c157207',\n",
       "       '6780344e3b7bc09c971834309a55fb43',\n",
       "       '67c10585dbbd1ffc1f74f91093ff51cf',\n",
       "       '683acbb23046251d4076f0d014e7a249',\n",
       "       '69590626fb18ae405a8a0bcbbf97c377',\n",
       "       '69b61fa02c7323101bdd816085ce4a00',\n",
       "       '6b573e68dc33e6f7e28c25da0ba705e8',\n",
       "       '6c18c100739194bbd8b539ff22c7eb97',\n",
       "       '6c34c143e198404c5e8b6534e6ba787b',\n",
       "       '6cb84cf9784d7e11389de058f2e37f65',\n",
       "       '6cce1f5f783897d7a0836cb933e46e51',\n",
       "       '6d211327726ba76d5209637e71ee35b8',\n",
       "       '6de4923f602760b3bc3f0ef77cf2b89e',\n",
       "       '6df101786162aa1e378dbe212887ab29',\n",
       "       '6e5a883ab9c747f6834ce8d5c9552770',\n",
       "       '716799219c03d7c289f5c111e1232626',\n",
       "       '7234daa6918fae94d72e099f29ea7f22',\n",
       "       '7272a104a9ac8364a88693d7980fd6a0',\n",
       "       '72d264180ee9458262fa2e125feb9c26',\n",
       "       '72f36a5a1a5273d5425cb5dad23b638b',\n",
       "       '746b5c13e1085ef0ac89cac6e94cc855',\n",
       "       '747484b9222f29ca2fba48c4445a5dce',\n",
       "       '74be9958ee46837fbb3f0ef84e6077b1',\n",
       "       '74ed1eec99a3590ded4d67bd410f3e6f',\n",
       "       '75a4eb80921e668cfe640b3565c87e69',\n",
       "       '75c66aba48eb3b65846554d9e8024f24',\n",
       "       '7646ded4c120c7590d1a59dc9eb571e8',\n",
       "       '7750d87b27d2a38af91a6b65d649439d',\n",
       "       '78d9d2132131952d30ad211789ddfe67',\n",
       "       '7931d347e8a2a959f89e9bb01ef58ca2',\n",
       "       '7a06b0d042614ed72c4f057a25d8c6b3',\n",
       "       '7a9b6a90ee27cbe89fff2d40a786ce26',\n",
       "       '7b4d9eddc443a322e2ab724f6a75836a',\n",
       "       '7c22d1e8f9ed1a38614fa52d414f6fd8',\n",
       "       '7c540413cdac2edfa7b47f5ffe1a72b9',\n",
       "       '7c62a349bd9fe6115a64d0f2ef4e2ce4',\n",
       "       '7d7653a08703dc6219ed5d741a08a8fa',\n",
       "       '7eca230da285fd58dbd31468caf4e506',\n",
       "       '7f1f3a1301d9d8bcf6893df9c4c93e69',\n",
       "       '7f5f771406a81148c7b0e22f3451635b',\n",
       "       '80b957125248189a4a5a1211c72a3077',\n",
       "       '80c5bee77fec30b7b1f7b156834f4a4f',\n",
       "       '8147f68ecb10c8f8e93dad63bab44141',\n",
       "       '8181b1819e345ff9a9f584b1aff2c176',\n",
       "       '82000ad26da00917f4644532ed499d1a',\n",
       "       '825e5f5be23c338983278150d3731d80',\n",
       "       '830f6378649da8ab97e537e3992de633',\n",
       "       '83ed077465de7512196b2df2619229e4',\n",
       "       '84dc6b748c01cafdfa19f5154e223586',\n",
       "       '86ee55ce80e935add641fd7f3c16d102',\n",
       "       '871eb057a465c1f56dc75d94eea8d5ff',\n",
       "       '8ab0da1b4029cd25e1cfcfe6cc6d2499',\n",
       "       '8b76cfba51fc569a146a3bdc8a1baeba',\n",
       "       '8bab1d1b648acac8a64efa00072a1566',\n",
       "       '8c047b72511e09b23edcfca5189df9f4',\n",
       "       '8c4d83b966d4bd1f84ee831e4ba3ba21',\n",
       "       '8c9ca1ae4397831ade79e510fdf74c49',\n",
       "       '8de23314a800508c7e5701dad30c1d90',\n",
       "       '8e60bc8effbfd9e5ecfe563936a05a67',\n",
       "       '8f67c648ac2c033647f7bea84f6d1fa6',\n",
       "       '9051335d4ae98f0b3d3bbecbf9f9170e',\n",
       "       '905c1695381c40dc0edebe5f5b83b08b',\n",
       "       '91a34ae469eb26c0f0b810d3f063bbf7',\n",
       "       '925739c232d39f8ffc04c1417b476eda',\n",
       "       '92da3621dda03d4b0fa38e1267dab228',\n",
       "       '92fb1cd3088b037504c14438e48c542a',\n",
       "       '930c7b015cb09685698e85651126feff',\n",
       "       '93824f902fe8390fbc3970f12ec556fc',\n",
       "       '93c08fdd02b68a2700b8c301cfcb75e3',\n",
       "       '940431bea5fd437ab137986a3559cc9b',\n",
       "       '9405e44e2724e066a9f17db4590f78fa',\n",
       "       '941f1b1e04405ba48e30d618a1ce3960',\n",
       "       '945480dfbed29e6a3e9ab1ac346a503e',\n",
       "       '94b5227cf9fcc920683e4e649896105a',\n",
       "       '95bef7e73d2025ed27933564ba3eeb21',\n",
       "       '95e40c3f59cf19b1498d511c2ce0a034',\n",
       "       '962a24ef22af05c4fb0c76724b4237a1',\n",
       "       '97181b4f10e58602c4e96ae806479b90',\n",
       "       '98c2f97f01bdb7edf7a52dcf1c20efe1',\n",
       "       '9921000f50b0691f61ef197191e17b7d',\n",
       "       '99e804d8abc0e8e92e4b4331e83469d6',\n",
       "       '9a9e76b4d685735811f3c2c0835b0df6',\n",
       "       '9a9fa26edd42d21c1ff7556a689c7b1e',\n",
       "       '9ac2332059acebe3a3ccda6da948e82d',\n",
       "       '9b4802bcb6344a5772814557428aee85',\n",
       "       '9bc88a862ad99948e78d78b239d26a08',\n",
       "       '9c5df0d2c8fe8ab84251382f8f0d8a54',\n",
       "       '9c7195d47cce97197aeb228c037f14b1',\n",
       "       '9c912104f53943fb782087b996ec05db',\n",
       "       '9e20cf78cffe3591c03472f34f9440e3',\n",
       "       '9e2b554f31db2dc5f0b7333d2f8a2158',\n",
       "       '9ee95e2b9e46affbcdfa50df7561db0b',\n",
       "       '9f4fa34c0c8f4ca91fd60b118d92fb47',\n",
       "       '9f75cca46a51eb100f1375899efde772',\n",
       "       '9f93b2d2fd5d634bcdb5b3ee28a9083d',\n",
       "       '9fc8d78044283f933049a0d36cae89b0',\n",
       "       'a014bab880f9766c73866cd941e5c69e',\n",
       "       'a17fb21ec456bd453758410e7dd0c727',\n",
       "       'a1f88a3d1760ce50d5d60d7ee387b1c4',\n",
       "       'a2d30a79cf0ad01a307dc6493c8634e2',\n",
       "       'a4385bb5a97f8261cd5307dff4e97a5b',\n",
       "       'a47d4b65a545f734e55534ca6c271aab',\n",
       "       'a4d9682358e82d09d4236df6e04fa1cb',\n",
       "       'a529c9bc8dd0de70d27c22878e68a847',\n",
       "       'a5a4676211ec67458e82791533646185',\n",
       "       'a5b6f1f1e301c84f1c74e26c8ef14b9c',\n",
       "       'a7bd05da7c75335b58587fed421a5951',\n",
       "       'a7c11ea7cee7f3ae2b9ff7b824c1611e',\n",
       "       'a88f1edc48d1e865c81c49a7d0bbf0e4',\n",
       "       'a8f9a3109de77bb60bdb4bdc806fc6ec',\n",
       "       'aa6ffe9195dd279b810196aea64f9f37',\n",
       "       'aa9c9b7ef83d3f74b21da341875b5f4a',\n",
       "       'aadab13d313bda70e827eb8b8598c646',\n",
       "       'aba9ae9e88582d828e2138b38aba74db',\n",
       "       'ac279271d8f7fa2795a69f2eadfb4d58',\n",
       "       'ac522f6e824d1016d4a3d7c3397dc0bd',\n",
       "       'aceb304750e01400b9486d844e060750',\n",
       "       'ad46241b58ce71c2576b5dae63c080b9',\n",
       "       'ad48f8f9deeac80a81f82d1c36879457',\n",
       "       'af73247b89932fc4c252e06b11f0832d',\n",
       "       'b006934998695f9104e12105a5dec79d',\n",
       "       'b0c83d5f1efccd7da801cab1598b811b',\n",
       "       'b20dab2979eb36d838cb2a55d646161e',\n",
       "       'b20ecd374619e1b46d813d70b29ea9b0',\n",
       "       'b2c9a164a03fc7a824896b529d526939',\n",
       "       'b2ca631ec6abd64ccd12f079ab69e509',\n",
       "       'b30897d20619fa4de0de97478e00cb3e',\n",
       "       'b31ce4f5075ead9701b02b042439ac03',\n",
       "       'b4ecc3d4476da30cbbafdfaf6b96f46e',\n",
       "       'b507d2823b60035910a1c2fb7f30b917',\n",
       "       'b54005a5b17c334a227d856d279e0fca',\n",
       "       'b5966a656b234b49f8c123194d379615',\n",
       "       'b5bfb4ad7ba893daec2e574a1903e789',\n",
       "       'b5deb05c292da3db4d2430cffd5a399e',\n",
       "       'b613ef9a85a49928b88e86c177742d56',\n",
       "       'b6af01beca16259573a5f0e7717f4b9e',\n",
       "       'b6f88152720c6d2338ded9645f74cb89',\n",
       "       'b72871d4f6d06aa2f9d4079b36015aa8',\n",
       "       'b73848ddd85e178d57b894e342a23a80',\n",
       "       'b7d046bbc24f899e0ed81045a584bbfd',\n",
       "       'b8486f0afa1e024b315b1c27568a906d',\n",
       "       'b8a6a384ed5d12f2b245631a9a8a84ed',\n",
       "       'b9e7790c1c2fe22e0cefdc28c5de694c',\n",
       "       'ba41a798f4013789d266f7a6a90b9b56',\n",
       "       'bb35279a7b732e91ab1966626e369a11',\n",
       "       'bb4c3adf4009a328bbc365864fa7aad6',\n",
       "       'bd0cd69554f59020413fe1b8c2f0558a',\n",
       "       'bd27014c5dbaea3a79bdf65c51f26e47',\n",
       "       'bdd1a817a73f812a6278f892ba9d1296',\n",
       "       'be75cde61fa0202124d14a6fb9cca536',\n",
       "       'bec9144d2ee45ad56aad8576ae428369',\n",
       "       'bf6cb7b92c4f49b7fe63066189d195f0',\n",
       "       'bfae629e957fd918aedfcea1d155ae10',\n",
       "       'c004234b5e23b61b5ff9c237a7a52b0c',\n",
       "       'c1186fd3904da226172ba18b8826942b',\n",
       "       'c12d8753ee78efeab22d96346326842e',\n",
       "       'c32943828c0c683c65587f9b95565e35',\n",
       "       'c411db334fea1f5d2e8d7f89cb9a554f',\n",
       "       'c41df2853468403bc372909fef6235b0',\n",
       "       'c484c66b9ed7f08053fa15db0340a478',\n",
       "       'c4f8e0ec18915dfdd1099d11f9a548f3',\n",
       "       'c509f1be1dce02714706ac67e3ad1581',\n",
       "       'c56bf2ce0110b7ba98c47d3edcbcb8fc',\n",
       "       'c8dd3c52beb96ce3c9185417840bcc8f',\n",
       "       'c9af945ce9868375d310dac8bc5f405d',\n",
       "       'ca18807ef839fc2f97a0e4a5dc5cd70c',\n",
       "       'ca2cc486a676509b0f63970a23e1d948',\n",
       "       'cad402687fa6bec07e0a804c71594b67',\n",
       "       'cada00237c5693935a4902cd7698cc0b',\n",
       "       'cc3e029587922b656bed08cc6de31f42',\n",
       "       'cd50017259f3eb438cf2a837175a8467',\n",
       "       'cdf8305cd85de5116d04bd268055ba8f',\n",
       "       'ce0b5604d8b32df9cc0da099037dffa9',\n",
       "       'cee9ee397077fd3834c1a3b761447b2f',\n",
       "       'cefe8770d9b77e58bfff2b713a113ef4',\n",
       "       'cf5811f04af7ef8f09dbda67fd25fe94',\n",
       "       'cf596a9bba2eb09bee7f53a10319abdf',\n",
       "       'cfe85ac8afaf6d36b70a9a3040102d48',\n",
       "       'd036ca7dc0bcc1eda8cf1dbb0c3bdd0c',\n",
       "       'd113542ba7b25f0a8ddba7626581d474',\n",
       "       'd1640286a019c0b5492268e8e9a6395b',\n",
       "       'd190977c3ef8507399efd128c5ec9a86',\n",
       "       'd4c99cf88f395a82aa9c2cb281e06df9',\n",
       "       'd4ed5508fcf3ab149ce7313128123da5',\n",
       "       'd50bd598a7c80c5e3941c00a2df61efd',\n",
       "       'd59c966c206cf0bb87bdc69d996e874f',\n",
       "       'd5a4cecc63c6a685dff2ff00bcfcff36',\n",
       "       'd6277049c6aad30425eae6b614bd0cbd',\n",
       "       'd658f4ca5fe72c2ca537be5a111c5e1f',\n",
       "       'd6786c928236a7459ad4b88bc4e4fa0e',\n",
       "       'd70728921547b7b51f2c7fd6c73372c2',\n",
       "       'd75553d387212bf2b06eed7fbd913eac',\n",
       "       'd770a3dc08a2cd513223e976f93e36ff',\n",
       "       'd7ca64a123b6edca2023be04fffb9937',\n",
       "       'd919ce25565026bae52efa122612ceaf',\n",
       "       'da04a6d7545836c0e085fc6d1e9d9bd4',\n",
       "       'da227e1cbfb180dc615d98f5560d1945',\n",
       "       'dc7a97a47800d19a962e0e7b3c8cd806',\n",
       "       'dc837035dd3d5e5e8cbc86c69e8f5b87',\n",
       "       'dd2118d2d1df8c937f7f9671eb0bd01b',\n",
       "       'de1919a5901f4e9a50472a7169dcea38',\n",
       "       'dfcb688fd888faea85abe8215d72d2c3',\n",
       "       'e046122c28e539fcadfd57f27cdd7d77',\n",
       "       'e10408ad99cdc6b70fc43adcc3a536a3',\n",
       "       'e163f44d9199c80ddefbf2c868d1430e',\n",
       "       'e272d794ee02507d0974d6190965e975',\n",
       "       'e334729d6755dd350b5bde265e60a74f',\n",
       "       'e368f678dc05c539cd7bdb7444296aeb',\n",
       "       'e414d35287eec9edf74a6b0738444a83',\n",
       "       'e42c28551dcad73a35938c1cb0f48857',\n",
       "       'e48446918e8c8ce6e2b5ac56bda362ff',\n",
       "       'e5ba36bf7ecec20657d1e04ae4f4ea66',\n",
       "       'e6f796ffc9c8b13db7ba60b3412e13c6',\n",
       "       'e76780d53cca85e7eb97e09ee5ca7627',\n",
       "       'e7d5a2a4175614ae82ebcdba8fc283ac',\n",
       "       'e8e01430611d39b51388fa994e34d72e',\n",
       "       'e91acfbb02d6c32cd7caa01c2694a6e8',\n",
       "       'e9572118b4124c743af20defe81c3082',\n",
       "       'e95b5ed8c737f3a25be2317ecac43627',\n",
       "       'e97453a9c7a272466e541596f6a6d126',\n",
       "       'ea5d987a9f18fa5da46b7bb1800253a2',\n",
       "       'ead1f486b2b6b5a0a8c5e3b6a80275b6',\n",
       "       'ec29e28c6360a03b4c5dc185ba86abbb',\n",
       "       'ec74a496de99834387aaf0b3ca0c079b',\n",
       "       'ecfed94c0676958a77fc5a695a4b3238',\n",
       "       'ee7efe884aab8eac06ab7e6995e86e15',\n",
       "       'ef2a4341c74f8419150ddd87b2181661',\n",
       "       'ef3d2c17a51b92aadbad785a716a98bd',\n",
       "       'ef3eeedeb8da4f0bae2dd5c32e99cd14',\n",
       "       'ef5da595bd24b31855d36cf472770b44',\n",
       "       'efef1ad815632233002a1ad65b4f90db',\n",
       "       'f008ef712cfb7848591f78ebad0d13b9',\n",
       "       'f00edb0ed4b9b4a4b93ac20905930a31',\n",
       "       'f070d0d1e6748f80ea1acdf2bbfa62aa',\n",
       "       'f0b1b1898d8ae4c3830e60666a88440b',\n",
       "       'f0b437f306c14d542f77b2176dd49aac',\n",
       "       'f0e8694b2956e1f9e4122cc0213c91fc',\n",
       "       'f1302fa90dfa89cfd11846bba9532c7b',\n",
       "       'f172787906ff2a38524b63ddd861fc94',\n",
       "       'f1b8fe3819f052354b4302d72a164b30',\n",
       "       'f1ecc8332afa3d71b5ca8bd2ffda28e5',\n",
       "       'f21aa2b80709469321f7abb9fca0bf05',\n",
       "       'f3eedbf533194f4aee5395da3e94bc5d',\n",
       "       'f49cb8abb2d74478f2a9c28d710a33c0',\n",
       "       'f4b05827e8338a405671560312e509b6',\n",
       "       'f5d6a86839a4e9b410c5feb4d7902772',\n",
       "       'f5e61a09d7a51bdfe7a8e8aa2e12b978',\n",
       "       'f6d3d9044c857153eeb039d360f5e94c',\n",
       "       'f6f1db4d5ba7dd8e22f2635edb5dd909',\n",
       "       'f7c7efb89b24c8e654e6148c69c505c5',\n",
       "       'f82a76698e68c67ad3abba65a56a0b98',\n",
       "       'f9e96243331c96697e6f1aad28004be3',\n",
       "       'fadce86bd1ffcb08d9b089026a8c2847',\n",
       "       'fb42637b45ca5777d5d96d41f2848e81',\n",
       "       'fca341e748c507d1149c56040095d7e6',\n",
       "       'fec909c2766c19d1ec99cd41f5733a5b',\n",
       "       'ffaae40c35af201230e6c7ff9665c5cb'], dtype=object)"
      ]
     },
     "execution_count": 25,
     "metadata": {},
     "output_type": "execute_result"
    }
   ],
   "source": [
    "#某个运行方向的车辆统计\n",
    "taxigps2019[taxigps2019['DRIVING_DIRECTION'] == 10]['CARNO'].unique()"
   ]
  },
  {
   "cell_type": "code",
   "execution_count": 26,
   "metadata": {
    "execution": {
     "iopub.execute_input": "2020-09-10T09:24:46.769233Z",
     "iopub.status.busy": "2020-09-10T09:24:46.768236Z",
     "iopub.status.idle": "2020-09-10T09:24:46.905919Z",
     "shell.execute_reply": "2020-09-10T09:24:46.905919Z",
     "shell.execute_reply.started": "2020-09-10T09:24:46.769233Z"
    }
   },
   "outputs": [],
   "source": [
    "#统计记录最多的GPS小时\n",
    "taxigps2019['GPS_TIME'] = pd.to_datetime(taxigps2019['GPS_TIME']) #转化成时间类型\n"
   ]
  },
  {
   "cell_type": "code",
   "execution_count": 27,
   "metadata": {
    "execution": {
     "iopub.execute_input": "2020-09-10T09:24:50.391350Z",
     "iopub.status.busy": "2020-09-10T09:24:50.391350Z",
     "iopub.status.idle": "2020-09-10T09:24:50.414287Z",
     "shell.execute_reply": "2020-09-10T09:24:50.413322Z",
     "shell.execute_reply.started": "2020-09-10T09:24:50.391350Z"
    }
   },
   "outputs": [
    {
     "data": {
      "text/plain": [
       "1    98242\n",
       "8    94594\n",
       "0     2796\n",
       "7     1267\n",
       "6      912\n",
       "5      858\n",
       "4      559\n",
       "3      411\n",
       "2      361\n",
       "Name: GPS_TIME, dtype: int64"
      ]
     },
     "execution_count": 27,
     "metadata": {},
     "output_type": "execute_result"
    }
   ],
   "source": [
    "taxigps2019['GPS_TIME'].dt.hour.value_counts() #dt.hour的用法"
   ]
  },
  {
   "cell_type": "markdown",
   "metadata": {},
   "source": [
    "【参考】[Python时间日期格式化之time与datetime模块总结](https://www.cnblogs.com/chenhuabin/p/10099766.html)"
   ]
  },
  {
   "cell_type": "markdown",
   "metadata": {},
   "source": [
    "## 课堂任务 "
   ]
  },
  {
   "cell_type": "markdown",
   "metadata": {
    "execution": {
     "iopub.execute_input": "2020-09-10T09:27:21.188711Z",
     "iopub.status.busy": "2020-09-10T09:27:21.188711Z",
     "iopub.status.idle": "2020-09-10T09:27:21.194694Z",
     "shell.execute_reply": "2020-09-10T09:27:21.193726Z",
     "shell.execute_reply.started": "2020-09-10T09:27:21.188711Z"
    }
   },
   "source": [
    "1. 统计出租车在一天的有效运行时间。"
   ]
  },
  {
   "cell_type": "code",
   "execution_count": null,
   "metadata": {},
   "outputs": [],
   "source": [
    "【回答】根据某出租车一天的某订单上下车时间算有效运行时间"
   ]
  },
  {
   "cell_type": "code",
   "execution_count": 64,
   "metadata": {
    "execution": {
     "iopub.execute_input": "2020-09-11T03:01:26.708221Z",
     "iopub.status.busy": "2020-09-11T03:01:26.708221Z",
     "iopub.status.idle": "2020-09-11T03:01:26.723211Z",
     "shell.execute_reply": "2020-09-11T03:01:26.723211Z",
     "shell.execute_reply.started": "2020-09-11T03:01:26.708221Z"
    }
   },
   "outputs": [
    {
     "data": {
      "text/html": [
       "<div>\n",
       "<style scoped>\n",
       "    .dataframe tbody tr th:only-of-type {\n",
       "        vertical-align: middle;\n",
       "    }\n",
       "\n",
       "    .dataframe tbody tr th {\n",
       "        vertical-align: top;\n",
       "    }\n",
       "\n",
       "    .dataframe thead th {\n",
       "        text-align: right;\n",
       "    }\n",
       "</style>\n",
       "<table border=\"1\" class=\"dataframe\">\n",
       "  <thead>\n",
       "    <tr style=\"text-align: right;\">\n",
       "      <th></th>\n",
       "      <th>CARNO</th>\n",
       "      <th>GETON_DATE</th>\n",
       "      <th>GETON_LONGITUDE</th>\n",
       "      <th>GETON_LATITUDE</th>\n",
       "      <th>GETOFF_DATE</th>\n",
       "      <th>GETOFF_LONGITUDE</th>\n",
       "      <th>GETOFF_LATITUDE</th>\n",
       "      <th>PASS_MILE</th>\n",
       "      <th>NOPASS_MILE</th>\n",
       "      <th>WAITING_TIME</th>\n",
       "    </tr>\n",
       "  </thead>\n",
       "  <tbody>\n",
       "    <tr>\n",
       "      <td>0</td>\n",
       "      <td>0006d282be70d06881a7513b69fcaa60</td>\n",
       "      <td>2019-05-31 00:08:00</td>\n",
       "      <td>118.155060</td>\n",
       "      <td>24.506035</td>\n",
       "      <td>2019-05-31 00:13:00</td>\n",
       "      <td>118.176666</td>\n",
       "      <td>24.509895</td>\n",
       "      <td>3.099609</td>\n",
       "      <td>1.299805</td>\n",
       "      <td>62.0</td>\n",
       "    </tr>\n",
       "    <tr>\n",
       "      <td>1</td>\n",
       "      <td>0006d282be70d06881a7513b69fcaa60</td>\n",
       "      <td>2019-05-31 02:30:00</td>\n",
       "      <td>118.154999</td>\n",
       "      <td>24.488607</td>\n",
       "      <td>2019-05-31 02:46:00</td>\n",
       "      <td>118.188156</td>\n",
       "      <td>24.498117</td>\n",
       "      <td>7.300781</td>\n",
       "      <td>0.000000</td>\n",
       "      <td>326.0</td>\n",
       "    </tr>\n",
       "    <tr>\n",
       "      <td>2</td>\n",
       "      <td>0006d282be70d06881a7513b69fcaa60</td>\n",
       "      <td>2019-05-31 07:47:00</td>\n",
       "      <td>118.155083</td>\n",
       "      <td>24.506119</td>\n",
       "      <td>2019-05-31 08:00:00</td>\n",
       "      <td>118.181938</td>\n",
       "      <td>24.531134</td>\n",
       "      <td>4.398438</td>\n",
       "      <td>16.906250</td>\n",
       "      <td>328.0</td>\n",
       "    </tr>\n",
       "    <tr>\n",
       "      <td>3</td>\n",
       "      <td>0006d282be70d06881a7513b69fcaa60</td>\n",
       "      <td>2019-05-31 08:19:00</td>\n",
       "      <td>118.146347</td>\n",
       "      <td>24.515144</td>\n",
       "      <td>2019-05-31 08:32:00</td>\n",
       "      <td>118.112679</td>\n",
       "      <td>24.520956</td>\n",
       "      <td>4.601562</td>\n",
       "      <td>0.000000</td>\n",
       "      <td>254.0</td>\n",
       "    </tr>\n",
       "    <tr>\n",
       "      <td>4</td>\n",
       "      <td>0006d282be70d06881a7513b69fcaa60</td>\n",
       "      <td>2019-05-31 08:43:00</td>\n",
       "      <td>118.129448</td>\n",
       "      <td>24.496716</td>\n",
       "      <td>2019-05-31 08:56:00</td>\n",
       "      <td>118.157806</td>\n",
       "      <td>24.486753</td>\n",
       "      <td>3.300781</td>\n",
       "      <td>0.199951</td>\n",
       "      <td>438.0</td>\n",
       "    </tr>\n",
       "    <tr>\n",
       "      <td>...</td>\n",
       "      <td>...</td>\n",
       "      <td>...</td>\n",
       "      <td>...</td>\n",
       "      <td>...</td>\n",
       "      <td>...</td>\n",
       "      <td>...</td>\n",
       "      <td>...</td>\n",
       "      <td>...</td>\n",
       "      <td>...</td>\n",
       "      <td>...</td>\n",
       "    </tr>\n",
       "    <tr>\n",
       "      <td>99995</td>\n",
       "      <td>fff20f025f560278d601b2fd47e1f6b7</td>\n",
       "      <td>2019-05-31 17:29:00</td>\n",
       "      <td>118.118919</td>\n",
       "      <td>24.431156</td>\n",
       "      <td>2019-05-31 17:46:00</td>\n",
       "      <td>118.072929</td>\n",
       "      <td>24.465965</td>\n",
       "      <td>7.898438</td>\n",
       "      <td>2.400391</td>\n",
       "      <td>272.0</td>\n",
       "    </tr>\n",
       "    <tr>\n",
       "      <td>99996</td>\n",
       "      <td>fff20f025f560278d601b2fd47e1f6b7</td>\n",
       "      <td>2019-05-31 19:58:00</td>\n",
       "      <td>118.096771</td>\n",
       "      <td>24.592213</td>\n",
       "      <td>2019-05-31 20:36:00</td>\n",
       "      <td>118.080887</td>\n",
       "      <td>24.464451</td>\n",
       "      <td>21.296875</td>\n",
       "      <td>1.299805</td>\n",
       "      <td>589.0</td>\n",
       "    </tr>\n",
       "    <tr>\n",
       "      <td>99997</td>\n",
       "      <td>fff20f025f560278d601b2fd47e1f6b7</td>\n",
       "      <td>2019-05-31 21:30:00</td>\n",
       "      <td>118.077835</td>\n",
       "      <td>24.454510</td>\n",
       "      <td>2019-05-31 21:52:00</td>\n",
       "      <td>118.119095</td>\n",
       "      <td>24.431002</td>\n",
       "      <td>10.500000</td>\n",
       "      <td>0.199951</td>\n",
       "      <td>385.0</td>\n",
       "    </tr>\n",
       "    <tr>\n",
       "      <td>99998</td>\n",
       "      <td>fff20f025f560278d601b2fd47e1f6b7</td>\n",
       "      <td>2019-05-31 22:37:00</td>\n",
       "      <td>118.115067</td>\n",
       "      <td>24.483564</td>\n",
       "      <td>2019-05-31 22:53:00</td>\n",
       "      <td>118.076080</td>\n",
       "      <td>24.491131</td>\n",
       "      <td>5.300781</td>\n",
       "      <td>0.000000</td>\n",
       "      <td>400.0</td>\n",
       "    </tr>\n",
       "    <tr>\n",
       "      <td>99999</td>\n",
       "      <td>fff20f025f560278d601b2fd47e1f6b7</td>\n",
       "      <td>2019-05-31 23:00:00</td>\n",
       "      <td>118.073257</td>\n",
       "      <td>24.452457</td>\n",
       "      <td>2019-05-31 23:14:00</td>\n",
       "      <td>118.150917</td>\n",
       "      <td>24.442167</td>\n",
       "      <td>11.203125</td>\n",
       "      <td>4.699219</td>\n",
       "      <td>160.0</td>\n",
       "    </tr>\n",
       "  </tbody>\n",
       "</table>\n",
       "<p>100000 rows × 10 columns</p>\n",
       "</div>"
      ],
      "text/plain": [
       "                                  CARNO           GETON_DATE  GETON_LONGITUDE  \\\n",
       "0      0006d282be70d06881a7513b69fcaa60  2019-05-31 00:08:00       118.155060   \n",
       "1      0006d282be70d06881a7513b69fcaa60  2019-05-31 02:30:00       118.154999   \n",
       "2      0006d282be70d06881a7513b69fcaa60  2019-05-31 07:47:00       118.155083   \n",
       "3      0006d282be70d06881a7513b69fcaa60  2019-05-31 08:19:00       118.146347   \n",
       "4      0006d282be70d06881a7513b69fcaa60  2019-05-31 08:43:00       118.129448   \n",
       "...                                 ...                  ...              ...   \n",
       "99995  fff20f025f560278d601b2fd47e1f6b7  2019-05-31 17:29:00       118.118919   \n",
       "99996  fff20f025f560278d601b2fd47e1f6b7  2019-05-31 19:58:00       118.096771   \n",
       "99997  fff20f025f560278d601b2fd47e1f6b7  2019-05-31 21:30:00       118.077835   \n",
       "99998  fff20f025f560278d601b2fd47e1f6b7  2019-05-31 22:37:00       118.115067   \n",
       "99999  fff20f025f560278d601b2fd47e1f6b7  2019-05-31 23:00:00       118.073257   \n",
       "\n",
       "       GETON_LATITUDE          GETOFF_DATE  GETOFF_LONGITUDE  GETOFF_LATITUDE  \\\n",
       "0           24.506035  2019-05-31 00:13:00        118.176666        24.509895   \n",
       "1           24.488607  2019-05-31 02:46:00        118.188156        24.498117   \n",
       "2           24.506119  2019-05-31 08:00:00        118.181938        24.531134   \n",
       "3           24.515144  2019-05-31 08:32:00        118.112679        24.520956   \n",
       "4           24.496716  2019-05-31 08:56:00        118.157806        24.486753   \n",
       "...               ...                  ...               ...              ...   \n",
       "99995       24.431156  2019-05-31 17:46:00        118.072929        24.465965   \n",
       "99996       24.592213  2019-05-31 20:36:00        118.080887        24.464451   \n",
       "99997       24.454510  2019-05-31 21:52:00        118.119095        24.431002   \n",
       "99998       24.483564  2019-05-31 22:53:00        118.076080        24.491131   \n",
       "99999       24.452457  2019-05-31 23:14:00        118.150917        24.442167   \n",
       "\n",
       "       PASS_MILE  NOPASS_MILE  WAITING_TIME  \n",
       "0       3.099609     1.299805          62.0  \n",
       "1       7.300781     0.000000         326.0  \n",
       "2       4.398438    16.906250         328.0  \n",
       "3       4.601562     0.000000         254.0  \n",
       "4       3.300781     0.199951         438.0  \n",
       "...          ...          ...           ...  \n",
       "99995   7.898438     2.400391         272.0  \n",
       "99996  21.296875     1.299805         589.0  \n",
       "99997  10.500000     0.199951         385.0  \n",
       "99998   5.300781     0.000000         400.0  \n",
       "99999  11.203125     4.699219         160.0  \n",
       "\n",
       "[100000 rows x 10 columns]"
      ]
     },
     "execution_count": 64,
     "metadata": {},
     "output_type": "execute_result"
    }
   ],
   "source": [
    "taxiorder2019"
   ]
  },
  {
   "cell_type": "code",
   "execution_count": 70,
   "metadata": {
    "execution": {
     "iopub.execute_input": "2020-09-11T03:05:29.388075Z",
     "iopub.status.busy": "2020-09-11T03:05:29.388075Z",
     "iopub.status.idle": "2020-09-11T03:05:29.403036Z",
     "shell.execute_reply": "2020-09-11T03:05:29.402037Z",
     "shell.execute_reply.started": "2020-09-11T03:05:29.388075Z"
    }
   },
   "outputs": [
    {
     "data": {
      "text/html": [
       "<div>\n",
       "<style scoped>\n",
       "    .dataframe tbody tr th:only-of-type {\n",
       "        vertical-align: middle;\n",
       "    }\n",
       "\n",
       "    .dataframe tbody tr th {\n",
       "        vertical-align: top;\n",
       "    }\n",
       "\n",
       "    .dataframe thead th {\n",
       "        text-align: right;\n",
       "    }\n",
       "</style>\n",
       "<table border=\"1\" class=\"dataframe\">\n",
       "  <thead>\n",
       "    <tr style=\"text-align: right;\">\n",
       "      <th></th>\n",
       "      <th>CARNO</th>\n",
       "      <th>GETON_DATE</th>\n",
       "      <th>GETOFF_DATE</th>\n",
       "      <th>WAITING_TIME</th>\n",
       "    </tr>\n",
       "  </thead>\n",
       "  <tbody>\n",
       "    <tr>\n",
       "      <td>0</td>\n",
       "      <td>0006d282be70d06881a7513b69fcaa60</td>\n",
       "      <td>2019-05-31 00:08:00</td>\n",
       "      <td>2019-05-31 00:13:00</td>\n",
       "      <td>62.0</td>\n",
       "    </tr>\n",
       "    <tr>\n",
       "      <td>1</td>\n",
       "      <td>0006d282be70d06881a7513b69fcaa60</td>\n",
       "      <td>2019-05-31 02:30:00</td>\n",
       "      <td>2019-05-31 02:46:00</td>\n",
       "      <td>326.0</td>\n",
       "    </tr>\n",
       "    <tr>\n",
       "      <td>2</td>\n",
       "      <td>0006d282be70d06881a7513b69fcaa60</td>\n",
       "      <td>2019-05-31 07:47:00</td>\n",
       "      <td>2019-05-31 08:00:00</td>\n",
       "      <td>328.0</td>\n",
       "    </tr>\n",
       "    <tr>\n",
       "      <td>3</td>\n",
       "      <td>0006d282be70d06881a7513b69fcaa60</td>\n",
       "      <td>2019-05-31 08:19:00</td>\n",
       "      <td>2019-05-31 08:32:00</td>\n",
       "      <td>254.0</td>\n",
       "    </tr>\n",
       "    <tr>\n",
       "      <td>4</td>\n",
       "      <td>0006d282be70d06881a7513b69fcaa60</td>\n",
       "      <td>2019-05-31 08:43:00</td>\n",
       "      <td>2019-05-31 08:56:00</td>\n",
       "      <td>438.0</td>\n",
       "    </tr>\n",
       "    <tr>\n",
       "      <td>...</td>\n",
       "      <td>...</td>\n",
       "      <td>...</td>\n",
       "      <td>...</td>\n",
       "      <td>...</td>\n",
       "    </tr>\n",
       "    <tr>\n",
       "      <td>99995</td>\n",
       "      <td>fff20f025f560278d601b2fd47e1f6b7</td>\n",
       "      <td>2019-05-31 17:29:00</td>\n",
       "      <td>2019-05-31 17:46:00</td>\n",
       "      <td>272.0</td>\n",
       "    </tr>\n",
       "    <tr>\n",
       "      <td>99996</td>\n",
       "      <td>fff20f025f560278d601b2fd47e1f6b7</td>\n",
       "      <td>2019-05-31 19:58:00</td>\n",
       "      <td>2019-05-31 20:36:00</td>\n",
       "      <td>589.0</td>\n",
       "    </tr>\n",
       "    <tr>\n",
       "      <td>99997</td>\n",
       "      <td>fff20f025f560278d601b2fd47e1f6b7</td>\n",
       "      <td>2019-05-31 21:30:00</td>\n",
       "      <td>2019-05-31 21:52:00</td>\n",
       "      <td>385.0</td>\n",
       "    </tr>\n",
       "    <tr>\n",
       "      <td>99998</td>\n",
       "      <td>fff20f025f560278d601b2fd47e1f6b7</td>\n",
       "      <td>2019-05-31 22:37:00</td>\n",
       "      <td>2019-05-31 22:53:00</td>\n",
       "      <td>400.0</td>\n",
       "    </tr>\n",
       "    <tr>\n",
       "      <td>99999</td>\n",
       "      <td>fff20f025f560278d601b2fd47e1f6b7</td>\n",
       "      <td>2019-05-31 23:00:00</td>\n",
       "      <td>2019-05-31 23:14:00</td>\n",
       "      <td>160.0</td>\n",
       "    </tr>\n",
       "  </tbody>\n",
       "</table>\n",
       "<p>100000 rows × 4 columns</p>\n",
       "</div>"
      ],
      "text/plain": [
       "                                  CARNO           GETON_DATE  \\\n",
       "0      0006d282be70d06881a7513b69fcaa60  2019-05-31 00:08:00   \n",
       "1      0006d282be70d06881a7513b69fcaa60  2019-05-31 02:30:00   \n",
       "2      0006d282be70d06881a7513b69fcaa60  2019-05-31 07:47:00   \n",
       "3      0006d282be70d06881a7513b69fcaa60  2019-05-31 08:19:00   \n",
       "4      0006d282be70d06881a7513b69fcaa60  2019-05-31 08:43:00   \n",
       "...                                 ...                  ...   \n",
       "99995  fff20f025f560278d601b2fd47e1f6b7  2019-05-31 17:29:00   \n",
       "99996  fff20f025f560278d601b2fd47e1f6b7  2019-05-31 19:58:00   \n",
       "99997  fff20f025f560278d601b2fd47e1f6b7  2019-05-31 21:30:00   \n",
       "99998  fff20f025f560278d601b2fd47e1f6b7  2019-05-31 22:37:00   \n",
       "99999  fff20f025f560278d601b2fd47e1f6b7  2019-05-31 23:00:00   \n",
       "\n",
       "               GETOFF_DATE  WAITING_TIME  \n",
       "0      2019-05-31 00:13:00          62.0  \n",
       "1      2019-05-31 02:46:00         326.0  \n",
       "2      2019-05-31 08:00:00         328.0  \n",
       "3      2019-05-31 08:32:00         254.0  \n",
       "4      2019-05-31 08:56:00         438.0  \n",
       "...                    ...           ...  \n",
       "99995  2019-05-31 17:46:00         272.0  \n",
       "99996  2019-05-31 20:36:00         589.0  \n",
       "99997  2019-05-31 21:52:00         385.0  \n",
       "99998  2019-05-31 22:53:00         400.0  \n",
       "99999  2019-05-31 23:14:00         160.0  \n",
       "\n",
       "[100000 rows x 4 columns]"
      ]
     },
     "execution_count": 70,
     "metadata": {},
     "output_type": "execute_result"
    }
   ],
   "source": [
    "taxiorder2019[['CARNO','GETON_DATE','GETOFF_DATE','WAITING_TIME']]"
   ]
  },
  {
   "cell_type": "code",
   "execution_count": 74,
   "metadata": {
    "execution": {
     "iopub.execute_input": "2020-09-11T03:11:25.963917Z",
     "iopub.status.busy": "2020-09-11T03:11:25.963917Z",
     "iopub.status.idle": "2020-09-11T03:11:26.034396Z",
     "shell.execute_reply": "2020-09-11T03:11:26.034396Z",
     "shell.execute_reply.started": "2020-09-11T03:11:25.963917Z"
    }
   },
   "outputs": [],
   "source": [
    "taxiorder2019['GETON_DATE'] = pd.to_datetime(taxiorder2019['GETON_DATE'])\n",
    "taxiorder2019['GETOFF_DATE'] = pd.to_datetime(taxiorder2019['GETOFF_DATE'])"
   ]
  },
  {
   "cell_type": "code",
   "execution_count": 89,
   "metadata": {
    "execution": {
     "iopub.execute_input": "2020-09-11T03:32:09.637417Z",
     "iopub.status.busy": "2020-09-11T03:32:09.637417Z",
     "iopub.status.idle": "2020-09-11T03:32:09.643401Z",
     "shell.execute_reply": "2020-09-11T03:32:09.643401Z",
     "shell.execute_reply.started": "2020-09-11T03:32:09.637417Z"
    }
   },
   "outputs": [
    {
     "data": {
      "text/plain": [
       "0       2019-05-31 00:13:00\n",
       "1       2019-05-31 02:46:00\n",
       "2       2019-05-31 08:00:00\n",
       "3       2019-05-31 08:32:00\n",
       "4       2019-05-31 08:56:00\n",
       "                ...        \n",
       "99995   2019-05-31 17:46:00\n",
       "99996   2019-05-31 20:36:00\n",
       "99997   2019-05-31 21:52:00\n",
       "99998   2019-05-31 22:53:00\n",
       "99999   2019-05-31 23:14:00\n",
       "Name: GETOFF_DATE, Length: 100000, dtype: datetime64[ns]"
      ]
     },
     "execution_count": 89,
     "metadata": {},
     "output_type": "execute_result"
    }
   ],
   "source": [
    "taxiorder2019['GETOFF_DATE']"
   ]
  },
  {
   "cell_type": "code",
   "execution_count": 75,
   "metadata": {
    "execution": {
     "iopub.execute_input": "2020-09-11T03:11:39.682671Z",
     "iopub.status.busy": "2020-09-11T03:11:39.681675Z",
     "iopub.status.idle": "2020-09-11T03:11:39.695636Z",
     "shell.execute_reply": "2020-09-11T03:11:39.695636Z",
     "shell.execute_reply.started": "2020-09-11T03:11:39.682671Z"
    }
   },
   "outputs": [
    {
     "name": "stdout",
     "output_type": "stream",
     "text": [
      "<class 'pandas.core.frame.DataFrame'>\n",
      "RangeIndex: 100000 entries, 0 to 99999\n",
      "Data columns (total 10 columns):\n",
      "CARNO               100000 non-null object\n",
      "GETON_DATE          100000 non-null datetime64[ns]\n",
      "GETON_LONGITUDE     100000 non-null float32\n",
      "GETON_LATITUDE      100000 non-null float32\n",
      "GETOFF_DATE         100000 non-null datetime64[ns]\n",
      "GETOFF_LONGITUDE    100000 non-null float32\n",
      "GETOFF_LATITUDE     100000 non-null float32\n",
      "PASS_MILE           100000 non-null float16\n",
      "NOPASS_MILE         100000 non-null float16\n",
      "WAITING_TIME        100000 non-null float16\n",
      "dtypes: datetime64[ns](2), float16(3), float32(4), object(1)\n",
      "memory usage: 4.4+ MB\n"
     ]
    }
   ],
   "source": [
    "taxiorder2019.info()"
   ]
  },
  {
   "cell_type": "code",
   "execution_count": 82,
   "metadata": {
    "execution": {
     "iopub.execute_input": "2020-09-11T03:25:49.390076Z",
     "iopub.status.busy": "2020-09-11T03:25:49.389078Z",
     "iopub.status.idle": "2020-09-11T03:25:49.401045Z",
     "shell.execute_reply": "2020-09-11T03:25:49.400048Z",
     "shell.execute_reply.started": "2020-09-11T03:25:49.390076Z"
    }
   },
   "outputs": [
    {
     "data": {
      "text/plain": [
       "0       00:05:00\n",
       "1       00:16:00\n",
       "2       00:13:00\n",
       "3       00:13:00\n",
       "4       00:13:00\n",
       "          ...   \n",
       "99995   00:17:00\n",
       "99996   00:38:00\n",
       "99997   00:22:00\n",
       "99998   00:16:00\n",
       "99999   00:14:00\n",
       "Length: 100000, dtype: timedelta64[ns]"
      ]
     },
     "execution_count": 82,
     "metadata": {},
     "output_type": "execute_result"
    },
    {
     "data": {
      "text/plain": [
       "pandas.core.series.Series"
      ]
     },
     "execution_count": 82,
     "metadata": {},
     "output_type": "execute_result"
    }
   ],
   "source": [
    "OPERATING_TIME=taxiorder2019['GETOFF_DATE']-taxiorder2019['GETON_DATE']\n",
    "OPERATING_TIME"
   ]
  },
  {
   "cell_type": "code",
   "execution_count": 97,
   "metadata": {
    "execution": {
     "iopub.execute_input": "2020-09-11T03:50:06.369860Z",
     "iopub.status.busy": "2020-09-11T03:50:06.369860Z",
     "iopub.status.idle": "2020-09-11T03:50:06.391772Z",
     "shell.execute_reply": "2020-09-11T03:50:06.391772Z",
     "shell.execute_reply.started": "2020-09-11T03:50:06.369860Z"
    }
   },
   "outputs": [
    {
     "data": {
      "text/html": [
       "<div>\n",
       "<style scoped>\n",
       "    .dataframe tbody tr th:only-of-type {\n",
       "        vertical-align: middle;\n",
       "    }\n",
       "\n",
       "    .dataframe tbody tr th {\n",
       "        vertical-align: top;\n",
       "    }\n",
       "\n",
       "    .dataframe thead th {\n",
       "        text-align: right;\n",
       "    }\n",
       "</style>\n",
       "<table border=\"1\" class=\"dataframe\">\n",
       "  <thead>\n",
       "    <tr style=\"text-align: right;\">\n",
       "      <th></th>\n",
       "      <th>CARNO</th>\n",
       "      <th>GETON_DATE</th>\n",
       "      <th>GETON_LONGITUDE</th>\n",
       "      <th>GETON_LATITUDE</th>\n",
       "      <th>GETOFF_DATE</th>\n",
       "      <th>GETOFF_LONGITUDE</th>\n",
       "      <th>GETOFF_LATITUDE</th>\n",
       "      <th>PASS_MILE</th>\n",
       "      <th>NOPASS_MILE</th>\n",
       "      <th>WAITING_TIME</th>\n",
       "      <th>OPERATING_TIME</th>\n",
       "    </tr>\n",
       "  </thead>\n",
       "  <tbody>\n",
       "    <tr>\n",
       "      <td>0</td>\n",
       "      <td>0006d282be70d06881a7513b69fcaa60</td>\n",
       "      <td>2019-05-31 00:08:00</td>\n",
       "      <td>118.155060</td>\n",
       "      <td>24.506035</td>\n",
       "      <td>2019-05-31 00:13:00</td>\n",
       "      <td>118.176666</td>\n",
       "      <td>24.509895</td>\n",
       "      <td>3.099609</td>\n",
       "      <td>1.299805</td>\n",
       "      <td>62.0</td>\n",
       "      <td>00:05:00</td>\n",
       "    </tr>\n",
       "    <tr>\n",
       "      <td>1</td>\n",
       "      <td>0006d282be70d06881a7513b69fcaa60</td>\n",
       "      <td>2019-05-31 02:30:00</td>\n",
       "      <td>118.154999</td>\n",
       "      <td>24.488607</td>\n",
       "      <td>2019-05-31 02:46:00</td>\n",
       "      <td>118.188156</td>\n",
       "      <td>24.498117</td>\n",
       "      <td>7.300781</td>\n",
       "      <td>0.000000</td>\n",
       "      <td>326.0</td>\n",
       "      <td>00:16:00</td>\n",
       "    </tr>\n",
       "    <tr>\n",
       "      <td>2</td>\n",
       "      <td>0006d282be70d06881a7513b69fcaa60</td>\n",
       "      <td>2019-05-31 07:47:00</td>\n",
       "      <td>118.155083</td>\n",
       "      <td>24.506119</td>\n",
       "      <td>2019-05-31 08:00:00</td>\n",
       "      <td>118.181938</td>\n",
       "      <td>24.531134</td>\n",
       "      <td>4.398438</td>\n",
       "      <td>16.906250</td>\n",
       "      <td>328.0</td>\n",
       "      <td>00:13:00</td>\n",
       "    </tr>\n",
       "    <tr>\n",
       "      <td>3</td>\n",
       "      <td>0006d282be70d06881a7513b69fcaa60</td>\n",
       "      <td>2019-05-31 08:19:00</td>\n",
       "      <td>118.146347</td>\n",
       "      <td>24.515144</td>\n",
       "      <td>2019-05-31 08:32:00</td>\n",
       "      <td>118.112679</td>\n",
       "      <td>24.520956</td>\n",
       "      <td>4.601562</td>\n",
       "      <td>0.000000</td>\n",
       "      <td>254.0</td>\n",
       "      <td>00:13:00</td>\n",
       "    </tr>\n",
       "    <tr>\n",
       "      <td>4</td>\n",
       "      <td>0006d282be70d06881a7513b69fcaa60</td>\n",
       "      <td>2019-05-31 08:43:00</td>\n",
       "      <td>118.129448</td>\n",
       "      <td>24.496716</td>\n",
       "      <td>2019-05-31 08:56:00</td>\n",
       "      <td>118.157806</td>\n",
       "      <td>24.486753</td>\n",
       "      <td>3.300781</td>\n",
       "      <td>0.199951</td>\n",
       "      <td>438.0</td>\n",
       "      <td>00:13:00</td>\n",
       "    </tr>\n",
       "    <tr>\n",
       "      <td>...</td>\n",
       "      <td>...</td>\n",
       "      <td>...</td>\n",
       "      <td>...</td>\n",
       "      <td>...</td>\n",
       "      <td>...</td>\n",
       "      <td>...</td>\n",
       "      <td>...</td>\n",
       "      <td>...</td>\n",
       "      <td>...</td>\n",
       "      <td>...</td>\n",
       "      <td>...</td>\n",
       "    </tr>\n",
       "    <tr>\n",
       "      <td>99995</td>\n",
       "      <td>fff20f025f560278d601b2fd47e1f6b7</td>\n",
       "      <td>2019-05-31 17:29:00</td>\n",
       "      <td>118.118919</td>\n",
       "      <td>24.431156</td>\n",
       "      <td>2019-05-31 17:46:00</td>\n",
       "      <td>118.072929</td>\n",
       "      <td>24.465965</td>\n",
       "      <td>7.898438</td>\n",
       "      <td>2.400391</td>\n",
       "      <td>272.0</td>\n",
       "      <td>00:17:00</td>\n",
       "    </tr>\n",
       "    <tr>\n",
       "      <td>99996</td>\n",
       "      <td>fff20f025f560278d601b2fd47e1f6b7</td>\n",
       "      <td>2019-05-31 19:58:00</td>\n",
       "      <td>118.096771</td>\n",
       "      <td>24.592213</td>\n",
       "      <td>2019-05-31 20:36:00</td>\n",
       "      <td>118.080887</td>\n",
       "      <td>24.464451</td>\n",
       "      <td>21.296875</td>\n",
       "      <td>1.299805</td>\n",
       "      <td>589.0</td>\n",
       "      <td>00:38:00</td>\n",
       "    </tr>\n",
       "    <tr>\n",
       "      <td>99997</td>\n",
       "      <td>fff20f025f560278d601b2fd47e1f6b7</td>\n",
       "      <td>2019-05-31 21:30:00</td>\n",
       "      <td>118.077835</td>\n",
       "      <td>24.454510</td>\n",
       "      <td>2019-05-31 21:52:00</td>\n",
       "      <td>118.119095</td>\n",
       "      <td>24.431002</td>\n",
       "      <td>10.500000</td>\n",
       "      <td>0.199951</td>\n",
       "      <td>385.0</td>\n",
       "      <td>00:22:00</td>\n",
       "    </tr>\n",
       "    <tr>\n",
       "      <td>99998</td>\n",
       "      <td>fff20f025f560278d601b2fd47e1f6b7</td>\n",
       "      <td>2019-05-31 22:37:00</td>\n",
       "      <td>118.115067</td>\n",
       "      <td>24.483564</td>\n",
       "      <td>2019-05-31 22:53:00</td>\n",
       "      <td>118.076080</td>\n",
       "      <td>24.491131</td>\n",
       "      <td>5.300781</td>\n",
       "      <td>0.000000</td>\n",
       "      <td>400.0</td>\n",
       "      <td>00:16:00</td>\n",
       "    </tr>\n",
       "    <tr>\n",
       "      <td>99999</td>\n",
       "      <td>fff20f025f560278d601b2fd47e1f6b7</td>\n",
       "      <td>2019-05-31 23:00:00</td>\n",
       "      <td>118.073257</td>\n",
       "      <td>24.452457</td>\n",
       "      <td>2019-05-31 23:14:00</td>\n",
       "      <td>118.150917</td>\n",
       "      <td>24.442167</td>\n",
       "      <td>11.203125</td>\n",
       "      <td>4.699219</td>\n",
       "      <td>160.0</td>\n",
       "      <td>00:14:00</td>\n",
       "    </tr>\n",
       "  </tbody>\n",
       "</table>\n",
       "<p>100000 rows × 11 columns</p>\n",
       "</div>"
      ],
      "text/plain": [
       "                                  CARNO          GETON_DATE  GETON_LONGITUDE  \\\n",
       "0      0006d282be70d06881a7513b69fcaa60 2019-05-31 00:08:00       118.155060   \n",
       "1      0006d282be70d06881a7513b69fcaa60 2019-05-31 02:30:00       118.154999   \n",
       "2      0006d282be70d06881a7513b69fcaa60 2019-05-31 07:47:00       118.155083   \n",
       "3      0006d282be70d06881a7513b69fcaa60 2019-05-31 08:19:00       118.146347   \n",
       "4      0006d282be70d06881a7513b69fcaa60 2019-05-31 08:43:00       118.129448   \n",
       "...                                 ...                 ...              ...   \n",
       "99995  fff20f025f560278d601b2fd47e1f6b7 2019-05-31 17:29:00       118.118919   \n",
       "99996  fff20f025f560278d601b2fd47e1f6b7 2019-05-31 19:58:00       118.096771   \n",
       "99997  fff20f025f560278d601b2fd47e1f6b7 2019-05-31 21:30:00       118.077835   \n",
       "99998  fff20f025f560278d601b2fd47e1f6b7 2019-05-31 22:37:00       118.115067   \n",
       "99999  fff20f025f560278d601b2fd47e1f6b7 2019-05-31 23:00:00       118.073257   \n",
       "\n",
       "       GETON_LATITUDE         GETOFF_DATE  GETOFF_LONGITUDE  GETOFF_LATITUDE  \\\n",
       "0           24.506035 2019-05-31 00:13:00        118.176666        24.509895   \n",
       "1           24.488607 2019-05-31 02:46:00        118.188156        24.498117   \n",
       "2           24.506119 2019-05-31 08:00:00        118.181938        24.531134   \n",
       "3           24.515144 2019-05-31 08:32:00        118.112679        24.520956   \n",
       "4           24.496716 2019-05-31 08:56:00        118.157806        24.486753   \n",
       "...               ...                 ...               ...              ...   \n",
       "99995       24.431156 2019-05-31 17:46:00        118.072929        24.465965   \n",
       "99996       24.592213 2019-05-31 20:36:00        118.080887        24.464451   \n",
       "99997       24.454510 2019-05-31 21:52:00        118.119095        24.431002   \n",
       "99998       24.483564 2019-05-31 22:53:00        118.076080        24.491131   \n",
       "99999       24.452457 2019-05-31 23:14:00        118.150917        24.442167   \n",
       "\n",
       "       PASS_MILE  NOPASS_MILE  WAITING_TIME OPERATING_TIME  \n",
       "0       3.099609     1.299805          62.0       00:05:00  \n",
       "1       7.300781     0.000000         326.0       00:16:00  \n",
       "2       4.398438    16.906250         328.0       00:13:00  \n",
       "3       4.601562     0.000000         254.0       00:13:00  \n",
       "4       3.300781     0.199951         438.0       00:13:00  \n",
       "...          ...          ...           ...            ...  \n",
       "99995   7.898438     2.400391         272.0       00:17:00  \n",
       "99996  21.296875     1.299805         589.0       00:38:00  \n",
       "99997  10.500000     0.199951         385.0       00:22:00  \n",
       "99998   5.300781     0.000000         400.0       00:16:00  \n",
       "99999  11.203125     4.699219         160.0       00:14:00  \n",
       "\n",
       "[100000 rows x 11 columns]"
      ]
     },
     "execution_count": 97,
     "metadata": {},
     "output_type": "execute_result"
    },
    {
     "data": {
      "text/plain": [
       "0         300\n",
       "1         960\n",
       "2         780\n",
       "3         780\n",
       "4         780\n",
       "         ... \n",
       "99995    1020\n",
       "99996    2280\n",
       "99997    1320\n",
       "99998     960\n",
       "99999     840\n",
       "Length: 100000, dtype: int64"
      ]
     },
     "execution_count": 97,
     "metadata": {},
     "output_type": "execute_result"
    }
   ],
   "source": [
    "taxiorder2019['OPERATING_TIME']=OPERATING_TIME\n",
    "taxiorder2019\n",
    "OPERATING_TIME.dt.seconds"
   ]
  },
  {
   "cell_type": "code",
   "execution_count": 63,
   "metadata": {
    "execution": {
     "iopub.execute_input": "2020-09-11T02:46:33.546089Z",
     "iopub.status.busy": "2020-09-11T02:46:33.545092Z",
     "iopub.status.idle": "2020-09-11T02:46:33.727166Z",
     "shell.execute_reply": "2020-09-11T02:46:33.727166Z",
     "shell.execute_reply.started": "2020-09-11T02:46:33.546089Z"
    }
   },
   "outputs": [
    {
     "data": {
      "text/plain": [
       "0    2019-05-31 01:31:20\n",
       "1    2019-05-31 01:31:35\n",
       "2    2019-05-31 01:31:50\n",
       "3    2019-05-31 01:32:05\n",
       "4    2019-05-31 01:32:20\n",
       "5    2019-05-31 01:32:35\n",
       "6    2019-05-31 01:32:50\n",
       "7    2019-05-31 01:33:05\n",
       "8    2019-05-31 01:33:20\n",
       "9    2019-05-31 01:33:35\n",
       "10   2019-05-31 01:33:50\n",
       "11   2019-05-31 01:34:05\n",
       "12   2019-05-31 01:34:20\n",
       "13   2019-05-31 01:34:35\n",
       "14   2019-05-31 01:34:50\n",
       "15   2019-05-31 01:35:05\n",
       "16   2019-05-31 01:35:20\n",
       "17   2019-05-31 01:35:35\n",
       "18   2019-05-31 01:35:50\n",
       "19   2019-05-31 01:36:05\n",
       "20   2019-05-31 01:36:20\n",
       "21   2019-05-31 01:36:35\n",
       "22   2019-05-31 01:36:50\n",
       "23   2019-05-31 01:37:05\n",
       "Name: GPS_TIME, dtype: datetime64[ns]"
      ]
     },
     "execution_count": 63,
     "metadata": {},
     "output_type": "execute_result"
    }
   ],
   "source": [
    "import pandas as pd\n",
    "import numpy as np\n",
    "# 压缩内存，适合处理大数据节约内存\n",
    "MAX_ROWS = 100000 # 文件读取行数\n",
    "\n",
    "# dtype的使用\n",
    "taxigps2019 = pd.read_csv('taxiGps20190531.csv', nrows=MAX_ROWS,\n",
    "                         dtype = {\n",
    "                             'DRIVING_DIRECTION': np.uint16,  # 正的值精确度要求无需太高，无符号\n",
    "                             'OPERATING_STATUS': np.uint8,\n",
    "                             'LONGITUDE': np.float32,\n",
    "                             'LATITUDE': np.float32,\n",
    "                             'GPS_SPEED': np.float16 \n",
    "                         })\n",
    "taxigps2019 = taxigps2019[taxigps2019.columns[::-1]]\n",
    "taxigps2019.sort_values(by=['CARNO','GPS_TIME'], inplace=True)\n",
    "taxigps2019.reset_index(inplace=True)\n",
    "taxigps2019['GPS_TIME'] = pd.to_datetime(taxigps2019['GPS_TIME'])\n",
    "taxigps2019['GPS_TIME'][taxigps2019['CARNO'] == '0006d282be70d06881a7513b69fcaa60'][taxigps2019['OPERATING_STATUS'] == ( 1 or 6 or 8 )]"
   ]
  },
  {
   "cell_type": "code",
   "execution_count": 100,
   "metadata": {
    "execution": {
     "iopub.execute_input": "2020-09-11T07:28:49.223689Z",
     "iopub.status.busy": "2020-09-11T07:28:49.222692Z",
     "iopub.status.idle": "2020-09-11T07:28:49.231668Z",
     "shell.execute_reply": "2020-09-11T07:28:49.231668Z",
     "shell.execute_reply.started": "2020-09-11T07:28:49.223689Z"
    }
   },
   "outputs": [
    {
     "data": {
      "text/plain": [
       "1    72569\n",
       "6    25217\n",
       "8     2214\n",
       "Name: OPERATING_STATUS, dtype: int64"
      ]
     },
     "execution_count": 100,
     "metadata": {},
     "output_type": "execute_result"
    }
   ],
   "source": [
    "taxigps2019['OPERATING_STATUS'].value_counts()"
   ]
  },
  {
   "cell_type": "markdown",
   "metadata": {},
   "source": [
    "2. 统计某个出租车的行驶距离。"
   ]
  },
  {
   "cell_type": "code",
   "execution_count": null,
   "metadata": {},
   "outputs": [],
   "source": [
    "统计20190531某车行驶总距离"
   ]
  },
  {
   "cell_type": "code",
   "execution_count": 104,
   "metadata": {
    "execution": {
     "iopub.execute_input": "2020-09-11T07:31:17.400013Z",
     "iopub.status.busy": "2020-09-11T07:31:17.399015Z",
     "iopub.status.idle": "2020-09-11T07:31:17.417995Z",
     "shell.execute_reply": "2020-09-11T07:31:17.417995Z",
     "shell.execute_reply.started": "2020-09-11T07:31:17.400013Z"
    }
   },
   "outputs": [
    {
     "data": {
      "text/plain": [
       "175.0"
      ]
     },
     "execution_count": 104,
     "metadata": {},
     "output_type": "execute_result"
    }
   ],
   "source": [
    "taxiorder2019['PASS_MILE'][taxigps2019['CARNO'] == '0006d282be70d06881a7513b69fcaa60'].sum()+taxiorder2019['NOPASS_MILE'][taxigps2019['CARNO'] == '0006d282be70d06881a7513b69fcaa60'].sum()"
   ]
  },
  {
   "cell_type": "markdown",
   "metadata": {
    "execution": {
     "iopub.execute_input": "2020-09-10T09:35:40.149170Z",
     "iopub.status.busy": "2020-09-10T09:35:40.148173Z",
     "iopub.status.idle": "2020-09-10T09:35:40.155154Z",
     "shell.execute_reply": "2020-09-10T09:35:40.154157Z",
     "shell.execute_reply.started": "2020-09-10T09:35:40.149170Z"
    }
   },
   "source": [
    "3. 找到数据中的异常值"
   ]
  },
  {
   "cell_type": "markdown",
   "metadata": {},
   "source": [
    "【回答】利用3σ原则 / 箱型图分析 "
   ]
  },
  {
   "cell_type": "code",
   "execution_count": 55,
   "metadata": {
    "execution": {
     "iopub.execute_input": "2020-09-11T02:31:55.409161Z",
     "iopub.status.busy": "2020-09-11T02:31:55.408162Z",
     "iopub.status.idle": "2020-09-11T02:31:55.519864Z",
     "shell.execute_reply": "2020-09-11T02:31:55.519864Z",
     "shell.execute_reply.started": "2020-09-11T02:31:55.409161Z"
    }
   },
   "outputs": [
    {
     "data": {
      "text/plain": [
       "<AxesSubplot:ylabel='GPS_SPEED'>"
      ]
     },
     "execution_count": 55,
     "metadata": {},
     "output_type": "execute_result"
    },
    {
     "data": {
      "image/png": "[encoded data removed]",
      "text/plain": [
       "<Figure size 432x288 with 1 Axes>"
      ]
     },
     "metadata": {
      "needs_background": "light"
     },
     "output_type": "display_data"
    }
   ],
   "source": [
    "import matplotlib.pyplot as plt\n",
    "import seaborn as sns\n",
    "%matplotlib inline\n",
    "sns.boxplot(y=taxigps2019.GPS_SPEED)"
   ]
  },
  {
   "cell_type": "markdown",
   "metadata": {},
   "source": [
    "## 打卡任务"
   ]
  },
  {
   "cell_type": "markdown",
   "metadata": {},
   "source": [
    "1. 统计巡游车GPS数据在20190603中包含多少俩出租车🚖？"
   ]
  },
  {
   "cell_type": "code",
   "execution_count": 328,
   "metadata": {
    "execution": {
     "iopub.execute_input": "2020-09-11T15:14:59.291498Z",
     "iopub.status.busy": "2020-09-11T15:14:59.291498Z",
     "iopub.status.idle": "2020-09-11T15:14:59.703425Z",
     "shell.execute_reply": "2020-09-11T15:14:59.703425Z",
     "shell.execute_reply.started": "2020-09-11T15:14:59.291498Z"
    }
   },
   "outputs": [
    {
     "name": "stdout",
     "output_type": "stream",
     "text": [
      "------------piece[key] value_counts start-----------\n",
      "f8bbcb89ccc1bffa2b92a523dc221b82    44\n",
      "2b26ec0b5dfa34f1444728b2708c229f    43\n",
      "1deaade1702863cd69cee083704274a1    42\n",
      "534bdbed47dcca1d74cd7042c45295ae    41\n",
      "8233a0da71f615e975f406b78c58c557    40\n",
      "                                    ..\n",
      "e92853cd2d9604fb8b2cee24e470c360     1\n",
      "6dc5d9758d67b752361ddb3aee0ba5bf     1\n",
      "7a3684b05b38656ba8f104db746bdfd1     1\n",
      "435948badbcd068529c205cc4f426bb3     1\n",
      "f2553b7a55886d669d41cde03440202b     1\n",
      "Name: CAR_NO, Length: 5390, dtype: int64\n",
      "------------piece[key] value_counts end-------------\n",
      "------------piece[key] value_counts start-----------\n",
      "b39b07b73157d3eff2d1dd7ff2003d41    43\n",
      "352da70888c724cc3423ae8a94e7d0e8    42\n",
      "d6f667c4669116398c18b61efc04e8b4    39\n",
      "b1461a4aa96afd8914333c25c0b9950f    38\n",
      "a8fbcf846f242161abfadf43c25b74f7    37\n",
      "                                    ..\n",
      "667386b4668765292e8212e46d63d67d     1\n",
      "0b189e9a9b00b59f4822743dbe768883     1\n",
      "33fcac4b70090808ca61b0a88ad6ad03     1\n",
      "d1283e960f377ece22c0719788cb3757     1\n",
      "a80c44a416a4d9d9677b19a888cd9e61     1\n",
      "Name: CAR_NO, Length: 5424, dtype: int64\n",
      "------------piece[key] value_counts end-------------\n",
      "------------piece[key] value_counts start-----------\n",
      "ebb84b20f47e2530509666b0e3207a84    66\n",
      "2a3a73ae3bacf50e22d9eb3bff15387e    63\n",
      "d4d1b9a8c7fd5dba9bf514956b5d0614    62\n",
      "aa805c58299897f971c169b5b0513741    61\n",
      "c4c200bdbf9a0b217e551f8c35dd7da9    61\n",
      "                                    ..\n",
      "2052eaf24bc6aa35ecb2226fc67b6194     1\n",
      "dcbfca3388cc4f207c7cbc3a5a4b8128     1\n",
      "e17fe4f93d37746d1f74d94872ccc89d     1\n",
      "4a9ecab088c9049907cc410d127394c9     1\n",
      "b98e7638727dca470370deb3813bcc06     1\n",
      "Name: CAR_NO, Length: 5193, dtype: int64\n",
      "------------piece[key] value_counts end-------------\n"
     ]
    }
   ],
   "source": [
    "# 读入20190603出租车的GPS和订单\n",
    "\n",
    "path='taxiOrder20190603.csv'\n",
    "# chunksize return TextParser\n",
    "chunker=pd.read_csv(path,chunksize=100000)\n",
    " \n",
    "# an array of Series\n",
    "tot=pd.Series([])\n",
    "chunkercount=0\n",
    "for piece in chunker:\n",
    "\tprint('------------piece[key] value_counts start-----------')\n",
    "\t#piece is a DataFrame,lenth is chunksize=100000,and piece[key] is a Series ,key is int ,value is the key column\n",
    "\tprint(piece.CAR_NO.value_counts())\n",
    "\tprint('------------piece[key] value_counts end-------------')\n",
    "\t#piece[key] value_counts is a Series ,key is the key column, and value is the key count\n",
    "\ttot=tot.add(piece.CAR_NO.value_counts(),fill_value=0)\n",
    "\tchunkercount+=1\n"
   ]
  },
  {
   "cell_type": "markdown",
   "metadata": {},
   "source": [
    "【注意】统计用float32比较好"
   ]
  },
  {
   "cell_type": "code",
   "execution_count": 139,
   "metadata": {
    "execution": {
     "iopub.execute_input": "2020-09-11T08:27:52.724142Z",
     "iopub.status.busy": "2020-09-11T08:27:52.724142Z",
     "iopub.status.idle": "2020-09-11T08:27:52.732122Z",
     "shell.execute_reply": "2020-09-11T08:27:52.731152Z",
     "shell.execute_reply.started": "2020-09-11T08:27:52.724142Z"
    }
   },
   "outputs": [
    {
     "name": "stdout",
     "output_type": "stream",
     "text": [
      "3\n",
      "--------------\n",
      "2a3a73ae3bacf50e22d9eb3bff15387e    122.0\n",
      "ebb84b20f47e2530509666b0e3207a84    122.0\n",
      "d4d1b9a8c7fd5dba9bf514956b5d0614    112.0\n",
      "aa805c58299897f971c169b5b0513741    105.0\n",
      "c4c200bdbf9a0b217e551f8c35dd7da9    104.0\n",
      "                                    ...  \n",
      "9fb93ceebc73629239c13789370357f3      1.0\n",
      "0b189e9a9b00b59f4822743dbe768883      1.0\n",
      "5b661903dc977f0f4cbb6cde10685e9e      1.0\n",
      "1689ee9f3d215cd3de370c4f9c9b3572      1.0\n",
      "9f49b5866f6dd2012eb9c25c8a5d9786      1.0\n",
      "Length: 5459, dtype: float64\n"
     ]
    }
   ],
   "source": [
    "#last order the series\n",
    "tot=tot.sort_values(ascending=False)\n",
    "print(chunkercount)\n",
    "print('--------------')\n",
    "print(tot)"
   ]
  },
  {
   "cell_type": "code",
   "execution_count": 124,
   "metadata": {
    "execution": {
     "iopub.execute_input": "2020-09-11T08:08:45.181737Z",
     "iopub.status.busy": "2020-09-11T08:08:45.181737Z",
     "iopub.status.idle": "2020-09-11T08:08:45.488488Z",
     "shell.execute_reply": "2020-09-11T08:08:45.488488Z",
     "shell.execute_reply.started": "2020-09-11T08:08:45.181737Z"
    }
   },
   "outputs": [
    {
     "data": {
      "text/html": [
       "<div>\n",
       "<style scoped>\n",
       "    .dataframe tbody tr th:only-of-type {\n",
       "        vertical-align: middle;\n",
       "    }\n",
       "\n",
       "    .dataframe tbody tr th {\n",
       "        vertical-align: top;\n",
       "    }\n",
       "\n",
       "    .dataframe thead th {\n",
       "        text-align: right;\n",
       "    }\n",
       "</style>\n",
       "<table border=\"1\" class=\"dataframe\">\n",
       "  <thead>\n",
       "    <tr style=\"text-align: right;\">\n",
       "      <th></th>\n",
       "      <th>CAR_NO</th>\n",
       "      <th>GETON_DATE</th>\n",
       "      <th>GETON_LONGITUDE</th>\n",
       "      <th>GETON_LATITUDE</th>\n",
       "      <th>GETOFF_DATE</th>\n",
       "      <th>GETOFF_LONGITUDE</th>\n",
       "      <th>GETOFF_LATITUDE</th>\n",
       "      <th>PASS_MILE</th>\n",
       "      <th>NOPASS_MILE</th>\n",
       "      <th>WAITING_TIME</th>\n",
       "    </tr>\n",
       "  </thead>\n",
       "  <tbody>\n",
       "    <tr>\n",
       "      <td>0</td>\n",
       "      <td>91856bf24bf21e5a65fc254ca559ea5d</td>\n",
       "      <td>2019-06-03 04:09:00</td>\n",
       "      <td>118.120911</td>\n",
       "      <td>24.481655</td>\n",
       "      <td>2019-06-03 04:16:00</td>\n",
       "      <td>0.000000</td>\n",
       "      <td>0.000000</td>\n",
       "      <td>4.000000</td>\n",
       "      <td>1.400391</td>\n",
       "      <td>60.0</td>\n",
       "    </tr>\n",
       "    <tr>\n",
       "      <td>1</td>\n",
       "      <td>91856bf24bf21e5a65fc254ca559ea5d</td>\n",
       "      <td>2019-06-03 08:58:00</td>\n",
       "      <td>118.119987</td>\n",
       "      <td>24.427582</td>\n",
       "      <td>2019-06-03 09:20:00</td>\n",
       "      <td>118.072258</td>\n",
       "      <td>24.483841</td>\n",
       "      <td>9.898438</td>\n",
       "      <td>3.900391</td>\n",
       "      <td>360.0</td>\n",
       "    </tr>\n",
       "    <tr>\n",
       "      <td>2</td>\n",
       "      <td>91856bf24bf21e5a65fc254ca559ea5d</td>\n",
       "      <td>2019-06-03 09:45:00</td>\n",
       "      <td>118.147514</td>\n",
       "      <td>24.477007</td>\n",
       "      <td>2019-06-03 09:51:00</td>\n",
       "      <td>118.145660</td>\n",
       "      <td>24.450691</td>\n",
       "      <td>3.699219</td>\n",
       "      <td>5.800781</td>\n",
       "      <td>0.0</td>\n",
       "    </tr>\n",
       "    <tr>\n",
       "      <td>3</td>\n",
       "      <td>91856bf24bf21e5a65fc254ca559ea5d</td>\n",
       "      <td>2019-06-03 12:34:00</td>\n",
       "      <td>118.118790</td>\n",
       "      <td>24.430962</td>\n",
       "      <td>2019-06-03 12:54:00</td>\n",
       "      <td>118.087639</td>\n",
       "      <td>24.437870</td>\n",
       "      <td>6.398438</td>\n",
       "      <td>6.000000</td>\n",
       "      <td>420.0</td>\n",
       "    </tr>\n",
       "    <tr>\n",
       "      <td>4</td>\n",
       "      <td>91856bf24bf21e5a65fc254ca559ea5d</td>\n",
       "      <td>2019-06-03 12:55:00</td>\n",
       "      <td>118.088020</td>\n",
       "      <td>24.437637</td>\n",
       "      <td>2019-06-03 13:02:00</td>\n",
       "      <td>118.110519</td>\n",
       "      <td>24.436117</td>\n",
       "      <td>2.699219</td>\n",
       "      <td>0.099976</td>\n",
       "      <td>60.0</td>\n",
       "    </tr>\n",
       "    <tr>\n",
       "      <td>...</td>\n",
       "      <td>...</td>\n",
       "      <td>...</td>\n",
       "      <td>...</td>\n",
       "      <td>...</td>\n",
       "      <td>...</td>\n",
       "      <td>...</td>\n",
       "      <td>...</td>\n",
       "      <td>...</td>\n",
       "      <td>...</td>\n",
       "      <td>...</td>\n",
       "    </tr>\n",
       "    <tr>\n",
       "      <td>224719</td>\n",
       "      <td>8f67c648ac2c033647f7bea84f6d1fa6</td>\n",
       "      <td>2019-06-03 00:43:00</td>\n",
       "      <td>118.154945</td>\n",
       "      <td>24.482971</td>\n",
       "      <td>2019-06-03 00:50:00</td>\n",
       "      <td>118.154144</td>\n",
       "      <td>24.506346</td>\n",
       "      <td>3.500000</td>\n",
       "      <td>0.899902</td>\n",
       "      <td>120.0</td>\n",
       "    </tr>\n",
       "    <tr>\n",
       "      <td>224720</td>\n",
       "      <td>8f67c648ac2c033647f7bea84f6d1fa6</td>\n",
       "      <td>2019-06-03 08:38:00</td>\n",
       "      <td>118.098595</td>\n",
       "      <td>24.523174</td>\n",
       "      <td>2019-06-03 08:51:00</td>\n",
       "      <td>118.111305</td>\n",
       "      <td>24.497181</td>\n",
       "      <td>5.500000</td>\n",
       "      <td>0.300049</td>\n",
       "      <td>240.0</td>\n",
       "    </tr>\n",
       "    <tr>\n",
       "      <td>224721</td>\n",
       "      <td>8f67c648ac2c033647f7bea84f6d1fa6</td>\n",
       "      <td>2019-06-03 11:14:00</td>\n",
       "      <td>118.167450</td>\n",
       "      <td>24.509117</td>\n",
       "      <td>2019-06-03 11:24:00</td>\n",
       "      <td>118.158997</td>\n",
       "      <td>24.527704</td>\n",
       "      <td>3.800781</td>\n",
       "      <td>4.898438</td>\n",
       "      <td>180.0</td>\n",
       "    </tr>\n",
       "    <tr>\n",
       "      <td>224722</td>\n",
       "      <td>8f67c648ac2c033647f7bea84f6d1fa6</td>\n",
       "      <td>2019-06-03 11:24:00</td>\n",
       "      <td>118.158974</td>\n",
       "      <td>24.527733</td>\n",
       "      <td>2019-06-03 11:31:00</td>\n",
       "      <td>118.171814</td>\n",
       "      <td>24.508978</td>\n",
       "      <td>2.599609</td>\n",
       "      <td>0.000000</td>\n",
       "      <td>120.0</td>\n",
       "    </tr>\n",
       "    <tr>\n",
       "      <td>224723</td>\n",
       "      <td>8f67c648ac2c033647f7bea84f6d1fa6</td>\n",
       "      <td>2019-06-03 16:24:00</td>\n",
       "      <td>118.145500</td>\n",
       "      <td>24.514898</td>\n",
       "      <td>2019-06-03 16:32:00</td>\n",
       "      <td>118.164268</td>\n",
       "      <td>24.511599</td>\n",
       "      <td>2.099609</td>\n",
       "      <td>0.099976</td>\n",
       "      <td>240.0</td>\n",
       "    </tr>\n",
       "  </tbody>\n",
       "</table>\n",
       "<p>224724 rows × 10 columns</p>\n",
       "</div>"
      ],
      "text/plain": [
       "                                  CAR_NO           GETON_DATE  \\\n",
       "0       91856bf24bf21e5a65fc254ca559ea5d  2019-06-03 04:09:00   \n",
       "1       91856bf24bf21e5a65fc254ca559ea5d  2019-06-03 08:58:00   \n",
       "2       91856bf24bf21e5a65fc254ca559ea5d  2019-06-03 09:45:00   \n",
       "3       91856bf24bf21e5a65fc254ca559ea5d  2019-06-03 12:34:00   \n",
       "4       91856bf24bf21e5a65fc254ca559ea5d  2019-06-03 12:55:00   \n",
       "...                                  ...                  ...   \n",
       "224719  8f67c648ac2c033647f7bea84f6d1fa6  2019-06-03 00:43:00   \n",
       "224720  8f67c648ac2c033647f7bea84f6d1fa6  2019-06-03 08:38:00   \n",
       "224721  8f67c648ac2c033647f7bea84f6d1fa6  2019-06-03 11:14:00   \n",
       "224722  8f67c648ac2c033647f7bea84f6d1fa6  2019-06-03 11:24:00   \n",
       "224723  8f67c648ac2c033647f7bea84f6d1fa6  2019-06-03 16:24:00   \n",
       "\n",
       "        GETON_LONGITUDE  GETON_LATITUDE          GETOFF_DATE  \\\n",
       "0            118.120911       24.481655  2019-06-03 04:16:00   \n",
       "1            118.119987       24.427582  2019-06-03 09:20:00   \n",
       "2            118.147514       24.477007  2019-06-03 09:51:00   \n",
       "3            118.118790       24.430962  2019-06-03 12:54:00   \n",
       "4            118.088020       24.437637  2019-06-03 13:02:00   \n",
       "...                 ...             ...                  ...   \n",
       "224719       118.154945       24.482971  2019-06-03 00:50:00   \n",
       "224720       118.098595       24.523174  2019-06-03 08:51:00   \n",
       "224721       118.167450       24.509117  2019-06-03 11:24:00   \n",
       "224722       118.158974       24.527733  2019-06-03 11:31:00   \n",
       "224723       118.145500       24.514898  2019-06-03 16:32:00   \n",
       "\n",
       "        GETOFF_LONGITUDE  GETOFF_LATITUDE  PASS_MILE  NOPASS_MILE  \\\n",
       "0               0.000000         0.000000   4.000000     1.400391   \n",
       "1             118.072258        24.483841   9.898438     3.900391   \n",
       "2             118.145660        24.450691   3.699219     5.800781   \n",
       "3             118.087639        24.437870   6.398438     6.000000   \n",
       "4             118.110519        24.436117   2.699219     0.099976   \n",
       "...                  ...              ...        ...          ...   \n",
       "224719        118.154144        24.506346   3.500000     0.899902   \n",
       "224720        118.111305        24.497181   5.500000     0.300049   \n",
       "224721        118.158997        24.527704   3.800781     4.898438   \n",
       "224722        118.171814        24.508978   2.599609     0.000000   \n",
       "224723        118.164268        24.511599   2.099609     0.099976   \n",
       "\n",
       "        WAITING_TIME  \n",
       "0               60.0  \n",
       "1              360.0  \n",
       "2                0.0  \n",
       "3              420.0  \n",
       "4               60.0  \n",
       "...              ...  \n",
       "224719         120.0  \n",
       "224720         240.0  \n",
       "224721         180.0  \n",
       "224722         120.0  \n",
       "224723         240.0  \n",
       "\n",
       "[224724 rows x 10 columns]"
      ]
     },
     "execution_count": 124,
     "metadata": {},
     "output_type": "execute_result"
    }
   ],
   "source": [
    "# 读入20190603出租车的GPS和订单\n",
    "taxiorder20190603 = pd.read_csv('taxiOrder20190603.csv', \n",
    "                           dtype = {\n",
    "                               'GETON_LONGITUDE': np.float32,\n",
    "                               'GETON_LATITUDE': np.float32,\n",
    "                               'GETOFF_LONGITUDE': np.float32,\n",
    "                               'GETOFF_LATITUDE': np.float32,\n",
    "                               'PASS_MILE': np.float16,\n",
    "                               'NOPASS_MILE': np.float16,\n",
    "                               'WAITING_TIME': np.float16\n",
    "                               })\n",
    "taxiorder20190603"
   ]
  },
  {
   "cell_type": "code",
   "execution_count": 125,
   "metadata": {
    "execution": {
     "iopub.execute_input": "2020-09-11T08:09:03.428374Z",
     "iopub.status.busy": "2020-09-11T08:09:03.428374Z",
     "iopub.status.idle": "2020-09-11T08:09:03.644795Z",
     "shell.execute_reply": "2020-09-11T08:09:03.643798Z",
     "shell.execute_reply.started": "2020-09-11T08:09:03.428374Z"
    }
   },
   "outputs": [
    {
     "name": "stdout",
     "output_type": "stream",
     "text": [
      "<class 'pandas.core.frame.DataFrame'>\n",
      "RangeIndex: 224724 entries, 0 to 224723\n",
      "Data columns (total 10 columns):\n",
      "CARNO               224724 non-null object\n",
      "GETON_DATE          224724 non-null object\n",
      "GETON_LONGITUDE     224724 non-null float32\n",
      "GETON_LATITUDE      224724 non-null float32\n",
      "GETOFF_DATE         224724 non-null object\n",
      "GETOFF_LONGITUDE    224724 non-null float32\n",
      "GETOFF_LATITUDE     224724 non-null float32\n",
      "PASS_MILE           224724 non-null float16\n",
      "NOPASS_MILE         224724 non-null float16\n",
      "WAITING_TIME        224724 non-null float16\n",
      "dtypes: float16(3), float32(4), object(3)\n",
      "memory usage: 9.9+ MB\n"
     ]
    },
    {
     "data": {
      "text/html": [
       "<div>\n",
       "<style scoped>\n",
       "    .dataframe tbody tr th:only-of-type {\n",
       "        vertical-align: middle;\n",
       "    }\n",
       "\n",
       "    .dataframe tbody tr th {\n",
       "        vertical-align: top;\n",
       "    }\n",
       "\n",
       "    .dataframe thead th {\n",
       "        text-align: right;\n",
       "    }\n",
       "</style>\n",
       "<table border=\"1\" class=\"dataframe\">\n",
       "  <thead>\n",
       "    <tr style=\"text-align: right;\">\n",
       "      <th></th>\n",
       "      <th>CARNO</th>\n",
       "      <th>GETON_DATE</th>\n",
       "      <th>GETON_LONGITUDE</th>\n",
       "      <th>GETON_LATITUDE</th>\n",
       "      <th>GETOFF_DATE</th>\n",
       "      <th>GETOFF_LONGITUDE</th>\n",
       "      <th>GETOFF_LATITUDE</th>\n",
       "      <th>PASS_MILE</th>\n",
       "      <th>NOPASS_MILE</th>\n",
       "      <th>WAITING_TIME</th>\n",
       "    </tr>\n",
       "  </thead>\n",
       "  <tbody>\n",
       "    <tr>\n",
       "      <td>0</td>\n",
       "      <td>0006d282be70d06881a7513b69fcaa60</td>\n",
       "      <td>2019-06-03 00:11:00</td>\n",
       "      <td>118.130676</td>\n",
       "      <td>24.520460</td>\n",
       "      <td>2019-06-03 00:15:00</td>\n",
       "      <td>118.121704</td>\n",
       "      <td>24.515245</td>\n",
       "      <td>1.500000</td>\n",
       "      <td>7.199219</td>\n",
       "      <td>107.0</td>\n",
       "    </tr>\n",
       "    <tr>\n",
       "      <td>1</td>\n",
       "      <td>0006d282be70d06881a7513b69fcaa60</td>\n",
       "      <td>2019-06-03 00:16:00</td>\n",
       "      <td>118.119225</td>\n",
       "      <td>24.518341</td>\n",
       "      <td>2019-06-03 00:25:00</td>\n",
       "      <td>118.159363</td>\n",
       "      <td>24.527805</td>\n",
       "      <td>4.500000</td>\n",
       "      <td>0.500000</td>\n",
       "      <td>90.0</td>\n",
       "    </tr>\n",
       "    <tr>\n",
       "      <td>2</td>\n",
       "      <td>0006d282be70d06881a7513b69fcaa60</td>\n",
       "      <td>2019-06-03 00:39:00</td>\n",
       "      <td>118.159569</td>\n",
       "      <td>24.527887</td>\n",
       "      <td>2019-06-03 00:55:00</td>\n",
       "      <td>118.105377</td>\n",
       "      <td>24.519215</td>\n",
       "      <td>7.601562</td>\n",
       "      <td>0.000000</td>\n",
       "      <td>247.0</td>\n",
       "    </tr>\n",
       "    <tr>\n",
       "      <td>3</td>\n",
       "      <td>0006d282be70d06881a7513b69fcaa60</td>\n",
       "      <td>2019-06-03 00:58:00</td>\n",
       "      <td>118.107552</td>\n",
       "      <td>24.519096</td>\n",
       "      <td>2019-06-03 01:09:00</td>\n",
       "      <td>118.106651</td>\n",
       "      <td>24.477125</td>\n",
       "      <td>5.500000</td>\n",
       "      <td>0.500000</td>\n",
       "      <td>190.0</td>\n",
       "    </tr>\n",
       "    <tr>\n",
       "      <td>4</td>\n",
       "      <td>0006d282be70d06881a7513b69fcaa60</td>\n",
       "      <td>2019-06-03 01:15:00</td>\n",
       "      <td>118.116348</td>\n",
       "      <td>24.481958</td>\n",
       "      <td>2019-06-03 01:19:00</td>\n",
       "      <td>118.112701</td>\n",
       "      <td>24.487860</td>\n",
       "      <td>1.500000</td>\n",
       "      <td>1.299805</td>\n",
       "      <td>41.0</td>\n",
       "    </tr>\n",
       "  </tbody>\n",
       "</table>\n",
       "</div>"
      ],
      "text/plain": [
       "                              CARNO           GETON_DATE  GETON_LONGITUDE  \\\n",
       "0  0006d282be70d06881a7513b69fcaa60  2019-06-03 00:11:00       118.130676   \n",
       "1  0006d282be70d06881a7513b69fcaa60  2019-06-03 00:16:00       118.119225   \n",
       "2  0006d282be70d06881a7513b69fcaa60  2019-06-03 00:39:00       118.159569   \n",
       "3  0006d282be70d06881a7513b69fcaa60  2019-06-03 00:58:00       118.107552   \n",
       "4  0006d282be70d06881a7513b69fcaa60  2019-06-03 01:15:00       118.116348   \n",
       "\n",
       "   GETON_LATITUDE          GETOFF_DATE  GETOFF_LONGITUDE  GETOFF_LATITUDE  \\\n",
       "0       24.520460  2019-06-03 00:15:00        118.121704        24.515245   \n",
       "1       24.518341  2019-06-03 00:25:00        118.159363        24.527805   \n",
       "2       24.527887  2019-06-03 00:55:00        118.105377        24.519215   \n",
       "3       24.519096  2019-06-03 01:09:00        118.106651        24.477125   \n",
       "4       24.481958  2019-06-03 01:19:00        118.112701        24.487860   \n",
       "\n",
       "   PASS_MILE  NOPASS_MILE  WAITING_TIME  \n",
       "0   1.500000     7.199219         107.0  \n",
       "1   4.500000     0.500000          90.0  \n",
       "2   7.601562     0.000000         247.0  \n",
       "3   5.500000     0.500000         190.0  \n",
       "4   1.500000     1.299805          41.0  "
      ]
     },
     "execution_count": 125,
     "metadata": {},
     "output_type": "execute_result"
    }
   ],
   "source": [
    "taxiorder20190603 = taxiorder20190603.rename(columns={'CAR_NO':'CARNO'}) #columns改名，和GPS数据统一\n",
    "taxiorder20190603.sort_values(by=['CARNO','GETON_DATE'], inplace=True) #关注下车时间\n",
    "taxiorder20190603.reset_index(inplace=True, drop=True)\n",
    "taxiorder20190603.info()\n",
    "taxiorder20190603.head()"
   ]
  },
  {
   "cell_type": "code",
   "execution_count": 131,
   "metadata": {
    "execution": {
     "iopub.execute_input": "2020-09-11T08:17:39.803424Z",
     "iopub.status.busy": "2020-09-11T08:17:39.803424Z",
     "iopub.status.idle": "2020-09-11T08:18:09.683470Z",
     "shell.execute_reply": "2020-09-11T08:18:09.683470Z",
     "shell.execute_reply.started": "2020-09-11T08:17:39.803424Z"
    }
   },
   "outputs": [
    {
     "name": "stdout",
     "output_type": "stream",
     "text": [
      "<class 'pandas.core.frame.DataFrame'>\n",
      "RangeIndex: 15845106 entries, 0 to 15845105\n",
      "Data columns (total 7 columns):\n",
      "CARNO                object\n",
      "LATITUDE             float32\n",
      "LONGITUDE            float32\n",
      "GPS_TIME             object\n",
      "DRIVING_DIRECTION    uint16\n",
      "GPS_SPEED            float16\n",
      "OPERATING_STATUS     uint8\n",
      "dtypes: float16(1), float32(2), object(2), uint16(1), uint8(1)\n",
      "memory usage: 438.2+ MB\n"
     ]
    },
    {
     "data": {
      "text/html": [
       "<div>\n",
       "<style scoped>\n",
       "    .dataframe tbody tr th:only-of-type {\n",
       "        vertical-align: middle;\n",
       "    }\n",
       "\n",
       "    .dataframe tbody tr th {\n",
       "        vertical-align: top;\n",
       "    }\n",
       "\n",
       "    .dataframe thead th {\n",
       "        text-align: right;\n",
       "    }\n",
       "</style>\n",
       "<table border=\"1\" class=\"dataframe\">\n",
       "  <thead>\n",
       "    <tr style=\"text-align: right;\">\n",
       "      <th></th>\n",
       "      <th>CARNO</th>\n",
       "      <th>LATITUDE</th>\n",
       "      <th>LONGITUDE</th>\n",
       "      <th>GPS_TIME</th>\n",
       "      <th>DRIVING_DIRECTION</th>\n",
       "      <th>GPS_SPEED</th>\n",
       "      <th>OPERATING_STATUS</th>\n",
       "    </tr>\n",
       "  </thead>\n",
       "  <tbody>\n",
       "    <tr>\n",
       "      <td>0</td>\n",
       "      <td>0006d282be70d06881a7513b69fcaa60</td>\n",
       "      <td>24.497171</td>\n",
       "      <td>118.111893</td>\n",
       "      <td>2019/6/3 10:00:06</td>\n",
       "      <td>63</td>\n",
       "      <td>74.000000</td>\n",
       "      <td>6</td>\n",
       "    </tr>\n",
       "    <tr>\n",
       "      <td>1</td>\n",
       "      <td>0006d282be70d06881a7513b69fcaa60</td>\n",
       "      <td>24.498400</td>\n",
       "      <td>118.114586</td>\n",
       "      <td>2019/6/3 10:00:21</td>\n",
       "      <td>63</td>\n",
       "      <td>72.187500</td>\n",
       "      <td>6</td>\n",
       "    </tr>\n",
       "    <tr>\n",
       "      <td>2</td>\n",
       "      <td>0006d282be70d06881a7513b69fcaa60</td>\n",
       "      <td>24.499569</td>\n",
       "      <td>118.117264</td>\n",
       "      <td>2019/6/3 10:00:36</td>\n",
       "      <td>63</td>\n",
       "      <td>70.312500</td>\n",
       "      <td>6</td>\n",
       "    </tr>\n",
       "    <tr>\n",
       "      <td>3</td>\n",
       "      <td>0006d282be70d06881a7513b69fcaa60</td>\n",
       "      <td>24.500666</td>\n",
       "      <td>118.119690</td>\n",
       "      <td>2019/6/3 10:00:51</td>\n",
       "      <td>60</td>\n",
       "      <td>61.093750</td>\n",
       "      <td>6</td>\n",
       "    </tr>\n",
       "    <tr>\n",
       "      <td>4</td>\n",
       "      <td>0006d282be70d06881a7513b69fcaa60</td>\n",
       "      <td>24.501734</td>\n",
       "      <td>118.122124</td>\n",
       "      <td>2019/6/3 10:01:06</td>\n",
       "      <td>63</td>\n",
       "      <td>72.187500</td>\n",
       "      <td>6</td>\n",
       "    </tr>\n",
       "    <tr>\n",
       "      <td>...</td>\n",
       "      <td>...</td>\n",
       "      <td>...</td>\n",
       "      <td>...</td>\n",
       "      <td>...</td>\n",
       "      <td>...</td>\n",
       "      <td>...</td>\n",
       "      <td>...</td>\n",
       "    </tr>\n",
       "    <tr>\n",
       "      <td>15845101</td>\n",
       "      <td>fff20f025f560278d601b2fd47e1f6b7</td>\n",
       "      <td>24.622677</td>\n",
       "      <td>118.237999</td>\n",
       "      <td>2019/6/3 9:58:25</td>\n",
       "      <td>168</td>\n",
       "      <td>0.000000</td>\n",
       "      <td>6</td>\n",
       "    </tr>\n",
       "    <tr>\n",
       "      <td>15845102</td>\n",
       "      <td>fff20f025f560278d601b2fd47e1f6b7</td>\n",
       "      <td>24.622677</td>\n",
       "      <td>118.237999</td>\n",
       "      <td>2019/6/3 9:58:25</td>\n",
       "      <td>168</td>\n",
       "      <td>0.000000</td>\n",
       "      <td>6</td>\n",
       "    </tr>\n",
       "    <tr>\n",
       "      <td>15845103</td>\n",
       "      <td>fff20f025f560278d601b2fd47e1f6b7</td>\n",
       "      <td>24.621698</td>\n",
       "      <td>118.238037</td>\n",
       "      <td>2019/6/3 9:58:49</td>\n",
       "      <td>242</td>\n",
       "      <td>21.000000</td>\n",
       "      <td>6</td>\n",
       "    </tr>\n",
       "    <tr>\n",
       "      <td>15845104</td>\n",
       "      <td>fff20f025f560278d601b2fd47e1f6b7</td>\n",
       "      <td>24.621834</td>\n",
       "      <td>118.236542</td>\n",
       "      <td>2019/6/3 9:59:19</td>\n",
       "      <td>284</td>\n",
       "      <td>0.000000</td>\n",
       "      <td>6</td>\n",
       "    </tr>\n",
       "    <tr>\n",
       "      <td>15845105</td>\n",
       "      <td>fff20f025f560278d601b2fd47e1f6b7</td>\n",
       "      <td>24.621740</td>\n",
       "      <td>118.236206</td>\n",
       "      <td>2019/6/3 9:59:44</td>\n",
       "      <td>106</td>\n",
       "      <td>13.398438</td>\n",
       "      <td>6</td>\n",
       "    </tr>\n",
       "  </tbody>\n",
       "</table>\n",
       "<p>15845106 rows × 7 columns</p>\n",
       "</div>"
      ],
      "text/plain": [
       "                                     CARNO   LATITUDE   LONGITUDE  \\\n",
       "0         0006d282be70d06881a7513b69fcaa60  24.497171  118.111893   \n",
       "1         0006d282be70d06881a7513b69fcaa60  24.498400  118.114586   \n",
       "2         0006d282be70d06881a7513b69fcaa60  24.499569  118.117264   \n",
       "3         0006d282be70d06881a7513b69fcaa60  24.500666  118.119690   \n",
       "4         0006d282be70d06881a7513b69fcaa60  24.501734  118.122124   \n",
       "...                                    ...        ...         ...   \n",
       "15845101  fff20f025f560278d601b2fd47e1f6b7  24.622677  118.237999   \n",
       "15845102  fff20f025f560278d601b2fd47e1f6b7  24.622677  118.237999   \n",
       "15845103  fff20f025f560278d601b2fd47e1f6b7  24.621698  118.238037   \n",
       "15845104  fff20f025f560278d601b2fd47e1f6b7  24.621834  118.236542   \n",
       "15845105  fff20f025f560278d601b2fd47e1f6b7  24.621740  118.236206   \n",
       "\n",
       "                   GPS_TIME  DRIVING_DIRECTION  GPS_SPEED  OPERATING_STATUS  \n",
       "0         2019/6/3 10:00:06                 63  74.000000                 6  \n",
       "1         2019/6/3 10:00:21                 63  72.187500                 6  \n",
       "2         2019/6/3 10:00:36                 63  70.312500                 6  \n",
       "3         2019/6/3 10:00:51                 60  61.093750                 6  \n",
       "4         2019/6/3 10:01:06                 63  72.187500                 6  \n",
       "...                     ...                ...        ...               ...  \n",
       "15845101   2019/6/3 9:58:25                168   0.000000                 6  \n",
       "15845102   2019/6/3 9:58:25                168   0.000000                 6  \n",
       "15845103   2019/6/3 9:58:49                242  21.000000                 6  \n",
       "15845104   2019/6/3 9:59:19                284   0.000000                 6  \n",
       "15845105   2019/6/3 9:59:44                106  13.398438                 6  \n",
       "\n",
       "[15845106 rows x 7 columns]"
      ]
     },
     "execution_count": 131,
     "metadata": {},
     "output_type": "execute_result"
    }
   ],
   "source": [
    "taxigps20190603 = pd.read_csv('taxiGps20190603.csv', \n",
    "                         dtype = {\n",
    "                             'DRIVING_DIRECTION': np.uint16,  # 正的值精确度要求无需太高，无符号\n",
    "                             'OPERATING_STATUS': np.uint8,\n",
    "                             'LONGITUDE': np.float32,\n",
    "                             'LATITUDE': np.float32,\n",
    "                             'GPS_SPEED': np.float16 \n",
    "                         })\n",
    "taxigps20190603 = taxigps20190603[taxigps20190603.columns[::-1]] # 把CARNO放在最前面\n",
    "taxigps20190603.sort_values(by=['CARNO','GPS_TIME'], inplace=True) #优先排CARNO,然后GPS_TIME，并置换不生成副本，覆盖原数据\n",
    "taxigps20190603.reset_index(inplace=True, drop=True) # 数据清洗可能会使索引顺序混乱，重新设置连续索引，丢弃原有的索引，并覆盖\n",
    "taxigps20190603.info()\n",
    "taxigps20190603"
   ]
  },
  {
   "cell_type": "code",
   "execution_count": 144,
   "metadata": {
    "execution": {
     "iopub.execute_input": "2020-09-11T08:32:55.067009Z",
     "iopub.status.busy": "2020-09-11T08:32:55.066012Z",
     "iopub.status.idle": "2020-09-11T08:32:56.416123Z",
     "shell.execute_reply": "2020-09-11T08:32:56.416123Z",
     "shell.execute_reply.started": "2020-09-11T08:32:55.067009Z"
    }
   },
   "outputs": [
    {
     "data": {
      "text/plain": [
       "6727"
      ]
     },
     "execution_count": 144,
     "metadata": {},
     "output_type": "execute_result"
    }
   ],
   "source": [
    "taxigps20190603.CARNO.nunique()"
   ]
  },
  {
   "cell_type": "code",
   "execution_count": 145,
   "metadata": {
    "execution": {
     "iopub.execute_input": "2020-09-11T08:33:32.395425Z",
     "iopub.status.busy": "2020-09-11T08:33:32.395425Z",
     "iopub.status.idle": "2020-09-11T08:33:32.409498Z",
     "shell.execute_reply": "2020-09-11T08:33:32.409388Z",
     "shell.execute_reply.started": "2020-09-11T08:33:32.395425Z"
    }
   },
   "outputs": [
    {
     "data": {
      "text/plain": [
       "5463"
      ]
     },
     "execution_count": 145,
     "metadata": {},
     "output_type": "execute_result"
    }
   ],
   "source": [
    "taxiorder2019.CARNO.nunique()"
   ]
  },
  {
   "cell_type": "markdown",
   "metadata": {},
   "source": [
    "【回答】统计巡游车GPS数据在20190603中包含6727俩出租车🚖"
   ]
  },
  {
   "cell_type": "markdown",
   "metadata": {},
   "source": [
    "2. 统计网约车GPS数据在20190603中包含多少俩网约车🚗？"
   ]
  },
  {
   "cell_type": "code",
   "execution_count": 148,
   "metadata": {
    "execution": {
     "iopub.execute_input": "2020-09-11T08:40:57.473555Z",
     "iopub.status.busy": "2020-09-11T08:40:57.472558Z",
     "iopub.status.idle": "2020-09-11T08:41:04.533596Z",
     "shell.execute_reply": "2020-09-11T08:41:04.533596Z",
     "shell.execute_reply.started": "2020-09-11T08:40:57.473555Z"
    }
   },
   "outputs": [],
   "source": [
    "wycgps20190603 = pd.read_csv('wycGps20190603.csv', \n",
    "                        dtype={\n",
    "                            'LONGITUDE': np.float32,\n",
    "                            'LATITUDE': np.float32,\n",
    "                            'SPEED': np.float16\n",
    "                        })\n",
    "\n",
    "wycgps20190603 = wycgps20190603.rename(columns={'CAR_NO':'CARNO'})\n",
    "wycgps20190603 = wycgps20190603[wycgps20190603.columns[::-1]]\n",
    "wycgps20190603.sort_values(by=['CARNO','POSITION_TIME'], inplace=True)\n",
    "\n",
    "wycgps20190603['BIZ_STATUS'] = wycgps20190603['BIZ_STATUS'].fillna(-1).astype(np.int8) #缺失值填充，类型转换\n",
    "wycgps20190603['ENCRYPT'] = wycgps20190603['ENCRYPT'].fillna(-1).astype(np.int8) "
   ]
  },
  {
   "cell_type": "code",
   "execution_count": 150,
   "metadata": {
    "execution": {
     "iopub.execute_input": "2020-09-11T08:41:24.691471Z",
     "iopub.status.busy": "2020-09-11T08:41:24.690474Z",
     "iopub.status.idle": "2020-09-11T08:41:24.708426Z",
     "shell.execute_reply": "2020-09-11T08:41:24.707429Z",
     "shell.execute_reply.started": "2020-09-11T08:41:24.691471Z"
    }
   },
   "outputs": [
    {
     "name": "stdout",
     "output_type": "stream",
     "text": [
      "<class 'pandas.core.frame.DataFrame'>\n",
      "Int64Index: 3217029 entries, 2417041 to 2405945\n",
      "Data columns (total 9 columns):\n",
      "CARNO            object\n",
      "ORDER_ID         object\n",
      "BIZ_STATUS       int8\n",
      "SPEED            float16\n",
      "DIRECTION        float64\n",
      "ENCRYPT          int8\n",
      "LATITUDE         float32\n",
      "LONGITUDE        float32\n",
      "POSITION_TIME    object\n",
      "dtypes: float16(1), float32(2), float64(1), int8(2), object(3)\n",
      "memory usage: 159.5+ MB\n"
     ]
    },
    {
     "data": {
      "text/html": [
       "<div>\n",
       "<style scoped>\n",
       "    .dataframe tbody tr th:only-of-type {\n",
       "        vertical-align: middle;\n",
       "    }\n",
       "\n",
       "    .dataframe tbody tr th {\n",
       "        vertical-align: top;\n",
       "    }\n",
       "\n",
       "    .dataframe thead th {\n",
       "        text-align: right;\n",
       "    }\n",
       "</style>\n",
       "<table border=\"1\" class=\"dataframe\">\n",
       "  <thead>\n",
       "    <tr style=\"text-align: right;\">\n",
       "      <th></th>\n",
       "      <th>CARNO</th>\n",
       "      <th>ORDER_ID</th>\n",
       "      <th>BIZ_STATUS</th>\n",
       "      <th>SPEED</th>\n",
       "      <th>DIRECTION</th>\n",
       "      <th>ENCRYPT</th>\n",
       "      <th>LATITUDE</th>\n",
       "      <th>LONGITUDE</th>\n",
       "      <th>POSITION_TIME</th>\n",
       "    </tr>\n",
       "  </thead>\n",
       "  <tbody>\n",
       "    <tr>\n",
       "      <td>2417041</td>\n",
       "      <td>0000f1d0abaf327bd8c8157e2d3d252a</td>\n",
       "      <td>0</td>\n",
       "      <td>-1</td>\n",
       "      <td>1.0</td>\n",
       "      <td>112.0</td>\n",
       "      <td>1</td>\n",
       "      <td>24.653143</td>\n",
       "      <td>118.236893</td>\n",
       "      <td>2019/6/3 10:13:09</td>\n",
       "    </tr>\n",
       "    <tr>\n",
       "      <td>2290590</td>\n",
       "      <td>0000f1d0abaf327bd8c8157e2d3d252a</td>\n",
       "      <td>0</td>\n",
       "      <td>-1</td>\n",
       "      <td>0.0</td>\n",
       "      <td>117.0</td>\n",
       "      <td>1</td>\n",
       "      <td>24.653412</td>\n",
       "      <td>118.237030</td>\n",
       "      <td>2019/6/3 10:28:31</td>\n",
       "    </tr>\n",
       "    <tr>\n",
       "      <td>2735376</td>\n",
       "      <td>0000f1d0abaf327bd8c8157e2d3d252a</td>\n",
       "      <td>0</td>\n",
       "      <td>-1</td>\n",
       "      <td>0.0</td>\n",
       "      <td>2.0</td>\n",
       "      <td>1</td>\n",
       "      <td>24.662399</td>\n",
       "      <td>118.248466</td>\n",
       "      <td>2019/6/3 7:58:35</td>\n",
       "    </tr>\n",
       "    <tr>\n",
       "      <td>3009449</td>\n",
       "      <td>0000f1d0abaf327bd8c8157e2d3d252a</td>\n",
       "      <td>0</td>\n",
       "      <td>-1</td>\n",
       "      <td>0.0</td>\n",
       "      <td>2.0</td>\n",
       "      <td>1</td>\n",
       "      <td>24.662399</td>\n",
       "      <td>118.248466</td>\n",
       "      <td>2019/6/3 8:03:47</td>\n",
       "    </tr>\n",
       "    <tr>\n",
       "      <td>3008919</td>\n",
       "      <td>0000f1d0abaf327bd8c8157e2d3d252a</td>\n",
       "      <td>0</td>\n",
       "      <td>-1</td>\n",
       "      <td>0.0</td>\n",
       "      <td>2.0</td>\n",
       "      <td>1</td>\n",
       "      <td>24.662399</td>\n",
       "      <td>118.248466</td>\n",
       "      <td>2019/6/3 8:08:50</td>\n",
       "    </tr>\n",
       "    <tr>\n",
       "      <td>...</td>\n",
       "      <td>...</td>\n",
       "      <td>...</td>\n",
       "      <td>...</td>\n",
       "      <td>...</td>\n",
       "      <td>...</td>\n",
       "      <td>...</td>\n",
       "      <td>...</td>\n",
       "      <td>...</td>\n",
       "      <td>...</td>\n",
       "    </tr>\n",
       "    <tr>\n",
       "      <td>2218462</td>\n",
       "      <td>ffff498ebe638d063a9fe020b5bddd68</td>\n",
       "      <td>35196714576138</td>\n",
       "      <td>-1</td>\n",
       "      <td>12.0</td>\n",
       "      <td>255.0</td>\n",
       "      <td>1</td>\n",
       "      <td>24.470863</td>\n",
       "      <td>118.098679</td>\n",
       "      <td>2019/6/3 9:26:20</td>\n",
       "    </tr>\n",
       "    <tr>\n",
       "      <td>2224021</td>\n",
       "      <td>ffff498ebe638d063a9fe020b5bddd68</td>\n",
       "      <td>35196714576138</td>\n",
       "      <td>-1</td>\n",
       "      <td>3.0</td>\n",
       "      <td>91.0</td>\n",
       "      <td>1</td>\n",
       "      <td>24.466579</td>\n",
       "      <td>118.106239</td>\n",
       "      <td>2019/6/3 9:36:33</td>\n",
       "    </tr>\n",
       "    <tr>\n",
       "      <td>2393478</td>\n",
       "      <td>ffff498ebe638d063a9fe020b5bddd68</td>\n",
       "      <td>35196714576138</td>\n",
       "      <td>-1</td>\n",
       "      <td>7.0</td>\n",
       "      <td>54.0</td>\n",
       "      <td>1</td>\n",
       "      <td>24.469816</td>\n",
       "      <td>118.115990</td>\n",
       "      <td>2019/6/3 9:40:26</td>\n",
       "    </tr>\n",
       "    <tr>\n",
       "      <td>2372772</td>\n",
       "      <td>ffff498ebe638d063a9fe020b5bddd68</td>\n",
       "      <td>35196714576138</td>\n",
       "      <td>-1</td>\n",
       "      <td>0.0</td>\n",
       "      <td>0.0</td>\n",
       "      <td>1</td>\n",
       "      <td>24.471409</td>\n",
       "      <td>118.118416</td>\n",
       "      <td>2019/6/3 9:44:15</td>\n",
       "    </tr>\n",
       "    <tr>\n",
       "      <td>2405945</td>\n",
       "      <td>ffff498ebe638d063a9fe020b5bddd68</td>\n",
       "      <td>35196714576138</td>\n",
       "      <td>-1</td>\n",
       "      <td>6.0</td>\n",
       "      <td>340.0</td>\n",
       "      <td>1</td>\n",
       "      <td>24.479752</td>\n",
       "      <td>118.108246</td>\n",
       "      <td>2019/6/3 9:51:47</td>\n",
       "    </tr>\n",
       "  </tbody>\n",
       "</table>\n",
       "<p>3217029 rows × 9 columns</p>\n",
       "</div>"
      ],
      "text/plain": [
       "                                    CARNO        ORDER_ID  BIZ_STATUS  SPEED  \\\n",
       "2417041  0000f1d0abaf327bd8c8157e2d3d252a               0          -1    1.0   \n",
       "2290590  0000f1d0abaf327bd8c8157e2d3d252a               0          -1    0.0   \n",
       "2735376  0000f1d0abaf327bd8c8157e2d3d252a               0          -1    0.0   \n",
       "3009449  0000f1d0abaf327bd8c8157e2d3d252a               0          -1    0.0   \n",
       "3008919  0000f1d0abaf327bd8c8157e2d3d252a               0          -1    0.0   \n",
       "...                                   ...             ...         ...    ...   \n",
       "2218462  ffff498ebe638d063a9fe020b5bddd68  35196714576138          -1   12.0   \n",
       "2224021  ffff498ebe638d063a9fe020b5bddd68  35196714576138          -1    3.0   \n",
       "2393478  ffff498ebe638d063a9fe020b5bddd68  35196714576138          -1    7.0   \n",
       "2372772  ffff498ebe638d063a9fe020b5bddd68  35196714576138          -1    0.0   \n",
       "2405945  ffff498ebe638d063a9fe020b5bddd68  35196714576138          -1    6.0   \n",
       "\n",
       "         DIRECTION  ENCRYPT   LATITUDE   LONGITUDE      POSITION_TIME  \n",
       "2417041      112.0        1  24.653143  118.236893  2019/6/3 10:13:09  \n",
       "2290590      117.0        1  24.653412  118.237030  2019/6/3 10:28:31  \n",
       "2735376        2.0        1  24.662399  118.248466   2019/6/3 7:58:35  \n",
       "3009449        2.0        1  24.662399  118.248466   2019/6/3 8:03:47  \n",
       "3008919        2.0        1  24.662399  118.248466   2019/6/3 8:08:50  \n",
       "...            ...      ...        ...         ...                ...  \n",
       "2218462      255.0        1  24.470863  118.098679   2019/6/3 9:26:20  \n",
       "2224021       91.0        1  24.466579  118.106239   2019/6/3 9:36:33  \n",
       "2393478       54.0        1  24.469816  118.115990   2019/6/3 9:40:26  \n",
       "2372772        0.0        1  24.471409  118.118416   2019/6/3 9:44:15  \n",
       "2405945      340.0        1  24.479752  118.108246   2019/6/3 9:51:47  \n",
       "\n",
       "[3217029 rows x 9 columns]"
      ]
     },
     "execution_count": 150,
     "metadata": {},
     "output_type": "execute_result"
    }
   ],
   "source": [
    "wycgps20190603.info()\n",
    "wycgps20190603"
   ]
  },
  {
   "cell_type": "code",
   "execution_count": 151,
   "metadata": {
    "execution": {
     "iopub.execute_input": "2020-09-11T08:43:39.305640Z",
     "iopub.status.busy": "2020-09-11T08:43:39.305640Z",
     "iopub.status.idle": "2020-09-11T08:43:39.706568Z",
     "shell.execute_reply": "2020-09-11T08:43:39.706568Z",
     "shell.execute_reply.started": "2020-09-11T08:43:39.305640Z"
    }
   },
   "outputs": [
    {
     "data": {
      "text/plain": [
       "28774"
      ]
     },
     "execution_count": 151,
     "metadata": {},
     "output_type": "execute_result"
    }
   ],
   "source": [
    "wycgps20190603.CARNO.nunique()"
   ]
  },
  {
   "cell_type": "code",
   "execution_count": 152,
   "metadata": {
    "execution": {
     "iopub.execute_input": "2020-09-11T08:45:05.833333Z",
     "iopub.status.busy": "2020-09-11T08:45:05.833333Z",
     "iopub.status.idle": "2020-09-11T08:45:05.882208Z",
     "shell.execute_reply": "2020-09-11T08:45:05.882208Z",
     "shell.execute_reply.started": "2020-09-11T08:45:05.833333Z"
    }
   },
   "outputs": [
    {
     "data": {
      "text/plain": [
       "-1    1634406\n",
       " 3    1088584\n",
       " 1     428150\n",
       " 4      49867\n",
       " 2      16022\n",
       "Name: BIZ_STATUS, dtype: int64"
      ]
     },
     "execution_count": 152,
     "metadata": {},
     "output_type": "execute_result"
    }
   ],
   "source": [
    "wycgps20190603.BIZ_STATUS.value_counts()"
   ]
  },
  {
   "cell_type": "code",
   "execution_count": 153,
   "metadata": {
    "execution": {
     "iopub.execute_input": "2020-09-11T08:46:47.926638Z",
     "iopub.status.busy": "2020-09-11T08:46:47.925609Z",
     "iopub.status.idle": "2020-09-11T08:46:48.830503Z",
     "shell.execute_reply": "2020-09-11T08:46:48.829506Z",
     "shell.execute_reply.started": "2020-09-11T08:46:47.926638Z"
    }
   },
   "outputs": [],
   "source": [
    "wycorder20190603 = pd.read_csv('wycOrder20190603.csv', \n",
    "                        dtype={\n",
    "                            'DEP_LONGITUDE': np.float32,\n",
    "                            'DEP_LATITUDE': np.float32,\n",
    "                            'DEST_LONGITUDE': np.float32,\n",
    "                            'DEST_LATITUDE': np.float32,\n",
    "                        })\n",
    "wycorder20190603 = wycorder20190603.rename(columns={'CAR_NO':'CARNO'})\n",
    "wycorder20190603.sort_values(by=['CARNO','DEP_TIME'], inplace=True) "
   ]
  },
  {
   "cell_type": "code",
   "execution_count": 154,
   "metadata": {
    "execution": {
     "iopub.execute_input": "2020-09-11T08:47:19.119858Z",
     "iopub.status.busy": "2020-09-11T08:47:19.119858Z",
     "iopub.status.idle": "2020-09-11T08:47:19.202671Z",
     "shell.execute_reply": "2020-09-11T08:47:19.202671Z",
     "shell.execute_reply.started": "2020-09-11T08:47:19.119858Z"
    }
   },
   "outputs": [
    {
     "name": "stdout",
     "output_type": "stream",
     "text": [
      "<class 'pandas.core.frame.DataFrame'>\n",
      "Int64Index: 282337 entries, 74460 to 250007\n",
      "Data columns (total 15 columns):\n",
      "ORDER_ID            282337 non-null object\n",
      "ON_AREA             282337 non-null int64\n",
      "CARNO               282337 non-null object\n",
      "BOOK_DEP_TIME       282337 non-null int64\n",
      "WAIT_TIME           25080 non-null float64\n",
      "DEP_LONGITUDE       282337 non-null float32\n",
      "DEP_LATITUDE        282337 non-null float32\n",
      "DEP_TIME            282337 non-null int64\n",
      "DEST_LONGITUDE      282337 non-null float32\n",
      "DEST_LATITUDE       282337 non-null float32\n",
      "DEST_TIME           282337 non-null int64\n",
      "DRIVE_MILE          282337 non-null float64\n",
      "DRIVE_TIME          282337 non-null int64\n",
      "WAIT_MILE           14055 non-null float64\n",
      "ORDER_MATCH_TIME    282337 non-null int64\n",
      "dtypes: float32(4), float64(3), int64(6), object(2)\n",
      "memory usage: 30.2+ MB\n"
     ]
    },
    {
     "data": {
      "text/html": [
       "<div>\n",
       "<style scoped>\n",
       "    .dataframe tbody tr th:only-of-type {\n",
       "        vertical-align: middle;\n",
       "    }\n",
       "\n",
       "    .dataframe tbody tr th {\n",
       "        vertical-align: top;\n",
       "    }\n",
       "\n",
       "    .dataframe thead th {\n",
       "        text-align: right;\n",
       "    }\n",
       "</style>\n",
       "<table border=\"1\" class=\"dataframe\">\n",
       "  <thead>\n",
       "    <tr style=\"text-align: right;\">\n",
       "      <th></th>\n",
       "      <th>ORDER_ID</th>\n",
       "      <th>ON_AREA</th>\n",
       "      <th>CARNO</th>\n",
       "      <th>BOOK_DEP_TIME</th>\n",
       "      <th>WAIT_TIME</th>\n",
       "      <th>DEP_LONGITUDE</th>\n",
       "      <th>DEP_LATITUDE</th>\n",
       "      <th>DEP_TIME</th>\n",
       "      <th>DEST_LONGITUDE</th>\n",
       "      <th>DEST_LATITUDE</th>\n",
       "      <th>DEST_TIME</th>\n",
       "      <th>DRIVE_MILE</th>\n",
       "      <th>DRIVE_TIME</th>\n",
       "      <th>WAIT_MILE</th>\n",
       "      <th>ORDER_MATCH_TIME</th>\n",
       "    </tr>\n",
       "  </thead>\n",
       "  <tbody>\n",
       "    <tr>\n",
       "      <td>74460</td>\n",
       "      <td>35196714963341</td>\n",
       "      <td>350206</td>\n",
       "      <td>00024e2249741f6858d26aed6cdb7e51</td>\n",
       "      <td>20190603083403</td>\n",
       "      <td>NaN</td>\n",
       "      <td>118.141907</td>\n",
       "      <td>24.503901</td>\n",
       "      <td>20190603085852</td>\n",
       "      <td>118.132111</td>\n",
       "      <td>24.494040</td>\n",
       "      <td>20190603090506</td>\n",
       "      <td>2.5</td>\n",
       "      <td>360</td>\n",
       "      <td>NaN</td>\n",
       "      <td>20190603091747</td>\n",
       "    </tr>\n",
       "    <tr>\n",
       "      <td>109149</td>\n",
       "      <td>35196715678486</td>\n",
       "      <td>350206</td>\n",
       "      <td>00024e2249741f6858d26aed6cdb7e51</td>\n",
       "      <td>20190603085945</td>\n",
       "      <td>NaN</td>\n",
       "      <td>118.140221</td>\n",
       "      <td>24.492010</td>\n",
       "      <td>20190603091200</td>\n",
       "      <td>118.100960</td>\n",
       "      <td>24.513500</td>\n",
       "      <td>20190603092930</td>\n",
       "      <td>6.6</td>\n",
       "      <td>1020</td>\n",
       "      <td>NaN</td>\n",
       "      <td>20190603123746</td>\n",
       "    </tr>\n",
       "    <tr>\n",
       "      <td>248959</td>\n",
       "      <td>35196716603689</td>\n",
       "      <td>350206</td>\n",
       "      <td>00024e2249741f6858d26aed6cdb7e51</td>\n",
       "      <td>20190603093614</td>\n",
       "      <td>NaN</td>\n",
       "      <td>118.108467</td>\n",
       "      <td>24.508070</td>\n",
       "      <td>20190603093715</td>\n",
       "      <td>118.119766</td>\n",
       "      <td>24.484131</td>\n",
       "      <td>20190603094605</td>\n",
       "      <td>4.2</td>\n",
       "      <td>480</td>\n",
       "      <td>NaN</td>\n",
       "      <td>20190604110627</td>\n",
       "    </tr>\n",
       "    <tr>\n",
       "      <td>64536</td>\n",
       "      <td>35196716944334</td>\n",
       "      <td>350203</td>\n",
       "      <td>00024e2249741f6858d26aed6cdb7e51</td>\n",
       "      <td>20190603094755</td>\n",
       "      <td>NaN</td>\n",
       "      <td>118.123329</td>\n",
       "      <td>24.483610</td>\n",
       "      <td>20190603095112</td>\n",
       "      <td>118.160942</td>\n",
       "      <td>24.515459</td>\n",
       "      <td>20190603101215</td>\n",
       "      <td>9.2</td>\n",
       "      <td>1260</td>\n",
       "      <td>NaN</td>\n",
       "      <td>20190603102312</td>\n",
       "    </tr>\n",
       "    <tr>\n",
       "      <td>271997</td>\n",
       "      <td>35196717435951</td>\n",
       "      <td>350206</td>\n",
       "      <td>00024e2249741f6858d26aed6cdb7e51</td>\n",
       "      <td>20190603101821</td>\n",
       "      <td>NaN</td>\n",
       "      <td>118.155487</td>\n",
       "      <td>24.508240</td>\n",
       "      <td>20190603102110</td>\n",
       "      <td>118.136841</td>\n",
       "      <td>24.512480</td>\n",
       "      <td>20190603102736</td>\n",
       "      <td>2.5</td>\n",
       "      <td>360</td>\n",
       "      <td>NaN</td>\n",
       "      <td>20190606102436</td>\n",
       "    </tr>\n",
       "    <tr>\n",
       "      <td>...</td>\n",
       "      <td>...</td>\n",
       "      <td>...</td>\n",
       "      <td>...</td>\n",
       "      <td>...</td>\n",
       "      <td>...</td>\n",
       "      <td>...</td>\n",
       "      <td>...</td>\n",
       "      <td>...</td>\n",
       "      <td>...</td>\n",
       "      <td>...</td>\n",
       "      <td>...</td>\n",
       "      <td>...</td>\n",
       "      <td>...</td>\n",
       "      <td>...</td>\n",
       "      <td>...</td>\n",
       "    </tr>\n",
       "    <tr>\n",
       "      <td>213812</td>\n",
       "      <td>17632410900725</td>\n",
       "      <td>350203</td>\n",
       "      <td>ffff498ebe638d063a9fe020b5bddd68</td>\n",
       "      <td>20190603212400</td>\n",
       "      <td>NaN</td>\n",
       "      <td>118.186302</td>\n",
       "      <td>24.489290</td>\n",
       "      <td>20190603212846</td>\n",
       "      <td>118.171783</td>\n",
       "      <td>24.473511</td>\n",
       "      <td>20190603213727</td>\n",
       "      <td>3.1</td>\n",
       "      <td>480</td>\n",
       "      <td>NaN</td>\n",
       "      <td>20190603213804</td>\n",
       "    </tr>\n",
       "    <tr>\n",
       "      <td>232924</td>\n",
       "      <td>35196731450371</td>\n",
       "      <td>350206</td>\n",
       "      <td>ffff498ebe638d063a9fe020b5bddd68</td>\n",
       "      <td>20190603214458</td>\n",
       "      <td>NaN</td>\n",
       "      <td>118.177917</td>\n",
       "      <td>24.489719</td>\n",
       "      <td>20190603214442</td>\n",
       "      <td>118.168480</td>\n",
       "      <td>24.502951</td>\n",
       "      <td>20190603220236</td>\n",
       "      <td>7.0</td>\n",
       "      <td>1080</td>\n",
       "      <td>NaN</td>\n",
       "      <td>20190603220238</td>\n",
       "    </tr>\n",
       "    <tr>\n",
       "      <td>227664</td>\n",
       "      <td>35196731579248</td>\n",
       "      <td>350206</td>\n",
       "      <td>ffff498ebe638d063a9fe020b5bddd68</td>\n",
       "      <td>20190603215052</td>\n",
       "      <td>NaN</td>\n",
       "      <td>118.180878</td>\n",
       "      <td>24.506599</td>\n",
       "      <td>20190603215553</td>\n",
       "      <td>118.135712</td>\n",
       "      <td>24.477989</td>\n",
       "      <td>20190603221240</td>\n",
       "      <td>7.3</td>\n",
       "      <td>1020</td>\n",
       "      <td>NaN</td>\n",
       "      <td>20190603221324</td>\n",
       "    </tr>\n",
       "    <tr>\n",
       "      <td>270966</td>\n",
       "      <td>17632413728418</td>\n",
       "      <td>350203</td>\n",
       "      <td>ffff498ebe638d063a9fe020b5bddd68</td>\n",
       "      <td>20190603221351</td>\n",
       "      <td>NaN</td>\n",
       "      <td>118.135818</td>\n",
       "      <td>24.476749</td>\n",
       "      <td>20190603221907</td>\n",
       "      <td>118.085312</td>\n",
       "      <td>24.445990</td>\n",
       "      <td>20190603222942</td>\n",
       "      <td>8.3</td>\n",
       "      <td>600</td>\n",
       "      <td>NaN</td>\n",
       "      <td>20190605212144</td>\n",
       "    </tr>\n",
       "    <tr>\n",
       "      <td>250007</td>\n",
       "      <td>35196732397125</td>\n",
       "      <td>350203</td>\n",
       "      <td>ffff498ebe638d063a9fe020b5bddd68</td>\n",
       "      <td>20190603223121</td>\n",
       "      <td>NaN</td>\n",
       "      <td>118.082100</td>\n",
       "      <td>24.445690</td>\n",
       "      <td>20190603223458</td>\n",
       "      <td>118.097298</td>\n",
       "      <td>24.468081</td>\n",
       "      <td>20190603224214</td>\n",
       "      <td>3.4</td>\n",
       "      <td>420</td>\n",
       "      <td>NaN</td>\n",
       "      <td>20190604121508</td>\n",
       "    </tr>\n",
       "  </tbody>\n",
       "</table>\n",
       "<p>282337 rows × 15 columns</p>\n",
       "</div>"
      ],
      "text/plain": [
       "              ORDER_ID  ON_AREA                             CARNO  \\\n",
       "74460   35196714963341   350206  00024e2249741f6858d26aed6cdb7e51   \n",
       "109149  35196715678486   350206  00024e2249741f6858d26aed6cdb7e51   \n",
       "248959  35196716603689   350206  00024e2249741f6858d26aed6cdb7e51   \n",
       "64536   35196716944334   350203  00024e2249741f6858d26aed6cdb7e51   \n",
       "271997  35196717435951   350206  00024e2249741f6858d26aed6cdb7e51   \n",
       "...                ...      ...                               ...   \n",
       "213812  17632410900725   350203  ffff498ebe638d063a9fe020b5bddd68   \n",
       "232924  35196731450371   350206  ffff498ebe638d063a9fe020b5bddd68   \n",
       "227664  35196731579248   350206  ffff498ebe638d063a9fe020b5bddd68   \n",
       "270966  17632413728418   350203  ffff498ebe638d063a9fe020b5bddd68   \n",
       "250007  35196732397125   350203  ffff498ebe638d063a9fe020b5bddd68   \n",
       "\n",
       "         BOOK_DEP_TIME  WAIT_TIME  DEP_LONGITUDE  DEP_LATITUDE  \\\n",
       "74460   20190603083403        NaN     118.141907     24.503901   \n",
       "109149  20190603085945        NaN     118.140221     24.492010   \n",
       "248959  20190603093614        NaN     118.108467     24.508070   \n",
       "64536   20190603094755        NaN     118.123329     24.483610   \n",
       "271997  20190603101821        NaN     118.155487     24.508240   \n",
       "...                ...        ...            ...           ...   \n",
       "213812  20190603212400        NaN     118.186302     24.489290   \n",
       "232924  20190603214458        NaN     118.177917     24.489719   \n",
       "227664  20190603215052        NaN     118.180878     24.506599   \n",
       "270966  20190603221351        NaN     118.135818     24.476749   \n",
       "250007  20190603223121        NaN     118.082100     24.445690   \n",
       "\n",
       "              DEP_TIME  DEST_LONGITUDE  DEST_LATITUDE       DEST_TIME  \\\n",
       "74460   20190603085852      118.132111      24.494040  20190603090506   \n",
       "109149  20190603091200      118.100960      24.513500  20190603092930   \n",
       "248959  20190603093715      118.119766      24.484131  20190603094605   \n",
       "64536   20190603095112      118.160942      24.515459  20190603101215   \n",
       "271997  20190603102110      118.136841      24.512480  20190603102736   \n",
       "...                ...             ...            ...             ...   \n",
       "213812  20190603212846      118.171783      24.473511  20190603213727   \n",
       "232924  20190603214442      118.168480      24.502951  20190603220236   \n",
       "227664  20190603215553      118.135712      24.477989  20190603221240   \n",
       "270966  20190603221907      118.085312      24.445990  20190603222942   \n",
       "250007  20190603223458      118.097298      24.468081  20190603224214   \n",
       "\n",
       "        DRIVE_MILE  DRIVE_TIME  WAIT_MILE  ORDER_MATCH_TIME  \n",
       "74460          2.5         360        NaN    20190603091747  \n",
       "109149         6.6        1020        NaN    20190603123746  \n",
       "248959         4.2         480        NaN    20190604110627  \n",
       "64536          9.2        1260        NaN    20190603102312  \n",
       "271997         2.5         360        NaN    20190606102436  \n",
       "...            ...         ...        ...               ...  \n",
       "213812         3.1         480        NaN    20190603213804  \n",
       "232924         7.0        1080        NaN    20190603220238  \n",
       "227664         7.3        1020        NaN    20190603221324  \n",
       "270966         8.3         600        NaN    20190605212144  \n",
       "250007         3.4         420        NaN    20190604121508  \n",
       "\n",
       "[282337 rows x 15 columns]"
      ]
     },
     "execution_count": 154,
     "metadata": {},
     "output_type": "execute_result"
    }
   ],
   "source": [
    "wycorder20190603.info()\n",
    "wycorder20190603"
   ]
  },
  {
   "cell_type": "code",
   "execution_count": 155,
   "metadata": {
    "execution": {
     "iopub.execute_input": "2020-09-11T08:47:49.911370Z",
     "iopub.status.busy": "2020-09-11T08:47:49.910372Z",
     "iopub.status.idle": "2020-09-11T08:47:49.951263Z",
     "shell.execute_reply": "2020-09-11T08:47:49.951263Z",
     "shell.execute_reply.started": "2020-09-11T08:47:49.911370Z"
    }
   },
   "outputs": [
    {
     "data": {
      "text/plain": [
       "17196"
      ]
     },
     "execution_count": 155,
     "metadata": {},
     "output_type": "execute_result"
    }
   ],
   "source": [
    "wycorder20190603.CARNO.nunique()"
   ]
  },
  {
   "cell_type": "markdown",
   "metadata": {},
   "source": [
    "【回答】统计网约车GPS数据在20190603中包含28774俩网约车🚗"
   ]
  },
  {
   "cell_type": "markdown",
   "metadata": {},
   "source": [
    "3. 统计巡游车订单数据在20190603中上车经纬度的最大最小值？"
   ]
  },
  {
   "cell_type": "markdown",
   "metadata": {},
   "source": [
    "里面有异常值，要剔除"
   ]
  },
  {
   "cell_type": "code",
   "execution_count": 176,
   "metadata": {
    "execution": {
     "iopub.execute_input": "2020-09-11T09:15:29.752901Z",
     "iopub.status.busy": "2020-09-11T09:15:29.752901Z",
     "iopub.status.idle": "2020-09-11T09:15:29.824709Z",
     "shell.execute_reply": "2020-09-11T09:15:29.823711Z",
     "shell.execute_reply.started": "2020-09-11T09:15:29.752901Z"
    }
   },
   "outputs": [
    {
     "data": {
      "text/plain": [
       "0.000000      125\n",
       "117.999199      1\n",
       "118.095322      2\n",
       "118.095398      8\n",
       "118.095581      3\n",
       "             ... \n",
       "117.986221      1\n",
       "118.254951      1\n",
       "118.252617      1\n",
       "118.252861      9\n",
       "118.253113      5\n",
       "Name: DEP_LONGITUDE, Length: 20076, dtype: int64"
      ]
     },
     "execution_count": 176,
     "metadata": {},
     "output_type": "execute_result"
    },
    {
     "data": {
      "text/plain": [
       "118.148079    1452\n",
       "118.132439    1330\n",
       "118.087303     442\n",
       "118.123970     429\n",
       "118.115883     401\n",
       "              ... \n",
       "118.346458       1\n",
       "118.346298       1\n",
       "118.248169       1\n",
       "118.344742       1\n",
       "118.273041       1\n",
       "Name: DEP_LONGITUDE, Length: 20076, dtype: int64"
      ]
     },
     "execution_count": 176,
     "metadata": {},
     "output_type": "execute_result"
    },
    {
     "data": {
      "text/plain": [
       "0.000000     125\n",
       "24.581640      2\n",
       "24.581631      5\n",
       "24.580360      4\n",
       "24.580330     18\n",
       "            ... \n",
       "24.581289     10\n",
       "24.581261      9\n",
       "24.581869      1\n",
       "24.581989      1\n",
       "24.581600      3\n",
       "Name: DEP_LATITUDE, Length: 23394, dtype: int64"
      ]
     },
     "execution_count": 176,
     "metadata": {},
     "output_type": "execute_result"
    },
    {
     "data": {
      "text/plain": [
       "24.543310    1441\n",
       "24.533760    1290\n",
       "24.452391     430\n",
       "24.469700     420\n",
       "24.634951     399\n",
       "             ... \n",
       "24.719810       1\n",
       "24.635189       1\n",
       "24.438660       1\n",
       "24.635201       1\n",
       "24.746611       1\n",
       "Name: DEP_LATITUDE, Length: 23394, dtype: int64"
      ]
     },
     "execution_count": 176,
     "metadata": {},
     "output_type": "execute_result"
    }
   ],
   "source": [
    "wycorder20190603.DEP_LONGITUDE.value_counts(sort=False)\n",
    "wycorder20190603.DEP_LONGITUDE.value_counts()\n",
    "wycorder20190603.DEP_LATITUDE.value_counts(sort=False)\n",
    "wycorder20190603.DEP_LATITUDE.value_counts()"
   ]
  },
  {
   "cell_type": "code",
   "execution_count": 216,
   "metadata": {
    "execution": {
     "iopub.execute_input": "2020-09-11T11:55:46.969639Z",
     "iopub.status.busy": "2020-09-11T11:55:46.969639Z",
     "iopub.status.idle": "2020-09-11T11:55:47.039451Z",
     "shell.execute_reply": "2020-09-11T11:55:47.039451Z",
     "shell.execute_reply.started": "2020-09-11T11:55:46.969639Z"
    }
   },
   "outputs": [
    {
     "data": {
      "text/plain": [
       "118.095329    3\n",
       "118.095428    1\n",
       "118.095528    1\n",
       "117.998138    4\n",
       "118.094742    2\n",
       "             ..\n",
       "117.987137    1\n",
       "118.250671    1\n",
       "118.250847    1\n",
       "118.252869    5\n",
       "118.253479    2\n",
       "Name: DEST_LONGITUDE, Length: 20629, dtype: int64"
      ]
     },
     "execution_count": 216,
     "metadata": {},
     "output_type": "execute_result"
    },
    {
     "data": {
      "text/plain": [
       "118.074669    3278\n",
       "118.115402    2208\n",
       "118.147552    1993\n",
       "118.131401    1831\n",
       "118.087173    1009\n",
       "              ... \n",
       "118.249779       1\n",
       "118.052368       1\n",
       "118.249649       1\n",
       "118.004318       1\n",
       "118.235451       1\n",
       "Name: DEST_LONGITUDE, Length: 20629, dtype: int64"
      ]
     },
     "execution_count": 216,
     "metadata": {},
     "output_type": "execute_result"
    },
    {
     "data": {
      "text/plain": [
       "24.581640     2\n",
       "24.581610     6\n",
       "24.580339     4\n",
       "24.581760     3\n",
       "24.581751    11\n",
       "             ..\n",
       "24.581160     6\n",
       "24.581240     7\n",
       "24.581829     1\n",
       "24.581970     1\n",
       "24.581579     8\n",
       "Name: DEST_LATITUDE, Length: 23349, dtype: int64"
      ]
     },
     "execution_count": 216,
     "metadata": {},
     "output_type": "execute_result"
    },
    {
     "data": {
      "text/plain": [
       "24.635300    3352\n",
       "24.468241    2228\n",
       "24.544870    1991\n",
       "24.534740    1819\n",
       "24.451000     973\n",
       "             ... \n",
       "24.726721       1\n",
       "24.727381       1\n",
       "24.726690       1\n",
       "24.671949       1\n",
       "24.710510       1\n",
       "Name: DEST_LATITUDE, Length: 23349, dtype: int64"
      ]
     },
     "execution_count": 216,
     "metadata": {},
     "output_type": "execute_result"
    }
   ],
   "source": [
    "wycorder20190603.DEST_LONGITUDE.value_counts(sort=False)\n",
    "wycorder20190603.DEST_LONGITUDE.value_counts()\n",
    "wycorder20190603.DEST_LATITUDE.value_counts(sort=False)\n",
    "wycorder20190603.DEST_LATITUDE.value_counts()"
   ]
  },
  {
   "cell_type": "code",
   "execution_count": 182,
   "metadata": {
    "execution": {
     "iopub.execute_input": "2020-09-11T09:24:48.744930Z",
     "iopub.status.busy": "2020-09-11T09:24:48.744930Z",
     "iopub.status.idle": "2020-09-11T09:24:48.773851Z",
     "shell.execute_reply": "2020-09-11T09:24:48.773851Z",
     "shell.execute_reply.started": "2020-09-11T09:24:48.744930Z"
    }
   },
   "outputs": [],
   "source": [
    "DEP_LONGITUDE_mode=wycorder20190603.DEP_LONGITUDE.mode()\n",
    "DEP_LATITUDE_mode=wycorder20190603.DEP_LATITUDE.mode()"
   ]
  },
  {
   "cell_type": "code",
   "execution_count": 219,
   "metadata": {
    "execution": {
     "iopub.execute_input": "2020-09-11T11:57:49.327774Z",
     "iopub.status.busy": "2020-09-11T11:57:49.327774Z",
     "iopub.status.idle": "2020-09-11T11:57:49.356696Z",
     "shell.execute_reply": "2020-09-11T11:57:49.356696Z",
     "shell.execute_reply.started": "2020-09-11T11:57:49.327774Z"
    }
   },
   "outputs": [],
   "source": [
    "DEST_LONGITUDE_mode=wycorder20190603.DEST_LONGITUDE.mode()\n",
    "DEST_LATITUDE_mode=wycorder20190603.DEST_LATITUDE.mode()"
   ]
  },
  {
   "cell_type": "code",
   "execution_count": 180,
   "metadata": {
    "execution": {
     "iopub.execute_input": "2020-09-11T09:19:19.337427Z",
     "iopub.status.busy": "2020-09-11T09:19:19.337427Z",
     "iopub.status.idle": "2020-09-11T09:19:19.450024Z",
     "shell.execute_reply": "2020-09-11T09:19:19.450024Z",
     "shell.execute_reply.started": "2020-09-11T09:19:19.337427Z"
    }
   },
   "outputs": [
    {
     "data": {
      "text/plain": [
       "<AxesSubplot:ylabel='DEP_LONGITUDE'>"
      ]
     },
     "execution_count": 180,
     "metadata": {},
     "output_type": "execute_result"
    },
    {
     "data": {
      "image/png": "[encoded data removed]",
      "text/plain": [
       "<Figure size 432x288 with 1 Axes>"
      ]
     },
     "metadata": {
      "needs_background": "light"
     },
     "output_type": "display_data"
    }
   ],
   "source": [
    "sns.boxplot(y=wycorder20190603.DEP_LONGITUDE)"
   ]
  },
  {
   "cell_type": "code",
   "execution_count": 181,
   "metadata": {
    "execution": {
     "iopub.execute_input": "2020-09-11T09:19:37.728865Z",
     "iopub.status.busy": "2020-09-11T09:19:37.728865Z",
     "iopub.status.idle": "2020-09-11T09:19:37.838571Z",
     "shell.execute_reply": "2020-09-11T09:19:37.838571Z",
     "shell.execute_reply.started": "2020-09-11T09:19:37.728865Z"
    }
   },
   "outputs": [
    {
     "data": {
      "text/plain": [
       "<AxesSubplot:ylabel='DEP_LATITUDE'>"
      ]
     },
     "execution_count": 181,
     "metadata": {},
     "output_type": "execute_result"
    },
    {
     "data": {
      "image/png": "[encoded data removed]",
      "text/plain": [
       "<Figure size 432x288 with 1 Axes>"
      ]
     },
     "metadata": {
      "needs_background": "light"
     },
     "output_type": "display_data"
    }
   ],
   "source": [
    "sns.boxplot(y=wycorder20190603.DEP_LATITUDE)"
   ]
  },
  {
   "cell_type": "code",
   "execution_count": 220,
   "metadata": {
    "execution": {
     "iopub.execute_input": "2020-09-11T11:58:20.076298Z",
     "iopub.status.busy": "2020-09-11T11:58:20.076298Z",
     "iopub.status.idle": "2020-09-11T11:58:20.194014Z",
     "shell.execute_reply": "2020-09-11T11:58:20.194014Z",
     "shell.execute_reply.started": "2020-09-11T11:58:20.076298Z"
    }
   },
   "outputs": [
    {
     "data": {
      "text/plain": [
       "<AxesSubplot:ylabel='DEST_LONGITUDE'>"
      ]
     },
     "execution_count": 220,
     "metadata": {},
     "output_type": "execute_result"
    },
    {
     "data": {
      "image/png": "[encoded data removed]",
      "text/plain": [
       "<Figure size 432x288 with 1 Axes>"
      ]
     },
     "metadata": {
      "needs_background": "light"
     },
     "output_type": "display_data"
    }
   ],
   "source": [
    "sns.boxplot(y=wycorder20190603.DEST_LONGITUDE)"
   ]
  },
  {
   "cell_type": "code",
   "execution_count": 221,
   "metadata": {
    "execution": {
     "iopub.execute_input": "2020-09-11T11:58:51.939240Z",
     "iopub.status.busy": "2020-09-11T11:58:51.938209Z",
     "iopub.status.idle": "2020-09-11T11:58:52.040934Z",
     "shell.execute_reply": "2020-09-11T11:58:52.040934Z",
     "shell.execute_reply.started": "2020-09-11T11:58:51.938209Z"
    }
   },
   "outputs": [
    {
     "data": {
      "text/plain": [
       "<AxesSubplot:ylabel='DEST_LATITUDE'>"
      ]
     },
     "execution_count": 221,
     "metadata": {},
     "output_type": "execute_result"
    },
    {
     "data": {
      "image/png": "[encoded data removed]",
      "text/plain": [
       "<Figure size 432x288 with 1 Axes>"
      ]
     },
     "metadata": {
      "needs_background": "light"
     },
     "output_type": "display_data"
    }
   ],
   "source": [
    "sns.boxplot(y=wycorder20190603.DEST_LATITUDE)"
   ]
  },
  {
   "cell_type": "code",
   "execution_count": 186,
   "metadata": {
    "execution": {
     "iopub.execute_input": "2020-09-11T09:31:17.648397Z",
     "iopub.status.busy": "2020-09-11T09:31:17.647399Z",
     "iopub.status.idle": "2020-09-11T09:31:17.685298Z",
     "shell.execute_reply": "2020-09-11T09:31:17.685298Z",
     "shell.execute_reply.started": "2020-09-11T09:31:17.647399Z"
    }
   },
   "outputs": [
    {
     "name": "stderr",
     "output_type": "stream",
     "text": [
      "E:\\Anaconda3\\lib\\site-packages\\ipykernel_launcher.py:1: SettingWithCopyWarning: \n",
      "A value is trying to be set on a copy of a slice from a DataFrame\n",
      "\n",
      "See the caveats in the documentation: http://pandas.pydata.org/pandas-docs/stable/user_guide/indexing.html#returning-a-view-versus-a-copy\n",
      "  \"\"\"Entry point for launching an IPython kernel.\n",
      "E:\\Anaconda3\\lib\\site-packages\\ipykernel_launcher.py:2: SettingWithCopyWarning: \n",
      "A value is trying to be set on a copy of a slice from a DataFrame\n",
      "\n",
      "See the caveats in the documentation: http://pandas.pydata.org/pandas-docs/stable/user_guide/indexing.html#returning-a-view-versus-a-copy\n",
      "  \n"
     ]
    }
   ],
   "source": [
    "wycorder20190603.DEP_LONGITUDE[wycorder20190603.DEP_LONGITUDE==0]=DEP_LONGITUDE_mode\n",
    "wycorder20190603.DEP_LATITUDE[wycorder20190603.DEP_LATITUDE==0]=DEP_LATITUDE_mode"
   ]
  },
  {
   "cell_type": "code",
   "execution_count": 188,
   "metadata": {
    "execution": {
     "iopub.execute_input": "2020-09-11T09:32:24.155243Z",
     "iopub.status.busy": "2020-09-11T09:32:24.154245Z",
     "iopub.status.idle": "2020-09-11T09:32:24.197130Z",
     "shell.execute_reply": "2020-09-11T09:32:24.197130Z",
     "shell.execute_reply.started": "2020-09-11T09:32:24.155243Z"
    }
   },
   "outputs": [
    {
     "data": {
      "text/plain": [
       "117.999199    1\n",
       "118.095322    2\n",
       "118.095398    8\n",
       "118.095581    3\n",
       "118.265083    1\n",
       "             ..\n",
       "117.986221    1\n",
       "118.254951    1\n",
       "118.252617    1\n",
       "118.252861    9\n",
       "118.253113    5\n",
       "Name: DEP_LONGITUDE, Length: 20075, dtype: int64"
      ]
     },
     "execution_count": 188,
     "metadata": {},
     "output_type": "execute_result"
    },
    {
     "data": {
      "text/plain": [
       "24.581640     2\n",
       "24.581631     5\n",
       "24.580360     4\n",
       "24.580330    18\n",
       "24.581770     8\n",
       "             ..\n",
       "24.581289    10\n",
       "24.581261     9\n",
       "24.581869     1\n",
       "24.581989     1\n",
       "24.581600     3\n",
       "Name: DEP_LATITUDE, Length: 23393, dtype: int64"
      ]
     },
     "execution_count": 188,
     "metadata": {},
     "output_type": "execute_result"
    }
   ],
   "source": [
    "wycorder20190603.DEP_LONGITUDE.value_counts(sort=False)\n",
    "wycorder20190603.DEP_LATITUDE.value_counts(sort=False)"
   ]
  },
  {
   "cell_type": "code",
   "execution_count": 192,
   "metadata": {
    "execution": {
     "iopub.execute_input": "2020-09-11T09:34:16.242369Z",
     "iopub.status.busy": "2020-09-11T09:34:16.241372Z",
     "iopub.status.idle": "2020-09-11T09:34:16.248382Z",
     "shell.execute_reply": "2020-09-11T09:34:16.248382Z",
     "shell.execute_reply.started": "2020-09-11T09:34:16.242369Z"
    }
   },
   "outputs": [
    {
     "data": {
      "text/plain": [
       "118.60221099853516"
      ]
     },
     "execution_count": 192,
     "metadata": {},
     "output_type": "execute_result"
    },
    {
     "data": {
      "text/plain": [
       "117.0302963256836"
      ]
     },
     "execution_count": 192,
     "metadata": {},
     "output_type": "execute_result"
    }
   ],
   "source": [
    "wycorder20190603.DEP_LONGITUDE.max()\n",
    "wycorder20190603.DEP_LONGITUDE.min()"
   ]
  },
  {
   "cell_type": "code",
   "execution_count": 194,
   "metadata": {
    "execution": {
     "iopub.execute_input": "2020-09-11T09:35:34.660288Z",
     "iopub.status.busy": "2020-09-11T09:35:34.660288Z",
     "iopub.status.idle": "2020-09-11T09:35:34.785953Z",
     "shell.execute_reply": "2020-09-11T09:35:34.784954Z",
     "shell.execute_reply.started": "2020-09-11T09:35:34.660288Z"
    }
   },
   "outputs": [
    {
     "data": {
      "text/plain": [
       "<AxesSubplot:ylabel='DEP_LONGITUDE'>"
      ]
     },
     "execution_count": 194,
     "metadata": {},
     "output_type": "execute_result"
    },
    {
     "data": {
      "image/png": "[encoded data removed]",
      "text/plain": [
       "<Figure size 432x288 with 1 Axes>"
      ]
     },
     "metadata": {
      "needs_background": "light"
     },
     "output_type": "display_data"
    }
   ],
   "source": [
    "sns.boxplot(y=wycorder20190603.DEP_LONGITUDE)"
   ]
  },
  {
   "cell_type": "code",
   "execution_count": 193,
   "metadata": {
    "execution": {
     "iopub.execute_input": "2020-09-11T09:34:54.357775Z",
     "iopub.status.busy": "2020-09-11T09:34:54.357775Z",
     "iopub.status.idle": "2020-09-11T09:34:54.472467Z",
     "shell.execute_reply": "2020-09-11T09:34:54.472467Z",
     "shell.execute_reply.started": "2020-09-11T09:34:54.357775Z"
    }
   },
   "outputs": [
    {
     "data": {
      "text/plain": [
       "<AxesSubplot:ylabel='DEP_LATITUDE'>"
      ]
     },
     "execution_count": 193,
     "metadata": {},
     "output_type": "execute_result"
    },
    {
     "data": {
      "image/png": "[encoded data removed]",
      "text/plain": [
       "<Figure size 432x288 with 1 Axes>"
      ]
     },
     "metadata": {
      "needs_background": "light"
     },
     "output_type": "display_data"
    }
   ],
   "source": [
    "sns.boxplot(y=wycorder20190603.DEP_LATITUDE)"
   ]
  },
  {
   "cell_type": "code",
   "execution_count": 195,
   "metadata": {
    "execution": {
     "iopub.execute_input": "2020-09-11T09:36:19.197266Z",
     "iopub.status.busy": "2020-09-11T09:36:19.197266Z",
     "iopub.status.idle": "2020-09-11T09:36:19.206241Z",
     "shell.execute_reply": "2020-09-11T09:36:19.205244Z",
     "shell.execute_reply.started": "2020-09-11T09:36:19.197266Z"
    }
   },
   "outputs": [
    {
     "data": {
      "text/plain": [
       "25.08007049560547"
      ]
     },
     "execution_count": 195,
     "metadata": {},
     "output_type": "execute_result"
    },
    {
     "data": {
      "text/plain": [
       "24.40431022644043"
      ]
     },
     "execution_count": 195,
     "metadata": {},
     "output_type": "execute_result"
    }
   ],
   "source": [
    "wycorder20190603.DEP_LATITUDE.max()\n",
    "wycorder20190603.DEP_LATITUDE.min()"
   ]
  },
  {
   "cell_type": "code",
   "execution_count": 202,
   "metadata": {
    "execution": {
     "iopub.execute_input": "2020-09-11T09:42:54.491209Z",
     "iopub.status.busy": "2020-09-11T09:42:54.491209Z",
     "iopub.status.idle": "2020-09-11T09:42:54.513151Z",
     "shell.execute_reply": "2020-09-11T09:42:54.513151Z",
     "shell.execute_reply.started": "2020-09-11T09:42:54.491209Z"
    }
   },
   "outputs": [
    {
     "data": {
      "text/plain": [
       "0.000000      5783\n",
       "118.116447     125\n",
       "118.116463     120\n",
       "118.116455     119\n",
       "118.136009     118\n",
       "              ... \n",
       "118.222893       1\n",
       "118.044518       1\n",
       "118.044800       1\n",
       "118.222740       1\n",
       "118.027596       1\n",
       "Name: GETON_LONGITUDE, Length: 21301, dtype: int64"
      ]
     },
     "execution_count": 202,
     "metadata": {},
     "output_type": "execute_result"
    }
   ],
   "source": [
    "taxiorder20190603. GETON_LONGITUDE.value_counts()"
   ]
  },
  {
   "cell_type": "code",
   "execution_count": 213,
   "metadata": {
    "execution": {
     "iopub.execute_input": "2020-09-11T09:48:41.136781Z",
     "iopub.status.busy": "2020-09-11T09:48:41.135821Z",
     "iopub.status.idle": "2020-09-11T09:48:41.161748Z",
     "shell.execute_reply": "2020-09-11T09:48:41.161748Z",
     "shell.execute_reply.started": "2020-09-11T09:48:41.135821Z"
    }
   },
   "outputs": [
    {
     "data": {
      "text/plain": [
       "0.000000     5783\n",
       "24.520687      69\n",
       "24.476564      64\n",
       "24.490660      62\n",
       "24.473722      60\n",
       "             ... \n",
       "24.542349       1\n",
       "24.427000       1\n",
       "24.445871       1\n",
       "24.520098       1\n",
       "24.445217       1\n",
       "Name: GETON_LATITUDE, Length: 55631, dtype: int64"
      ]
     },
     "execution_count": 213,
     "metadata": {},
     "output_type": "execute_result"
    }
   ],
   "source": [
    "taxiorder20190603. GETON_LATITUDE.value_counts()"
   ]
  },
  {
   "cell_type": "code",
   "execution_count": 206,
   "metadata": {
    "execution": {
     "iopub.execute_input": "2020-09-11T09:45:41.466759Z",
     "iopub.status.busy": "2020-09-11T09:45:41.466759Z",
     "iopub.status.idle": "2020-09-11T09:45:41.578461Z",
     "shell.execute_reply": "2020-09-11T09:45:41.577464Z",
     "shell.execute_reply.started": "2020-09-11T09:45:41.466759Z"
    }
   },
   "outputs": [
    {
     "data": {
      "text/plain": [
       "<AxesSubplot:ylabel='GETON_LONGITUDE'>"
      ]
     },
     "execution_count": 206,
     "metadata": {},
     "output_type": "execute_result"
    },
    {
     "data": {
      "image/png": "[encoded data removed]",
      "text/plain": [
       "<Figure size 432x288 with 1 Axes>"
      ]
     },
     "metadata": {
      "needs_background": "light"
     },
     "output_type": "display_data"
    }
   ],
   "source": [
    "sns.boxplot(y=taxiorder20190603. GETON_LONGITUDE)"
   ]
  },
  {
   "cell_type": "code",
   "execution_count": 205,
   "metadata": {
    "execution": {
     "iopub.execute_input": "2020-09-11T09:44:54.178555Z",
     "iopub.status.busy": "2020-09-11T09:44:54.177530Z",
     "iopub.status.idle": "2020-09-11T09:44:54.316158Z",
     "shell.execute_reply": "2020-09-11T09:44:54.316158Z",
     "shell.execute_reply.started": "2020-09-11T09:44:54.178555Z"
    }
   },
   "outputs": [
    {
     "data": {
      "text/plain": [
       "<AxesSubplot:ylabel='GETON_LATITUDE'>"
      ]
     },
     "execution_count": 205,
     "metadata": {},
     "output_type": "execute_result"
    },
    {
     "data": {
      "image/png": "[encoded data removed]",
      "text/plain": [
       "<Figure size 432x288 with 1 Axes>"
      ]
     },
     "metadata": {
      "needs_background": "light"
     },
     "output_type": "display_data"
    }
   ],
   "source": [
    "sns.boxplot(y=taxiorder20190603. GETON_LATITUDE)"
   ]
  },
  {
   "cell_type": "code",
   "execution_count": 214,
   "metadata": {
    "execution": {
     "iopub.execute_input": "2020-09-11T10:01:20.387245Z",
     "iopub.status.busy": "2020-09-11T10:01:20.387245Z",
     "iopub.status.idle": "2020-09-11T10:01:20.504283Z",
     "shell.execute_reply": "2020-09-11T10:01:20.504283Z",
     "shell.execute_reply.started": "2020-09-11T10:01:20.387245Z"
    }
   },
   "outputs": [
    {
     "data": {
      "text/plain": [
       "<AxesSubplot:ylabel='GETOFF_LONGITUDE'>"
      ]
     },
     "execution_count": 214,
     "metadata": {},
     "output_type": "execute_result"
    },
    {
     "data": {
      "image/png": "[encoded data removed]",
      "text/plain": [
       "<Figure size 432x288 with 1 Axes>"
      ]
     },
     "metadata": {
      "needs_background": "light"
     },
     "output_type": "display_data"
    }
   ],
   "source": [
    "sns.boxplot(y=taxiorder20190603. GETOFF_LONGITUDE)"
   ]
  },
  {
   "cell_type": "code",
   "execution_count": 215,
   "metadata": {
    "execution": {
     "iopub.execute_input": "2020-09-11T10:02:32.714378Z",
     "iopub.status.busy": "2020-09-11T10:02:32.713381Z",
     "iopub.status.idle": "2020-09-11T10:02:32.842116Z",
     "shell.execute_reply": "2020-09-11T10:02:32.841149Z",
     "shell.execute_reply.started": "2020-09-11T10:02:32.714378Z"
    }
   },
   "outputs": [
    {
     "data": {
      "text/plain": [
       "<AxesSubplot:ylabel='GETOFF_LATITUDE'>"
      ]
     },
     "execution_count": 215,
     "metadata": {},
     "output_type": "execute_result"
    },
    {
     "data": {
      "image/png": "[encoded data removed]",
      "text/plain": [
       "<Figure size 432x288 with 1 Axes>"
      ]
     },
     "metadata": {
      "needs_background": "light"
     },
     "output_type": "display_data"
    }
   ],
   "source": [
    "sns.boxplot(y=taxiorder20190603. GETOFF_LATITUDE)"
   ]
  },
  {
   "cell_type": "code",
   "execution_count": 233,
   "metadata": {
    "execution": {
     "iopub.execute_input": "2020-09-11T12:06:52.792091Z",
     "iopub.status.busy": "2020-09-11T12:06:52.792091Z",
     "iopub.status.idle": "2020-09-11T12:06:52.802098Z",
     "shell.execute_reply": "2020-09-11T12:06:52.802098Z",
     "shell.execute_reply.started": "2020-09-11T12:06:52.792091Z"
    }
   },
   "outputs": [
    {
     "data": {
      "text/plain": [
       "129.89949"
      ]
     },
     "execution_count": 233,
     "metadata": {},
     "output_type": "execute_result"
    },
    {
     "data": {
      "text/plain": [
       "33.497204"
      ]
     },
     "execution_count": 233,
     "metadata": {},
     "output_type": "execute_result"
    },
    {
     "data": {
      "text/plain": [
       "129.89949"
      ]
     },
     "execution_count": 233,
     "metadata": {},
     "output_type": "execute_result"
    },
    {
     "data": {
      "text/plain": [
       "33.497204"
      ]
     },
     "execution_count": 233,
     "metadata": {},
     "output_type": "execute_result"
    }
   ],
   "source": [
    "taxiorder20190603. GETON_LONGITUDE.values.max()\n",
    "taxiorder20190603. GETON_LATITUDE.values.max()\n",
    "taxiorder20190603. GETOFF_LONGITUDE.values.max()\n",
    "taxiorder20190603. GETOFF_LATITUDE.values.max()\n"
   ]
  },
  {
   "cell_type": "code",
   "execution_count": 240,
   "metadata": {
    "execution": {
     "iopub.execute_input": "2020-09-11T12:27:53.196079Z",
     "iopub.status.busy": "2020-09-11T12:27:53.195083Z",
     "iopub.status.idle": "2020-09-11T12:27:53.231982Z",
     "shell.execute_reply": "2020-09-11T12:27:53.231982Z",
     "shell.execute_reply.started": "2020-09-11T12:27:53.196079Z"
    }
   },
   "outputs": [
    {
     "data": {
      "text/plain": [
       "count    224724.000000\n",
       "mean        114.980957\n",
       "std          18.689230\n",
       "min           0.000000\n",
       "25%         118.093880\n",
       "50%         118.116493\n",
       "75%         118.140854\n",
       "max         129.899490\n",
       "Name: GETON_LONGITUDE, dtype: float64"
      ]
     },
     "execution_count": 240,
     "metadata": {},
     "output_type": "execute_result"
    },
    {
     "data": {
      "text/plain": [
       "count    224724.000000\n",
       "mean         23.871635\n",
       "std           3.879720\n",
       "min           0.000000\n",
       "25%          24.473396\n",
       "50%          24.489748\n",
       "75%          24.510721\n",
       "max          33.497204\n",
       "Name: GETON_LATITUDE, dtype: float64"
      ]
     },
     "execution_count": 240,
     "metadata": {},
     "output_type": "execute_result"
    },
    {
     "data": {
      "text/plain": [
       "count    224724.000000\n",
       "mean        116.344826\n",
       "std          13.978921\n",
       "min           0.000000\n",
       "25%         118.093811\n",
       "50%         118.116760\n",
       "75%         118.142967\n",
       "max         129.899490\n",
       "Name: GETOFF_LONGITUDE, dtype: float64"
      ]
     },
     "execution_count": 240,
     "metadata": {},
     "output_type": "execute_result"
    },
    {
     "data": {
      "text/plain": [
       "count    224724.000000\n",
       "mean         24.155590\n",
       "std           2.898256\n",
       "min           0.000000\n",
       "25%          24.473783\n",
       "50%          24.491108\n",
       "75%          24.512295\n",
       "max          33.497204\n",
       "Name: GETOFF_LATITUDE, dtype: float64"
      ]
     },
     "execution_count": 240,
     "metadata": {},
     "output_type": "execute_result"
    }
   ],
   "source": [
    "S_GETON_LONGITUDE=taxiorder20190603. GETON_LONGITUDE.describe()\n",
    "S_GETON_LATITUDE=taxiorder20190603. GETON_LATITUDE.describe()\n",
    "S_GETOFF_LONGITUDE=taxiorder20190603. GETOFF_LONGITUDE.describe()\n",
    "S_GETOFF_LATITUDE=taxiorder20190603. GETOFF_LATITUDE.describe()\n",
    "S_GETON_LONGITUDE\n",
    "S_GETON_LATITUDE\n",
    "S_GETOFF_LONGITUDE\n",
    "S_GETOFF_LATITUDE"
   ]
  },
  {
   "cell_type": "code",
   "execution_count": 239,
   "metadata": {
    "execution": {
     "iopub.execute_input": "2020-09-11T12:27:06.104559Z",
     "iopub.status.busy": "2020-09-11T12:27:06.103561Z",
     "iopub.status.idle": "2020-09-11T12:27:06.113536Z",
     "shell.execute_reply": "2020-09-11T12:27:06.113536Z",
     "shell.execute_reply.started": "2020-09-11T12:27:06.104559Z"
    }
   },
   "outputs": [
    {
     "data": {
      "text/plain": [
       "0.04697418212890625"
      ]
     },
     "execution_count": 239,
     "metadata": {},
     "output_type": "execute_result"
    },
    {
     "data": {
      "text/plain": [
       "118.02341842651367"
      ]
     },
     "execution_count": 239,
     "metadata": {},
     "output_type": "execute_result"
    },
    {
     "data": {
      "text/plain": [
       "118.2113151550293"
      ]
     },
     "execution_count": 239,
     "metadata": {},
     "output_type": "execute_result"
    }
   ],
   "source": [
    "S_GETON_LONGITUDE_q1 = S_GETON_LONGITUDE['25%']\n",
    "S_GETON_LONGITUDE_q3 = S_GETON_LONGITUDE['75%']\n",
    "S_GETON_LONGITUDE_iqr = S_GETON_LONGITUDE_q3 - S_GETON_LONGITUDE_q1\n",
    "S_GETON_LONGITUDE_mi = S_GETON_LONGITUDE_q1 - 1.5*S_GETON_LONGITUDE_iqr\n",
    "S_GETON_LONGITUDE_ma = S_GETON_LONGITUDE_q3 + 1.5*S_GETON_LONGITUDE_iqr\n",
    "S_GETON_LONGITUDE_iqr\n",
    "S_GETON_LONGITUDE_mi\n",
    "S_GETON_LONGITUDE_ma"
   ]
  },
  {
   "cell_type": "code",
   "execution_count": 246,
   "metadata": {
    "execution": {
     "iopub.execute_input": "2020-09-11T12:37:26.199129Z",
     "iopub.status.busy": "2020-09-11T12:37:26.199129Z",
     "iopub.status.idle": "2020-09-11T12:37:26.311832Z",
     "shell.execute_reply": "2020-09-11T12:37:26.309833Z",
     "shell.execute_reply.started": "2020-09-11T12:37:26.199129Z"
    }
   },
   "outputs": [
    {
     "data": {
      "text/plain": [
       "<AxesSubplot:ylabel='GETON_LONGITUDE'>"
      ]
     },
     "execution_count": 246,
     "metadata": {},
     "output_type": "execute_result"
    },
    {
     "data": {
      "image/png": "[encoded data removed]",
      "text/plain": [
       "<Figure size 432x288 with 1 Axes>"
      ]
     },
     "metadata": {
      "needs_background": "light"
     },
     "output_type": "display_data"
    }
   ],
   "source": [
    "sns.boxplot(y=S_GETON_LONGITUDE_c)"
   ]
  },
  {
   "cell_type": "code",
   "execution_count": 247,
   "metadata": {
    "execution": {
     "iopub.execute_input": "2020-09-11T12:40:06.017253Z",
     "iopub.status.busy": "2020-09-11T12:40:06.016254Z",
     "iopub.status.idle": "2020-09-11T12:40:06.024241Z",
     "shell.execute_reply": "2020-09-11T12:40:06.024241Z",
     "shell.execute_reply.started": "2020-09-11T12:40:06.017253Z"
    }
   },
   "outputs": [
    {
     "data": {
      "text/plain": [
       "0.03732490539550781"
      ]
     },
     "execution_count": 247,
     "metadata": {},
     "output_type": "execute_result"
    },
    {
     "data": {
      "text/plain": [
       "24.41740894317627"
      ]
     },
     "execution_count": 247,
     "metadata": {},
     "output_type": "execute_result"
    },
    {
     "data": {
      "text/plain": [
       "24.5667085647583"
      ]
     },
     "execution_count": 247,
     "metadata": {},
     "output_type": "execute_result"
    }
   ],
   "source": [
    "S_GETON_LATITUDE_q1 = S_GETON_LATITUDE['25%']\n",
    "S_GETON_LATITUDE_q3 = S_GETON_LATITUDE['75%']\n",
    "S_GETON_LATITUDE_iqr = S_GETON_LATITUDE_q3 - S_GETON_LATITUDE_q1\n",
    "S_GETON_LATITUDE_mi = S_GETON_LATITUDE_q1 - 1.5*S_GETON_LATITUDE_iqr\n",
    "S_GETON_LATITUDE_ma = S_GETON_LATITUDE_q3 + 1.5*S_GETON_LATITUDE_iqr\n",
    "S_GETON_LATITUDE_iqr\n",
    "S_GETON_LATITUDE_mi\n",
    "S_GETON_LATITUDE_ma"
   ]
  },
  {
   "cell_type": "code",
   "execution_count": 250,
   "metadata": {
    "execution": {
     "iopub.execute_input": "2020-09-11T12:53:34.437449Z",
     "iopub.status.busy": "2020-09-11T12:53:34.437449Z",
     "iopub.status.idle": "2020-09-11T12:53:34.459926Z",
     "shell.execute_reply": "2020-09-11T12:53:34.459926Z",
     "shell.execute_reply.started": "2020-09-11T12:53:34.437449Z"
    }
   },
   "outputs": [
    {
     "data": {
      "text/plain": [
       "0.04915618896484375"
      ]
     },
     "execution_count": 250,
     "metadata": {},
     "output_type": "execute_result"
    },
    {
     "data": {
      "text/plain": [
       "118.02007675170898"
      ]
     },
     "execution_count": 250,
     "metadata": {},
     "output_type": "execute_result"
    },
    {
     "data": {
      "text/plain": [
       "118.21670150756836"
      ]
     },
     "execution_count": 250,
     "metadata": {},
     "output_type": "execute_result"
    },
    {
     "data": {
      "text/plain": [
       "count    217593.000000\n",
       "mean        118.018234\n",
       "std           0.106536\n",
       "min         118.020111\n",
       "25%         118.095978\n",
       "50%         118.117462\n",
       "75%         118.143181\n",
       "max         118.216675\n",
       "Name: GETOFF_LONGITUDE, dtype: float64"
      ]
     },
     "execution_count": 250,
     "metadata": {},
     "output_type": "execute_result"
    }
   ],
   "source": [
    "S_GETOFF_LONGITUDE_q1 = S_GETOFF_LONGITUDE['25%']\n",
    "S_GETOFF_LONGITUDE_q3 = S_GETOFF_LONGITUDE['75%']\n",
    "S_GETOFF_LONGITUDE_iqr = S_GETOFF_LONGITUDE_q3 - S_GETOFF_LONGITUDE_q1\n",
    "S_GETOFF_LONGITUDE_mi = S_GETOFF_LONGITUDE_q1 - 1.5*S_GETOFF_LONGITUDE_iqr\n",
    "S_GETOFF_LONGITUDE_ma = S_GETOFF_LONGITUDE_q3 + 1.5*S_GETOFF_LONGITUDE_iqr\n",
    "S_GETOFF_LONGITUDE_iqr\n",
    "S_GETOFF_LONGITUDE_mi\n",
    "S_GETOFF_LONGITUDE_ma\n",
    "S_GETOFF_LONGITUDE_c = taxiorder20190603. GETOFF_LONGITUDE[(taxiorder20190603. GETOFF_LONGITUDE >= S_GETOFF_LONGITUDE_mi) & (taxiorder20190603. GETOFF_LONGITUDE <= S_GETOFF_LONGITUDE_ma)]\n",
    "S_GETOFF_LONGITUDE_c.describe()"
   ]
  },
  {
   "cell_type": "code",
   "execution_count": 249,
   "metadata": {
    "execution": {
     "iopub.execute_input": "2020-09-11T12:50:43.511427Z",
     "iopub.status.busy": "2020-09-11T12:50:43.511427Z",
     "iopub.status.idle": "2020-09-11T12:50:43.533367Z",
     "shell.execute_reply": "2020-09-11T12:50:43.533367Z",
     "shell.execute_reply.started": "2020-09-11T12:50:43.511427Z"
    }
   },
   "outputs": [
    {
     "data": {
      "text/plain": [
       "0.03851175308227539"
      ]
     },
     "execution_count": 249,
     "metadata": {},
     "output_type": "execute_result"
    },
    {
     "data": {
      "text/plain": [
       "24.41601586341858"
      ]
     },
     "execution_count": 249,
     "metadata": {},
     "output_type": "execute_result"
    },
    {
     "data": {
      "text/plain": [
       "24.57006287574768"
      ]
     },
     "execution_count": 249,
     "metadata": {},
     "output_type": "execute_result"
    },
    {
     "data": {
      "text/plain": [
       "count    210608.000000\n",
       "mean         24.498146\n",
       "std           0.027296\n",
       "min          24.425306\n",
       "25%          24.473736\n",
       "50%          24.489784\n",
       "75%          24.509460\n",
       "max          24.570045\n",
       "Name: GETOFF_LATITUDE, dtype: float64"
      ]
     },
     "execution_count": 249,
     "metadata": {},
     "output_type": "execute_result"
    }
   ],
   "source": [
    "S_GETOFF_LATITUDE_q1 = S_GETOFF_LATITUDE['25%']\n",
    "S_GETOFF_LATITUDE_q3 = S_GETOFF_LATITUDE['75%']\n",
    "S_GETOFF_LATITUDE_iqr = S_GETOFF_LATITUDE_q3 - S_GETOFF_LATITUDE_q1\n",
    "S_GETOFF_LATITUDE_mi = S_GETOFF_LATITUDE_q1 - 1.5*S_GETOFF_LATITUDE_iqr\n",
    "S_GETOFF_LATITUDE_ma = S_GETOFF_LATITUDE_q3 + 1.5*S_GETOFF_LATITUDE_iqr\n",
    "S_GETOFF_LATITUDE_iqr\n",
    "S_GETOFF_LATITUDE_mi\n",
    "S_GETOFF_LATITUDE_ma\n",
    "S_GETOFF_LATITUDE_c = taxiorder20190603. GETOFF_LATITUDE[(taxiorder20190603. GETOFF_LATITUDE >= S_GETOFF_LATITUDE_mi) & (taxiorder20190603. GETOFF_LATITUDE <= S_GETOFF_LATITUDE_ma)]\n",
    "S_GETOFF_LATITUDE_c.describe()"
   ]
  },
  {
   "cell_type": "code",
   "execution_count": 252,
   "metadata": {
    "execution": {
     "iopub.execute_input": "2020-09-11T13:01:08.732302Z",
     "iopub.status.busy": "2020-09-11T13:01:08.732302Z",
     "iopub.status.idle": "2020-09-11T13:01:08.739283Z",
     "shell.execute_reply": "2020-09-11T13:01:08.739283Z",
     "shell.execute_reply.started": "2020-09-11T13:01:08.732302Z"
    }
   },
   "outputs": [
    {
     "data": {
      "text/plain": [
       "129.89949"
      ]
     },
     "execution_count": 252,
     "metadata": {},
     "output_type": "execute_result"
    },
    {
     "data": {
      "text/plain": [
       "0.0"
      ]
     },
     "execution_count": 252,
     "metadata": {},
     "output_type": "execute_result"
    }
   ],
   "source": [
    "taxiorder20190603. GETON_LONGITUDE.values.max()\n",
    "taxiorder20190603. GETON_LONGITUDE.values.min()"
   ]
  },
  {
   "cell_type": "code",
   "execution_count": 254,
   "metadata": {
    "execution": {
     "iopub.execute_input": "2020-09-11T13:01:59.094342Z",
     "iopub.status.busy": "2020-09-11T13:01:59.093343Z",
     "iopub.status.idle": "2020-09-11T13:01:59.101324Z",
     "shell.execute_reply": "2020-09-11T13:01:59.100326Z",
     "shell.execute_reply.started": "2020-09-11T13:01:59.094342Z"
    }
   },
   "outputs": [
    {
     "data": {
      "text/plain": [
       "33.497204"
      ]
     },
     "execution_count": 254,
     "metadata": {},
     "output_type": "execute_result"
    },
    {
     "data": {
      "text/plain": [
       "0.0"
      ]
     },
     "execution_count": 254,
     "metadata": {},
     "output_type": "execute_result"
    }
   ],
   "source": [
    "taxiorder20190603. GETON_LATITUDE.values.max()\n",
    "taxiorder20190603. GETON_LATITUDE.values.min()"
   ]
  },
  {
   "cell_type": "code",
   "execution_count": 255,
   "metadata": {
    "execution": {
     "iopub.execute_input": "2020-09-11T13:07:11.803507Z",
     "iopub.status.busy": "2020-09-11T13:07:11.803507Z",
     "iopub.status.idle": "2020-09-11T13:07:11.820432Z",
     "shell.execute_reply": "2020-09-11T13:07:11.819469Z",
     "shell.execute_reply.started": "2020-09-11T13:07:11.803507Z"
    }
   },
   "outputs": [
    {
     "data": {
      "text/plain": [
       "count    216322.000000\n",
       "mean        118.018082\n",
       "std           0.106159\n",
       "min         118.023422\n",
       "25%         118.097649\n",
       "50%         118.117462\n",
       "75%         118.141388\n",
       "max         118.211105\n",
       "Name: GETON_LONGITUDE, dtype: float64"
      ]
     },
     "execution_count": 255,
     "metadata": {},
     "output_type": "execute_result"
    }
   ],
   "source": [
    "S_GETON_LONGITUDE_c = taxiorder20190603. GETON_LONGITUDE[(taxiorder20190603. GETON_LONGITUDE >= S_GETON_LONGITUDE_mi) & (taxiorder20190603. GETON_LONGITUDE <= S_GETON_LONGITUDE_ma)]\n",
    "S_GETON_LONGITUDE_c.describe()"
   ]
  },
  {
   "cell_type": "code",
   "execution_count": 327,
   "metadata": {
    "execution": {
     "iopub.execute_input": "2020-09-11T14:57:36.295863Z",
     "iopub.status.busy": "2020-09-11T14:57:36.295863Z",
     "iopub.status.idle": "2020-09-11T14:57:36.301846Z",
     "shell.execute_reply": "2020-09-11T14:57:36.301846Z",
     "shell.execute_reply.started": "2020-09-11T14:57:36.295863Z"
    }
   },
   "outputs": [
    {
     "data": {
      "text/plain": [
       "118.01808166503906"
      ]
     },
     "execution_count": 327,
     "metadata": {},
     "output_type": "execute_result"
    }
   ],
   "source": [
    "S_GETON_LONGITUDE_c.mean()"
   ]
  },
  {
   "cell_type": "code",
   "execution_count": 248,
   "metadata": {
    "execution": {
     "iopub.execute_input": "2020-09-11T12:48:31.222420Z",
     "iopub.status.busy": "2020-09-11T12:48:31.222420Z",
     "iopub.status.idle": "2020-09-11T12:48:31.238379Z",
     "shell.execute_reply": "2020-09-11T12:48:31.238379Z",
     "shell.execute_reply.started": "2020-09-11T12:48:31.222420Z"
    }
   },
   "outputs": [
    {
     "data": {
      "text/plain": [
       "count    210145.000000\n",
       "mean         24.498026\n",
       "std           0.026971\n",
       "min          24.420046\n",
       "25%          24.473789\n",
       "50%          24.489267\n",
       "75%          24.508446\n",
       "max          24.566706\n",
       "Name: GETON_LATITUDE, dtype: float64"
      ]
     },
     "execution_count": 248,
     "metadata": {},
     "output_type": "execute_result"
    }
   ],
   "source": [
    "S_GETON_LATITUDE_c = taxiorder20190603. GETON_LATITUDE[(taxiorder20190603. GETON_LATITUDE >= S_GETON_LATITUDE_mi) & (taxiorder20190603. GETON_LATITUDE <= S_GETON_LATITUDE_ma)]\n",
    "S_GETON_LATITUDE_c.describe()"
   ]
  },
  {
   "cell_type": "code",
   "execution_count": null,
   "metadata": {},
   "outputs": [],
   "source": [
    "【回答】统计巡游车订单数据在20190603上车经纬度的最大最小值"
   ]
  },
  {
   "cell_type": "markdown",
   "metadata": {},
   "source": [
    "不清洗数据的话，上车经度的最大值是129.89949,最小值是0；上车纬度最大值是33.497204，最小值是0.\n",
    "按着箱型图的方式处理异常数据进行清洗的话，上车经度的最大值是118.211105，最小值是118.023422。上车纬度最大值是24.566706，最小值是24.420046。"
   ]
  },
  {
   "cell_type": "markdown",
   "metadata": {},
   "source": [
    "4. 统计网约车订单数据集在20190603中下车经纬度最常见的位置？  \n",
    "    - 假设经度+维度，各保留三维有效数字组合得到具体位置  \n",
    "    - 小提示：可以将经纬度拼接到一起进行统计"
   ]
  },
  {
   "cell_type": "code",
   "execution_count": 294,
   "metadata": {
    "execution": {
     "iopub.execute_input": "2020-09-11T14:17:41.053722Z",
     "iopub.status.busy": "2020-09-11T14:17:41.053722Z",
     "iopub.status.idle": "2020-09-11T14:17:41.638158Z",
     "shell.execute_reply": "2020-09-11T14:17:41.638158Z",
     "shell.execute_reply.started": "2020-09-11T14:17:41.053722Z"
    }
   },
   "outputs": [],
   "source": [
    "pd.set_option('precision', 3)"
   ]
  },
  {
   "cell_type": "code",
   "execution_count": 313,
   "metadata": {
    "execution": {
     "iopub.execute_input": "2020-09-11T14:30:06.065472Z",
     "iopub.status.busy": "2020-09-11T14:30:06.064476Z",
     "iopub.status.idle": "2020-09-11T14:30:06.455434Z",
     "shell.execute_reply": "2020-09-11T14:30:06.454432Z",
     "shell.execute_reply.started": "2020-09-11T14:30:06.064476Z"
    }
   },
   "outputs": [
    {
     "data": {
      "text/plain": [
       "74460     118.132\n",
       "109149    118.101\n",
       "248959    118.120\n",
       "64536     118.161\n",
       "271997    118.137\n",
       "           ...   \n",
       "213812    118.172\n",
       "232924    118.168\n",
       "227664    118.136\n",
       "270966    118.085\n",
       "250007    118.097\n",
       "Name: DEST_LONGITUDE, Length: 282337, dtype: float32"
      ]
     },
     "execution_count": 313,
     "metadata": {},
     "output_type": "execute_result"
    },
    {
     "data": {
      "text/plain": [
       "74460     118.13211\n",
       "109149    118.10096\n",
       "248959    118.11977\n",
       "64536     118.16094\n",
       "271997    118.13684\n",
       "            ...    \n",
       "213812    118.17178\n",
       "232924    118.16848\n",
       "227664    118.13571\n",
       "270966    118.08531\n",
       "250007     118.0973\n",
       "Name: DEST_LONGITUDE, Length: 282337, dtype: object"
      ]
     },
     "execution_count": 313,
     "metadata": {},
     "output_type": "execute_result"
    },
    {
     "data": {
      "text/plain": [
       "74460     118.13211059570312\n",
       "109149    118.10095977783203\n",
       "248959    118.11976623535156\n",
       "64536     118.16094207763672\n",
       "271997     118.1368408203125\n",
       "                 ...        \n",
       "213812    118.17178344726562\n",
       "232924     118.1684799194336\n",
       "227664    118.13571166992188\n",
       "270966    118.08531188964844\n",
       "250007    118.09729766845703\n",
       "Name: DEST_LONGITUDE, Length: 282337, dtype: object"
      ]
     },
     "execution_count": 313,
     "metadata": {},
     "output_type": "execute_result"
    }
   ],
   "source": [
    "wycorder20190603[\"DEST_LONGITUDE\"]\n",
    "wycorder20190603[\"DEST_LONGITUDE\"].astype(str)\n",
    "wycorder20190603[\"DEST_LONGITUDE\"].map(str)"
   ]
  },
  {
   "cell_type": "code",
   "execution_count": 320,
   "metadata": {
    "execution": {
     "iopub.execute_input": "2020-09-11T14:39:04.140392Z",
     "iopub.status.busy": "2020-09-11T14:39:04.139395Z",
     "iopub.status.idle": "2020-09-11T14:39:04.470003Z",
     "shell.execute_reply": "2020-09-11T14:39:04.470003Z",
     "shell.execute_reply.started": "2020-09-11T14:39:04.140392Z"
    }
   },
   "outputs": [
    {
     "data": {
      "text/plain": [
       "118.075,24.635    4879\n",
       "118.115,24.468    2200\n",
       "118.148,24.545    1985\n",
       "118.131,24.535    1827\n",
       "118.087,24.451    1174\n",
       "                  ... \n",
       "118.249,24.566       1\n",
       "118.107,24.728       1\n",
       "118.137,24.627       1\n",
       "117.935,24.479       1\n",
       "118.226,24.636       1\n",
       "Name: DEST_COORDINATE, Length: 19173, dtype: int64"
      ]
     },
     "execution_count": 320,
     "metadata": {},
     "output_type": "execute_result"
    }
   ],
   "source": [
    "wycorder20190603[\"DEST_COORDINATE\"] = wycorder20190603[\"DEST_LONGITUDE\"].round(3).astype(str) +','+ wycorder20190603[\"DEST_LATITUDE\"].round(3).astype(str)\n",
    "wycorder20190603[\"DEST_COORDINATE\"].value_counts()"
   ]
  },
  {
   "cell_type": "code",
   "execution_count": 316,
   "metadata": {
    "execution": {
     "iopub.execute_input": "2020-09-11T14:35:35.477755Z",
     "iopub.status.busy": "2020-09-11T14:35:35.476755Z",
     "iopub.status.idle": "2020-09-11T14:35:35.500690Z",
     "shell.execute_reply": "2020-09-11T14:35:35.500690Z",
     "shell.execute_reply.started": "2020-09-11T14:35:35.477755Z"
    }
   },
   "outputs": [
    {
     "data": {
      "text/html": [
       "<div>\n",
       "<style scoped>\n",
       "    .dataframe tbody tr th:only-of-type {\n",
       "        vertical-align: middle;\n",
       "    }\n",
       "\n",
       "    .dataframe tbody tr th {\n",
       "        vertical-align: top;\n",
       "    }\n",
       "\n",
       "    .dataframe thead th {\n",
       "        text-align: right;\n",
       "    }\n",
       "</style>\n",
       "<table border=\"1\" class=\"dataframe\">\n",
       "  <thead>\n",
       "    <tr style=\"text-align: right;\">\n",
       "      <th></th>\n",
       "      <th>ORDER_ID</th>\n",
       "      <th>ON_AREA</th>\n",
       "      <th>CARNO</th>\n",
       "      <th>BOOK_DEP_TIME</th>\n",
       "      <th>WAIT_TIME</th>\n",
       "      <th>DEP_LONGITUDE</th>\n",
       "      <th>DEP_LATITUDE</th>\n",
       "      <th>DEP_TIME</th>\n",
       "      <th>DEST_LONGITUDE</th>\n",
       "      <th>DEST_LATITUDE</th>\n",
       "      <th>DEST_TIME</th>\n",
       "      <th>DRIVE_MILE</th>\n",
       "      <th>DRIVE_TIME</th>\n",
       "      <th>WAIT_MILE</th>\n",
       "      <th>ORDER_MATCH_TIME</th>\n",
       "      <th>DEST_COORDINATE</th>\n",
       "    </tr>\n",
       "  </thead>\n",
       "  <tbody>\n",
       "    <tr>\n",
       "      <td>74460</td>\n",
       "      <td>35196714963341</td>\n",
       "      <td>350206</td>\n",
       "      <td>00024e2249741f6858d26aed6cdb7e51</td>\n",
       "      <td>20190603083403</td>\n",
       "      <td>NaN</td>\n",
       "      <td>118.142</td>\n",
       "      <td>24.504</td>\n",
       "      <td>20190603085852</td>\n",
       "      <td>118.132</td>\n",
       "      <td>24.494</td>\n",
       "      <td>20190603090506</td>\n",
       "      <td>2.5</td>\n",
       "      <td>360</td>\n",
       "      <td>NaN</td>\n",
       "      <td>20190603091747</td>\n",
       "      <td>118.132,24.494</td>\n",
       "    </tr>\n",
       "    <tr>\n",
       "      <td>109149</td>\n",
       "      <td>35196715678486</td>\n",
       "      <td>350206</td>\n",
       "      <td>00024e2249741f6858d26aed6cdb7e51</td>\n",
       "      <td>20190603085945</td>\n",
       "      <td>NaN</td>\n",
       "      <td>118.140</td>\n",
       "      <td>24.492</td>\n",
       "      <td>20190603091200</td>\n",
       "      <td>118.101</td>\n",
       "      <td>24.514</td>\n",
       "      <td>20190603092930</td>\n",
       "      <td>6.6</td>\n",
       "      <td>1020</td>\n",
       "      <td>NaN</td>\n",
       "      <td>20190603123746</td>\n",
       "      <td>118.101,24.514</td>\n",
       "    </tr>\n",
       "    <tr>\n",
       "      <td>248959</td>\n",
       "      <td>35196716603689</td>\n",
       "      <td>350206</td>\n",
       "      <td>00024e2249741f6858d26aed6cdb7e51</td>\n",
       "      <td>20190603093614</td>\n",
       "      <td>NaN</td>\n",
       "      <td>118.108</td>\n",
       "      <td>24.508</td>\n",
       "      <td>20190603093715</td>\n",
       "      <td>118.120</td>\n",
       "      <td>24.484</td>\n",
       "      <td>20190603094605</td>\n",
       "      <td>4.2</td>\n",
       "      <td>480</td>\n",
       "      <td>NaN</td>\n",
       "      <td>20190604110627</td>\n",
       "      <td>118.12,24.484</td>\n",
       "    </tr>\n",
       "    <tr>\n",
       "      <td>64536</td>\n",
       "      <td>35196716944334</td>\n",
       "      <td>350203</td>\n",
       "      <td>00024e2249741f6858d26aed6cdb7e51</td>\n",
       "      <td>20190603094755</td>\n",
       "      <td>NaN</td>\n",
       "      <td>118.123</td>\n",
       "      <td>24.484</td>\n",
       "      <td>20190603095112</td>\n",
       "      <td>118.161</td>\n",
       "      <td>24.515</td>\n",
       "      <td>20190603101215</td>\n",
       "      <td>9.2</td>\n",
       "      <td>1260</td>\n",
       "      <td>NaN</td>\n",
       "      <td>20190603102312</td>\n",
       "      <td>118.161,24.515</td>\n",
       "    </tr>\n",
       "    <tr>\n",
       "      <td>271997</td>\n",
       "      <td>35196717435951</td>\n",
       "      <td>350206</td>\n",
       "      <td>00024e2249741f6858d26aed6cdb7e51</td>\n",
       "      <td>20190603101821</td>\n",
       "      <td>NaN</td>\n",
       "      <td>118.155</td>\n",
       "      <td>24.508</td>\n",
       "      <td>20190603102110</td>\n",
       "      <td>118.137</td>\n",
       "      <td>24.512</td>\n",
       "      <td>20190603102736</td>\n",
       "      <td>2.5</td>\n",
       "      <td>360</td>\n",
       "      <td>NaN</td>\n",
       "      <td>20190606102436</td>\n",
       "      <td>118.137,24.512</td>\n",
       "    </tr>\n",
       "    <tr>\n",
       "      <td>...</td>\n",
       "      <td>...</td>\n",
       "      <td>...</td>\n",
       "      <td>...</td>\n",
       "      <td>...</td>\n",
       "      <td>...</td>\n",
       "      <td>...</td>\n",
       "      <td>...</td>\n",
       "      <td>...</td>\n",
       "      <td>...</td>\n",
       "      <td>...</td>\n",
       "      <td>...</td>\n",
       "      <td>...</td>\n",
       "      <td>...</td>\n",
       "      <td>...</td>\n",
       "      <td>...</td>\n",
       "      <td>...</td>\n",
       "    </tr>\n",
       "    <tr>\n",
       "      <td>213812</td>\n",
       "      <td>17632410900725</td>\n",
       "      <td>350203</td>\n",
       "      <td>ffff498ebe638d063a9fe020b5bddd68</td>\n",
       "      <td>20190603212400</td>\n",
       "      <td>NaN</td>\n",
       "      <td>118.186</td>\n",
       "      <td>24.489</td>\n",
       "      <td>20190603212846</td>\n",
       "      <td>118.172</td>\n",
       "      <td>24.474</td>\n",
       "      <td>20190603213727</td>\n",
       "      <td>3.1</td>\n",
       "      <td>480</td>\n",
       "      <td>NaN</td>\n",
       "      <td>20190603213804</td>\n",
       "      <td>118.172,24.474</td>\n",
       "    </tr>\n",
       "    <tr>\n",
       "      <td>232924</td>\n",
       "      <td>35196731450371</td>\n",
       "      <td>350206</td>\n",
       "      <td>ffff498ebe638d063a9fe020b5bddd68</td>\n",
       "      <td>20190603214458</td>\n",
       "      <td>NaN</td>\n",
       "      <td>118.178</td>\n",
       "      <td>24.490</td>\n",
       "      <td>20190603214442</td>\n",
       "      <td>118.168</td>\n",
       "      <td>24.503</td>\n",
       "      <td>20190603220236</td>\n",
       "      <td>7.0</td>\n",
       "      <td>1080</td>\n",
       "      <td>NaN</td>\n",
       "      <td>20190603220238</td>\n",
       "      <td>118.168,24.503</td>\n",
       "    </tr>\n",
       "    <tr>\n",
       "      <td>227664</td>\n",
       "      <td>35196731579248</td>\n",
       "      <td>350206</td>\n",
       "      <td>ffff498ebe638d063a9fe020b5bddd68</td>\n",
       "      <td>20190603215052</td>\n",
       "      <td>NaN</td>\n",
       "      <td>118.181</td>\n",
       "      <td>24.507</td>\n",
       "      <td>20190603215553</td>\n",
       "      <td>118.136</td>\n",
       "      <td>24.478</td>\n",
       "      <td>20190603221240</td>\n",
       "      <td>7.3</td>\n",
       "      <td>1020</td>\n",
       "      <td>NaN</td>\n",
       "      <td>20190603221324</td>\n",
       "      <td>118.136,24.478</td>\n",
       "    </tr>\n",
       "    <tr>\n",
       "      <td>270966</td>\n",
       "      <td>17632413728418</td>\n",
       "      <td>350203</td>\n",
       "      <td>ffff498ebe638d063a9fe020b5bddd68</td>\n",
       "      <td>20190603221351</td>\n",
       "      <td>NaN</td>\n",
       "      <td>118.136</td>\n",
       "      <td>24.477</td>\n",
       "      <td>20190603221907</td>\n",
       "      <td>118.085</td>\n",
       "      <td>24.446</td>\n",
       "      <td>20190603222942</td>\n",
       "      <td>8.3</td>\n",
       "      <td>600</td>\n",
       "      <td>NaN</td>\n",
       "      <td>20190605212144</td>\n",
       "      <td>118.085,24.446</td>\n",
       "    </tr>\n",
       "    <tr>\n",
       "      <td>250007</td>\n",
       "      <td>35196732397125</td>\n",
       "      <td>350203</td>\n",
       "      <td>ffff498ebe638d063a9fe020b5bddd68</td>\n",
       "      <td>20190603223121</td>\n",
       "      <td>NaN</td>\n",
       "      <td>118.082</td>\n",
       "      <td>24.446</td>\n",
       "      <td>20190603223458</td>\n",
       "      <td>118.097</td>\n",
       "      <td>24.468</td>\n",
       "      <td>20190603224214</td>\n",
       "      <td>3.4</td>\n",
       "      <td>420</td>\n",
       "      <td>NaN</td>\n",
       "      <td>20190604121508</td>\n",
       "      <td>118.097,24.468</td>\n",
       "    </tr>\n",
       "  </tbody>\n",
       "</table>\n",
       "<p>282337 rows × 16 columns</p>\n",
       "</div>"
      ],
      "text/plain": [
       "              ORDER_ID  ON_AREA                             CARNO  \\\n",
       "74460   35196714963341   350206  00024e2249741f6858d26aed6cdb7e51   \n",
       "109149  35196715678486   350206  00024e2249741f6858d26aed6cdb7e51   \n",
       "248959  35196716603689   350206  00024e2249741f6858d26aed6cdb7e51   \n",
       "64536   35196716944334   350203  00024e2249741f6858d26aed6cdb7e51   \n",
       "271997  35196717435951   350206  00024e2249741f6858d26aed6cdb7e51   \n",
       "...                ...      ...                               ...   \n",
       "213812  17632410900725   350203  ffff498ebe638d063a9fe020b5bddd68   \n",
       "232924  35196731450371   350206  ffff498ebe638d063a9fe020b5bddd68   \n",
       "227664  35196731579248   350206  ffff498ebe638d063a9fe020b5bddd68   \n",
       "270966  17632413728418   350203  ffff498ebe638d063a9fe020b5bddd68   \n",
       "250007  35196732397125   350203  ffff498ebe638d063a9fe020b5bddd68   \n",
       "\n",
       "         BOOK_DEP_TIME  WAIT_TIME  DEP_LONGITUDE  DEP_LATITUDE  \\\n",
       "74460   20190603083403        NaN        118.142        24.504   \n",
       "109149  20190603085945        NaN        118.140        24.492   \n",
       "248959  20190603093614        NaN        118.108        24.508   \n",
       "64536   20190603094755        NaN        118.123        24.484   \n",
       "271997  20190603101821        NaN        118.155        24.508   \n",
       "...                ...        ...            ...           ...   \n",
       "213812  20190603212400        NaN        118.186        24.489   \n",
       "232924  20190603214458        NaN        118.178        24.490   \n",
       "227664  20190603215052        NaN        118.181        24.507   \n",
       "270966  20190603221351        NaN        118.136        24.477   \n",
       "250007  20190603223121        NaN        118.082        24.446   \n",
       "\n",
       "              DEP_TIME  DEST_LONGITUDE  DEST_LATITUDE       DEST_TIME  \\\n",
       "74460   20190603085852         118.132         24.494  20190603090506   \n",
       "109149  20190603091200         118.101         24.514  20190603092930   \n",
       "248959  20190603093715         118.120         24.484  20190603094605   \n",
       "64536   20190603095112         118.161         24.515  20190603101215   \n",
       "271997  20190603102110         118.137         24.512  20190603102736   \n",
       "...                ...             ...            ...             ...   \n",
       "213812  20190603212846         118.172         24.474  20190603213727   \n",
       "232924  20190603214442         118.168         24.503  20190603220236   \n",
       "227664  20190603215553         118.136         24.478  20190603221240   \n",
       "270966  20190603221907         118.085         24.446  20190603222942   \n",
       "250007  20190603223458         118.097         24.468  20190603224214   \n",
       "\n",
       "        DRIVE_MILE  DRIVE_TIME  WAIT_MILE  ORDER_MATCH_TIME DEST_COORDINATE  \n",
       "74460          2.5         360        NaN    20190603091747  118.132,24.494  \n",
       "109149         6.6        1020        NaN    20190603123746  118.101,24.514  \n",
       "248959         4.2         480        NaN    20190604110627   118.12,24.484  \n",
       "64536          9.2        1260        NaN    20190603102312  118.161,24.515  \n",
       "271997         2.5         360        NaN    20190606102436  118.137,24.512  \n",
       "...            ...         ...        ...               ...             ...  \n",
       "213812         3.1         480        NaN    20190603213804  118.172,24.474  \n",
       "232924         7.0        1080        NaN    20190603220238  118.168,24.503  \n",
       "227664         7.3        1020        NaN    20190603221324  118.136,24.478  \n",
       "270966         8.3         600        NaN    20190605212144  118.085,24.446  \n",
       "250007         3.4         420        NaN    20190604121508  118.097,24.468  \n",
       "\n",
       "[282337 rows x 16 columns]"
      ]
     },
     "execution_count": 316,
     "metadata": {},
     "output_type": "execute_result"
    }
   ],
   "source": [
    "wycorder20190603"
   ]
  },
  {
   "cell_type": "markdown",
   "metadata": {},
   "source": [
    "【参考】[python合并两列](https://www.jianshu.com/p/40dc9a2316fa)"
   ]
  },
  {
   "cell_type": "markdown",
   "metadata": {},
   "source": [
    "【回答】统计网约车订单数据集在20190603中下车经纬度最常见的位置是(118.075,24.635)"
   ]
  }
 ],
 "metadata": {
  "kernelspec": {
   "display_name": "Python 3",
   "language": "python",
   "name": "python3"
  },
  "language_info": {
   "codemirror_mode": {
    "name": "ipython",
    "version": 3
   },
   "file_extension": ".py",
   "mimetype": "text/x-python",
   "name": "python",
   "nbconvert_exporter": "python",
   "pygments_lexer": "ipython3",
   "version": "3.7.4"
  }
 },
 "nbformat": 4,
 "nbformat_minor": 4
}
