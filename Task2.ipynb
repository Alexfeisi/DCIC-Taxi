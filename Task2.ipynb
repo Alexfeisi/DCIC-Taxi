{
 "cells": [
  {
   "cell_type": "markdown",
   "metadata": {},
   "source": [
    "# 任务2：数据可视化"
   ]
  },
  {
   "cell_type": "code",
   "execution_count": 1,
   "metadata": {
    "execution": {
     "iopub.execute_input": "2020-09-12T12:16:26.757370Z",
     "iopub.status.busy": "2020-09-12T12:16:26.757370Z",
     "iopub.status.idle": "2020-09-12T12:16:27.288561Z",
     "shell.execute_reply": "2020-09-12T12:16:27.288561Z",
     "shell.execute_reply.started": "2020-09-12T12:16:26.757370Z"
    }
   },
   "outputs": [],
   "source": [
    "from IPython.core.interactiveshell import InteractiveShell\n",
    "InteractiveShell.ast_node_interactivity = 'all'"
   ]
  },
  {
   "cell_type": "markdown",
   "metadata": {},
   "source": [
    "## 赛题可视化"
   ]
  },
  {
   "cell_type": "markdown",
   "metadata": {},
   "source": [
    " 1. 24小时巡游车统计数量；"
   ]
  },
  {
   "cell_type": "code",
   "execution_count": 2,
   "metadata": {
    "execution": {
     "iopub.execute_input": "2020-09-14T03:23:05.913698Z",
     "iopub.status.busy": "2020-09-14T03:23:05.913698Z",
     "iopub.status.idle": "2020-09-14T03:23:20.581744Z",
     "shell.execute_reply": "2020-09-14T03:23:20.581744Z",
     "shell.execute_reply.started": "2020-09-14T03:23:05.913698Z"
    }
   },
   "outputs": [],
   "source": [
    "import pandas as pd\n",
    "import numpy as np\n",
    "import matplotlib.pyplot as plt\n",
    "import seaborn as sns"
   ]
  },
  {
   "cell_type": "code",
   "execution_count": 3,
   "metadata": {
    "execution": {
     "iopub.execute_input": "2020-09-14T03:23:20.583738Z",
     "iopub.status.busy": "2020-09-14T03:23:20.582741Z",
     "iopub.status.idle": "2020-09-14T03:23:41.960731Z",
     "shell.execute_reply": "2020-09-14T03:23:41.960731Z",
     "shell.execute_reply.started": "2020-09-14T03:23:20.583738Z"
    }
   },
   "outputs": [
    {
     "name": "stdout",
     "output_type": "stream",
     "text": [
      "<class 'pandas.core.frame.DataFrame'>\n",
      "RangeIndex: 16828847 entries, 0 to 16828846\n",
      "Data columns (total 7 columns):\n",
      "OPERATING_STATUS     uint8\n",
      "GPS_SPEED            float16\n",
      "DRIVING_DIRECTION    uint16\n",
      "GPS_TIME             object\n",
      "LONGITUDE            float32\n",
      "LATITUDE             float32\n",
      "CARNO                object\n",
      "dtypes: float16(1), float32(2), object(2), uint16(1), uint8(1)\n",
      "memory usage: 465.4+ MB\n"
     ]
    }
   ],
   "source": [
    "taxigps2019 = pd.read_csv('taxiGps20190531.csv',\n",
    "                         dtype = {\n",
    "                             'DRIVING_DIRECTION': np.uint16,  # 正的值精确度要求无需太高，无符号\n",
    "                             'OPERATING_STATUS': np.uint8,\n",
    "                             'LONGITUDE': np.float32,\n",
    "                             'LATITUDE': np.float32,\n",
    "                             'GPS_SPEED': np.float16 \n",
    "                         })\n",
    "\n",
    "taxigps2019.info()"
   ]
  },
  {
   "cell_type": "code",
   "execution_count": 4,
   "metadata": {
    "execution": {
     "iopub.execute_input": "2020-09-14T03:24:17.393005Z",
     "iopub.status.busy": "2020-09-14T03:24:17.393005Z",
     "iopub.status.idle": "2020-09-14T03:24:40.219986Z",
     "shell.execute_reply": "2020-09-14T03:24:40.219986Z",
     "shell.execute_reply.started": "2020-09-14T03:24:17.393005Z"
    }
   },
   "outputs": [],
   "source": [
    "taxigps2019 = taxigps2019[taxigps2019.columns[::-1]] # 把CARNO放在最前面\n",
    "taxigps2019.sort_values(by=['CARNO','GPS_TIME'], inplace=True) #优先排CARNO,然后GPS_TIME，并置换不生成副本，覆盖原数据\n",
    "taxigps2019.reset_index(inplace=True, drop=True) # 数据清洗可能会使索引顺序混乱，重新设置连续索引，丢弃原有的索引，并覆盖"
   ]
  },
  {
   "cell_type": "code",
   "execution_count": 25,
   "metadata": {
    "execution": {
     "iopub.execute_input": "2020-09-12T12:51:11.948863Z",
     "iopub.status.busy": "2020-09-12T12:51:11.948863Z",
     "iopub.status.idle": "2020-09-12T12:51:11.971802Z",
     "shell.execute_reply": "2020-09-12T12:51:11.971802Z",
     "shell.execute_reply.started": "2020-09-12T12:51:11.948863Z"
    }
   },
   "outputs": [
    {
     "data": {
      "text/html": [
       "<div>\n",
       "<style scoped>\n",
       "    .dataframe tbody tr th:only-of-type {\n",
       "        vertical-align: middle;\n",
       "    }\n",
       "\n",
       "    .dataframe tbody tr th {\n",
       "        vertical-align: top;\n",
       "    }\n",
       "\n",
       "    .dataframe thead th {\n",
       "        text-align: right;\n",
       "    }\n",
       "</style>\n",
       "<table border=\"1\" class=\"dataframe\">\n",
       "  <thead>\n",
       "    <tr style=\"text-align: right;\">\n",
       "      <th></th>\n",
       "      <th>CARNO</th>\n",
       "      <th>LATITUDE</th>\n",
       "      <th>LONGITUDE</th>\n",
       "      <th>GPS_TIME</th>\n",
       "      <th>DRIVING_DIRECTION</th>\n",
       "      <th>GPS_SPEED</th>\n",
       "      <th>OPERATING_STATUS</th>\n",
       "    </tr>\n",
       "  </thead>\n",
       "  <tbody>\n",
       "    <tr>\n",
       "      <td>0</td>\n",
       "      <td>0006d282be70d06881a7513b69fcaa60</td>\n",
       "      <td>24.506195</td>\n",
       "      <td>118.128929</td>\n",
       "      <td>2019/5/31 10:00:11</td>\n",
       "      <td>12</td>\n",
       "      <td>9.203125</td>\n",
       "      <td>1</td>\n",
       "    </tr>\n",
       "    <tr>\n",
       "      <td>1</td>\n",
       "      <td>0006d282be70d06881a7513b69fcaa60</td>\n",
       "      <td>24.506210</td>\n",
       "      <td>118.128937</td>\n",
       "      <td>2019/5/31 10:00:26</td>\n",
       "      <td>10</td>\n",
       "      <td>0.000000</td>\n",
       "      <td>1</td>\n",
       "    </tr>\n",
       "    <tr>\n",
       "      <td>2</td>\n",
       "      <td>0006d282be70d06881a7513b69fcaa60</td>\n",
       "      <td>24.506210</td>\n",
       "      <td>118.128937</td>\n",
       "      <td>2019/5/31 10:00:41</td>\n",
       "      <td>10</td>\n",
       "      <td>0.000000</td>\n",
       "      <td>1</td>\n",
       "    </tr>\n",
       "    <tr>\n",
       "      <td>3</td>\n",
       "      <td>0006d282be70d06881a7513b69fcaa60</td>\n",
       "      <td>24.506210</td>\n",
       "      <td>118.128937</td>\n",
       "      <td>2019/5/31 10:00:56</td>\n",
       "      <td>10</td>\n",
       "      <td>0.000000</td>\n",
       "      <td>1</td>\n",
       "    </tr>\n",
       "    <tr>\n",
       "      <td>4</td>\n",
       "      <td>0006d282be70d06881a7513b69fcaa60</td>\n",
       "      <td>24.506210</td>\n",
       "      <td>118.128937</td>\n",
       "      <td>2019/5/31 10:01:11</td>\n",
       "      <td>10</td>\n",
       "      <td>0.000000</td>\n",
       "      <td>1</td>\n",
       "    </tr>\n",
       "    <tr>\n",
       "      <td>...</td>\n",
       "      <td>...</td>\n",
       "      <td>...</td>\n",
       "      <td>...</td>\n",
       "      <td>...</td>\n",
       "      <td>...</td>\n",
       "      <td>...</td>\n",
       "      <td>...</td>\n",
       "    </tr>\n",
       "    <tr>\n",
       "      <td>16828842</td>\n",
       "      <td>fff20f025f560278d601b2fd47e1f6b7</td>\n",
       "      <td>24.452690</td>\n",
       "      <td>118.160774</td>\n",
       "      <td>2019/5/31 9:57:44</td>\n",
       "      <td>94</td>\n",
       "      <td>0.000000</td>\n",
       "      <td>1</td>\n",
       "    </tr>\n",
       "    <tr>\n",
       "      <td>16828843</td>\n",
       "      <td>fff20f025f560278d601b2fd47e1f6b7</td>\n",
       "      <td>24.452690</td>\n",
       "      <td>118.160774</td>\n",
       "      <td>2019/5/31 9:58:14</td>\n",
       "      <td>94</td>\n",
       "      <td>0.000000</td>\n",
       "      <td>1</td>\n",
       "    </tr>\n",
       "    <tr>\n",
       "      <td>16828844</td>\n",
       "      <td>fff20f025f560278d601b2fd47e1f6b7</td>\n",
       "      <td>24.452690</td>\n",
       "      <td>118.160774</td>\n",
       "      <td>2019/5/31 9:58:45</td>\n",
       "      <td>94</td>\n",
       "      <td>0.000000</td>\n",
       "      <td>1</td>\n",
       "    </tr>\n",
       "    <tr>\n",
       "      <td>16828845</td>\n",
       "      <td>fff20f025f560278d601b2fd47e1f6b7</td>\n",
       "      <td>24.452690</td>\n",
       "      <td>118.160774</td>\n",
       "      <td>2019/5/31 9:59:15</td>\n",
       "      <td>94</td>\n",
       "      <td>0.000000</td>\n",
       "      <td>1</td>\n",
       "    </tr>\n",
       "    <tr>\n",
       "      <td>16828846</td>\n",
       "      <td>fff20f025f560278d601b2fd47e1f6b7</td>\n",
       "      <td>24.452690</td>\n",
       "      <td>118.160774</td>\n",
       "      <td>2019/5/31 9:59:45</td>\n",
       "      <td>94</td>\n",
       "      <td>0.000000</td>\n",
       "      <td>1</td>\n",
       "    </tr>\n",
       "  </tbody>\n",
       "</table>\n",
       "<p>16828847 rows × 7 columns</p>\n",
       "</div>"
      ],
      "text/plain": [
       "                                     CARNO   LATITUDE   LONGITUDE  \\\n",
       "0         0006d282be70d06881a7513b69fcaa60  24.506195  118.128929   \n",
       "1         0006d282be70d06881a7513b69fcaa60  24.506210  118.128937   \n",
       "2         0006d282be70d06881a7513b69fcaa60  24.506210  118.128937   \n",
       "3         0006d282be70d06881a7513b69fcaa60  24.506210  118.128937   \n",
       "4         0006d282be70d06881a7513b69fcaa60  24.506210  118.128937   \n",
       "...                                    ...        ...         ...   \n",
       "16828842  fff20f025f560278d601b2fd47e1f6b7  24.452690  118.160774   \n",
       "16828843  fff20f025f560278d601b2fd47e1f6b7  24.452690  118.160774   \n",
       "16828844  fff20f025f560278d601b2fd47e1f6b7  24.452690  118.160774   \n",
       "16828845  fff20f025f560278d601b2fd47e1f6b7  24.452690  118.160774   \n",
       "16828846  fff20f025f560278d601b2fd47e1f6b7  24.452690  118.160774   \n",
       "\n",
       "                    GPS_TIME  DRIVING_DIRECTION  GPS_SPEED  OPERATING_STATUS  \n",
       "0         2019/5/31 10:00:11                 12   9.203125                 1  \n",
       "1         2019/5/31 10:00:26                 10   0.000000                 1  \n",
       "2         2019/5/31 10:00:41                 10   0.000000                 1  \n",
       "3         2019/5/31 10:00:56                 10   0.000000                 1  \n",
       "4         2019/5/31 10:01:11                 10   0.000000                 1  \n",
       "...                      ...                ...        ...               ...  \n",
       "16828842   2019/5/31 9:57:44                 94   0.000000                 1  \n",
       "16828843   2019/5/31 9:58:14                 94   0.000000                 1  \n",
       "16828844   2019/5/31 9:58:45                 94   0.000000                 1  \n",
       "16828845   2019/5/31 9:59:15                 94   0.000000                 1  \n",
       "16828846   2019/5/31 9:59:45                 94   0.000000                 1  \n",
       "\n",
       "[16828847 rows x 7 columns]"
      ]
     },
     "execution_count": 25,
     "metadata": {},
     "output_type": "execute_result"
    }
   ],
   "source": [
    "taxigps2019"
   ]
  },
  {
   "cell_type": "code",
   "execution_count": 5,
   "metadata": {
    "execution": {
     "iopub.execute_input": "2020-09-14T03:24:40.221982Z",
     "iopub.status.busy": "2020-09-14T03:24:40.220984Z",
     "iopub.status.idle": "2020-09-14T03:24:52.661802Z",
     "shell.execute_reply": "2020-09-14T03:24:52.661802Z",
     "shell.execute_reply.started": "2020-09-14T03:24:40.221982Z"
    }
   },
   "outputs": [],
   "source": [
    "#统计记录最多的GPS小时\n",
    "taxigps2019['GPS_TIME'] = pd.to_datetime(taxigps2019['GPS_TIME']) #转化成时间类型"
   ]
  },
  {
   "cell_type": "code",
   "execution_count": 6,
   "metadata": {
    "execution": {
     "iopub.execute_input": "2020-09-14T03:25:02.145858Z",
     "iopub.status.busy": "2020-09-14T03:25:02.145858Z",
     "iopub.status.idle": "2020-09-14T03:25:03.543235Z",
     "shell.execute_reply": "2020-09-14T03:25:03.542238Z",
     "shell.execute_reply.started": "2020-09-14T03:25:02.145858Z"
    }
   },
   "outputs": [
    {
     "data": {
      "text/plain": [
       "23    1059242\n",
       "22    1054752\n",
       "10    1054140\n",
       "9     1053138\n",
       "21    1047899\n",
       "20    1042931\n",
       "8     1042160\n",
       "19    1039729\n",
       "17    1038851\n",
       "18    1033548\n",
       "7     1002225\n",
       "6      903491\n",
       "2      893999\n",
       "4      859305\n",
       "3      852674\n",
       "5      816163\n",
       "1      457019\n",
       "11     439676\n",
       "16     131282\n",
       "0        2273\n",
       "15       1394\n",
       "14       1285\n",
       "13        851\n",
       "12        820\n",
       "Name: GPS_TIME_hour, dtype: int64"
      ]
     },
     "execution_count": 6,
     "metadata": {},
     "output_type": "execute_result"
    }
   ],
   "source": [
    "taxigps2019['GPS_TIME_hour'] = taxigps2019['GPS_TIME'].dt.hour #dt.hour的用法\n",
    "taxigps2019['GPS_TIME_hour'].value_counts()"
   ]
  },
  {
   "cell_type": "code",
   "execution_count": 7,
   "metadata": {
    "execution": {
     "iopub.execute_input": "2020-09-14T03:25:08.442864Z",
     "iopub.status.busy": "2020-09-14T03:25:08.442864Z",
     "iopub.status.idle": "2020-09-14T03:25:19.810819Z",
     "shell.execute_reply": "2020-09-14T03:25:19.810819Z",
     "shell.execute_reply.started": "2020-09-14T03:25:08.442864Z"
    }
   },
   "outputs": [
    {
     "data": {
      "text/plain": [
       "Text(0, 0.5, 'Car Count')"
      ]
     },
     "execution_count": 7,
     "metadata": {},
     "output_type": "execute_result"
    },
    {
     "data": {
      "image/png": "[encoded data removed]",
      "text/plain": [
       "<Figure size 432x288 with 1 Axes>"
      ]
     },
     "metadata": {
      "needs_background": "light"
     },
     "output_type": "display_data"
    }
   ],
   "source": [
    "taxigps2019.groupby(['GPS_TIME_hour'])['CARNO'].nunique().plot()\n",
    "plt.ylabel('Car Count')"
   ]
  },
  {
   "cell_type": "markdown",
   "metadata": {
    "execution": {
     "iopub.execute_input": "2020-09-12T12:39:10.148876Z",
     "iopub.status.busy": "2020-09-12T12:39:10.147849Z",
     "iopub.status.idle": "2020-09-12T12:39:10.154830Z",
     "shell.execute_reply": "2020-09-12T12:39:10.153833Z",
     "shell.execute_reply.started": "2020-09-12T12:39:10.148876Z"
    }
   },
   "source": [
    "2. 24小时巡游车平均GPS速度；"
   ]
  },
  {
   "cell_type": "code",
   "execution_count": 8,
   "metadata": {
    "execution": {
     "iopub.execute_input": "2020-09-14T03:26:13.124877Z",
     "iopub.status.busy": "2020-09-14T03:26:13.124877Z",
     "iopub.status.idle": "2020-09-14T03:26:15.402573Z",
     "shell.execute_reply": "2020-09-14T03:26:15.402573Z",
     "shell.execute_reply.started": "2020-09-14T03:26:13.124877Z"
    }
   },
   "outputs": [
    {
     "data": {
      "text/plain": [
       "Text(0, 0.5, 'Mean_GPS_Speed')"
      ]
     },
     "execution_count": 8,
     "metadata": {},
     "output_type": "execute_result"
    },
    {
     "data": {
      "image/png": "[encoded data removed]",
      "text/plain": [
       "<Figure size 432x288 with 1 Axes>"
      ]
     },
     "metadata": {
      "needs_background": "light"
     },
     "output_type": "display_data"
    }
   ],
   "source": [
    "taxigps2019['GPS_SPEED'] = np.clip(taxigps2019['GPS_SPEED'], 0, 150) # numpy.clip(a, a_min, a_max, out=None)[source]\n",
    "taxigps2019.groupby(['GPS_TIME_hour'])['GPS_SPEED'].mean().plot() # 求包括GPS速度为0的每小时平均值\n",
    "taxigps2019[taxigps2019['GPS_SPEED'] != 0].groupby(['GPS_TIME_hour'])['GPS_SPEED'].mean().plot() # 求不包括GPS速度为0的每小时平均值\n",
    "plt.legend(['Mean GPS Speed, contain 0', 'Mean GPS Speed, not contain 0'])\n",
    "plt.ylabel('Mean_GPS_Speed')"
   ]
  },
  {
   "cell_type": "code",
   "execution_count": 73,
   "metadata": {
    "execution": {
     "iopub.execute_input": "2020-09-12T15:34:56.670715Z",
     "iopub.status.busy": "2020-09-12T15:34:56.670715Z",
     "iopub.status.idle": "2020-09-12T15:34:57.724523Z",
     "shell.execute_reply": "2020-09-12T15:34:57.724523Z",
     "shell.execute_reply.started": "2020-09-12T15:34:56.670715Z"
    }
   },
   "outputs": [
    {
     "data": {
      "text/plain": [
       "<AxesSubplot:xlabel='GPS_TIME_hour'>"
      ]
     },
     "execution_count": 73,
     "metadata": {},
     "output_type": "execute_result"
    },
    {
     "data": {
      "image/png": "[encoded data removed]",
      "text/plain": [
       "<Figure size 432x288 with 1 Axes>"
      ]
     },
     "metadata": {
      "needs_background": "light"
     },
     "output_type": "display_data"
    }
   ],
   "source": [
    "taxigps2019.loc[taxigps2019['GPS_SPEED'] != 0].groupby(['GPS_TIME_hour'])['GPS_SPEED'].mean().plot()"
   ]
  },
  {
   "cell_type": "markdown",
   "metadata": {},
   "source": [
    "【思考】通过两个图的比较，你能发现什么规律？"
   ]
  },
  {
   "cell_type": "markdown",
   "metadata": {},
   "source": [
    "【回答】相反趋势说明该时间段塞车严重，排除速度为0的车以后速度快了很多，说明速度不为0的车跑得贼快。"
   ]
  },
  {
   "cell_type": "code",
   "execution_count": 34,
   "metadata": {
    "execution": {
     "iopub.execute_input": "2020-09-12T13:06:06.379165Z",
     "iopub.status.busy": "2020-09-12T13:06:06.379165Z",
     "iopub.status.idle": "2020-09-12T13:06:06.755669Z",
     "shell.execute_reply": "2020-09-12T13:06:06.755669Z",
     "shell.execute_reply.started": "2020-09-12T13:06:06.379165Z"
    }
   },
   "outputs": [
    {
     "data": {
      "text/plain": [
       "0.000000      7060974\n",
       "11.101562      237323\n",
       "12.898438      195081\n",
       "14.796875      170902\n",
       "16.593750      160404\n",
       "               ...   \n",
       "127.375000          1\n",
       "127.500000          1\n",
       "146.875000          1\n",
       "140.125000          1\n",
       "141.875000          1\n",
       "Name: GPS_SPEED, Length: 1452, dtype: int64"
      ]
     },
     "execution_count": 34,
     "metadata": {},
     "output_type": "execute_result"
    }
   ],
   "source": [
    "taxigps2019['GPS_SPEED'].value_counts()"
   ]
  },
  {
   "cell_type": "markdown",
   "metadata": {},
   "source": [
    "3. 24小时巡游车平均运营车辆；"
   ]
  },
  {
   "cell_type": "code",
   "execution_count": 9,
   "metadata": {
    "execution": {
     "iopub.execute_input": "2020-09-14T03:26:32.852086Z",
     "iopub.status.busy": "2020-09-14T03:26:32.852086Z",
     "iopub.status.idle": "2020-09-14T03:26:39.488224Z",
     "shell.execute_reply": "2020-09-14T03:26:39.488224Z",
     "shell.execute_reply.started": "2020-09-14T03:26:32.852086Z"
    }
   },
   "outputs": [
    {
     "data": {
      "text/plain": [
       "<matplotlib.legend.Legend at 0x21764c79b48>"
      ]
     },
     "execution_count": 9,
     "metadata": {},
     "output_type": "execute_result"
    },
    {
     "data": {
      "image/png": "[encoded data removed]",
      "text/plain": [
       "<Figure size 432x288 with 1 Axes>"
      ]
     },
     "metadata": {
      "needs_background": "light"
     },
     "output_type": "display_data"
    }
   ],
   "source": [
    "import matplotlib.pyplot as plt\n",
    "import matplotlib.font_manager as fm\n",
    "\n",
    "df = taxigps2019[taxigps2019['OPERATING_STATUS'] == 1] #状态1空车，状态8停运\n",
    "df.groupby(['GPS_TIME_hour'])['CARNO'].nunique().plot()\n",
    "\n",
    "df = taxigps2019[taxigps2019['OPERATING_STATUS'] == 8]\n",
    "df.groupby(['GPS_TIME_hour'])['CARNO'].nunique().plot()\n",
    "\n",
    "plt.legend(['STATUS 1', 'STATUS 8'])"
   ]
  },
  {
   "cell_type": "markdown",
   "metadata": {},
   "source": [
    "4. 某个时间巡游车位置分布；"
   ]
  },
  {
   "cell_type": "code",
   "execution_count": 10,
   "metadata": {
    "execution": {
     "iopub.execute_input": "2020-09-14T03:26:43.165645Z",
     "iopub.status.busy": "2020-09-14T03:26:43.164647Z",
     "iopub.status.idle": "2020-09-14T03:26:45.345672Z",
     "shell.execute_reply": "2020-09-14T03:26:45.345672Z",
     "shell.execute_reply.started": "2020-09-14T03:26:43.165645Z"
    }
   },
   "outputs": [
    {
     "data": {
      "text/html": [
       "<div style=\"width:100%;\"><div style=\"position:relative;width:100%;height:0;padding-bottom:60%;\"><span style=\"color:#565656\">Make this Notebook Trusted to load map: File -> Trust Notebook</span><iframe src=\"about:blank\" style=\"position:absolute;width:100%;height:100%;left:0;top:0;border:none !important;\" data-html=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 onload=\"this.contentDocument.open();this.contentDocument.write(atob(this.getAttribute('data-html')));this.contentDocument.close();\" allowfullscreen webkitallowfullscreen mozallowfullscreen></iframe></div></div>"
      ],
      "text/plain": [
       "<folium.folium.Map at 0x21772ce2388>"
      ]
     },
     "execution_count": 10,
     "metadata": {},
     "output_type": "execute_result"
    }
   ],
   "source": [
    "import folium\n",
    "from folium import plugins\n",
    "from folium.plugins import HeatMap\n",
    "# 在地图上画车辆热力图\n",
    "map_hooray = folium.Map(location=[24.482426, 118.157606], zoom_start=14) # zoom_start越大地图的比例尺越大\n",
    "HeatMap(taxigps2019[['LATITUDE', 'LONGITUDE']].iloc[:1000].values).add_to(map_hooray) # 取前1000行的值\n",
    "map_hooray"
   ]
  },
  {
   "cell_type": "markdown",
   "metadata": {},
   "source": [
    "【参考】<https://python-visualization.github.io/folium/quickstart.html>"
   ]
  },
  {
   "cell_type": "code",
   "execution_count": 37,
   "metadata": {
    "execution": {
     "iopub.execute_input": "2020-09-12T13:25:16.719106Z",
     "iopub.status.busy": "2020-09-12T13:25:16.719106Z",
     "iopub.status.idle": "2020-09-12T13:25:16.737057Z",
     "shell.execute_reply": "2020-09-12T13:25:16.736060Z",
     "shell.execute_reply.started": "2020-09-12T13:25:16.719106Z"
    }
   },
   "outputs": [],
   "source": [
    "map_hooray.save('index.html')"
   ]
  },
  {
   "cell_type": "code",
   "execution_count": 60,
   "metadata": {
    "execution": {
     "iopub.execute_input": "2020-09-12T14:09:49.407408Z",
     "iopub.status.busy": "2020-09-12T14:09:49.407408Z",
     "iopub.status.idle": "2020-09-12T14:09:49.586928Z",
     "shell.execute_reply": "2020-09-12T14:09:49.585929Z",
     "shell.execute_reply.started": "2020-09-12T14:09:49.407408Z"
    }
   },
   "outputs": [
    {
     "data": {
      "text/html": [
       "<div>\n",
       "<style scoped>\n",
       "    .dataframe tbody tr th:only-of-type {\n",
       "        vertical-align: middle;\n",
       "    }\n",
       "\n",
       "    .dataframe tbody tr th {\n",
       "        vertical-align: top;\n",
       "    }\n",
       "\n",
       "    .dataframe thead th {\n",
       "        text-align: right;\n",
       "    }\n",
       "</style>\n",
       "<table border=\"1\" class=\"dataframe\">\n",
       "  <thead>\n",
       "    <tr style=\"text-align: right;\">\n",
       "      <th></th>\n",
       "      <th>LATITUDE</th>\n",
       "      <th>LONGITUDE</th>\n",
       "    </tr>\n",
       "  </thead>\n",
       "  <tbody>\n",
       "    <tr>\n",
       "      <td>0</td>\n",
       "      <td>24.506195</td>\n",
       "      <td>118.128929</td>\n",
       "    </tr>\n",
       "    <tr>\n",
       "      <td>1</td>\n",
       "      <td>24.506210</td>\n",
       "      <td>118.128937</td>\n",
       "    </tr>\n",
       "    <tr>\n",
       "      <td>2</td>\n",
       "      <td>24.506210</td>\n",
       "      <td>118.128937</td>\n",
       "    </tr>\n",
       "    <tr>\n",
       "      <td>3</td>\n",
       "      <td>24.506210</td>\n",
       "      <td>118.128937</td>\n",
       "    </tr>\n",
       "    <tr>\n",
       "      <td>4</td>\n",
       "      <td>24.506210</td>\n",
       "      <td>118.128937</td>\n",
       "    </tr>\n",
       "    <tr>\n",
       "      <td>...</td>\n",
       "      <td>...</td>\n",
       "      <td>...</td>\n",
       "    </tr>\n",
       "    <tr>\n",
       "      <td>995</td>\n",
       "      <td>24.523493</td>\n",
       "      <td>118.105370</td>\n",
       "    </tr>\n",
       "    <tr>\n",
       "      <td>996</td>\n",
       "      <td>24.523413</td>\n",
       "      <td>118.104935</td>\n",
       "    </tr>\n",
       "    <tr>\n",
       "      <td>997</td>\n",
       "      <td>24.523319</td>\n",
       "      <td>118.104385</td>\n",
       "    </tr>\n",
       "    <tr>\n",
       "      <td>998</td>\n",
       "      <td>24.523319</td>\n",
       "      <td>118.104385</td>\n",
       "    </tr>\n",
       "    <tr>\n",
       "      <td>999</td>\n",
       "      <td>24.523319</td>\n",
       "      <td>118.104385</td>\n",
       "    </tr>\n",
       "  </tbody>\n",
       "</table>\n",
       "<p>1000 rows × 2 columns</p>\n",
       "</div>"
      ],
      "text/plain": [
       "      LATITUDE   LONGITUDE\n",
       "0    24.506195  118.128929\n",
       "1    24.506210  118.128937\n",
       "2    24.506210  118.128937\n",
       "3    24.506210  118.128937\n",
       "4    24.506210  118.128937\n",
       "..         ...         ...\n",
       "995  24.523493  118.105370\n",
       "996  24.523413  118.104935\n",
       "997  24.523319  118.104385\n",
       "998  24.523319  118.104385\n",
       "999  24.523319  118.104385\n",
       "\n",
       "[1000 rows x 2 columns]"
      ]
     },
     "execution_count": 60,
     "metadata": {},
     "output_type": "execute_result"
    },
    {
     "data": {
      "text/plain": [
       "array([[ 24.506195, 118.12893 ],\n",
       "       [ 24.50621 , 118.12894 ],\n",
       "       [ 24.50621 , 118.12894 ],\n",
       "       ...,\n",
       "       [ 24.52332 , 118.104385],\n",
       "       [ 24.52332 , 118.104385],\n",
       "       [ 24.52332 , 118.104385]], dtype=float32)"
      ]
     },
     "execution_count": 60,
     "metadata": {},
     "output_type": "execute_result"
    }
   ],
   "source": [
    "taxigps2019[['LATITUDE', 'LONGITUDE']].iloc[:1000]\n",
    "taxigps2019[['LATITUDE', 'LONGITUDE']].iloc[:1000].values"
   ]
  },
  {
   "cell_type": "markdown",
   "metadata": {},
   "source": [
    "5. 某个巡游车具体的路线；"
   ]
  },
  {
   "cell_type": "code",
   "execution_count": 11,
   "metadata": {
    "execution": {
     "iopub.execute_input": "2020-09-14T03:27:19.422984Z",
     "iopub.status.busy": "2020-09-14T03:27:19.421991Z",
     "iopub.status.idle": "2020-09-14T03:27:20.453796Z",
     "shell.execute_reply": "2020-09-14T03:27:20.452799Z",
     "shell.execute_reply.started": "2020-09-14T03:27:19.422984Z"
    }
   },
   "outputs": [
    {
     "name": "stderr",
     "output_type": "stream",
     "text": [
      "E:\\Anaconda3\\lib\\site-packages\\ipykernel_launcher.py:5: FutureWarning: Method `add_children` is deprecated. Please use `add_child` instead.\n",
      "  \"\"\"\n"
     ]
    },
    {
     "data": {
      "text/html": [
       "<div style=\"width:100%;\"><div style=\"position:relative;width:100%;height:0;padding-bottom:60%;\"><span style=\"color:#565656\">Make this Notebook Trusted to load map: File -> Trust Notebook</span><iframe src=\"about:blank\" style=\"position:absolute;width:100%;height:100%;left:0;top:0;border:none !important;\" data-html=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 onload=\"this.contentDocument.open();this.contentDocument.write(atob(this.getAttribute('data-html')));this.contentDocument.close();\" allowfullscreen webkitallowfullscreen mozallowfullscreen></iframe></div></div>"
      ],
      "text/plain": [
       "<folium.folium.Map at 0x21721b233c8>"
      ]
     },
     "execution_count": 11,
     "metadata": {},
     "output_type": "execute_result"
    }
   ],
   "source": [
    "import folium\n",
    "# Create the map and add the line\n",
    "m = folium.Map(location=[24.482426, 118.157606], zoom_start=13)\n",
    "my_PolyLine=folium.PolyLine(locations=taxigps2019[taxigps2019['CARNO'] == '0006d282be70d06881a7513b69fcaa60'][['LATITUDE', 'LONGITUDE']].iloc[:50].values,weight=5) #weight：route粗细 opacity：透明度 color: 颜色\n",
    "m.add_children(my_PolyLine) # 画子图"
   ]
  },
  {
   "cell_type": "markdown",
   "metadata": {
    "execution": {
     "iopub.execute_input": "2020-09-12T14:16:59.979980Z",
     "iopub.status.busy": "2020-09-12T14:16:59.978982Z",
     "iopub.status.idle": "2020-09-12T14:16:59.984967Z",
     "shell.execute_reply": "2020-09-12T14:16:59.983969Z",
     "shell.execute_reply.started": "2020-09-12T14:16:59.979980Z"
    }
   },
   "source": [
    "【参考】[Python Folium地理信息可视化案例](https://blog.csdn.net/folecld123/article/details/93508886)"
   ]
  },
  {
   "cell_type": "markdown",
   "metadata": {},
   "source": [
    "## 课堂任务"
   ]
  },
  {
   "cell_type": "markdown",
   "metadata": {
    "execution": {
     "iopub.execute_input": "2020-09-12T14:23:16.900011Z",
     "iopub.status.busy": "2020-09-12T14:23:16.900011Z",
     "iopub.status.idle": "2020-09-12T14:23:16.905994Z",
     "shell.execute_reply": "2020-09-12T14:23:16.904997Z",
     "shell.execute_reply.started": "2020-09-12T14:23:16.900011Z"
    }
   },
   "source": [
    "1. 如何统计得到所有巡游车中运营时间最长的车？"
   ]
  },
  {
   "cell_type": "code",
   "execution_count": 70,
   "metadata": {
    "execution": {
     "iopub.execute_input": "2020-09-12T15:08:51.300342Z",
     "iopub.status.busy": "2020-09-12T15:08:51.299345Z",
     "iopub.status.idle": "2020-09-12T15:08:52.379486Z",
     "shell.execute_reply": "2020-09-12T15:08:52.379486Z",
     "shell.execute_reply.started": "2020-09-12T15:08:51.299345Z"
    }
   },
   "outputs": [
    {
     "data": {
      "text/html": [
       "<div>\n",
       "<style scoped>\n",
       "    .dataframe tbody tr th:only-of-type {\n",
       "        vertical-align: middle;\n",
       "    }\n",
       "\n",
       "    .dataframe tbody tr th {\n",
       "        vertical-align: top;\n",
       "    }\n",
       "\n",
       "    .dataframe thead th {\n",
       "        text-align: right;\n",
       "    }\n",
       "</style>\n",
       "<table border=\"1\" class=\"dataframe\">\n",
       "  <thead>\n",
       "    <tr style=\"text-align: right;\">\n",
       "      <th></th>\n",
       "      <th>CARNO</th>\n",
       "      <th>LATITUDE</th>\n",
       "      <th>LONGITUDE</th>\n",
       "      <th>GPS_TIME</th>\n",
       "      <th>DRIVING_DIRECTION</th>\n",
       "      <th>GPS_SPEED</th>\n",
       "      <th>OPERATING_STATUS</th>\n",
       "      <th>GPS_TIME_hour</th>\n",
       "      <th>GPS_TIME_minute</th>\n",
       "    </tr>\n",
       "  </thead>\n",
       "  <tbody>\n",
       "    <tr>\n",
       "      <td>0</td>\n",
       "      <td>0006d282be70d06881a7513b69fcaa60</td>\n",
       "      <td>24.506195</td>\n",
       "      <td>118.128929</td>\n",
       "      <td>2019-05-31 10:00:11</td>\n",
       "      <td>12</td>\n",
       "      <td>9.203125</td>\n",
       "      <td>1</td>\n",
       "      <td>10</td>\n",
       "      <td>0</td>\n",
       "    </tr>\n",
       "    <tr>\n",
       "      <td>1</td>\n",
       "      <td>0006d282be70d06881a7513b69fcaa60</td>\n",
       "      <td>24.506210</td>\n",
       "      <td>118.128937</td>\n",
       "      <td>2019-05-31 10:00:26</td>\n",
       "      <td>10</td>\n",
       "      <td>0.000000</td>\n",
       "      <td>1</td>\n",
       "      <td>10</td>\n",
       "      <td>0</td>\n",
       "    </tr>\n",
       "    <tr>\n",
       "      <td>2</td>\n",
       "      <td>0006d282be70d06881a7513b69fcaa60</td>\n",
       "      <td>24.506210</td>\n",
       "      <td>118.128937</td>\n",
       "      <td>2019-05-31 10:00:41</td>\n",
       "      <td>10</td>\n",
       "      <td>0.000000</td>\n",
       "      <td>1</td>\n",
       "      <td>10</td>\n",
       "      <td>0</td>\n",
       "    </tr>\n",
       "    <tr>\n",
       "      <td>3</td>\n",
       "      <td>0006d282be70d06881a7513b69fcaa60</td>\n",
       "      <td>24.506210</td>\n",
       "      <td>118.128937</td>\n",
       "      <td>2019-05-31 10:00:56</td>\n",
       "      <td>10</td>\n",
       "      <td>0.000000</td>\n",
       "      <td>1</td>\n",
       "      <td>10</td>\n",
       "      <td>0</td>\n",
       "    </tr>\n",
       "    <tr>\n",
       "      <td>4</td>\n",
       "      <td>0006d282be70d06881a7513b69fcaa60</td>\n",
       "      <td>24.506210</td>\n",
       "      <td>118.128937</td>\n",
       "      <td>2019-05-31 10:01:11</td>\n",
       "      <td>10</td>\n",
       "      <td>0.000000</td>\n",
       "      <td>1</td>\n",
       "      <td>10</td>\n",
       "      <td>1</td>\n",
       "    </tr>\n",
       "    <tr>\n",
       "      <td>...</td>\n",
       "      <td>...</td>\n",
       "      <td>...</td>\n",
       "      <td>...</td>\n",
       "      <td>...</td>\n",
       "      <td>...</td>\n",
       "      <td>...</td>\n",
       "      <td>...</td>\n",
       "      <td>...</td>\n",
       "      <td>...</td>\n",
       "    </tr>\n",
       "    <tr>\n",
       "      <td>16828842</td>\n",
       "      <td>fff20f025f560278d601b2fd47e1f6b7</td>\n",
       "      <td>24.452690</td>\n",
       "      <td>118.160774</td>\n",
       "      <td>2019-05-31 09:57:44</td>\n",
       "      <td>94</td>\n",
       "      <td>0.000000</td>\n",
       "      <td>1</td>\n",
       "      <td>9</td>\n",
       "      <td>57</td>\n",
       "    </tr>\n",
       "    <tr>\n",
       "      <td>16828843</td>\n",
       "      <td>fff20f025f560278d601b2fd47e1f6b7</td>\n",
       "      <td>24.452690</td>\n",
       "      <td>118.160774</td>\n",
       "      <td>2019-05-31 09:58:14</td>\n",
       "      <td>94</td>\n",
       "      <td>0.000000</td>\n",
       "      <td>1</td>\n",
       "      <td>9</td>\n",
       "      <td>58</td>\n",
       "    </tr>\n",
       "    <tr>\n",
       "      <td>16828844</td>\n",
       "      <td>fff20f025f560278d601b2fd47e1f6b7</td>\n",
       "      <td>24.452690</td>\n",
       "      <td>118.160774</td>\n",
       "      <td>2019-05-31 09:58:45</td>\n",
       "      <td>94</td>\n",
       "      <td>0.000000</td>\n",
       "      <td>1</td>\n",
       "      <td>9</td>\n",
       "      <td>58</td>\n",
       "    </tr>\n",
       "    <tr>\n",
       "      <td>16828845</td>\n",
       "      <td>fff20f025f560278d601b2fd47e1f6b7</td>\n",
       "      <td>24.452690</td>\n",
       "      <td>118.160774</td>\n",
       "      <td>2019-05-31 09:59:15</td>\n",
       "      <td>94</td>\n",
       "      <td>0.000000</td>\n",
       "      <td>1</td>\n",
       "      <td>9</td>\n",
       "      <td>59</td>\n",
       "    </tr>\n",
       "    <tr>\n",
       "      <td>16828846</td>\n",
       "      <td>fff20f025f560278d601b2fd47e1f6b7</td>\n",
       "      <td>24.452690</td>\n",
       "      <td>118.160774</td>\n",
       "      <td>2019-05-31 09:59:45</td>\n",
       "      <td>94</td>\n",
       "      <td>0.000000</td>\n",
       "      <td>1</td>\n",
       "      <td>9</td>\n",
       "      <td>59</td>\n",
       "    </tr>\n",
       "  </tbody>\n",
       "</table>\n",
       "<p>16828847 rows × 9 columns</p>\n",
       "</div>"
      ],
      "text/plain": [
       "                                     CARNO   LATITUDE   LONGITUDE  \\\n",
       "0         0006d282be70d06881a7513b69fcaa60  24.506195  118.128929   \n",
       "1         0006d282be70d06881a7513b69fcaa60  24.506210  118.128937   \n",
       "2         0006d282be70d06881a7513b69fcaa60  24.506210  118.128937   \n",
       "3         0006d282be70d06881a7513b69fcaa60  24.506210  118.128937   \n",
       "4         0006d282be70d06881a7513b69fcaa60  24.506210  118.128937   \n",
       "...                                    ...        ...         ...   \n",
       "16828842  fff20f025f560278d601b2fd47e1f6b7  24.452690  118.160774   \n",
       "16828843  fff20f025f560278d601b2fd47e1f6b7  24.452690  118.160774   \n",
       "16828844  fff20f025f560278d601b2fd47e1f6b7  24.452690  118.160774   \n",
       "16828845  fff20f025f560278d601b2fd47e1f6b7  24.452690  118.160774   \n",
       "16828846  fff20f025f560278d601b2fd47e1f6b7  24.452690  118.160774   \n",
       "\n",
       "                    GPS_TIME  DRIVING_DIRECTION  GPS_SPEED  OPERATING_STATUS  \\\n",
       "0        2019-05-31 10:00:11                 12   9.203125                 1   \n",
       "1        2019-05-31 10:00:26                 10   0.000000                 1   \n",
       "2        2019-05-31 10:00:41                 10   0.000000                 1   \n",
       "3        2019-05-31 10:00:56                 10   0.000000                 1   \n",
       "4        2019-05-31 10:01:11                 10   0.000000                 1   \n",
       "...                      ...                ...        ...               ...   \n",
       "16828842 2019-05-31 09:57:44                 94   0.000000                 1   \n",
       "16828843 2019-05-31 09:58:14                 94   0.000000                 1   \n",
       "16828844 2019-05-31 09:58:45                 94   0.000000                 1   \n",
       "16828845 2019-05-31 09:59:15                 94   0.000000                 1   \n",
       "16828846 2019-05-31 09:59:45                 94   0.000000                 1   \n",
       "\n",
       "          GPS_TIME_hour  GPS_TIME_minute  \n",
       "0                    10                0  \n",
       "1                    10                0  \n",
       "2                    10                0  \n",
       "3                    10                0  \n",
       "4                    10                1  \n",
       "...                 ...              ...  \n",
       "16828842              9               57  \n",
       "16828843              9               58  \n",
       "16828844              9               58  \n",
       "16828845              9               59  \n",
       "16828846              9               59  \n",
       "\n",
       "[16828847 rows x 9 columns]"
      ]
     },
     "execution_count": 70,
     "metadata": {},
     "output_type": "execute_result"
    }
   ],
   "source": [
    "taxigps2019['GPS_TIME_minute'] = taxigps2019['GPS_TIME'].dt.minute #dt.minute的用法\n",
    "taxigps2019"
   ]
  },
  {
   "cell_type": "code",
   "execution_count": 69,
   "metadata": {
    "execution": {
     "iopub.execute_input": "2020-09-12T14:59:19.324317Z",
     "iopub.status.busy": "2020-09-12T14:59:19.324317Z",
     "iopub.status.idle": "2020-09-12T14:59:20.264559Z",
     "shell.execute_reply": "2020-09-12T14:59:20.263589Z",
     "shell.execute_reply.started": "2020-09-12T14:59:19.324317Z"
    }
   },
   "outputs": [
    {
     "data": {
      "text/plain": [
       "4604"
      ]
     },
     "execution_count": 69,
     "metadata": {},
     "output_type": "execute_result"
    }
   ],
   "source": [
    "taxigps2019[taxigps2019['CARNO']== '0006d282be70d06881a7513b69fcaa60']['GPS_TIME_minute'].value_counts().sum()"
   ]
  },
  {
   "cell_type": "code",
   "execution_count": 72,
   "metadata": {
    "execution": {
     "iopub.execute_input": "2020-09-12T15:25:13.835007Z",
     "iopub.status.busy": "2020-09-12T15:25:13.834010Z",
     "iopub.status.idle": "2020-09-12T15:25:14.333055Z",
     "shell.execute_reply": "2020-09-12T15:25:14.333055Z",
     "shell.execute_reply.started": "2020-09-12T15:25:13.835007Z"
    }
   },
   "outputs": [
    {
     "data": {
      "text/plain": [
       "00:00:30             5770128\n",
       "00:00:15             4207280\n",
       "00:01:00              795292\n",
       "00:00:16              540807\n",
       "00:00:00              401751\n",
       "                      ...   \n",
       "-1 days +05:02:27          1\n",
       "00:51:04                   1\n",
       "-1 days +06:58:43          1\n",
       "05:25:31                   1\n",
       "-1 days +14:06:07          1\n",
       "Name: GPS_TIME, Length: 4103, dtype: int64"
      ]
     },
     "execution_count": 72,
     "metadata": {},
     "output_type": "execute_result"
    }
   ],
   "source": [
    "taxigps2019['GPS_TIME'].diff().value_counts()"
   ]
  },
  {
   "cell_type": "markdown",
   "metadata": {},
   "source": [
    "2. 如何根据巡游车路线得到具体的运营规律？"
   ]
  },
  {
   "cell_type": "code",
   "execution_count": 74,
   "metadata": {
    "execution": {
     "iopub.execute_input": "2020-09-13T01:18:20.735821Z",
     "iopub.status.busy": "2020-09-13T01:18:20.734824Z",
     "iopub.status.idle": "2020-09-13T01:18:21.683287Z",
     "shell.execute_reply": "2020-09-13T01:18:21.683287Z",
     "shell.execute_reply.started": "2020-09-13T01:18:20.735821Z"
    }
   },
   "outputs": [
    {
     "data": {
      "text/html": [
       "<div>\n",
       "<style scoped>\n",
       "    .dataframe tbody tr th:only-of-type {\n",
       "        vertical-align: middle;\n",
       "    }\n",
       "\n",
       "    .dataframe tbody tr th {\n",
       "        vertical-align: top;\n",
       "    }\n",
       "\n",
       "    .dataframe thead th {\n",
       "        text-align: right;\n",
       "    }\n",
       "</style>\n",
       "<table border=\"1\" class=\"dataframe\">\n",
       "  <thead>\n",
       "    <tr style=\"text-align: right;\">\n",
       "      <th></th>\n",
       "      <th>CARNO</th>\n",
       "      <th>LATITUDE</th>\n",
       "      <th>LONGITUDE</th>\n",
       "      <th>GPS_TIME</th>\n",
       "      <th>DRIVING_DIRECTION</th>\n",
       "      <th>GPS_SPEED</th>\n",
       "      <th>OPERATING_STATUS</th>\n",
       "      <th>GPS_TIME_hour</th>\n",
       "      <th>GPS_TIME_minute</th>\n",
       "    </tr>\n",
       "  </thead>\n",
       "  <tbody>\n",
       "    <tr>\n",
       "      <td>0</td>\n",
       "      <td>0006d282be70d06881a7513b69fcaa60</td>\n",
       "      <td>24.506195</td>\n",
       "      <td>118.128929</td>\n",
       "      <td>2019-05-31 10:00:11</td>\n",
       "      <td>12</td>\n",
       "      <td>9.203125</td>\n",
       "      <td>1</td>\n",
       "      <td>10</td>\n",
       "      <td>0</td>\n",
       "    </tr>\n",
       "    <tr>\n",
       "      <td>1</td>\n",
       "      <td>0006d282be70d06881a7513b69fcaa60</td>\n",
       "      <td>24.506210</td>\n",
       "      <td>118.128937</td>\n",
       "      <td>2019-05-31 10:00:26</td>\n",
       "      <td>10</td>\n",
       "      <td>0.000000</td>\n",
       "      <td>1</td>\n",
       "      <td>10</td>\n",
       "      <td>0</td>\n",
       "    </tr>\n",
       "    <tr>\n",
       "      <td>2</td>\n",
       "      <td>0006d282be70d06881a7513b69fcaa60</td>\n",
       "      <td>24.506210</td>\n",
       "      <td>118.128937</td>\n",
       "      <td>2019-05-31 10:00:41</td>\n",
       "      <td>10</td>\n",
       "      <td>0.000000</td>\n",
       "      <td>1</td>\n",
       "      <td>10</td>\n",
       "      <td>0</td>\n",
       "    </tr>\n",
       "    <tr>\n",
       "      <td>3</td>\n",
       "      <td>0006d282be70d06881a7513b69fcaa60</td>\n",
       "      <td>24.506210</td>\n",
       "      <td>118.128937</td>\n",
       "      <td>2019-05-31 10:00:56</td>\n",
       "      <td>10</td>\n",
       "      <td>0.000000</td>\n",
       "      <td>1</td>\n",
       "      <td>10</td>\n",
       "      <td>0</td>\n",
       "    </tr>\n",
       "    <tr>\n",
       "      <td>4</td>\n",
       "      <td>0006d282be70d06881a7513b69fcaa60</td>\n",
       "      <td>24.506210</td>\n",
       "      <td>118.128937</td>\n",
       "      <td>2019-05-31 10:01:11</td>\n",
       "      <td>10</td>\n",
       "      <td>0.000000</td>\n",
       "      <td>1</td>\n",
       "      <td>10</td>\n",
       "      <td>1</td>\n",
       "    </tr>\n",
       "    <tr>\n",
       "      <td>...</td>\n",
       "      <td>...</td>\n",
       "      <td>...</td>\n",
       "      <td>...</td>\n",
       "      <td>...</td>\n",
       "      <td>...</td>\n",
       "      <td>...</td>\n",
       "      <td>...</td>\n",
       "      <td>...</td>\n",
       "      <td>...</td>\n",
       "    </tr>\n",
       "    <tr>\n",
       "      <td>4599</td>\n",
       "      <td>0006d282be70d06881a7513b69fcaa60</td>\n",
       "      <td>24.504713</td>\n",
       "      <td>118.128647</td>\n",
       "      <td>2019-05-31 09:58:56</td>\n",
       "      <td>9</td>\n",
       "      <td>16.593750</td>\n",
       "      <td>1</td>\n",
       "      <td>9</td>\n",
       "      <td>58</td>\n",
       "    </tr>\n",
       "    <tr>\n",
       "      <td>4600</td>\n",
       "      <td>0006d282be70d06881a7513b69fcaa60</td>\n",
       "      <td>24.505180</td>\n",
       "      <td>118.128723</td>\n",
       "      <td>2019-05-31 09:59:11</td>\n",
       "      <td>8</td>\n",
       "      <td>0.000000</td>\n",
       "      <td>1</td>\n",
       "      <td>9</td>\n",
       "      <td>59</td>\n",
       "    </tr>\n",
       "    <tr>\n",
       "      <td>4601</td>\n",
       "      <td>0006d282be70d06881a7513b69fcaa60</td>\n",
       "      <td>24.505180</td>\n",
       "      <td>118.128723</td>\n",
       "      <td>2019-05-31 09:59:26</td>\n",
       "      <td>8</td>\n",
       "      <td>0.000000</td>\n",
       "      <td>1</td>\n",
       "      <td>9</td>\n",
       "      <td>59</td>\n",
       "    </tr>\n",
       "    <tr>\n",
       "      <td>4602</td>\n",
       "      <td>0006d282be70d06881a7513b69fcaa60</td>\n",
       "      <td>24.505180</td>\n",
       "      <td>118.128723</td>\n",
       "      <td>2019-05-31 09:59:41</td>\n",
       "      <td>8</td>\n",
       "      <td>0.000000</td>\n",
       "      <td>1</td>\n",
       "      <td>9</td>\n",
       "      <td>59</td>\n",
       "    </tr>\n",
       "    <tr>\n",
       "      <td>4603</td>\n",
       "      <td>0006d282be70d06881a7513b69fcaa60</td>\n",
       "      <td>24.505411</td>\n",
       "      <td>118.128754</td>\n",
       "      <td>2019-05-31 09:59:56</td>\n",
       "      <td>8</td>\n",
       "      <td>16.593750</td>\n",
       "      <td>1</td>\n",
       "      <td>9</td>\n",
       "      <td>59</td>\n",
       "    </tr>\n",
       "  </tbody>\n",
       "</table>\n",
       "<p>4604 rows × 9 columns</p>\n",
       "</div>"
      ],
      "text/plain": [
       "                                 CARNO   LATITUDE   LONGITUDE  \\\n",
       "0     0006d282be70d06881a7513b69fcaa60  24.506195  118.128929   \n",
       "1     0006d282be70d06881a7513b69fcaa60  24.506210  118.128937   \n",
       "2     0006d282be70d06881a7513b69fcaa60  24.506210  118.128937   \n",
       "3     0006d282be70d06881a7513b69fcaa60  24.506210  118.128937   \n",
       "4     0006d282be70d06881a7513b69fcaa60  24.506210  118.128937   \n",
       "...                                ...        ...         ...   \n",
       "4599  0006d282be70d06881a7513b69fcaa60  24.504713  118.128647   \n",
       "4600  0006d282be70d06881a7513b69fcaa60  24.505180  118.128723   \n",
       "4601  0006d282be70d06881a7513b69fcaa60  24.505180  118.128723   \n",
       "4602  0006d282be70d06881a7513b69fcaa60  24.505180  118.128723   \n",
       "4603  0006d282be70d06881a7513b69fcaa60  24.505411  118.128754   \n",
       "\n",
       "                GPS_TIME  DRIVING_DIRECTION  GPS_SPEED  OPERATING_STATUS  \\\n",
       "0    2019-05-31 10:00:11                 12   9.203125                 1   \n",
       "1    2019-05-31 10:00:26                 10   0.000000                 1   \n",
       "2    2019-05-31 10:00:41                 10   0.000000                 1   \n",
       "3    2019-05-31 10:00:56                 10   0.000000                 1   \n",
       "4    2019-05-31 10:01:11                 10   0.000000                 1   \n",
       "...                  ...                ...        ...               ...   \n",
       "4599 2019-05-31 09:58:56                  9  16.593750                 1   \n",
       "4600 2019-05-31 09:59:11                  8   0.000000                 1   \n",
       "4601 2019-05-31 09:59:26                  8   0.000000                 1   \n",
       "4602 2019-05-31 09:59:41                  8   0.000000                 1   \n",
       "4603 2019-05-31 09:59:56                  8  16.593750                 1   \n",
       "\n",
       "      GPS_TIME_hour  GPS_TIME_minute  \n",
       "0                10                0  \n",
       "1                10                0  \n",
       "2                10                0  \n",
       "3                10                0  \n",
       "4                10                1  \n",
       "...             ...              ...  \n",
       "4599              9               58  \n",
       "4600              9               59  \n",
       "4601              9               59  \n",
       "4602              9               59  \n",
       "4603              9               59  \n",
       "\n",
       "[4604 rows x 9 columns]"
      ]
     },
     "execution_count": 74,
     "metadata": {},
     "output_type": "execute_result"
    }
   ],
   "source": [
    "taxigps2019[taxigps2019['CARNO'] == '0006d282be70d06881a7513b69fcaa60']"
   ]
  },
  {
   "cell_type": "markdown",
   "metadata": {},
   "source": [
    "## 打卡任务"
   ]
  },
  {
   "cell_type": "markdown",
   "metadata": {},
   "source": [
    "【注意】通过查资料发现20190606是端午，20190606-20190608三天是假期"
   ]
  },
  {
   "cell_type": "markdown",
   "metadata": {},
   "source": [
    "1. 可视化巡游车20190531 - 20190609 期间早上9点的平均速度变化；"
   ]
  },
  {
   "cell_type": "code",
   "execution_count": 12,
   "metadata": {
    "execution": {
     "iopub.execute_input": "2020-09-14T03:29:01.079864Z",
     "iopub.status.busy": "2020-09-14T03:29:01.078897Z",
     "iopub.status.idle": "2020-09-14T03:38:46.778807Z",
     "shell.execute_reply": "2020-09-14T03:38:46.761853Z",
     "shell.execute_reply.started": "2020-09-14T03:29:01.079864Z"
    }
   },
   "outputs": [],
   "source": [
    "# 出租车2019年GPS，pd.concat()函数的使用\n",
    "taxigps201906 = pd.concat([\n",
    "    pd.read_csv('taxiGps20190531.csv', \n",
    "                         dtype = {\n",
    "                             'DRIVING_DIRECTION': np.uint16,\n",
    "                             'OPERATING_STATUS': np.uint8,\n",
    "                             'LONGITUDE': np.float32,\n",
    "                             'LATITUDE': np.float32,\n",
    "                             'GPS_SPEED': np.float32 \n",
    "                         }),\n",
    "    pd.read_csv('taxiGps20190601.csv', \n",
    "                         dtype = {\n",
    "                             'DRIVING_DIRECTION': np.uint16,\n",
    "                             'OPERATING_STATUS': np.uint8,\n",
    "                             'LONGITUDE': np.float32,\n",
    "                             'LATITUDE': np.float32,\n",
    "                             'GPS_SPEED': np.float32 \n",
    "                         }),\n",
    "    pd.read_csv('taxiGps20190602.csv', \n",
    "                         dtype = {\n",
    "                             'DRIVING_DIRECTION': np.uint16,\n",
    "                             'OPERATING_STATUS': np.uint8,\n",
    "                             'LONGITUDE': np.float32,\n",
    "                             'LATITUDE': np.float32,\n",
    "                             'GPS_SPEED': np.float32 \n",
    "                         }),\n",
    "    pd.read_csv('taxiGps20190603.csv', \n",
    "                         dtype = {\n",
    "                             'DRIVING_DIRECTION': np.uint16,\n",
    "                             'OPERATING_STATUS': np.uint8,\n",
    "                             'LONGITUDE': np.float32,\n",
    "                             'LATITUDE': np.float32,\n",
    "                             'GPS_SPEED': np.float32 \n",
    "                         }),\n",
    "    pd.read_csv('taxiGps20190604.csv', \n",
    "                         dtype = {\n",
    "                             'DRIVING_DIRECTION': np.uint16,\n",
    "                             'OPERATING_STATUS': np.uint8,\n",
    "                             'LONGITUDE': np.float32,\n",
    "                             'LATITUDE': np.float32,\n",
    "                             'GPS_SPEED': np.float32 \n",
    "                         }),\n",
    "    pd.read_csv('taxiGps20190605.csv', \n",
    "                         dtype = {\n",
    "                             'DRIVING_DIRECTION': np.uint16,\n",
    "                             'OPERATING_STATUS': np.uint8,\n",
    "                             'LONGITUDE': np.float32,\n",
    "                             'LATITUDE': np.float32,\n",
    "                             'GPS_SPEED': np.float32 \n",
    "                         }),\n",
    "    pd.read_csv('taxiGps20190606.csv', \n",
    "                         dtype = {\n",
    "                             'DRIVING_DIRECTION': np.uint16,\n",
    "                             'OPERATING_STATUS': np.uint8,\n",
    "                             'LONGITUDE': np.float32,\n",
    "                             'LATITUDE': np.float32,\n",
    "                             'GPS_SPEED': np.float32 \n",
    "                         }),\n",
    "    pd.read_csv('taxiGps20190607.csv', \n",
    "                         dtype = {\n",
    "                             'DRIVING_DIRECTION': np.uint16,\n",
    "                             'OPERATING_STATUS': np.uint8,\n",
    "                             'LONGITUDE': np.float32,\n",
    "                             'LATITUDE': np.float32,\n",
    "                             'GPS_SPEED': np.float32 \n",
    "                         }),\n",
    "    pd.read_csv('taxiGps20190608.csv', \n",
    "                         dtype = {\n",
    "                             'DRIVING_DIRECTION': np.uint16,\n",
    "                             'OPERATING_STATUS': np.uint8,\n",
    "                             'LONGITUDE': np.float32,\n",
    "                             'LATITUDE': np.float32,\n",
    "                             'GPS_SPEED': np.float32 \n",
    "                         }),\n",
    "    pd.read_csv('taxiGps20190609.csv', \n",
    "                         dtype = {\n",
    "                             'DRIVING_DIRECTION': np.uint16,\n",
    "                             'OPERATING_STATUS': np.uint8,\n",
    "                             'LONGITUDE': np.float32,\n",
    "                             'LATITUDE': np.float32,\n",
    "                             'GPS_SPEED': np.float32 \n",
    "                         })\n",
    "])\n",
    "taxigps201906 = taxigps201906[taxigps201906.columns[::-1]]\n",
    "taxigps201906.sort_values(by=['CARNO','GPS_TIME'], inplace=True)\n",
    "taxigps201906.reset_index(inplace=True)"
   ]
  },
  {
   "cell_type": "code",
   "execution_count": 13,
   "metadata": {
    "execution": {
     "iopub.execute_input": "2020-09-14T03:39:25.267138Z",
     "iopub.status.busy": "2020-09-14T03:39:25.266140Z",
     "iopub.status.idle": "2020-09-14T03:39:25.523478Z",
     "shell.execute_reply": "2020-09-14T03:39:25.522481Z",
     "shell.execute_reply.started": "2020-09-14T03:39:25.267138Z"
    }
   },
   "outputs": [
    {
     "name": "stdout",
     "output_type": "stream",
     "text": [
      "<class 'pandas.core.frame.DataFrame'>\n",
      "RangeIndex: 184854495 entries, 0 to 184854494\n",
      "Data columns (total 8 columns):\n",
      "index                int64\n",
      "CARNO                object\n",
      "LATITUDE             float32\n",
      "LONGITUDE            float32\n",
      "GPS_TIME             object\n",
      "DRIVING_DIRECTION    uint16\n",
      "GPS_SPEED            float32\n",
      "OPERATING_STATUS     uint8\n",
      "dtypes: float32(3), int64(1), object(2), uint16(1), uint8(1)\n",
      "memory usage: 6.7+ GB\n"
     ]
    }
   ],
   "source": [
    "taxigps201906.info()"
   ]
  },
  {
   "cell_type": "code",
   "execution_count": 84,
   "metadata": {
    "execution": {
     "iopub.execute_input": "2020-09-13T01:43:34.881051Z",
     "iopub.status.busy": "2020-09-13T01:43:34.880054Z",
     "iopub.status.idle": "2020-09-13T01:43:36.124725Z",
     "shell.execute_reply": "2020-09-13T01:43:36.123727Z",
     "shell.execute_reply.started": "2020-09-13T01:43:34.880054Z"
    }
   },
   "outputs": [
    {
     "data": {
      "text/html": [
       "<div>\n",
       "<style scoped>\n",
       "    .dataframe tbody tr th:only-of-type {\n",
       "        vertical-align: middle;\n",
       "    }\n",
       "\n",
       "    .dataframe tbody tr th {\n",
       "        vertical-align: top;\n",
       "    }\n",
       "\n",
       "    .dataframe thead th {\n",
       "        text-align: right;\n",
       "    }\n",
       "</style>\n",
       "<table border=\"1\" class=\"dataframe\">\n",
       "  <thead>\n",
       "    <tr style=\"text-align: right;\">\n",
       "      <th></th>\n",
       "      <th>index</th>\n",
       "      <th>LATITUDE</th>\n",
       "      <th>LONGITUDE</th>\n",
       "      <th>DRIVING_DIRECTION</th>\n",
       "      <th>GPS_SPEED</th>\n",
       "      <th>OPERATING_STATUS</th>\n",
       "    </tr>\n",
       "  </thead>\n",
       "  <tbody>\n",
       "    <tr>\n",
       "      <td>count</td>\n",
       "      <td>1.000000e+07</td>\n",
       "      <td>1.000000e+07</td>\n",
       "      <td>1.000000e+07</td>\n",
       "      <td>1.000000e+07</td>\n",
       "      <td>1.000000e+07</td>\n",
       "      <td>1.000000e+07</td>\n",
       "    </tr>\n",
       "    <tr>\n",
       "      <td>mean</td>\n",
       "      <td>9.732976e+06</td>\n",
       "      <td>2.751941e+01</td>\n",
       "      <td>1.249059e+02</td>\n",
       "      <td>1.686555e+02</td>\n",
       "      <td>1.760457e+01</td>\n",
       "      <td>3.043484e+00</td>\n",
       "    </tr>\n",
       "    <tr>\n",
       "      <td>std</td>\n",
       "      <td>6.058186e+06</td>\n",
       "      <td>3.108092e+00</td>\n",
       "      <td>8.546834e+00</td>\n",
       "      <td>1.098300e+02</td>\n",
       "      <td>2.093903e+01</td>\n",
       "      <td>2.502501e+00</td>\n",
       "    </tr>\n",
       "    <tr>\n",
       "      <td>min</td>\n",
       "      <td>6.000000e+00</td>\n",
       "      <td>0.000000e+00</td>\n",
       "      <td>0.000000e+00</td>\n",
       "      <td>0.000000e+00</td>\n",
       "      <td>0.000000e+00</td>\n",
       "      <td>1.000000e+00</td>\n",
       "    </tr>\n",
       "    <tr>\n",
       "      <td>25%</td>\n",
       "      <td>4.622368e+06</td>\n",
       "      <td>2.447737e+01</td>\n",
       "      <td>1.180934e+02</td>\n",
       "      <td>7.300000e+01</td>\n",
       "      <td>0.000000e+00</td>\n",
       "      <td>1.000000e+00</td>\n",
       "    </tr>\n",
       "    <tr>\n",
       "      <td>50%</td>\n",
       "      <td>9.252098e+06</td>\n",
       "      <td>2.449516e+01</td>\n",
       "      <td>1.181201e+02</td>\n",
       "      <td>1.720000e+02</td>\n",
       "      <td>1.040000e+01</td>\n",
       "      <td>1.000000e+00</td>\n",
       "    </tr>\n",
       "    <tr>\n",
       "      <td>75%</td>\n",
       "      <td>1.432272e+07</td>\n",
       "      <td>2.452616e+01</td>\n",
       "      <td>1.181477e+02</td>\n",
       "      <td>2.620000e+02</td>\n",
       "      <td>3.140000e+01</td>\n",
       "      <td>6.000000e+00</td>\n",
       "    </tr>\n",
       "    <tr>\n",
       "      <td>max</td>\n",
       "      <td>2.392653e+07</td>\n",
       "      <td>4.332003e+01</td>\n",
       "      <td>1.299981e+02</td>\n",
       "      <td>3.600000e+02</td>\n",
       "      <td>4.192800e+03</td>\n",
       "      <td>8.000000e+00</td>\n",
       "    </tr>\n",
       "  </tbody>\n",
       "</table>\n",
       "</div>"
      ],
      "text/plain": [
       "              index      LATITUDE     LONGITUDE  DRIVING_DIRECTION  \\\n",
       "count  1.000000e+07  1.000000e+07  1.000000e+07       1.000000e+07   \n",
       "mean   9.732976e+06  2.751941e+01  1.249059e+02       1.686555e+02   \n",
       "std    6.058186e+06  3.108092e+00  8.546834e+00       1.098300e+02   \n",
       "min    6.000000e+00  0.000000e+00  0.000000e+00       0.000000e+00   \n",
       "25%    4.622368e+06  2.447737e+01  1.180934e+02       7.300000e+01   \n",
       "50%    9.252098e+06  2.449516e+01  1.181201e+02       1.720000e+02   \n",
       "75%    1.432272e+07  2.452616e+01  1.181477e+02       2.620000e+02   \n",
       "max    2.392653e+07  4.332003e+01  1.299981e+02       3.600000e+02   \n",
       "\n",
       "          GPS_SPEED  OPERATING_STATUS  \n",
       "count  1.000000e+07      1.000000e+07  \n",
       "mean   1.760457e+01      3.043484e+00  \n",
       "std    2.093903e+01      2.502501e+00  \n",
       "min    0.000000e+00      1.000000e+00  \n",
       "25%    0.000000e+00      1.000000e+00  \n",
       "50%    1.040000e+01      1.000000e+00  \n",
       "75%    3.140000e+01      6.000000e+00  \n",
       "max    4.192800e+03      8.000000e+00  "
      ]
     },
     "execution_count": 84,
     "metadata": {},
     "output_type": "execute_result"
    }
   ],
   "source": [
    "taxigps201906.iloc[:10000000].describe()"
   ]
  },
  {
   "cell_type": "code",
   "execution_count": 90,
   "metadata": {
    "execution": {
     "iopub.execute_input": "2020-09-13T02:21:12.351119Z",
     "iopub.status.busy": "2020-09-13T02:21:12.350189Z",
     "iopub.status.idle": "2020-09-13T02:21:12.363087Z",
     "shell.execute_reply": "2020-09-13T02:21:12.363087Z",
     "shell.execute_reply.started": "2020-09-13T02:21:12.351119Z"
    }
   },
   "outputs": [
    {
     "data": {
      "text/html": [
       "<div>\n",
       "<style scoped>\n",
       "    .dataframe tbody tr th:only-of-type {\n",
       "        vertical-align: middle;\n",
       "    }\n",
       "\n",
       "    .dataframe tbody tr th {\n",
       "        vertical-align: top;\n",
       "    }\n",
       "\n",
       "    .dataframe thead th {\n",
       "        text-align: right;\n",
       "    }\n",
       "</style>\n",
       "<table border=\"1\" class=\"dataframe\">\n",
       "  <thead>\n",
       "    <tr style=\"text-align: right;\">\n",
       "      <th></th>\n",
       "      <th>index</th>\n",
       "      <th>CARNO</th>\n",
       "      <th>LATITUDE</th>\n",
       "      <th>LONGITUDE</th>\n",
       "      <th>GPS_TIME</th>\n",
       "      <th>DRIVING_DIRECTION</th>\n",
       "      <th>GPS_SPEED</th>\n",
       "      <th>OPERATING_STATUS</th>\n",
       "    </tr>\n",
       "  </thead>\n",
       "  <tbody>\n",
       "    <tr>\n",
       "      <td>0</td>\n",
       "      <td>7886250</td>\n",
       "      <td>0006d282be70d06881a7513b69fcaa60</td>\n",
       "      <td>24.506195</td>\n",
       "      <td>118.128929</td>\n",
       "      <td>2019/5/31 10:00:11</td>\n",
       "      <td>12</td>\n",
       "      <td>9.2</td>\n",
       "      <td>1</td>\n",
       "    </tr>\n",
       "    <tr>\n",
       "      <td>1</td>\n",
       "      <td>7890645</td>\n",
       "      <td>0006d282be70d06881a7513b69fcaa60</td>\n",
       "      <td>24.506210</td>\n",
       "      <td>118.128937</td>\n",
       "      <td>2019/5/31 10:00:26</td>\n",
       "      <td>10</td>\n",
       "      <td>0.0</td>\n",
       "      <td>1</td>\n",
       "    </tr>\n",
       "    <tr>\n",
       "      <td>2</td>\n",
       "      <td>7894659</td>\n",
       "      <td>0006d282be70d06881a7513b69fcaa60</td>\n",
       "      <td>24.506210</td>\n",
       "      <td>118.128937</td>\n",
       "      <td>2019/5/31 10:00:41</td>\n",
       "      <td>10</td>\n",
       "      <td>0.0</td>\n",
       "      <td>1</td>\n",
       "    </tr>\n",
       "    <tr>\n",
       "      <td>3</td>\n",
       "      <td>7899013</td>\n",
       "      <td>0006d282be70d06881a7513b69fcaa60</td>\n",
       "      <td>24.506210</td>\n",
       "      <td>118.128937</td>\n",
       "      <td>2019/5/31 10:00:56</td>\n",
       "      <td>10</td>\n",
       "      <td>0.0</td>\n",
       "      <td>1</td>\n",
       "    </tr>\n",
       "    <tr>\n",
       "      <td>4</td>\n",
       "      <td>7903647</td>\n",
       "      <td>0006d282be70d06881a7513b69fcaa60</td>\n",
       "      <td>24.506210</td>\n",
       "      <td>118.128937</td>\n",
       "      <td>2019/5/31 10:01:11</td>\n",
       "      <td>10</td>\n",
       "      <td>0.0</td>\n",
       "      <td>1</td>\n",
       "    </tr>\n",
       "  </tbody>\n",
       "</table>\n",
       "</div>"
      ],
      "text/plain": [
       "     index                             CARNO   LATITUDE   LONGITUDE  \\\n",
       "0  7886250  0006d282be70d06881a7513b69fcaa60  24.506195  118.128929   \n",
       "1  7890645  0006d282be70d06881a7513b69fcaa60  24.506210  118.128937   \n",
       "2  7894659  0006d282be70d06881a7513b69fcaa60  24.506210  118.128937   \n",
       "3  7899013  0006d282be70d06881a7513b69fcaa60  24.506210  118.128937   \n",
       "4  7903647  0006d282be70d06881a7513b69fcaa60  24.506210  118.128937   \n",
       "\n",
       "             GPS_TIME  DRIVING_DIRECTION  GPS_SPEED  OPERATING_STATUS  \n",
       "0  2019/5/31 10:00:11                 12        9.2                 1  \n",
       "1  2019/5/31 10:00:26                 10        0.0                 1  \n",
       "2  2019/5/31 10:00:41                 10        0.0                 1  \n",
       "3  2019/5/31 10:00:56                 10        0.0                 1  \n",
       "4  2019/5/31 10:01:11                 10        0.0                 1  "
      ]
     },
     "execution_count": 90,
     "metadata": {},
     "output_type": "execute_result"
    }
   ],
   "source": [
    "taxigps201906.head()"
   ]
  },
  {
   "cell_type": "code",
   "execution_count": 14,
   "metadata": {
    "execution": {
     "iopub.execute_input": "2020-09-14T03:39:39.201066Z",
     "iopub.status.busy": "2020-09-14T03:39:39.200070Z",
     "iopub.status.idle": "2020-09-14T03:41:51.278779Z",
     "shell.execute_reply": "2020-09-14T03:41:51.278779Z",
     "shell.execute_reply.started": "2020-09-14T03:39:39.201066Z"
    }
   },
   "outputs": [],
   "source": [
    "taxigps201906['GPS_TIME'] = pd.to_datetime(taxigps201906['GPS_TIME']) "
   ]
  },
  {
   "cell_type": "code",
   "execution_count": 16,
   "metadata": {
    "execution": {
     "iopub.execute_input": "2020-09-14T03:42:31.121247Z",
     "iopub.status.busy": "2020-09-14T03:42:31.121247Z",
     "iopub.status.idle": "2020-09-14T03:42:45.192765Z",
     "shell.execute_reply": "2020-09-14T03:42:45.191767Z",
     "shell.execute_reply.started": "2020-09-14T03:42:31.121247Z"
    }
   },
   "outputs": [
    {
     "data": {
      "text/plain": [
       "10    9833381\n",
       "11    9731058\n",
       "9     9379716\n",
       "14    9357952\n",
       "22    9343517\n",
       "15    9331748\n",
       "17    9323043\n",
       "23    9317958\n",
       "19    9278149\n",
       "21    9269888\n",
       "13    9268818\n",
       "12    9257777\n",
       "18    9253000\n",
       "20    9249462\n",
       "16    8607430\n",
       "0     7711997\n",
       "8     6271963\n",
       "1     6078440\n",
       "7     4888874\n",
       "2     4818110\n",
       "3     4321094\n",
       "6     3860232\n",
       "4     3808009\n",
       "5     3292879\n",
       "Name: GPS_TIME_hour, dtype: int64"
      ]
     },
     "execution_count": 16,
     "metadata": {},
     "output_type": "execute_result"
    }
   ],
   "source": [
    "taxigps201906['GPS_TIME_hour'] = taxigps201906['GPS_TIME'].dt.hour #dt.hour的用法\n",
    "taxigps201906['GPS_TIME_hour'].value_counts()"
   ]
  },
  {
   "cell_type": "code",
   "execution_count": 17,
   "metadata": {
    "execution": {
     "iopub.execute_input": "2020-09-14T03:42:53.318579Z",
     "iopub.status.busy": "2020-09-14T03:42:53.317618Z",
     "iopub.status.idle": "2020-09-14T03:42:55.654070Z",
     "shell.execute_reply": "2020-09-14T03:42:55.654070Z",
     "shell.execute_reply.started": "2020-09-14T03:42:53.318579Z"
    }
   },
   "outputs": [],
   "source": [
    "taxigps201906['GPS_SPEED'] = np.clip(taxigps201906['GPS_SPEED'], 0, 150 )"
   ]
  },
  {
   "cell_type": "code",
   "execution_count": 18,
   "metadata": {
    "execution": {
     "iopub.execute_input": "2020-09-14T03:42:59.553379Z",
     "iopub.status.busy": "2020-09-14T03:42:59.552381Z",
     "iopub.status.idle": "2020-09-14T03:43:14.113750Z",
     "shell.execute_reply": "2020-09-14T03:43:14.113750Z",
     "shell.execute_reply.started": "2020-09-14T03:42:59.553379Z"
    }
   },
   "outputs": [
    {
     "data": {
      "text/plain": [
       "GPS_TIME\n",
       "1     18.861326\n",
       "2     17.842346\n",
       "3     19.189693\n",
       "4     18.842819\n",
       "5      9.153008\n",
       "6     19.241146\n",
       "7     18.848932\n",
       "8     18.012955\n",
       "9     18.262281\n",
       "31    19.383568\n",
       "Name: GPS_SPEED, dtype: float32"
      ]
     },
     "execution_count": 18,
     "metadata": {},
     "output_type": "execute_result"
    }
   ],
   "source": [
    "taxigps201906[taxigps201906['GPS_TIME_hour']==9].groupby(taxigps201906['GPS_TIME'].dt.day)['GPS_SPEED'].mean()"
   ]
  },
  {
   "cell_type": "code",
   "execution_count": 19,
   "metadata": {
    "execution": {
     "iopub.execute_input": "2020-09-14T03:43:23.389962Z",
     "iopub.status.busy": "2020-09-14T03:43:23.389962Z",
     "iopub.status.idle": "2020-09-14T03:43:36.300876Z",
     "shell.execute_reply": "2020-09-14T03:43:36.299879Z",
     "shell.execute_reply.started": "2020-09-14T03:43:23.389962Z"
    }
   },
   "outputs": [],
   "source": [
    "GPS_SPEED_mean=taxigps201906[taxigps201906['GPS_TIME_hour']==9].groupby(taxigps201906['GPS_TIME'].dt.day)['GPS_SPEED'].mean()"
   ]
  },
  {
   "cell_type": "code",
   "execution_count": 20,
   "metadata": {
    "execution": {
     "iopub.execute_input": "2020-09-14T03:43:52.938038Z",
     "iopub.status.busy": "2020-09-14T03:43:52.937040Z",
     "iopub.status.idle": "2020-09-14T03:43:52.954992Z",
     "shell.execute_reply": "2020-09-14T03:43:52.954992Z",
     "shell.execute_reply.started": "2020-09-14T03:43:52.938038Z"
    }
   },
   "outputs": [
    {
     "data": {
      "text/plain": [
       "19.383568"
      ]
     },
     "execution_count": 20,
     "metadata": {},
     "output_type": "execute_result"
    }
   ],
   "source": [
    "GPS_SPEED_mean[31]"
   ]
  },
  {
   "cell_type": "code",
   "execution_count": 21,
   "metadata": {
    "execution": {
     "iopub.execute_input": "2020-09-14T03:44:01.976977Z",
     "iopub.status.busy": "2020-09-14T03:44:01.975950Z",
     "iopub.status.idle": "2020-09-14T03:44:01.992936Z",
     "shell.execute_reply": "2020-09-14T03:44:01.992936Z",
     "shell.execute_reply.started": "2020-09-14T03:44:01.976977Z"
    }
   },
   "outputs": [
    {
     "name": "stdout",
     "output_type": "stream",
     "text": [
      "[19.383568, 18.861326, 17.842346, 19.189693, 18.84282, 9.153008, 19.241146, 18.848932, 18.012955, 18.262281]\n"
     ]
    }
   ],
   "source": [
    "x=[31,1,2,3,4,5,6,7,8,9]\n",
    "y=[]\n",
    "for i in x:\n",
    "        e=GPS_SPEED_mean[i]\n",
    "        y.append(e)\n",
    "print(y)"
   ]
  },
  {
   "cell_type": "code",
   "execution_count": 22,
   "metadata": {
    "execution": {
     "iopub.execute_input": "2020-09-14T03:44:06.206553Z",
     "iopub.status.busy": "2020-09-14T03:44:06.206553Z",
     "iopub.status.idle": "2020-09-14T03:44:06.214532Z",
     "shell.execute_reply": "2020-09-14T03:44:06.214532Z",
     "shell.execute_reply.started": "2020-09-14T03:44:06.206553Z"
    }
   },
   "outputs": [],
   "source": [
    "x=['20190531','20190601','20190602','20190603','20190604','20190605','20190606','20190607','20190608','20190609']"
   ]
  },
  {
   "cell_type": "code",
   "execution_count": 30,
   "metadata": {
    "execution": {
     "iopub.execute_input": "2020-09-14T03:49:08.081960Z",
     "iopub.status.busy": "2020-09-14T03:49:08.079965Z",
     "iopub.status.idle": "2020-09-14T03:49:08.272451Z",
     "shell.execute_reply": "2020-09-14T03:49:08.272451Z",
     "shell.execute_reply.started": "2020-09-14T03:49:08.081960Z"
    }
   },
   "outputs": [
    {
     "data": {
      "text/plain": [
       "(0.0, 20.0)"
      ]
     },
     "execution_count": 30,
     "metadata": {},
     "output_type": "execute_result"
    },
    {
     "data": {
      "image/png": "[encoded data removed]",
      "text/plain": [
       "<Figure size 432x288 with 1 Axes>"
      ]
     },
     "metadata": {
      "needs_background": "light"
     },
     "output_type": "display_data"
    }
   ],
   "source": [
    "plt.plot(x,y)\n",
    "plt.xlabel('Date')\n",
    "plt.ylabel('GPS_Speed_Mean')\n",
    "plt.xticks(rotation=300)\n",
    "plt.legend(['GPS_Speed_Mean at 9 am'],loc='best')\n",
    "plt.title('The trends of GPS_Speed_Mean at 9 am from 20190531 to 20190609')\n",
    "plt.grid()\n",
    "plt.ylim([0,20])"
   ]
  },
  {
   "cell_type": "markdown",
   "metadata": {},
   "source": [
    "2. 可视化统计巡游车20190531 - 20190609 期间平均每辆巡游车运营时间（一天之内活跃的分钟个数）变化"
   ]
  },
  {
   "cell_type": "code",
   "execution_count": null,
   "metadata": {},
   "outputs": [],
   "source": [
    "# taxigps20190531['GPS_TIME_MH']=taxigps20190531['GPS_TIME'].dt.strftime('%H:%M') 别人提的方法"
   ]
  },
  {
   "cell_type": "code",
   "execution_count": 129,
   "metadata": {
    "execution": {
     "iopub.execute_input": "2020-09-13T03:42:29.253979Z",
     "iopub.status.busy": "2020-09-13T03:42:29.252982Z",
     "iopub.status.idle": "2020-09-13T03:42:47.771981Z",
     "shell.execute_reply": "2020-09-13T03:42:47.771981Z",
     "shell.execute_reply.started": "2020-09-13T03:42:29.253979Z"
    }
   },
   "outputs": [
    {
     "data": {
      "text/plain": [
       "6808"
      ]
     },
     "execution_count": 129,
     "metadata": {},
     "output_type": "execute_result"
    }
   ],
   "source": [
    "taxigps201906.CARNO.nunique()"
   ]
  },
  {
   "cell_type": "code",
   "execution_count": 131,
   "metadata": {
    "execution": {
     "iopub.execute_input": "2020-09-13T03:53:58.208784Z",
     "iopub.status.busy": "2020-09-13T03:53:58.208784Z",
     "iopub.status.idle": "2020-09-13T03:54:10.081337Z",
     "shell.execute_reply": "2020-09-13T03:54:10.081337Z",
     "shell.execute_reply.started": "2020-09-13T03:53:58.208784Z"
    }
   },
   "outputs": [],
   "source": [
    "taxigps201906['GPS_TIME_day'] = taxigps201906['GPS_TIME'].dt.day"
   ]
  },
  {
   "cell_type": "code",
   "execution_count": 132,
   "metadata": {
    "execution": {
     "iopub.execute_input": "2020-09-13T03:54:35.155974Z",
     "iopub.status.busy": "2020-09-13T03:54:35.154977Z",
     "iopub.status.idle": "2020-09-13T03:54:46.635237Z",
     "shell.execute_reply": "2020-09-13T03:54:46.635237Z",
     "shell.execute_reply.started": "2020-09-13T03:54:35.155974Z"
    }
   },
   "outputs": [],
   "source": [
    "taxigps201906['GPS_TIME_minute'] = taxigps201906['GPS_TIME'].dt.minute"
   ]
  },
  {
   "cell_type": "code",
   "execution_count": 145,
   "metadata": {
    "execution": {
     "iopub.execute_input": "2020-09-13T07:39:42.845749Z",
     "iopub.status.busy": "2020-09-13T07:39:42.845749Z",
     "iopub.status.idle": "2020-09-13T07:39:43.525391Z",
     "shell.execute_reply": "2020-09-13T07:39:43.524393Z",
     "shell.execute_reply.started": "2020-09-13T07:39:42.845749Z"
    }
   },
   "outputs": [
    {
     "data": {
      "text/html": [
       "<div>\n",
       "<style scoped>\n",
       "    .dataframe tbody tr th:only-of-type {\n",
       "        vertical-align: middle;\n",
       "    }\n",
       "\n",
       "    .dataframe tbody tr th {\n",
       "        vertical-align: top;\n",
       "    }\n",
       "\n",
       "    .dataframe thead th {\n",
       "        text-align: right;\n",
       "    }\n",
       "</style>\n",
       "<table border=\"1\" class=\"dataframe\">\n",
       "  <thead>\n",
       "    <tr style=\"text-align: right;\">\n",
       "      <th></th>\n",
       "      <th>index</th>\n",
       "      <th>CARNO</th>\n",
       "      <th>LATITUDE</th>\n",
       "      <th>LONGITUDE</th>\n",
       "      <th>GPS_TIME</th>\n",
       "      <th>DRIVING_DIRECTION</th>\n",
       "      <th>GPS_SPEED</th>\n",
       "      <th>OPERATING_STATUS</th>\n",
       "      <th>GPS_TIME_hour</th>\n",
       "      <th>GPS_TIME_day</th>\n",
       "      <th>GPS_TIME_minute</th>\n",
       "    </tr>\n",
       "  </thead>\n",
       "  <tbody>\n",
       "    <tr>\n",
       "      <td>0</td>\n",
       "      <td>7886250</td>\n",
       "      <td>0006d282be70d06881a7513b69fcaa60</td>\n",
       "      <td>24.506195</td>\n",
       "      <td>118.128929</td>\n",
       "      <td>2019-05-31 10:00:11</td>\n",
       "      <td>12</td>\n",
       "      <td>9.2</td>\n",
       "      <td>1</td>\n",
       "      <td>10</td>\n",
       "      <td>31</td>\n",
       "      <td>0</td>\n",
       "    </tr>\n",
       "    <tr>\n",
       "      <td>1</td>\n",
       "      <td>7890645</td>\n",
       "      <td>0006d282be70d06881a7513b69fcaa60</td>\n",
       "      <td>24.506210</td>\n",
       "      <td>118.128937</td>\n",
       "      <td>2019-05-31 10:00:26</td>\n",
       "      <td>10</td>\n",
       "      <td>0.0</td>\n",
       "      <td>1</td>\n",
       "      <td>10</td>\n",
       "      <td>31</td>\n",
       "      <td>0</td>\n",
       "    </tr>\n",
       "    <tr>\n",
       "      <td>2</td>\n",
       "      <td>7894659</td>\n",
       "      <td>0006d282be70d06881a7513b69fcaa60</td>\n",
       "      <td>24.506210</td>\n",
       "      <td>118.128937</td>\n",
       "      <td>2019-05-31 10:00:41</td>\n",
       "      <td>10</td>\n",
       "      <td>0.0</td>\n",
       "      <td>1</td>\n",
       "      <td>10</td>\n",
       "      <td>31</td>\n",
       "      <td>0</td>\n",
       "    </tr>\n",
       "    <tr>\n",
       "      <td>3</td>\n",
       "      <td>7899013</td>\n",
       "      <td>0006d282be70d06881a7513b69fcaa60</td>\n",
       "      <td>24.506210</td>\n",
       "      <td>118.128937</td>\n",
       "      <td>2019-05-31 10:00:56</td>\n",
       "      <td>10</td>\n",
       "      <td>0.0</td>\n",
       "      <td>1</td>\n",
       "      <td>10</td>\n",
       "      <td>31</td>\n",
       "      <td>0</td>\n",
       "    </tr>\n",
       "    <tr>\n",
       "      <td>4</td>\n",
       "      <td>7903647</td>\n",
       "      <td>0006d282be70d06881a7513b69fcaa60</td>\n",
       "      <td>24.506210</td>\n",
       "      <td>118.128937</td>\n",
       "      <td>2019-05-31 10:01:11</td>\n",
       "      <td>10</td>\n",
       "      <td>0.0</td>\n",
       "      <td>1</td>\n",
       "      <td>10</td>\n",
       "      <td>31</td>\n",
       "      <td>1</td>\n",
       "    </tr>\n",
       "  </tbody>\n",
       "</table>\n",
       "</div>"
      ],
      "text/plain": [
       "     index                             CARNO   LATITUDE   LONGITUDE  \\\n",
       "0  7886250  0006d282be70d06881a7513b69fcaa60  24.506195  118.128929   \n",
       "1  7890645  0006d282be70d06881a7513b69fcaa60  24.506210  118.128937   \n",
       "2  7894659  0006d282be70d06881a7513b69fcaa60  24.506210  118.128937   \n",
       "3  7899013  0006d282be70d06881a7513b69fcaa60  24.506210  118.128937   \n",
       "4  7903647  0006d282be70d06881a7513b69fcaa60  24.506210  118.128937   \n",
       "\n",
       "             GPS_TIME  DRIVING_DIRECTION  GPS_SPEED  OPERATING_STATUS  \\\n",
       "0 2019-05-31 10:00:11                 12        9.2                 1   \n",
       "1 2019-05-31 10:00:26                 10        0.0                 1   \n",
       "2 2019-05-31 10:00:41                 10        0.0                 1   \n",
       "3 2019-05-31 10:00:56                 10        0.0                 1   \n",
       "4 2019-05-31 10:01:11                 10        0.0                 1   \n",
       "\n",
       "   GPS_TIME_hour  GPS_TIME_day  GPS_TIME_minute  \n",
       "0             10            31                0  \n",
       "1             10            31                0  \n",
       "2             10            31                0  \n",
       "3             10            31                0  \n",
       "4             10            31                1  "
      ]
     },
     "execution_count": 145,
     "metadata": {},
     "output_type": "execute_result"
    }
   ],
   "source": [
    "taxigps201906.head()"
   ]
  },
  {
   "cell_type": "code",
   "execution_count": 142,
   "metadata": {
    "execution": {
     "iopub.execute_input": "2020-09-13T04:21:45.118444Z",
     "iopub.status.busy": "2020-09-13T04:21:45.118444Z",
     "iopub.status.idle": "2020-09-13T04:23:43.796088Z",
     "shell.execute_reply": "2020-09-13T04:23:43.775143Z",
     "shell.execute_reply.started": "2020-09-13T04:21:45.118444Z"
    }
   },
   "outputs": [],
   "source": [
    "dt=taxigps201906[['CARNO','GPS_TIME','GPS_SPEED','GPS_TIME_day','GPS_TIME_hour','GPS_TIME_minute']]"
   ]
  },
  {
   "cell_type": "code",
   "execution_count": 143,
   "metadata": {
    "execution": {
     "iopub.execute_input": "2020-09-13T04:24:00.825310Z",
     "iopub.status.busy": "2020-09-13T04:24:00.824312Z",
     "iopub.status.idle": "2020-09-13T04:24:01.276364Z",
     "shell.execute_reply": "2020-09-13T04:24:01.276364Z",
     "shell.execute_reply.started": "2020-09-13T04:24:00.825310Z"
    }
   },
   "outputs": [
    {
     "name": "stdout",
     "output_type": "stream",
     "text": [
      "<class 'pandas.core.frame.DataFrame'>\n",
      "RangeIndex: 184854495 entries, 0 to 184854494\n",
      "Data columns (total 6 columns):\n",
      "CARNO              object\n",
      "GPS_TIME           datetime64[ns]\n",
      "GPS_SPEED          float32\n",
      "GPS_TIME_day       int64\n",
      "GPS_TIME_hour      int64\n",
      "GPS_TIME_minute    int64\n",
      "dtypes: datetime64[ns](1), float32(1), int64(3), object(1)\n",
      "memory usage: 7.6+ GB\n"
     ]
    }
   ],
   "source": [
    "dt.info()"
   ]
  },
  {
   "cell_type": "code",
   "execution_count": 149,
   "metadata": {
    "execution": {
     "iopub.execute_input": "2020-09-13T07:57:31.416856Z",
     "iopub.status.busy": "2020-09-13T07:57:31.416856Z",
     "iopub.status.idle": "2020-09-13T07:57:32.932738Z",
     "shell.execute_reply": "2020-09-13T07:57:32.932261Z",
     "shell.execute_reply.started": "2020-09-13T07:57:31.416856Z"
    }
   },
   "outputs": [
    {
     "name": "stderr",
     "output_type": "stream",
     "text": [
      "E:\\Anaconda3\\lib\\site-packages\\ipykernel_launcher.py:1: SettingWithCopyWarning: \n",
      "A value is trying to be set on a copy of a slice from a DataFrame.\n",
      "Try using .loc[row_indexer,col_indexer] = value instead\n",
      "\n",
      "See the caveats in the documentation: http://pandas.pydata.org/pandas-docs/stable/user_guide/indexing.html#returning-a-view-versus-a-copy\n",
      "  \"\"\"Entry point for launching an IPython kernel.\n"
     ]
    }
   ],
   "source": [
    "dt['day_minute']=dt.GPS_TIME_hour*60+dt.GPS_TIME_minute"
   ]
  },
  {
   "cell_type": "code",
   "execution_count": 150,
   "metadata": {
    "execution": {
     "iopub.execute_input": "2020-09-13T07:57:46.328787Z",
     "iopub.status.busy": "2020-09-13T07:57:46.328787Z",
     "iopub.status.idle": "2020-09-13T07:57:59.474124Z",
     "shell.execute_reply": "2020-09-13T07:57:59.457170Z",
     "shell.execute_reply.started": "2020-09-13T07:57:46.328787Z"
    }
   },
   "outputs": [
    {
     "name": "stdout",
     "output_type": "stream",
     "text": [
      "<class 'pandas.core.frame.DataFrame'>\n",
      "RangeIndex: 184854495 entries, 0 to 184854494\n",
      "Data columns (total 7 columns):\n",
      "CARNO              object\n",
      "GPS_TIME           datetime64[ns]\n",
      "GPS_SPEED          float32\n",
      "GPS_TIME_day       int64\n",
      "GPS_TIME_hour      int64\n",
      "GPS_TIME_minute    int64\n",
      "day_minute         int64\n",
      "dtypes: datetime64[ns](1), float32(1), int64(4), object(1)\n",
      "memory usage: 9.0+ GB\n"
     ]
    }
   ],
   "source": [
    "dt.info()"
   ]
  },
  {
   "cell_type": "code",
   "execution_count": 151,
   "metadata": {
    "execution": {
     "iopub.execute_input": "2020-09-13T08:06:04.592370Z",
     "iopub.status.busy": "2020-09-13T08:06:04.591355Z",
     "iopub.status.idle": "2020-09-13T08:06:13.292122Z",
     "shell.execute_reply": "2020-09-13T08:06:13.292122Z",
     "shell.execute_reply.started": "2020-09-13T08:06:04.592370Z"
    }
   },
   "outputs": [
    {
     "name": "stderr",
     "output_type": "stream",
     "text": [
      "E:\\Anaconda3\\lib\\site-packages\\pandas\\core\\frame.py:3494: SettingWithCopyWarning: \n",
      "A value is trying to be set on a copy of a slice from a DataFrame.\n",
      "Try using .loc[row_indexer,col_indexer] = value instead\n",
      "\n",
      "See the caveats in the documentation: http://pandas.pydata.org/pandas-docs/stable/user_guide/indexing.html#returning-a-view-versus-a-copy\n",
      "  self[k1] = value[k2]\n"
     ]
    }
   ],
   "source": [
    "dt[['GPS_TIME_day','GPS_TIME_hour','GPS_TIME_minute','day_minute']]=dt[['GPS_TIME_day','GPS_TIME_hour','GPS_TIME_minute','day_minute']].astype('int32')"
   ]
  },
  {
   "cell_type": "code",
   "execution_count": 152,
   "metadata": {
    "execution": {
     "iopub.execute_input": "2020-09-13T08:06:26.803947Z",
     "iopub.status.busy": "2020-09-13T08:06:26.803947Z",
     "iopub.status.idle": "2020-09-13T08:06:29.412520Z",
     "shell.execute_reply": "2020-09-13T08:06:29.412520Z",
     "shell.execute_reply.started": "2020-09-13T08:06:26.803947Z"
    }
   },
   "outputs": [
    {
     "name": "stdout",
     "output_type": "stream",
     "text": [
      "<class 'pandas.core.frame.DataFrame'>\n",
      "RangeIndex: 184854495 entries, 0 to 184854494\n",
      "Data columns (total 7 columns):\n",
      "CARNO              object\n",
      "GPS_TIME           datetime64[ns]\n",
      "GPS_SPEED          float32\n",
      "GPS_TIME_day       int32\n",
      "GPS_TIME_hour      int32\n",
      "GPS_TIME_minute    int32\n",
      "day_minute         int32\n",
      "dtypes: datetime64[ns](1), float32(1), int32(4), object(1)\n",
      "memory usage: 6.2+ GB\n"
     ]
    }
   ],
   "source": [
    "dt.info()"
   ]
  },
  {
   "cell_type": "code",
   "execution_count": 176,
   "metadata": {
    "execution": {
     "iopub.execute_input": "2020-09-13T08:55:47.967655Z",
     "iopub.status.busy": "2020-09-13T08:55:47.966658Z",
     "iopub.status.idle": "2020-09-13T08:55:47.972641Z",
     "shell.execute_reply": "2020-09-13T08:55:47.972641Z",
     "shell.execute_reply.started": "2020-09-13T08:55:47.967655Z"
    }
   },
   "outputs": [],
   "source": [
    "pd.set_option('precision', 3)"
   ]
  },
  {
   "cell_type": "code",
   "execution_count": 178,
   "metadata": {
    "execution": {
     "iopub.execute_input": "2020-09-13T08:56:15.411362Z",
     "iopub.status.busy": "2020-09-13T08:56:15.411362Z",
     "iopub.status.idle": "2020-09-13T08:56:21.658797Z",
     "shell.execute_reply": "2020-09-13T08:56:21.658797Z",
     "shell.execute_reply.started": "2020-09-13T08:56:15.411362Z"
    }
   },
   "outputs": [
    {
     "data": {
      "text/plain": [
       "973.081"
      ]
     },
     "execution_count": 178,
     "metadata": {},
     "output_type": "execute_result"
    }
   ],
   "source": [
    "round(dt[dt['GPS_TIME_day']==31].groupby(['CARNO'])['day_minute'].nunique().mean(),3)"
   ]
  },
  {
   "cell_type": "code",
   "execution_count": 184,
   "metadata": {
    "execution": {
     "iopub.execute_input": "2020-09-13T09:15:14.500973Z",
     "iopub.status.busy": "2020-09-13T09:15:14.499976Z",
     "iopub.status.idle": "2020-09-13T09:16:19.377100Z",
     "shell.execute_reply": "2020-09-13T09:16:19.377100Z",
     "shell.execute_reply.started": "2020-09-13T09:15:14.500973Z"
    }
   },
   "outputs": [
    {
     "data": {
      "text/plain": [
       "[973.081,\n",
       " 1038.711,\n",
       " 554.128,\n",
       " 888.651,\n",
       " 1140.248,\n",
       " 876.153,\n",
       " 948.609,\n",
       " 1374.225,\n",
       " 1371.536,\n",
       " 1377.227]"
      ]
     },
     "execution_count": 184,
     "metadata": {},
     "output_type": "execute_result"
    }
   ],
   "source": [
    "y1=[973.081]\n",
    "for i in range(1,10):\n",
    "        d=round(dt[dt['GPS_TIME_day']==i].groupby(['CARNO'])['day_minute'].nunique().mean(),3)\n",
    "        y1.append(d)\n",
    "y1"
   ]
  },
  {
   "cell_type": "code",
   "execution_count": 182,
   "metadata": {
    "execution": {
     "iopub.execute_input": "2020-09-13T09:13:09.581208Z",
     "iopub.status.busy": "2020-09-13T09:13:09.581208Z",
     "iopub.status.idle": "2020-09-13T09:13:09.587218Z",
     "shell.execute_reply": "2020-09-13T09:13:09.587218Z",
     "shell.execute_reply.started": "2020-09-13T09:13:09.581208Z"
    }
   },
   "outputs": [],
   "source": [
    "x1=['20190531','20190601','20190602','20190603','20190604','20190605','20190606','20190607','20190608','20190609']"
   ]
  },
  {
   "cell_type": "code",
   "execution_count": 185,
   "metadata": {
    "execution": {
     "iopub.execute_input": "2020-09-13T09:17:08.018219Z",
     "iopub.status.busy": "2020-09-13T09:17:08.018219Z",
     "iopub.status.idle": "2020-09-13T09:17:08.169813Z",
     "shell.execute_reply": "2020-09-13T09:17:08.169813Z",
     "shell.execute_reply.started": "2020-09-13T09:17:08.018219Z"
    }
   },
   "outputs": [
    {
     "data": {
      "text/plain": [
       "[<matplotlib.lines.Line2D at 0x2d5add30948>]"
      ]
     },
     "execution_count": 185,
     "metadata": {},
     "output_type": "execute_result"
    },
    {
     "data": {
      "text/plain": [
       "Text(0.5, 0, 'Date')"
      ]
     },
     "execution_count": 185,
     "metadata": {},
     "output_type": "execute_result"
    },
    {
     "data": {
      "text/plain": [
       "Text(0, 0.5, 'Operating_Time_Mean')"
      ]
     },
     "execution_count": 185,
     "metadata": {},
     "output_type": "execute_result"
    },
    {
     "data": {
      "text/plain": [
       "(0.0, 1400.0)"
      ]
     },
     "execution_count": 185,
     "metadata": {},
     "output_type": "execute_result"
    },
    {
     "data": {
      "text/plain": [
       "([0, 1, 2, 3, 4, 5, 6, 7, 8, 9],\n",
       " [Text(0, 0, ''),\n",
       "  Text(0, 0, ''),\n",
       "  Text(0, 0, ''),\n",
       "  Text(0, 0, ''),\n",
       "  Text(0, 0, ''),\n",
       "  Text(0, 0, ''),\n",
       "  Text(0, 0, ''),\n",
       "  Text(0, 0, ''),\n",
       "  Text(0, 0, ''),\n",
       "  Text(0, 0, '')])"
      ]
     },
     "execution_count": 185,
     "metadata": {},
     "output_type": "execute_result"
    },
    {
     "data": {
      "image/png": "[encoded data removed]",
      "text/plain": [
       "<Figure size 432x288 with 1 Axes>"
      ]
     },
     "metadata": {
      "needs_background": "light"
     },
     "output_type": "display_data"
    }
   ],
   "source": [
    "plt.plot(x1,y1)\n",
    "plt.xlabel('Date')\n",
    "plt.ylabel('Operating_Time_Mean')\n",
    "plt.ylim([0,1400])\n",
    "plt.xticks(rotation=300)"
   ]
  }
 ],
 "metadata": {
  "kernelspec": {
   "display_name": "Python 3",
   "language": "python",
   "name": "python3"
  },
  "language_info": {
   "codemirror_mode": {
    "name": "ipython",
    "version": 3
   },
   "file_extension": ".py",
   "mimetype": "text/x-python",
   "name": "python",
   "nbconvert_exporter": "python",
   "pygments_lexer": "ipython3",
   "version": "3.7.4"
  }
 },
 "nbformat": 4,
 "nbformat_minor": 4
}
